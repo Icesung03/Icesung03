{
  "nbformat": 4,
  "nbformat_minor": 0,
  "metadata": {
    "colab": {
      "provenance": [],
      "gpuType": "T4",
      "authorship_tag": "ABX9TyMo1+EoVTQsHbaqhFAos1GL",
      "include_colab_link": true
    },
    "kernelspec": {
      "name": "python3",
      "display_name": "Python 3"
    },
    "language_info": {
      "name": "python"
    },
    "accelerator": "GPU"
  },
  "cells": [
    {
      "cell_type": "markdown",
      "metadata": {
        "id": "view-in-github",
        "colab_type": "text"
      },
      "source": [
        "<a href=\"https://colab.research.google.com/github/Icesung03/Icesung03/blob/main/Tear1.ipynb\" target=\"_parent\"><img src=\"https://colab.research.google.com/assets/colab-badge.svg\" alt=\"Open In Colab\"/></a>"
      ]
    },
    {
      "cell_type": "code",
      "execution_count": 1,
      "metadata": {
        "colab": {
          "base_uri": "https://localhost:8080/"
        },
        "id": "rwq7u-3n5Fho",
        "outputId": "d5cdda16-2700-42c8-b371-929055843382"
      },
      "outputs": [
        {
          "output_type": "stream",
          "name": "stdout",
          "text": [
            "Cloning into 'yolov5'...\n",
            "remote: Enumerating objects: 17075, done.\u001b[K\n",
            "remote: Counting objects: 100% (26/26), done.\u001b[K\n",
            "remote: Compressing objects: 100% (21/21), done.\u001b[K\n",
            "remote: Total 17075 (delta 18), reused 5 (delta 5), pack-reused 17049 (from 3)\u001b[K\n",
            "Receiving objects: 100% (17075/17075), 15.70 MiB | 18.00 MiB/s, done.\n",
            "Resolving deltas: 100% (11719/11719), done.\n",
            "/content/yolov5\n",
            "Requirement already satisfied: gitpython>=3.1.30 in /usr/local/lib/python3.10/dist-packages (from -r requirements.txt (line 5)) (3.1.43)\n",
            "Requirement already satisfied: matplotlib>=3.3 in /usr/local/lib/python3.10/dist-packages (from -r requirements.txt (line 6)) (3.8.0)\n",
            "Requirement already satisfied: numpy>=1.23.5 in /usr/local/lib/python3.10/dist-packages (from -r requirements.txt (line 7)) (1.26.4)\n",
            "Requirement already satisfied: opencv-python>=4.1.1 in /usr/local/lib/python3.10/dist-packages (from -r requirements.txt (line 8)) (4.10.0.84)\n",
            "Requirement already satisfied: pillow>=10.3.0 in /usr/local/lib/python3.10/dist-packages (from -r requirements.txt (line 9)) (11.0.0)\n",
            "Requirement already satisfied: psutil in /usr/local/lib/python3.10/dist-packages (from -r requirements.txt (line 10)) (5.9.5)\n",
            "Requirement already satisfied: PyYAML>=5.3.1 in /usr/local/lib/python3.10/dist-packages (from -r requirements.txt (line 11)) (6.0.2)\n",
            "Requirement already satisfied: requests>=2.32.2 in /usr/local/lib/python3.10/dist-packages (from -r requirements.txt (line 12)) (2.32.3)\n",
            "Requirement already satisfied: scipy>=1.4.1 in /usr/local/lib/python3.10/dist-packages (from -r requirements.txt (line 13)) (1.13.1)\n",
            "Collecting thop>=0.1.1 (from -r requirements.txt (line 14))\n",
            "  Downloading thop-0.1.1.post2209072238-py3-none-any.whl.metadata (2.7 kB)\n",
            "Requirement already satisfied: torch>=1.8.0 in /usr/local/lib/python3.10/dist-packages (from -r requirements.txt (line 15)) (2.5.1+cu121)\n",
            "Requirement already satisfied: torchvision>=0.9.0 in /usr/local/lib/python3.10/dist-packages (from -r requirements.txt (line 16)) (0.20.1+cu121)\n",
            "Requirement already satisfied: tqdm>=4.66.3 in /usr/local/lib/python3.10/dist-packages (from -r requirements.txt (line 17)) (4.67.1)\n",
            "Collecting ultralytics>=8.2.34 (from -r requirements.txt (line 18))\n",
            "  Downloading ultralytics-8.3.53-py3-none-any.whl.metadata (35 kB)\n",
            "Requirement already satisfied: pandas>=1.1.4 in /usr/local/lib/python3.10/dist-packages (from -r requirements.txt (line 27)) (2.2.2)\n",
            "Requirement already satisfied: seaborn>=0.11.0 in /usr/local/lib/python3.10/dist-packages (from -r requirements.txt (line 28)) (0.13.2)\n",
            "Requirement already satisfied: setuptools>=70.0.0 in /usr/local/lib/python3.10/dist-packages (from -r requirements.txt (line 42)) (75.1.0)\n",
            "Requirement already satisfied: gitdb<5,>=4.0.1 in /usr/local/lib/python3.10/dist-packages (from gitpython>=3.1.30->-r requirements.txt (line 5)) (4.0.11)\n",
            "Requirement already satisfied: contourpy>=1.0.1 in /usr/local/lib/python3.10/dist-packages (from matplotlib>=3.3->-r requirements.txt (line 6)) (1.3.1)\n",
            "Requirement already satisfied: cycler>=0.10 in /usr/local/lib/python3.10/dist-packages (from matplotlib>=3.3->-r requirements.txt (line 6)) (0.12.1)\n",
            "Requirement already satisfied: fonttools>=4.22.0 in /usr/local/lib/python3.10/dist-packages (from matplotlib>=3.3->-r requirements.txt (line 6)) (4.55.3)\n",
            "Requirement already satisfied: kiwisolver>=1.0.1 in /usr/local/lib/python3.10/dist-packages (from matplotlib>=3.3->-r requirements.txt (line 6)) (1.4.7)\n",
            "Requirement already satisfied: packaging>=20.0 in /usr/local/lib/python3.10/dist-packages (from matplotlib>=3.3->-r requirements.txt (line 6)) (24.2)\n",
            "Requirement already satisfied: pyparsing>=2.3.1 in /usr/local/lib/python3.10/dist-packages (from matplotlib>=3.3->-r requirements.txt (line 6)) (3.2.0)\n",
            "Requirement already satisfied: python-dateutil>=2.7 in /usr/local/lib/python3.10/dist-packages (from matplotlib>=3.3->-r requirements.txt (line 6)) (2.8.2)\n",
            "Requirement already satisfied: charset-normalizer<4,>=2 in /usr/local/lib/python3.10/dist-packages (from requests>=2.32.2->-r requirements.txt (line 12)) (3.4.0)\n",
            "Requirement already satisfied: idna<4,>=2.5 in /usr/local/lib/python3.10/dist-packages (from requests>=2.32.2->-r requirements.txt (line 12)) (3.10)\n",
            "Requirement already satisfied: urllib3<3,>=1.21.1 in /usr/local/lib/python3.10/dist-packages (from requests>=2.32.2->-r requirements.txt (line 12)) (2.2.3)\n",
            "Requirement already satisfied: certifi>=2017.4.17 in /usr/local/lib/python3.10/dist-packages (from requests>=2.32.2->-r requirements.txt (line 12)) (2024.12.14)\n",
            "Requirement already satisfied: filelock in /usr/local/lib/python3.10/dist-packages (from torch>=1.8.0->-r requirements.txt (line 15)) (3.16.1)\n",
            "Requirement already satisfied: typing-extensions>=4.8.0 in /usr/local/lib/python3.10/dist-packages (from torch>=1.8.0->-r requirements.txt (line 15)) (4.12.2)\n",
            "Requirement already satisfied: networkx in /usr/local/lib/python3.10/dist-packages (from torch>=1.8.0->-r requirements.txt (line 15)) (3.4.2)\n",
            "Requirement already satisfied: jinja2 in /usr/local/lib/python3.10/dist-packages (from torch>=1.8.0->-r requirements.txt (line 15)) (3.1.4)\n",
            "Requirement already satisfied: fsspec in /usr/local/lib/python3.10/dist-packages (from torch>=1.8.0->-r requirements.txt (line 15)) (2024.10.0)\n",
            "Requirement already satisfied: sympy==1.13.1 in /usr/local/lib/python3.10/dist-packages (from torch>=1.8.0->-r requirements.txt (line 15)) (1.13.1)\n",
            "Requirement already satisfied: mpmath<1.4,>=1.1.0 in /usr/local/lib/python3.10/dist-packages (from sympy==1.13.1->torch>=1.8.0->-r requirements.txt (line 15)) (1.3.0)\n",
            "Requirement already satisfied: py-cpuinfo in /usr/local/lib/python3.10/dist-packages (from ultralytics>=8.2.34->-r requirements.txt (line 18)) (9.0.0)\n",
            "Collecting ultralytics-thop>=2.0.0 (from ultralytics>=8.2.34->-r requirements.txt (line 18))\n",
            "  Downloading ultralytics_thop-2.0.13-py3-none-any.whl.metadata (9.4 kB)\n",
            "Requirement already satisfied: pytz>=2020.1 in /usr/local/lib/python3.10/dist-packages (from pandas>=1.1.4->-r requirements.txt (line 27)) (2024.2)\n",
            "Requirement already satisfied: tzdata>=2022.7 in /usr/local/lib/python3.10/dist-packages (from pandas>=1.1.4->-r requirements.txt (line 27)) (2024.2)\n",
            "Requirement already satisfied: smmap<6,>=3.0.1 in /usr/local/lib/python3.10/dist-packages (from gitdb<5,>=4.0.1->gitpython>=3.1.30->-r requirements.txt (line 5)) (5.0.1)\n",
            "Requirement already satisfied: six>=1.5 in /usr/local/lib/python3.10/dist-packages (from python-dateutil>=2.7->matplotlib>=3.3->-r requirements.txt (line 6)) (1.17.0)\n",
            "Requirement already satisfied: MarkupSafe>=2.0 in /usr/local/lib/python3.10/dist-packages (from jinja2->torch>=1.8.0->-r requirements.txt (line 15)) (3.0.2)\n",
            "Downloading thop-0.1.1.post2209072238-py3-none-any.whl (15 kB)\n",
            "Downloading ultralytics-8.3.53-py3-none-any.whl (902 kB)\n",
            "\u001b[2K   \u001b[90m━━━━━━━━━━━━━━━━━━━━━━━━━━━━━━━━━━━━━━━━\u001b[0m \u001b[32m902.2/902.2 kB\u001b[0m \u001b[31m16.6 MB/s\u001b[0m eta \u001b[36m0:00:00\u001b[0m\n",
            "\u001b[?25hDownloading ultralytics_thop-2.0.13-py3-none-any.whl (26 kB)\n",
            "Installing collected packages: ultralytics-thop, thop, ultralytics\n",
            "Successfully installed thop-0.1.1.post2209072238 ultralytics-8.3.53 ultralytics-thop-2.0.13\n"
          ]
        }
      ],
      "source": [
        "!git clone https://github.com/ultralytics/yolov5  # ดาวน์โหลด YOLOv5\n",
        "%cd yolov5\n",
        "!pip install -r requirements.txt  # ติดตั้ง dependencies\n"
      ]
    },
    {
      "cell_type": "code",
      "source": [
        "!python detect.py --source 0  # ใช้กล้อง (หรือใส่ URL ไฟล์/รูปภาพ)\n"
      ],
      "metadata": {
        "colab": {
          "base_uri": "https://localhost:8080/"
        },
        "id": "7gmgzvgz5x2G",
        "outputId": "6fe6911a-0a60-4562-f0a7-83f5b41cbc74"
      },
      "execution_count": null,
      "outputs": [
        {
          "output_type": "stream",
          "name": "stdout",
          "text": [
            "\u001b[34m\u001b[1mdetect: \u001b[0mweights=yolov5s.pt, source=0, data=data/coco128.yaml, imgsz=[640, 640], conf_thres=0.25, iou_thres=0.45, max_det=1000, device=, view_img=False, save_txt=False, save_format=0, save_csv=False, save_conf=False, save_crop=False, nosave=False, classes=None, agnostic_nms=False, augment=False, visualize=False, update=False, project=runs/detect, name=exp, exist_ok=False, line_thickness=3, hide_labels=False, hide_conf=False, half=False, dnn=False, vid_stride=1\n",
            "YOLOv5 🚀 v7.0-389-ge62a31b6 Python-3.10.12 torch-2.5.1+cu121 CPU\n",
            "\n",
            "Downloading https://github.com/ultralytics/yolov5/releases/download/v7.0/yolov5s.pt to yolov5s.pt...\n",
            "100% 14.1M/14.1M [00:00<00:00, 176MB/s]\n",
            "\n",
            "Fusing layers... \n",
            "YOLOv5s summary: 213 layers, 7225885 parameters, 0 gradients, 16.4 GFLOPs\n",
            "WARNING ⚠️ Environment does not support cv2.imshow() or PIL Image.show()\n",
            "\n",
            "[ WARN:0@7.329] global cap_v4l.cpp:999 open VIDEOIO(V4L2:/dev/video0): can't open camera by index\n",
            "[ERROR:0@7.330] global obsensor_uvc_stream_channel.cpp:158 getStreamChannelGroup Camera index out of range\n",
            "Traceback (most recent call last):\n",
            "  File \"/content/yolov5/detect.py\", line 437, in <module>\n",
            "    main(opt)\n",
            "  File \"/content/yolov5/detect.py\", line 432, in main\n",
            "    run(**vars(opt))\n",
            "  File \"/usr/local/lib/python3.10/dist-packages/torch/utils/_contextlib.py\", line 116, in decorate_context\n",
            "    return func(*args, **kwargs)\n",
            "  File \"/content/yolov5/detect.py\", line 174, in run\n",
            "    dataset = LoadStreams(source, img_size=imgsz, stride=stride, auto=pt, vid_stride=vid_stride)\n",
            "  File \"/content/yolov5/utils/dataloaders.py\", line 464, in __init__\n",
            "    assert cap.isOpened(), f\"{st}Failed to open {s}\"\n",
            "AssertionError: 1/1: 0... Failed to open 0\n"
          ]
        }
      ]
    },
    {
      "cell_type": "code",
      "source": [],
      "metadata": {
        "id": "5uwaOmgnCS3m"
      },
      "execution_count": null,
      "outputs": []
    },
    {
      "cell_type": "code",
      "source": [
        "!python train.py --img 640 --batch 16 --epochs 50 --data /content/yolov5/data/Test_Trainset.yaml --weights yolov5s.pt\n"
      ],
      "metadata": {
        "colab": {
          "base_uri": "https://localhost:8080/"
        },
        "id": "WN9JKTZO8Rer",
        "outputId": "132c0d29-d698-4142-d7c8-3882c36260d7"
      },
      "execution_count": 2,
      "outputs": [
        {
          "output_type": "stream",
          "name": "stdout",
          "text": [
            "Creating new Ultralytics Settings v0.0.6 file ✅ \n",
            "View Ultralytics Settings with 'yolo settings' or at '/root/.config/Ultralytics/settings.json'\n",
            "Update Settings with 'yolo settings key=value', i.e. 'yolo settings runs_dir=path/to/dir'. For help see https://docs.ultralytics.com/quickstart/#ultralytics-settings.\n",
            "\u001b[34m\u001b[1mwandb\u001b[0m: WARNING ⚠️ wandb is deprecated and will be removed in a future release. See supported integrations at https://github.com/ultralytics/yolov5#integrations.\n",
            "2024-12-23 03:53:33.522503: E external/local_xla/xla/stream_executor/cuda/cuda_fft.cc:485] Unable to register cuFFT factory: Attempting to register factory for plugin cuFFT when one has already been registered\n",
            "2024-12-23 03:53:33.543493: E external/local_xla/xla/stream_executor/cuda/cuda_dnn.cc:8454] Unable to register cuDNN factory: Attempting to register factory for plugin cuDNN when one has already been registered\n",
            "2024-12-23 03:53:33.549789: E external/local_xla/xla/stream_executor/cuda/cuda_blas.cc:1452] Unable to register cuBLAS factory: Attempting to register factory for plugin cuBLAS when one has already been registered\n",
            "\u001b[34m\u001b[1mwandb\u001b[0m: Using wandb-core as the SDK backend.  Please refer to https://wandb.me/wandb-core for more information.\n",
            "\u001b[34m\u001b[1mwandb\u001b[0m: (1) Create a W&B account\n",
            "\u001b[34m\u001b[1mwandb\u001b[0m: (2) Use an existing W&B account\n",
            "\u001b[34m\u001b[1mwandb\u001b[0m: (3) Don't visualize my results\n",
            "\u001b[34m\u001b[1mwandb\u001b[0m: Enter your choice: (30 second timeout) \n",
            "\u001b[34m\u001b[1mwandb\u001b[0m: W&B disabled due to login timeout.\n",
            "\u001b[34m\u001b[1mtrain: \u001b[0mweights=yolov5s.pt, cfg=, data=/content/yolov5/data/Test_Trainset.yaml, hyp=data/hyps/hyp.scratch-low.yaml, epochs=50, batch_size=16, imgsz=640, rect=False, resume=False, nosave=False, noval=False, noautoanchor=False, noplots=False, evolve=None, evolve_population=data/hyps, resume_evolve=None, bucket=, cache=None, image_weights=False, device=, multi_scale=False, single_cls=False, optimizer=SGD, sync_bn=False, workers=8, project=runs/train, name=exp, exist_ok=False, quad=False, cos_lr=False, label_smoothing=0.0, patience=100, freeze=[0], save_period=-1, seed=0, local_rank=-1, entity=None, upload_dataset=False, bbox_interval=-1, artifact_alias=latest, ndjson_console=False, ndjson_file=False\n",
            "\u001b[34m\u001b[1mgithub: \u001b[0mup to date with https://github.com/ultralytics/yolov5 ✅\n",
            "Traceback (most recent call last):\n",
            "  File \"/content/yolov5/train.py\", line 986, in <module>\n",
            "    main(opt)\n",
            "  File \"/content/yolov5/train.py\", line 656, in main\n",
            "    check_file(opt.data),\n",
            "  File \"/content/yolov5/utils/general.py\", line 507, in check_file\n",
            "    assert len(files), f\"File not found: {file}\"  # assert file was found\n",
            "AssertionError: File not found: /content/yolov5/data/Test_Trainset.yaml\n"
          ]
        }
      ]
    },
    {
      "cell_type": "code",
      "source": [
        "!python train.py --img 640 --batch 16 --epochs 50 --data /content/yolov5/data/Test_Trainset.yaml --weights yolov5s.pt"
      ],
      "metadata": {
        "colab": {
          "base_uri": "https://localhost:8080/"
        },
        "id": "7DBD465dKjNY",
        "outputId": "45b39c3a-1054-4110-cf28-4a9e2eef1c9c"
      },
      "execution_count": 3,
      "outputs": [
        {
          "output_type": "stream",
          "name": "stdout",
          "text": [
            "\u001b[34m\u001b[1mwandb\u001b[0m: WARNING ⚠️ wandb is deprecated and will be removed in a future release. See supported integrations at https://github.com/ultralytics/yolov5#integrations.\n",
            "2024-12-23 03:55:06.317839: E external/local_xla/xla/stream_executor/cuda/cuda_fft.cc:485] Unable to register cuFFT factory: Attempting to register factory for plugin cuFFT when one has already been registered\n",
            "2024-12-23 03:55:06.352866: E external/local_xla/xla/stream_executor/cuda/cuda_dnn.cc:8454] Unable to register cuDNN factory: Attempting to register factory for plugin cuDNN when one has already been registered\n",
            "2024-12-23 03:55:06.363101: E external/local_xla/xla/stream_executor/cuda/cuda_blas.cc:1452] Unable to register cuBLAS factory: Attempting to register factory for plugin cuBLAS when one has already been registered\n",
            "\u001b[34m\u001b[1mwandb\u001b[0m: Using wandb-core as the SDK backend.  Please refer to https://wandb.me/wandb-core for more information.\n",
            "\u001b[34m\u001b[1mwandb\u001b[0m: (1) Create a W&B account\n",
            "\u001b[34m\u001b[1mwandb\u001b[0m: (2) Use an existing W&B account\n",
            "\u001b[34m\u001b[1mwandb\u001b[0m: (3) Don't visualize my results\n",
            "\u001b[34m\u001b[1mwandb\u001b[0m: Enter your choice: (30 second timeout) \n",
            "\u001b[34m\u001b[1mwandb\u001b[0m: W&B disabled due to login timeout.\n",
            "\u001b[34m\u001b[1mtrain: \u001b[0mweights=yolov5s.pt, cfg=, data=/content/yolov5/data/Test_Trainset.yaml, hyp=data/hyps/hyp.scratch-low.yaml, epochs=50, batch_size=16, imgsz=640, rect=False, resume=False, nosave=False, noval=False, noautoanchor=False, noplots=False, evolve=None, evolve_population=data/hyps, resume_evolve=None, bucket=, cache=None, image_weights=False, device=, multi_scale=False, single_cls=False, optimizer=SGD, sync_bn=False, workers=8, project=runs/train, name=exp, exist_ok=False, quad=False, cos_lr=False, label_smoothing=0.0, patience=100, freeze=[0], save_period=-1, seed=0, local_rank=-1, entity=None, upload_dataset=False, bbox_interval=-1, artifact_alias=latest, ndjson_console=False, ndjson_file=False\n",
            "\u001b[34m\u001b[1mgithub: \u001b[0mup to date with https://github.com/ultralytics/yolov5 ✅\n",
            "YOLOv5 🚀 v7.0-389-ge62a31b6 Python-3.10.12 torch-2.5.1+cu121 CUDA:0 (Tesla T4, 15102MiB)\n",
            "\n",
            "\u001b[34m\u001b[1mhyperparameters: \u001b[0mlr0=0.01, lrf=0.01, momentum=0.937, weight_decay=0.0005, warmup_epochs=3.0, warmup_momentum=0.8, warmup_bias_lr=0.1, box=0.05, cls=0.5, cls_pw=1.0, obj=1.0, obj_pw=1.0, iou_t=0.2, anchor_t=4.0, fl_gamma=0.0, hsv_h=0.015, hsv_s=0.7, hsv_v=0.4, degrees=0.0, translate=0.1, scale=0.5, shear=0.0, perspective=0.0, flipud=0.0, fliplr=0.5, mosaic=1.0, mixup=0.0, copy_paste=0.0\n",
            "\u001b[34m\u001b[1mComet: \u001b[0mrun 'pip install comet_ml' to automatically track and visualize YOLOv5 🚀 runs in Comet\n",
            "\u001b[34m\u001b[1mTensorBoard: \u001b[0mStart with 'tensorboard --logdir runs/train', view at http://localhost:6006/\n",
            "Downloading https://github.com/ultralytics/assets/releases/download/v0.0.0/Arial.ttf to /root/.config/Ultralytics/Arial.ttf...\n",
            "100% 755k/755k [00:00<00:00, 3.10MB/s]\n",
            "Downloading https://github.com/ultralytics/yolov5/releases/download/v7.0/yolov5s.pt to yolov5s.pt...\n",
            "100% 14.1M/14.1M [00:00<00:00, 34.5MB/s]\n",
            "\n",
            "Overriding model.yaml nc=80 with nc=5\n",
            "\n",
            "                 from  n    params  module                                  arguments                     \n",
            "  0                -1  1      3520  models.common.Conv                      [3, 32, 6, 2, 2]              \n",
            "  1                -1  1     18560  models.common.Conv                      [32, 64, 3, 2]                \n",
            "  2                -1  1     18816  models.common.C3                        [64, 64, 1]                   \n",
            "  3                -1  1     73984  models.common.Conv                      [64, 128, 3, 2]               \n",
            "  4                -1  2    115712  models.common.C3                        [128, 128, 2]                 \n",
            "  5                -1  1    295424  models.common.Conv                      [128, 256, 3, 2]              \n",
            "  6                -1  3    625152  models.common.C3                        [256, 256, 3]                 \n",
            "  7                -1  1   1180672  models.common.Conv                      [256, 512, 3, 2]              \n",
            "  8                -1  1   1182720  models.common.C3                        [512, 512, 1]                 \n",
            "  9                -1  1    656896  models.common.SPPF                      [512, 512, 5]                 \n",
            " 10                -1  1    131584  models.common.Conv                      [512, 256, 1, 1]              \n",
            " 11                -1  1         0  torch.nn.modules.upsampling.Upsample    [None, 2, 'nearest']          \n",
            " 12           [-1, 6]  1         0  models.common.Concat                    [1]                           \n",
            " 13                -1  1    361984  models.common.C3                        [512, 256, 1, False]          \n",
            " 14                -1  1     33024  models.common.Conv                      [256, 128, 1, 1]              \n",
            " 15                -1  1         0  torch.nn.modules.upsampling.Upsample    [None, 2, 'nearest']          \n",
            " 16           [-1, 4]  1         0  models.common.Concat                    [1]                           \n",
            " 17                -1  1     90880  models.common.C3                        [256, 128, 1, False]          \n",
            " 18                -1  1    147712  models.common.Conv                      [128, 128, 3, 2]              \n",
            " 19          [-1, 14]  1         0  models.common.Concat                    [1]                           \n",
            " 20                -1  1    296448  models.common.C3                        [256, 256, 1, False]          \n",
            " 21                -1  1    590336  models.common.Conv                      [256, 256, 3, 2]              \n",
            " 22          [-1, 10]  1         0  models.common.Concat                    [1]                           \n",
            " 23                -1  1   1182720  models.common.C3                        [512, 512, 1, False]          \n",
            " 24      [17, 20, 23]  1     26970  models.yolo.Detect                      [5, [[10, 13, 16, 30, 33, 23], [30, 61, 62, 45, 59, 119], [116, 90, 156, 198, 373, 326]], [128, 256, 512]]\n",
            "Model summary: 214 layers, 7033114 parameters, 7033114 gradients, 16.0 GFLOPs\n",
            "\n",
            "Transferred 343/349 items from yolov5s.pt\n",
            "/content/yolov5/models/common.py:892: FutureWarning: `torch.cuda.amp.autocast(args...)` is deprecated. Please use `torch.amp.autocast('cuda', args...)` instead.\n",
            "  with amp.autocast(autocast):\n",
            "/content/yolov5/models/common.py:892: FutureWarning: `torch.cuda.amp.autocast(args...)` is deprecated. Please use `torch.amp.autocast('cuda', args...)` instead.\n",
            "  with amp.autocast(autocast):\n",
            "\u001b[34m\u001b[1mAMP: \u001b[0mchecks passed ✅\n",
            "\u001b[34m\u001b[1moptimizer:\u001b[0m SGD(lr=0.01) with parameter groups 57 weight(decay=0.0), 60 weight(decay=0.0005), 60 bias\n",
            "\u001b[34m\u001b[1malbumentations: \u001b[0mBlur(p=0.01, blur_limit=(3, 7)), MedianBlur(p=0.01, blur_limit=(3, 7)), ToGray(p=0.01, num_output_channels=3, method='weighted_average'), CLAHE(p=0.01, clip_limit=(1.0, 4.0), tile_grid_size=(8, 8))\n",
            "\u001b[34m\u001b[1mtrain: \u001b[0mScanning /content/yolov5/data/labels/train... 75 images, 0 backgrounds, 0 corrupt: 100% 75/75 [00:00<00:00, 1471.05it/s]\n",
            "\u001b[34m\u001b[1mtrain: \u001b[0mNew cache created: /content/yolov5/data/labels/train.cache\n",
            "\u001b[34m\u001b[1mval: \u001b[0mScanning /content/yolov5/data/labels/val... 74 images, 0 backgrounds, 0 corrupt: 100% 74/74 [00:00<00:00, 663.74it/s]\n",
            "\u001b[34m\u001b[1mval: \u001b[0mNew cache created: /content/yolov5/data/labels/val.cache\n",
            "\n",
            "\u001b[34m\u001b[1mAutoAnchor: \u001b[0m2.25 anchors/target, 1.000 Best Possible Recall (BPR). Current anchors are a good fit to dataset ✅\n",
            "Plotting labels to runs/train/exp/labels.jpg... \n",
            "/content/yolov5/train.py:355: FutureWarning: `torch.cuda.amp.GradScaler(args...)` is deprecated. Please use `torch.amp.GradScaler('cuda', args...)` instead.\n",
            "  scaler = torch.cuda.amp.GradScaler(enabled=amp)\n",
            "Image sizes 640 train, 640 val\n",
            "Using 2 dataloader workers\n",
            "Logging results to \u001b[1mruns/train/exp\u001b[0m\n",
            "Starting training for 50 epochs...\n",
            "\n",
            "      Epoch    GPU_mem   box_loss   obj_loss   cls_loss  Instances       Size\n",
            "  0% 0/5 [00:00<?, ?it/s]/content/yolov5/train.py:412: FutureWarning: `torch.cuda.amp.autocast(args...)` is deprecated. Please use `torch.amp.autocast('cuda', args...)` instead.\n",
            "  with torch.cuda.amp.autocast(amp):\n",
            "       0/49      3.49G     0.1188    0.03366    0.05363         51        640:  20% 1/5 [00:04<00:17,  4.25s/it]/content/yolov5/train.py:412: FutureWarning: `torch.cuda.amp.autocast(args...)` is deprecated. Please use `torch.amp.autocast('cuda', args...)` instead.\n",
            "  with torch.cuda.amp.autocast(amp):\n",
            "       0/49      3.55G    0.09965    0.03243    0.04388         42        640:  40% 2/5 [00:04<00:06,  2.01s/it]/content/yolov5/train.py:412: FutureWarning: `torch.cuda.amp.autocast(args...)` is deprecated. Please use `torch.amp.autocast('cuda', args...)` instead.\n",
            "  with torch.cuda.amp.autocast(amp):\n",
            "       0/49      3.55G    0.09161    0.03308    0.04076         51        640:  60% 3/5 [00:05<00:02,  1.31s/it]/content/yolov5/train.py:412: FutureWarning: `torch.cuda.amp.autocast(args...)` is deprecated. Please use `torch.amp.autocast('cuda', args...)` instead.\n",
            "  with torch.cuda.amp.autocast(amp):\n",
            "       0/49      3.55G    0.09385    0.03334    0.04286         47        640:  80% 4/5 [00:05<00:01,  1.06s/it]/content/yolov5/train.py:412: FutureWarning: `torch.cuda.amp.autocast(args...)` is deprecated. Please use `torch.amp.autocast('cuda', args...)` instead.\n",
            "  with torch.cuda.amp.autocast(amp):\n",
            "       0/49      3.55G     0.0902    0.03261    0.04057         25        640: 100% 5/5 [00:06<00:00,  1.33s/it]\n",
            "                 Class     Images  Instances          P          R      mAP50   mAP50-95: 100% 3/3 [00:03<00:00,  1.26s/it]\n",
            "                   all         74         85    0.00127      0.319    0.00129   0.000399\n",
            "\n",
            "      Epoch    GPU_mem   box_loss   obj_loss   cls_loss  Instances       Size\n",
            "  0% 0/5 [00:00<?, ?it/s]/content/yolov5/train.py:412: FutureWarning: `torch.cuda.amp.autocast(args...)` is deprecated. Please use `torch.amp.autocast('cuda', args...)` instead.\n",
            "  with torch.cuda.amp.autocast(amp):\n",
            "       1/49      4.63G     0.1135    0.03258    0.04765         44        640:  20% 1/5 [00:00<00:01,  3.89it/s]/content/yolov5/train.py:412: FutureWarning: `torch.cuda.amp.autocast(args...)` is deprecated. Please use `torch.amp.autocast('cuda', args...)` instead.\n",
            "  with torch.cuda.amp.autocast(amp):\n",
            "       1/49      4.63G     0.1196    0.03296    0.04699         48        640:  40% 2/5 [00:00<00:00,  4.03it/s]/content/yolov5/train.py:412: FutureWarning: `torch.cuda.amp.autocast(args...)` is deprecated. Please use `torch.amp.autocast('cuda', args...)` instead.\n",
            "  with torch.cuda.amp.autocast(amp):\n",
            "       1/49      4.63G      0.117    0.03271    0.05256         46        640:  60% 3/5 [00:00<00:00,  3.91it/s]/content/yolov5/train.py:412: FutureWarning: `torch.cuda.amp.autocast(args...)` is deprecated. Please use `torch.amp.autocast('cuda', args...)` instead.\n",
            "  with torch.cuda.amp.autocast(amp):\n",
            "       1/49      4.63G     0.1057    0.03288    0.04793         47        640:  80% 4/5 [00:01<00:00,  3.86it/s]/content/yolov5/train.py:412: FutureWarning: `torch.cuda.amp.autocast(args...)` is deprecated. Please use `torch.amp.autocast('cuda', args...)` instead.\n",
            "  with torch.cuda.amp.autocast(amp):\n",
            "       1/49      4.63G    0.09923    0.03309     0.0452         37        640: 100% 5/5 [00:01<00:00,  3.99it/s]\n",
            "                 Class     Images  Instances          P          R      mAP50   mAP50-95: 100% 3/3 [00:01<00:00,  1.81it/s]\n",
            "                   all         74         85    0.00149      0.369     0.0015   0.000487\n",
            "\n",
            "      Epoch    GPU_mem   box_loss   obj_loss   cls_loss  Instances       Size\n",
            "  0% 0/5 [00:00<?, ?it/s]/content/yolov5/train.py:412: FutureWarning: `torch.cuda.amp.autocast(args...)` is deprecated. Please use `torch.amp.autocast('cuda', args...)` instead.\n",
            "  with torch.cuda.amp.autocast(amp):\n",
            "       2/49      4.63G    0.06905    0.03036    0.03271         42        640:  20% 1/5 [00:00<00:00,  4.61it/s]/content/yolov5/train.py:412: FutureWarning: `torch.cuda.amp.autocast(args...)` is deprecated. Please use `torch.amp.autocast('cuda', args...)` instead.\n",
            "  with torch.cuda.amp.autocast(amp):\n",
            "       2/49      4.63G    0.06817    0.03149    0.03296         49        640:  40% 2/5 [00:00<00:00,  4.60it/s]/content/yolov5/train.py:412: FutureWarning: `torch.cuda.amp.autocast(args...)` is deprecated. Please use `torch.amp.autocast('cuda', args...)` instead.\n",
            "  with torch.cuda.amp.autocast(amp):\n",
            "       2/49      4.63G    0.06854    0.03282    0.03363         57        640:  60% 3/5 [00:00<00:00,  4.26it/s]/content/yolov5/train.py:412: FutureWarning: `torch.cuda.amp.autocast(args...)` is deprecated. Please use `torch.amp.autocast('cuda', args...)` instead.\n",
            "  with torch.cuda.amp.autocast(amp):\n",
            "       2/49      4.63G     0.0756    0.03264    0.03923         47        640:  80% 4/5 [00:00<00:00,  3.81it/s]/content/yolov5/train.py:412: FutureWarning: `torch.cuda.amp.autocast(args...)` is deprecated. Please use `torch.amp.autocast('cuda', args...)` instead.\n",
            "  with torch.cuda.amp.autocast(amp):\n",
            "       2/49      4.63G    0.08097    0.03264    0.04239         34        640: 100% 5/5 [00:01<00:00,  4.07it/s]\n",
            "                 Class     Images  Instances          P          R      mAP50   mAP50-95: 100% 3/3 [00:01<00:00,  1.72it/s]\n",
            "                   all         74         85    0.00234      0.573    0.00497      0.002\n",
            "\n",
            "      Epoch    GPU_mem   box_loss   obj_loss   cls_loss  Instances       Size\n",
            "  0% 0/5 [00:00<?, ?it/s]/content/yolov5/train.py:412: FutureWarning: `torch.cuda.amp.autocast(args...)` is deprecated. Please use `torch.amp.autocast('cuda', args...)` instead.\n",
            "  with torch.cuda.amp.autocast(amp):\n",
            "       3/49      4.63G    0.06241    0.03475    0.03306         51        640:  20% 1/5 [00:00<00:01,  3.21it/s]/content/yolov5/train.py:412: FutureWarning: `torch.cuda.amp.autocast(args...)` is deprecated. Please use `torch.amp.autocast('cuda', args...)` instead.\n",
            "  with torch.cuda.amp.autocast(amp):\n",
            "       3/49      4.63G    0.06148    0.03432    0.03399         55        640:  40% 2/5 [00:00<00:00,  3.47it/s]/content/yolov5/train.py:412: FutureWarning: `torch.cuda.amp.autocast(args...)` is deprecated. Please use `torch.amp.autocast('cuda', args...)` instead.\n",
            "  with torch.cuda.amp.autocast(amp):\n",
            "       3/49      4.63G    0.06155    0.03335    0.03393         46        640:  60% 3/5 [00:00<00:00,  3.78it/s]/content/yolov5/train.py:412: FutureWarning: `torch.cuda.amp.autocast(args...)` is deprecated. Please use `torch.amp.autocast('cuda', args...)` instead.\n",
            "  with torch.cuda.amp.autocast(amp):\n",
            "       3/49      4.63G    0.06053    0.03219    0.03352         41        640:  80% 4/5 [00:01<00:00,  3.44it/s]/content/yolov5/train.py:412: FutureWarning: `torch.cuda.amp.autocast(args...)` is deprecated. Please use `torch.amp.autocast('cuda', args...)` instead.\n",
            "  with torch.cuda.amp.autocast(amp):\n",
            "       3/49      4.63G    0.06048    0.03101    0.03362         29        640: 100% 5/5 [00:01<00:00,  3.47it/s]\n",
            "                 Class     Images  Instances          P          R      mAP50   mAP50-95: 100% 3/3 [00:02<00:00,  1.34it/s]\n",
            "                   all         74         85    0.00256      0.654     0.0122    0.00406\n",
            "\n",
            "      Epoch    GPU_mem   box_loss   obj_loss   cls_loss  Instances       Size\n",
            "  0% 0/5 [00:00<?, ?it/s]/content/yolov5/train.py:412: FutureWarning: `torch.cuda.amp.autocast(args...)` is deprecated. Please use `torch.amp.autocast('cuda', args...)` instead.\n",
            "  with torch.cuda.amp.autocast(amp):\n",
            "       4/49      4.63G    0.09034    0.02893    0.04731         43        640:  20% 1/5 [00:00<00:01,  3.09it/s]/content/yolov5/train.py:412: FutureWarning: `torch.cuda.amp.autocast(args...)` is deprecated. Please use `torch.amp.autocast('cuda', args...)` instead.\n",
            "  with torch.cuda.amp.autocast(amp):\n",
            "       4/49      4.63G     0.0748    0.03251    0.03972         60        640:  40% 2/5 [00:00<00:00,  3.55it/s]/content/yolov5/train.py:412: FutureWarning: `torch.cuda.amp.autocast(args...)` is deprecated. Please use `torch.amp.autocast('cuda', args...)` instead.\n",
            "  with torch.cuda.amp.autocast(amp):\n",
            "       4/49      4.63G    0.06906    0.03181    0.03777         46        640:  60% 3/5 [00:00<00:00,  3.57it/s]/content/yolov5/train.py:412: FutureWarning: `torch.cuda.amp.autocast(args...)` is deprecated. Please use `torch.amp.autocast('cuda', args...)` instead.\n",
            "  with torch.cuda.amp.autocast(amp):\n",
            "       4/49      4.63G    0.06534    0.03164    0.03685         48        640:  80% 4/5 [00:01<00:00,  3.87it/s]/content/yolov5/train.py:412: FutureWarning: `torch.cuda.amp.autocast(args...)` is deprecated. Please use `torch.amp.autocast('cuda', args...)` instead.\n",
            "  with torch.cuda.amp.autocast(amp):\n",
            "       4/49      4.63G    0.06329    0.03097    0.03588         30        640: 100% 5/5 [00:01<00:00,  3.73it/s]\n",
            "                 Class     Images  Instances          P          R      mAP50   mAP50-95: 100% 3/3 [00:01<00:00,  2.47it/s]\n",
            "                   all         74         85    0.00338      0.843     0.0273    0.00863\n",
            "\n",
            "      Epoch    GPU_mem   box_loss   obj_loss   cls_loss  Instances       Size\n",
            "  0% 0/5 [00:00<?, ?it/s]/content/yolov5/train.py:412: FutureWarning: `torch.cuda.amp.autocast(args...)` is deprecated. Please use `torch.amp.autocast('cuda', args...)` instead.\n",
            "  with torch.cuda.amp.autocast(amp):\n",
            "       5/49      4.63G    0.05717    0.03354    0.03176         55        640:  20% 1/5 [00:00<00:00,  4.96it/s]/content/yolov5/train.py:412: FutureWarning: `torch.cuda.amp.autocast(args...)` is deprecated. Please use `torch.amp.autocast('cuda', args...)` instead.\n",
            "  with torch.cuda.amp.autocast(amp):\n",
            "       5/49      4.63G    0.05498      0.031    0.03133         46        640:  40% 2/5 [00:00<00:00,  4.44it/s]/content/yolov5/train.py:412: FutureWarning: `torch.cuda.amp.autocast(args...)` is deprecated. Please use `torch.amp.autocast('cuda', args...)` instead.\n",
            "  with torch.cuda.amp.autocast(amp):\n",
            "       5/49      4.63G    0.05874    0.03048    0.03819         48        640:  60% 3/5 [00:00<00:00,  4.34it/s]/content/yolov5/train.py:412: FutureWarning: `torch.cuda.amp.autocast(args...)` is deprecated. Please use `torch.amp.autocast('cuda', args...)` instead.\n",
            "  with torch.cuda.amp.autocast(amp):\n",
            "       5/49      4.63G    0.05628    0.02972     0.0367         41        640:  80% 4/5 [00:00<00:00,  4.09it/s]/content/yolov5/train.py:412: FutureWarning: `torch.cuda.amp.autocast(args...)` is deprecated. Please use `torch.amp.autocast('cuda', args...)` instead.\n",
            "  with torch.cuda.amp.autocast(amp):\n",
            "       5/49      4.63G    0.05526    0.02976    0.03606         32        640: 100% 5/5 [00:01<00:00,  4.42it/s]\n",
            "                 Class     Images  Instances          P          R      mAP50   mAP50-95: 100% 3/3 [00:01<00:00,  2.62it/s]\n",
            "                   all         74         85    0.00367      0.895     0.0566     0.0228\n",
            "\n",
            "      Epoch    GPU_mem   box_loss   obj_loss   cls_loss  Instances       Size\n",
            "  0% 0/5 [00:00<?, ?it/s]/content/yolov5/train.py:412: FutureWarning: `torch.cuda.amp.autocast(args...)` is deprecated. Please use `torch.amp.autocast('cuda', args...)` instead.\n",
            "  with torch.cuda.amp.autocast(amp):\n",
            "       6/49      4.63G    0.06929    0.03117    0.04863         50        640:  20% 1/5 [00:00<00:00,  4.39it/s]/content/yolov5/train.py:412: FutureWarning: `torch.cuda.amp.autocast(args...)` is deprecated. Please use `torch.amp.autocast('cuda', args...)` instead.\n",
            "  with torch.cuda.amp.autocast(amp):\n",
            "       6/49      4.63G    0.05887    0.03051    0.04039         49        640:  40% 2/5 [00:00<00:00,  4.73it/s]/content/yolov5/train.py:412: FutureWarning: `torch.cuda.amp.autocast(args...)` is deprecated. Please use `torch.amp.autocast('cuda', args...)` instead.\n",
            "  with torch.cuda.amp.autocast(amp):\n",
            "       6/49      4.63G     0.0559    0.02897    0.03719         41        640:  60% 3/5 [00:00<00:00,  4.25it/s]/content/yolov5/train.py:412: FutureWarning: `torch.cuda.amp.autocast(args...)` is deprecated. Please use `torch.amp.autocast('cuda', args...)` instead.\n",
            "  with torch.cuda.amp.autocast(amp):\n",
            "       6/49      4.63G    0.05433     0.0291    0.03544         49        640:  80% 4/5 [00:00<00:00,  4.52it/s]/content/yolov5/train.py:412: FutureWarning: `torch.cuda.amp.autocast(args...)` is deprecated. Please use `torch.amp.autocast('cuda', args...)` instead.\n",
            "  with torch.cuda.amp.autocast(amp):\n",
            "       6/49      4.63G    0.05342    0.02865     0.0347         31        640: 100% 5/5 [00:01<00:00,  4.36it/s]\n",
            "                 Class     Images  Instances          P          R      mAP50   mAP50-95: 100% 3/3 [00:01<00:00,  2.86it/s]\n",
            "                   all         74         85      0.723     0.0595      0.126     0.0556\n",
            "\n",
            "      Epoch    GPU_mem   box_loss   obj_loss   cls_loss  Instances       Size\n",
            "  0% 0/5 [00:00<?, ?it/s]/content/yolov5/train.py:412: FutureWarning: `torch.cuda.amp.autocast(args...)` is deprecated. Please use `torch.amp.autocast('cuda', args...)` instead.\n",
            "  with torch.cuda.amp.autocast(amp):\n",
            "       7/49      4.63G    0.08316    0.02746     0.0451         46        640:  20% 1/5 [00:00<00:00,  4.99it/s]/content/yolov5/train.py:412: FutureWarning: `torch.cuda.amp.autocast(args...)` is deprecated. Please use `torch.amp.autocast('cuda', args...)` instead.\n",
            "  with torch.cuda.amp.autocast(amp):\n",
            "       7/49      4.63G    0.06407    0.02882    0.03813         50        640:  40% 2/5 [00:00<00:00,  4.39it/s]/content/yolov5/train.py:412: FutureWarning: `torch.cuda.amp.autocast(args...)` is deprecated. Please use `torch.amp.autocast('cuda', args...)` instead.\n",
            "  with torch.cuda.amp.autocast(amp):\n",
            "       7/49      4.63G    0.05824    0.02716    0.03579         39        640:  60% 3/5 [00:00<00:00,  4.41it/s]/content/yolov5/train.py:412: FutureWarning: `torch.cuda.amp.autocast(args...)` is deprecated. Please use `torch.amp.autocast('cuda', args...)` instead.\n",
            "  with torch.cuda.amp.autocast(amp):\n",
            "       7/49      4.63G    0.05492    0.02798    0.03431         52        640:  80% 4/5 [00:00<00:00,  4.22it/s]/content/yolov5/train.py:412: FutureWarning: `torch.cuda.amp.autocast(args...)` is deprecated. Please use `torch.amp.autocast('cuda', args...)` instead.\n",
            "  with torch.cuda.amp.autocast(amp):\n",
            "       7/49      4.63G    0.05369    0.02763    0.03352         33        640: 100% 5/5 [00:01<00:00,  4.64it/s]\n",
            "                 Class     Images  Instances          P          R      mAP50   mAP50-95: 100% 3/3 [00:01<00:00,  2.66it/s]\n",
            "                   all         74         85      0.719      0.113      0.182     0.0727\n",
            "\n",
            "      Epoch    GPU_mem   box_loss   obj_loss   cls_loss  Instances       Size\n",
            "  0% 0/5 [00:00<?, ?it/s]/content/yolov5/train.py:412: FutureWarning: `torch.cuda.amp.autocast(args...)` is deprecated. Please use `torch.amp.autocast('cuda', args...)` instead.\n",
            "  with torch.cuda.amp.autocast(amp):\n",
            "       8/49      4.63G    0.03702    0.02596    0.02992         40        640:  20% 1/5 [00:00<00:01,  3.73it/s]/content/yolov5/train.py:412: FutureWarning: `torch.cuda.amp.autocast(args...)` is deprecated. Please use `torch.amp.autocast('cuda', args...)` instead.\n",
            "  with torch.cuda.amp.autocast(amp):\n",
            "       8/49      4.63G    0.03899    0.02473    0.03018         40        640:  40% 2/5 [00:00<00:00,  4.17it/s]/content/yolov5/train.py:412: FutureWarning: `torch.cuda.amp.autocast(args...)` is deprecated. Please use `torch.amp.autocast('cuda', args...)` instead.\n",
            "  with torch.cuda.amp.autocast(amp):\n",
            "       8/49      4.63G    0.05247    0.02697    0.03793         52        640:  60% 3/5 [00:00<00:00,  3.45it/s]/content/yolov5/train.py:412: FutureWarning: `torch.cuda.amp.autocast(args...)` is deprecated. Please use `torch.amp.autocast('cuda', args...)` instead.\n",
            "  with torch.cuda.amp.autocast(amp):\n",
            "       8/49      4.63G    0.05091    0.02687    0.03589         48        640:  80% 4/5 [00:01<00:00,  3.67it/s]/content/yolov5/train.py:412: FutureWarning: `torch.cuda.amp.autocast(args...)` is deprecated. Please use `torch.amp.autocast('cuda', args...)` instead.\n",
            "  with torch.cuda.amp.autocast(amp):\n",
            "       8/49      4.63G    0.04911    0.02562    0.03445         26        640: 100% 5/5 [00:01<00:00,  3.80it/s]\n",
            "                 Class     Images  Instances          P          R      mAP50   mAP50-95: 100% 3/3 [00:01<00:00,  1.59it/s]\n",
            "                   all         74         85      0.228      0.229      0.178     0.0637\n",
            "\n",
            "      Epoch    GPU_mem   box_loss   obj_loss   cls_loss  Instances       Size\n",
            "  0% 0/5 [00:00<?, ?it/s]/content/yolov5/train.py:412: FutureWarning: `torch.cuda.amp.autocast(args...)` is deprecated. Please use `torch.amp.autocast('cuda', args...)` instead.\n",
            "  with torch.cuda.amp.autocast(amp):\n",
            "       9/49      4.63G    0.03745    0.02779    0.02946         46        640:  20% 1/5 [00:00<00:01,  3.73it/s]/content/yolov5/train.py:412: FutureWarning: `torch.cuda.amp.autocast(args...)` is deprecated. Please use `torch.amp.autocast('cuda', args...)` instead.\n",
            "  with torch.cuda.amp.autocast(amp):\n",
            "       9/49      4.63G    0.03875    0.03006    0.02958         58        640:  40% 2/5 [00:00<00:00,  3.53it/s]/content/yolov5/train.py:412: FutureWarning: `torch.cuda.amp.autocast(args...)` is deprecated. Please use `torch.amp.autocast('cuda', args...)` instead.\n",
            "  with torch.cuda.amp.autocast(amp):\n",
            "       9/49      4.63G    0.03985    0.02852    0.02992         46        640:  60% 3/5 [00:00<00:00,  3.62it/s]/content/yolov5/train.py:412: FutureWarning: `torch.cuda.amp.autocast(args...)` is deprecated. Please use `torch.amp.autocast('cuda', args...)` instead.\n",
            "  with torch.cuda.amp.autocast(amp):\n",
            "       9/49      4.63G    0.03876    0.02896    0.02954         53        640:  80% 4/5 [00:01<00:00,  3.33it/s]/content/yolov5/train.py:412: FutureWarning: `torch.cuda.amp.autocast(args...)` is deprecated. Please use `torch.amp.autocast('cuda', args...)` instead.\n",
            "  with torch.cuda.amp.autocast(amp):\n",
            "       9/49      4.63G    0.03924    0.02897    0.02967         37        640: 100% 5/5 [00:01<00:00,  3.50it/s]\n",
            "                 Class     Images  Instances          P          R      mAP50   mAP50-95: 100% 3/3 [00:01<00:00,  2.06it/s]\n",
            "                   all         74         85       0.25      0.224      0.172     0.0621\n",
            "\n",
            "      Epoch    GPU_mem   box_loss   obj_loss   cls_loss  Instances       Size\n",
            "  0% 0/5 [00:00<?, ?it/s]/content/yolov5/train.py:412: FutureWarning: `torch.cuda.amp.autocast(args...)` is deprecated. Please use `torch.amp.autocast('cuda', args...)` instead.\n",
            "  with torch.cuda.amp.autocast(amp):\n",
            "      10/49      4.63G    0.03871    0.02059    0.02869         39        640:  20% 1/5 [00:00<00:00,  4.47it/s]/content/yolov5/train.py:412: FutureWarning: `torch.cuda.amp.autocast(args...)` is deprecated. Please use `torch.amp.autocast('cuda', args...)` instead.\n",
            "  with torch.cuda.amp.autocast(amp):\n",
            "      10/49      4.63G     0.0373    0.02199    0.02795         45        640:  40% 2/5 [00:00<00:00,  4.75it/s]/content/yolov5/train.py:412: FutureWarning: `torch.cuda.amp.autocast(args...)` is deprecated. Please use `torch.amp.autocast('cuda', args...)` instead.\n",
            "  with torch.cuda.amp.autocast(amp):\n",
            "      10/49      4.63G    0.03666    0.02234    0.02775         46        640:  60% 3/5 [00:00<00:00,  4.75it/s]/content/yolov5/train.py:412: FutureWarning: `torch.cuda.amp.autocast(args...)` is deprecated. Please use `torch.amp.autocast('cuda', args...)` instead.\n",
            "  with torch.cuda.amp.autocast(amp):\n",
            "      10/49      4.63G     0.0365    0.02236    0.02803         41        640:  80% 4/5 [00:00<00:00,  4.61it/s]/content/yolov5/train.py:412: FutureWarning: `torch.cuda.amp.autocast(args...)` is deprecated. Please use `torch.amp.autocast('cuda', args...)` instead.\n",
            "  with torch.cuda.amp.autocast(amp):\n",
            "      10/49      4.63G    0.04249    0.02421    0.03001         39        640: 100% 5/5 [00:01<00:00,  4.89it/s]\n",
            "                 Class     Images  Instances          P          R      mAP50   mAP50-95: 100% 3/3 [00:01<00:00,  2.94it/s]\n",
            "                   all         74         85      0.183      0.225      0.157     0.0609\n",
            "\n",
            "      Epoch    GPU_mem   box_loss   obj_loss   cls_loss  Instances       Size\n",
            "  0% 0/5 [00:00<?, ?it/s]/content/yolov5/train.py:412: FutureWarning: `torch.cuda.amp.autocast(args...)` is deprecated. Please use `torch.amp.autocast('cuda', args...)` instead.\n",
            "  with torch.cuda.amp.autocast(amp):\n",
            "      11/49      4.63G    0.03944    0.02566    0.02853         52        640:  20% 1/5 [00:00<00:00,  5.16it/s]/content/yolov5/train.py:412: FutureWarning: `torch.cuda.amp.autocast(args...)` is deprecated. Please use `torch.amp.autocast('cuda', args...)` instead.\n",
            "  with torch.cuda.amp.autocast(amp):\n",
            "      11/49      4.63G    0.04127    0.02391    0.02986         43        640:  40% 2/5 [00:00<00:00,  4.48it/s]/content/yolov5/train.py:412: FutureWarning: `torch.cuda.amp.autocast(args...)` is deprecated. Please use `torch.amp.autocast('cuda', args...)` instead.\n",
            "  with torch.cuda.amp.autocast(amp):\n",
            "      11/49      4.63G    0.04027    0.02403    0.02922         49        640:  60% 3/5 [00:00<00:00,  4.32it/s]/content/yolov5/train.py:412: FutureWarning: `torch.cuda.amp.autocast(args...)` is deprecated. Please use `torch.amp.autocast('cuda', args...)` instead.\n",
            "  with torch.cuda.amp.autocast(amp):\n",
            "      11/49      4.63G    0.03993    0.02387    0.02871         44        640:  80% 4/5 [00:00<00:00,  4.35it/s]/content/yolov5/train.py:412: FutureWarning: `torch.cuda.amp.autocast(args...)` is deprecated. Please use `torch.amp.autocast('cuda', args...)` instead.\n",
            "  with torch.cuda.amp.autocast(amp):\n",
            "      11/49      4.63G    0.03982    0.02427    0.02836         36        640: 100% 5/5 [00:01<00:00,  4.32it/s]\n",
            "                 Class     Images  Instances          P          R      mAP50   mAP50-95: 100% 3/3 [00:00<00:00,  3.41it/s]\n",
            "                   all         74         85      0.187      0.394      0.228      0.102\n",
            "\n",
            "      Epoch    GPU_mem   box_loss   obj_loss   cls_loss  Instances       Size\n",
            "  0% 0/5 [00:00<?, ?it/s]/content/yolov5/train.py:412: FutureWarning: `torch.cuda.amp.autocast(args...)` is deprecated. Please use `torch.amp.autocast('cuda', args...)` instead.\n",
            "  with torch.cuda.amp.autocast(amp):\n",
            "      12/49      4.63G    0.04163     0.0243    0.02791         52        640:  20% 1/5 [00:00<00:00,  4.94it/s]/content/yolov5/train.py:412: FutureWarning: `torch.cuda.amp.autocast(args...)` is deprecated. Please use `torch.amp.autocast('cuda', args...)` instead.\n",
            "  with torch.cuda.amp.autocast(amp):\n",
            "      12/49      4.63G    0.04019    0.02396    0.02763         48        640:  40% 2/5 [00:00<00:00,  4.64it/s]/content/yolov5/train.py:412: FutureWarning: `torch.cuda.amp.autocast(args...)` is deprecated. Please use `torch.amp.autocast('cuda', args...)` instead.\n",
            "  with torch.cuda.amp.autocast(amp):\n",
            "      12/49      4.63G    0.04062    0.02355      0.028         46        640:  60% 3/5 [00:00<00:00,  3.91it/s]/content/yolov5/train.py:412: FutureWarning: `torch.cuda.amp.autocast(args...)` is deprecated. Please use `torch.amp.autocast('cuda', args...)` instead.\n",
            "  with torch.cuda.amp.autocast(amp):\n",
            "      12/49      4.63G    0.03954    0.02344    0.02778         48        640:  80% 4/5 [00:00<00:00,  3.99it/s]/content/yolov5/train.py:412: FutureWarning: `torch.cuda.amp.autocast(args...)` is deprecated. Please use `torch.amp.autocast('cuda', args...)` instead.\n",
            "  with torch.cuda.amp.autocast(amp):\n",
            "      12/49      4.63G    0.03865    0.02346    0.02761         35        640: 100% 5/5 [00:01<00:00,  4.29it/s]\n",
            "                 Class     Images  Instances          P          R      mAP50   mAP50-95: 100% 3/3 [00:00<00:00,  3.28it/s]\n",
            "                   all         74         85      0.265      0.474      0.288      0.132\n",
            "\n",
            "      Epoch    GPU_mem   box_loss   obj_loss   cls_loss  Instances       Size\n",
            "  0% 0/5 [00:00<?, ?it/s]/content/yolov5/train.py:412: FutureWarning: `torch.cuda.amp.autocast(args...)` is deprecated. Please use `torch.amp.autocast('cuda', args...)` instead.\n",
            "  with torch.cuda.amp.autocast(amp):\n",
            "      13/49      4.63G    0.03612     0.0284      0.027         57        640:  20% 1/5 [00:00<00:00,  4.56it/s]/content/yolov5/train.py:412: FutureWarning: `torch.cuda.amp.autocast(args...)` is deprecated. Please use `torch.amp.autocast('cuda', args...)` instead.\n",
            "  with torch.cuda.amp.autocast(amp):\n",
            "      13/49      4.63G    0.03518    0.02577    0.02653         51        640:  40% 2/5 [00:00<00:00,  4.74it/s]/content/yolov5/train.py:412: FutureWarning: `torch.cuda.amp.autocast(args...)` is deprecated. Please use `torch.amp.autocast('cuda', args...)` instead.\n",
            "  with torch.cuda.amp.autocast(amp):\n",
            "      13/49      4.63G     0.0337    0.02502    0.02652         47        640:  60% 3/5 [00:00<00:00,  4.59it/s]/content/yolov5/train.py:412: FutureWarning: `torch.cuda.amp.autocast(args...)` is deprecated. Please use `torch.amp.autocast('cuda', args...)` instead.\n",
            "  with torch.cuda.amp.autocast(amp):\n",
            "      13/49      4.63G    0.04186    0.02441    0.03137         49        640:  80% 4/5 [00:00<00:00,  4.42it/s]/content/yolov5/train.py:412: FutureWarning: `torch.cuda.amp.autocast(args...)` is deprecated. Please use `torch.amp.autocast('cuda', args...)` instead.\n",
            "  with torch.cuda.amp.autocast(amp):\n",
            "      13/49      4.63G    0.04012    0.02293    0.03036         27        640: 100% 5/5 [00:01<00:00,  4.62it/s]\n",
            "                 Class     Images  Instances          P          R      mAP50   mAP50-95: 100% 3/3 [00:01<00:00,  2.15it/s]\n",
            "                   all         74         85      0.313      0.562      0.338      0.181\n",
            "\n",
            "      Epoch    GPU_mem   box_loss   obj_loss   cls_loss  Instances       Size\n",
            "  0% 0/5 [00:00<?, ?it/s]/content/yolov5/train.py:412: FutureWarning: `torch.cuda.amp.autocast(args...)` is deprecated. Please use `torch.amp.autocast('cuda', args...)` instead.\n",
            "  with torch.cuda.amp.autocast(amp):\n",
            "      14/49      4.63G    0.03447    0.02459    0.02689         53        640:  20% 1/5 [00:00<00:00,  5.06it/s]/content/yolov5/train.py:412: FutureWarning: `torch.cuda.amp.autocast(args...)` is deprecated. Please use `torch.amp.autocast('cuda', args...)` instead.\n",
            "  with torch.cuda.amp.autocast(amp):\n",
            "      14/49      4.63G     0.0431    0.02445    0.04056         55        640:  40% 2/5 [00:00<00:00,  3.58it/s]/content/yolov5/train.py:412: FutureWarning: `torch.cuda.amp.autocast(args...)` is deprecated. Please use `torch.amp.autocast('cuda', args...)` instead.\n",
            "  with torch.cuda.amp.autocast(amp):\n",
            "      14/49      4.63G    0.04023      0.024    0.03616         47        640:  60% 3/5 [00:00<00:00,  3.69it/s]/content/yolov5/train.py:412: FutureWarning: `torch.cuda.amp.autocast(args...)` is deprecated. Please use `torch.amp.autocast('cuda', args...)` instead.\n",
            "  with torch.cuda.amp.autocast(amp):\n",
            "      14/49      4.63G    0.03808    0.02314     0.0337         46        640:  80% 4/5 [00:01<00:00,  3.86it/s]/content/yolov5/train.py:412: FutureWarning: `torch.cuda.amp.autocast(args...)` is deprecated. Please use `torch.amp.autocast('cuda', args...)` instead.\n",
            "  with torch.cuda.amp.autocast(amp):\n",
            "      14/49      4.63G    0.03719     0.0223    0.03276         28        640: 100% 5/5 [00:01<00:00,  3.68it/s]\n",
            "                 Class     Images  Instances          P          R      mAP50   mAP50-95: 100% 3/3 [00:01<00:00,  1.73it/s]\n",
            "                   all         74         85      0.369       0.36      0.366      0.192\n",
            "\n",
            "      Epoch    GPU_mem   box_loss   obj_loss   cls_loss  Instances       Size\n",
            "  0% 0/5 [00:00<?, ?it/s]/content/yolov5/train.py:412: FutureWarning: `torch.cuda.amp.autocast(args...)` is deprecated. Please use `torch.amp.autocast('cuda', args...)` instead.\n",
            "  with torch.cuda.amp.autocast(amp):\n",
            "      15/49      4.63G    0.06551    0.02355    0.03698         53        640:  20% 1/5 [00:00<00:01,  3.91it/s]/content/yolov5/train.py:412: FutureWarning: `torch.cuda.amp.autocast(args...)` is deprecated. Please use `torch.amp.autocast('cuda', args...)` instead.\n",
            "  with torch.cuda.amp.autocast(amp):\n",
            "      15/49      4.63G    0.05438    0.02284    0.03186         51        640:  40% 2/5 [00:00<00:00,  3.57it/s]/content/yolov5/train.py:412: FutureWarning: `torch.cuda.amp.autocast(args...)` is deprecated. Please use `torch.amp.autocast('cuda', args...)` instead.\n",
            "  with torch.cuda.amp.autocast(amp):\n",
            "      15/49      4.63G    0.04977    0.02262    0.02991         53        640:  60% 3/5 [00:00<00:00,  3.15it/s]/content/yolov5/train.py:412: FutureWarning: `torch.cuda.amp.autocast(args...)` is deprecated. Please use `torch.amp.autocast('cuda', args...)` instead.\n",
            "  with torch.cuda.amp.autocast(amp):\n",
            "      15/49      4.63G    0.04653    0.02251    0.02864         50        640:  80% 4/5 [00:01<00:00,  3.37it/s]/content/yolov5/train.py:412: FutureWarning: `torch.cuda.amp.autocast(args...)` is deprecated. Please use `torch.amp.autocast('cuda', args...)` instead.\n",
            "  with torch.cuda.amp.autocast(amp):\n",
            "      15/49      4.63G    0.04438    0.02298    0.02797         35        640: 100% 5/5 [00:01<00:00,  3.55it/s]\n",
            "                 Class     Images  Instances          P          R      mAP50   mAP50-95: 100% 3/3 [00:01<00:00,  1.86it/s]\n",
            "                   all         74         85      0.295       0.42      0.356      0.189\n",
            "\n",
            "      Epoch    GPU_mem   box_loss   obj_loss   cls_loss  Instances       Size\n",
            "  0% 0/5 [00:00<?, ?it/s]/content/yolov5/train.py:412: FutureWarning: `torch.cuda.amp.autocast(args...)` is deprecated. Please use `torch.amp.autocast('cuda', args...)` instead.\n",
            "  with torch.cuda.amp.autocast(amp):\n",
            "      16/49      4.63G     0.0664    0.01922    0.04176         44        640:  20% 1/5 [00:00<00:00,  4.39it/s]/content/yolov5/train.py:412: FutureWarning: `torch.cuda.amp.autocast(args...)` is deprecated. Please use `torch.amp.autocast('cuda', args...)` instead.\n",
            "  with torch.cuda.amp.autocast(amp):\n",
            "      16/49      4.63G    0.06265    0.02211    0.04049         53        640:  40% 2/5 [00:00<00:00,  4.53it/s]/content/yolov5/train.py:412: FutureWarning: `torch.cuda.amp.autocast(args...)` is deprecated. Please use `torch.amp.autocast('cuda', args...)` instead.\n",
            "  with torch.cuda.amp.autocast(amp):\n",
            "      16/49      4.63G    0.05263     0.0219    0.03488         49        640:  60% 3/5 [00:00<00:00,  4.47it/s]/content/yolov5/train.py:412: FutureWarning: `torch.cuda.amp.autocast(args...)` is deprecated. Please use `torch.amp.autocast('cuda', args...)` instead.\n",
            "  with torch.cuda.amp.autocast(amp):\n",
            "      16/49      4.63G    0.04724    0.02112    0.03266         42        640:  80% 4/5 [00:00<00:00,  4.08it/s]/content/yolov5/train.py:412: FutureWarning: `torch.cuda.amp.autocast(args...)` is deprecated. Please use `torch.amp.autocast('cuda', args...)` instead.\n",
            "  with torch.cuda.amp.autocast(amp):\n",
            "      16/49      4.63G    0.04389    0.02039    0.03104         25        640: 100% 5/5 [00:01<00:00,  4.38it/s]\n",
            "                 Class     Images  Instances          P          R      mAP50   mAP50-95: 100% 3/3 [00:00<00:00,  3.32it/s]\n",
            "                   all         74         85      0.308      0.519      0.405       0.21\n",
            "\n",
            "      Epoch    GPU_mem   box_loss   obj_loss   cls_loss  Instances       Size\n",
            "  0% 0/5 [00:00<?, ?it/s]/content/yolov5/train.py:412: FutureWarning: `torch.cuda.amp.autocast(args...)` is deprecated. Please use `torch.amp.autocast('cuda', args...)` instead.\n",
            "  with torch.cuda.amp.autocast(amp):\n",
            "      17/49      4.63G    0.05579    0.02366    0.04345         54        640:  20% 1/5 [00:00<00:00,  4.96it/s]/content/yolov5/train.py:412: FutureWarning: `torch.cuda.amp.autocast(args...)` is deprecated. Please use `torch.amp.autocast('cuda', args...)` instead.\n",
            "  with torch.cuda.amp.autocast(amp):\n",
            "      17/49      4.63G    0.04354    0.02191    0.03388         47        640:  40% 2/5 [00:00<00:00,  4.85it/s]/content/yolov5/train.py:412: FutureWarning: `torch.cuda.amp.autocast(args...)` is deprecated. Please use `torch.amp.autocast('cuda', args...)` instead.\n",
            "  with torch.cuda.amp.autocast(amp):\n",
            "      17/49      4.63G     0.0403    0.02222     0.0307         51        640:  60% 3/5 [00:00<00:00,  4.24it/s]/content/yolov5/train.py:412: FutureWarning: `torch.cuda.amp.autocast(args...)` is deprecated. Please use `torch.amp.autocast('cuda', args...)` instead.\n",
            "  with torch.cuda.amp.autocast(amp):\n",
            "      17/49      4.63G    0.03775    0.02223    0.02915         50        640:  80% 4/5 [00:00<00:00,  4.25it/s]/content/yolov5/train.py:412: FutureWarning: `torch.cuda.amp.autocast(args...)` is deprecated. Please use `torch.amp.autocast('cuda', args...)` instead.\n",
            "  with torch.cuda.amp.autocast(amp):\n",
            "      17/49      4.63G    0.03688    0.02197    0.02871         29        640: 100% 5/5 [00:01<00:00,  4.63it/s]\n",
            "                 Class     Images  Instances          P          R      mAP50   mAP50-95: 100% 3/3 [00:00<00:00,  3.16it/s]\n",
            "                   all         74         85      0.351      0.563      0.469      0.253\n",
            "\n",
            "      Epoch    GPU_mem   box_loss   obj_loss   cls_loss  Instances       Size\n",
            "  0% 0/5 [00:00<?, ?it/s]/content/yolov5/train.py:412: FutureWarning: `torch.cuda.amp.autocast(args...)` is deprecated. Please use `torch.amp.autocast('cuda', args...)` instead.\n",
            "  with torch.cuda.amp.autocast(amp):\n",
            "      18/49      4.63G    0.03464    0.02033    0.02595         49        640:  20% 1/5 [00:00<00:00,  5.03it/s]/content/yolov5/train.py:412: FutureWarning: `torch.cuda.amp.autocast(args...)` is deprecated. Please use `torch.amp.autocast('cuda', args...)` instead.\n",
            "  with torch.cuda.amp.autocast(amp):\n",
            "      18/49      4.63G    0.03417    0.02008    0.02566         45        640:  40% 2/5 [00:00<00:00,  4.39it/s]/content/yolov5/train.py:412: FutureWarning: `torch.cuda.amp.autocast(args...)` is deprecated. Please use `torch.amp.autocast('cuda', args...)` instead.\n",
            "  with torch.cuda.amp.autocast(amp):\n",
            "      18/49      4.63G    0.03541    0.01938    0.02573         43        640:  60% 3/5 [00:00<00:00,  4.38it/s]/content/yolov5/train.py:412: FutureWarning: `torch.cuda.amp.autocast(args...)` is deprecated. Please use `torch.amp.autocast('cuda', args...)` instead.\n",
            "  with torch.cuda.amp.autocast(amp):\n",
            "      18/49      4.63G      0.036    0.01985    0.02574         48        640:  80% 4/5 [00:00<00:00,  4.39it/s]/content/yolov5/train.py:412: FutureWarning: `torch.cuda.amp.autocast(args...)` is deprecated. Please use `torch.amp.autocast('cuda', args...)` instead.\n",
            "  with torch.cuda.amp.autocast(amp):\n",
            "      18/49      4.63G    0.03597    0.01912    0.02574         27        640: 100% 5/5 [00:01<00:00,  4.53it/s]\n",
            "                 Class     Images  Instances          P          R      mAP50   mAP50-95: 100% 3/3 [00:00<00:00,  3.34it/s]\n",
            "                   all         74         85      0.539      0.364        0.4      0.209\n",
            "\n",
            "      Epoch    GPU_mem   box_loss   obj_loss   cls_loss  Instances       Size\n",
            "  0% 0/5 [00:00<?, ?it/s]/content/yolov5/train.py:412: FutureWarning: `torch.cuda.amp.autocast(args...)` is deprecated. Please use `torch.amp.autocast('cuda', args...)` instead.\n",
            "  with torch.cuda.amp.autocast(amp):\n",
            "      19/49      4.63G     0.0358    0.01622    0.02291         39        640:  20% 1/5 [00:00<00:00,  4.61it/s]/content/yolov5/train.py:412: FutureWarning: `torch.cuda.amp.autocast(args...)` is deprecated. Please use `torch.amp.autocast('cuda', args...)` instead.\n",
            "  with torch.cuda.amp.autocast(amp):\n",
            "      19/49      4.63G    0.03693    0.01761    0.02315         47        640:  40% 2/5 [00:00<00:00,  4.90it/s]/content/yolov5/train.py:412: FutureWarning: `torch.cuda.amp.autocast(args...)` is deprecated. Please use `torch.amp.autocast('cuda', args...)` instead.\n",
            "  with torch.cuda.amp.autocast(amp):\n",
            "      19/49      4.63G    0.04853    0.01932    0.03135         56        640:  60% 3/5 [00:00<00:00,  4.53it/s]/content/yolov5/train.py:412: FutureWarning: `torch.cuda.amp.autocast(args...)` is deprecated. Please use `torch.amp.autocast('cuda', args...)` instead.\n",
            "  with torch.cuda.amp.autocast(amp):\n",
            "      19/49      4.63G    0.05666    0.01869    0.03313         44        640:  80% 4/5 [00:00<00:00,  4.32it/s]/content/yolov5/train.py:412: FutureWarning: `torch.cuda.amp.autocast(args...)` is deprecated. Please use `torch.amp.autocast('cuda', args...)` instead.\n",
            "  with torch.cuda.amp.autocast(amp):\n",
            "      19/49      4.63G    0.05172    0.01902    0.03135         35        640: 100% 5/5 [00:01<00:00,  4.35it/s]\n",
            "                 Class     Images  Instances          P          R      mAP50   mAP50-95: 100% 3/3 [00:00<00:00,  3.18it/s]\n",
            "                   all         74         85      0.644      0.424      0.467      0.236\n",
            "\n",
            "      Epoch    GPU_mem   box_loss   obj_loss   cls_loss  Instances       Size\n",
            "  0% 0/5 [00:00<?, ?it/s]/content/yolov5/train.py:412: FutureWarning: `torch.cuda.amp.autocast(args...)` is deprecated. Please use `torch.amp.autocast('cuda', args...)` instead.\n",
            "  with torch.cuda.amp.autocast(amp):\n",
            "      20/49      4.63G     0.0305    0.02041    0.02056         52        640:  20% 1/5 [00:00<00:00,  4.75it/s]/content/yolov5/train.py:412: FutureWarning: `torch.cuda.amp.autocast(args...)` is deprecated. Please use `torch.amp.autocast('cuda', args...)` instead.\n",
            "  with torch.cuda.amp.autocast(amp):\n",
            "      20/49      4.63G    0.04215    0.02125     0.0285         50        640:  40% 2/5 [00:00<00:00,  4.21it/s]/content/yolov5/train.py:412: FutureWarning: `torch.cuda.amp.autocast(args...)` is deprecated. Please use `torch.amp.autocast('cuda', args...)` instead.\n",
            "  with torch.cuda.amp.autocast(amp):\n",
            "      20/49      4.63G    0.03887    0.02192    0.02741         50        640:  60% 3/5 [00:00<00:00,  4.01it/s]/content/yolov5/train.py:412: FutureWarning: `torch.cuda.amp.autocast(args...)` is deprecated. Please use `torch.amp.autocast('cuda', args...)` instead.\n",
            "  with torch.cuda.amp.autocast(amp):\n",
            "      20/49      4.63G    0.03787     0.0223    0.02677         56        640:  80% 4/5 [00:01<00:00,  3.58it/s]/content/yolov5/train.py:412: FutureWarning: `torch.cuda.amp.autocast(args...)` is deprecated. Please use `torch.amp.autocast('cuda', args...)` instead.\n",
            "  with torch.cuda.amp.autocast(amp):\n",
            "      20/49      4.63G    0.03682    0.02175    0.02622         34        640: 100% 5/5 [00:01<00:00,  3.95it/s]\n",
            "                 Class     Images  Instances          P          R      mAP50   mAP50-95: 100% 3/3 [00:01<00:00,  1.63it/s]\n",
            "                   all         74         85      0.559      0.376        0.4      0.199\n",
            "\n",
            "      Epoch    GPU_mem   box_loss   obj_loss   cls_loss  Instances       Size\n",
            "  0% 0/5 [00:00<?, ?it/s]/content/yolov5/train.py:412: FutureWarning: `torch.cuda.amp.autocast(args...)` is deprecated. Please use `torch.amp.autocast('cuda', args...)` instead.\n",
            "  with torch.cuda.amp.autocast(amp):\n",
            "      21/49      4.63G    0.03451    0.02021    0.02235         49        640:  20% 1/5 [00:00<00:01,  3.72it/s]/content/yolov5/train.py:412: FutureWarning: `torch.cuda.amp.autocast(args...)` is deprecated. Please use `torch.amp.autocast('cuda', args...)` instead.\n",
            "  with torch.cuda.amp.autocast(amp):\n",
            "      21/49      4.63G    0.03428    0.01891    0.02408         41        640:  40% 2/5 [00:00<00:00,  3.80it/s]/content/yolov5/train.py:412: FutureWarning: `torch.cuda.amp.autocast(args...)` is deprecated. Please use `torch.amp.autocast('cuda', args...)` instead.\n",
            "  with torch.cuda.amp.autocast(amp):\n",
            "      21/49      4.63G    0.04252    0.01919     0.0283         49        640:  60% 3/5 [00:00<00:00,  3.49it/s]/content/yolov5/train.py:412: FutureWarning: `torch.cuda.amp.autocast(args...)` is deprecated. Please use `torch.amp.autocast('cuda', args...)` instead.\n",
            "  with torch.cuda.amp.autocast(amp):\n",
            "      21/49      4.63G    0.04283    0.02125    0.02778         58        640:  80% 4/5 [00:01<00:00,  3.45it/s]/content/yolov5/train.py:412: FutureWarning: `torch.cuda.amp.autocast(args...)` is deprecated. Please use `torch.amp.autocast('cuda', args...)` instead.\n",
            "  with torch.cuda.amp.autocast(amp):\n",
            "      21/49      4.63G    0.04008    0.02055    0.02658         28        640: 100% 5/5 [00:01<00:00,  3.43it/s]\n",
            "                 Class     Images  Instances          P          R      mAP50   mAP50-95: 100% 3/3 [00:01<00:00,  1.88it/s]\n",
            "                   all         74         85      0.268      0.425      0.355      0.168\n",
            "\n",
            "      Epoch    GPU_mem   box_loss   obj_loss   cls_loss  Instances       Size\n",
            "  0% 0/5 [00:00<?, ?it/s]/content/yolov5/train.py:412: FutureWarning: `torch.cuda.amp.autocast(args...)` is deprecated. Please use `torch.amp.autocast('cuda', args...)` instead.\n",
            "  with torch.cuda.amp.autocast(amp):\n",
            "      22/49      4.63G    0.03808    0.02035    0.02894         49        640:  20% 1/5 [00:00<00:00,  4.94it/s]/content/yolov5/train.py:412: FutureWarning: `torch.cuda.amp.autocast(args...)` is deprecated. Please use `torch.amp.autocast('cuda', args...)` instead.\n",
            "  with torch.cuda.amp.autocast(amp):\n",
            "      22/49      4.63G    0.03544    0.02056    0.02565         47        640:  40% 2/5 [00:00<00:00,  4.56it/s]/content/yolov5/train.py:412: FutureWarning: `torch.cuda.amp.autocast(args...)` is deprecated. Please use `torch.amp.autocast('cuda', args...)` instead.\n",
            "  with torch.cuda.amp.autocast(amp):\n",
            "      22/49      4.63G     0.0346    0.02049    0.02467         50        640:  60% 3/5 [00:00<00:00,  4.77it/s]/content/yolov5/train.py:412: FutureWarning: `torch.cuda.amp.autocast(args...)` is deprecated. Please use `torch.amp.autocast('cuda', args...)` instead.\n",
            "  with torch.cuda.amp.autocast(amp):\n",
            "      22/49      4.63G     0.0342    0.02017    0.02433         47        640:  80% 4/5 [00:00<00:00,  4.51it/s]/content/yolov5/train.py:412: FutureWarning: `torch.cuda.amp.autocast(args...)` is deprecated. Please use `torch.amp.autocast('cuda', args...)` instead.\n",
            "  with torch.cuda.amp.autocast(amp):\n",
            "      22/49      4.63G    0.03376    0.02026    0.02416         35        640: 100% 5/5 [00:01<00:00,  4.90it/s]\n",
            "                 Class     Images  Instances          P          R      mAP50   mAP50-95: 100% 3/3 [00:00<00:00,  3.13it/s]\n",
            "                   all         74         85      0.666      0.361      0.461      0.242\n",
            "\n",
            "      Epoch    GPU_mem   box_loss   obj_loss   cls_loss  Instances       Size\n",
            "  0% 0/5 [00:00<?, ?it/s]/content/yolov5/train.py:412: FutureWarning: `torch.cuda.amp.autocast(args...)` is deprecated. Please use `torch.amp.autocast('cuda', args...)` instead.\n",
            "  with torch.cuda.amp.autocast(amp):\n",
            "      23/49      4.63G    0.03378    0.02471    0.02251         58        640:  20% 1/5 [00:00<00:00,  4.58it/s]/content/yolov5/train.py:412: FutureWarning: `torch.cuda.amp.autocast(args...)` is deprecated. Please use `torch.amp.autocast('cuda', args...)` instead.\n",
            "  with torch.cuda.amp.autocast(amp):\n",
            "      23/49      4.63G    0.03307    0.02116    0.02255         40        640:  40% 2/5 [00:00<00:00,  4.82it/s]/content/yolov5/train.py:412: FutureWarning: `torch.cuda.amp.autocast(args...)` is deprecated. Please use `torch.amp.autocast('cuda', args...)` instead.\n",
            "  with torch.cuda.amp.autocast(amp):\n",
            "      23/49      4.63G    0.03138     0.0199    0.02288         47        640:  60% 3/5 [00:00<00:00,  4.60it/s]/content/yolov5/train.py:412: FutureWarning: `torch.cuda.amp.autocast(args...)` is deprecated. Please use `torch.amp.autocast('cuda', args...)` instead.\n",
            "  with torch.cuda.amp.autocast(amp):\n",
            "      23/49      4.63G    0.03064    0.01971    0.02262         50        640:  80% 4/5 [00:00<00:00,  4.48it/s]/content/yolov5/train.py:412: FutureWarning: `torch.cuda.amp.autocast(args...)` is deprecated. Please use `torch.amp.autocast('cuda', args...)` instead.\n",
            "  with torch.cuda.amp.autocast(amp):\n",
            "      23/49      4.63G    0.03717    0.02007    0.02402         37        640: 100% 5/5 [00:01<00:00,  4.52it/s]\n",
            "                 Class     Images  Instances          P          R      mAP50   mAP50-95: 100% 3/3 [00:00<00:00,  3.40it/s]\n",
            "                   all         74         85      0.345      0.506      0.384      0.184\n",
            "\n",
            "      Epoch    GPU_mem   box_loss   obj_loss   cls_loss  Instances       Size\n",
            "  0% 0/5 [00:00<?, ?it/s]/content/yolov5/train.py:412: FutureWarning: `torch.cuda.amp.autocast(args...)` is deprecated. Please use `torch.amp.autocast('cuda', args...)` instead.\n",
            "  with torch.cuda.amp.autocast(amp):\n",
            "      24/49      4.63G    0.03469    0.01981    0.02293         51        640:  20% 1/5 [00:00<00:00,  5.13it/s]/content/yolov5/train.py:412: FutureWarning: `torch.cuda.amp.autocast(args...)` is deprecated. Please use `torch.amp.autocast('cuda', args...)` instead.\n",
            "  with torch.cuda.amp.autocast(amp):\n",
            "      24/49      4.63G    0.03305     0.0185    0.02208         41        640:  40% 2/5 [00:00<00:00,  4.93it/s]/content/yolov5/train.py:412: FutureWarning: `torch.cuda.amp.autocast(args...)` is deprecated. Please use `torch.amp.autocast('cuda', args...)` instead.\n",
            "  with torch.cuda.amp.autocast(amp):\n",
            "      24/49      4.63G    0.03357    0.01801    0.02146         50        640:  60% 3/5 [00:00<00:00,  4.83it/s]/content/yolov5/train.py:412: FutureWarning: `torch.cuda.amp.autocast(args...)` is deprecated. Please use `torch.amp.autocast('cuda', args...)` instead.\n",
            "  with torch.cuda.amp.autocast(amp):\n",
            "      24/49      4.63G    0.03374     0.0179    0.02227         42        640:  80% 4/5 [00:00<00:00,  4.46it/s]/content/yolov5/train.py:412: FutureWarning: `torch.cuda.amp.autocast(args...)` is deprecated. Please use `torch.amp.autocast('cuda', args...)` instead.\n",
            "  with torch.cuda.amp.autocast(amp):\n",
            "      24/49      4.63G    0.03337    0.01763    0.02186         31        640: 100% 5/5 [00:01<00:00,  4.75it/s]\n",
            "                 Class     Images  Instances          P          R      mAP50   mAP50-95: 100% 3/3 [00:00<00:00,  3.06it/s]\n",
            "                   all         74         85      0.348      0.479      0.408       0.23\n",
            "\n",
            "      Epoch    GPU_mem   box_loss   obj_loss   cls_loss  Instances       Size\n",
            "  0% 0/5 [00:00<?, ?it/s]/content/yolov5/train.py:412: FutureWarning: `torch.cuda.amp.autocast(args...)` is deprecated. Please use `torch.amp.autocast('cuda', args...)` instead.\n",
            "  with torch.cuda.amp.autocast(amp):\n",
            "      25/49      4.63G    0.03159    0.02141    0.02411         51        640:  20% 1/5 [00:00<00:00,  5.15it/s]/content/yolov5/train.py:412: FutureWarning: `torch.cuda.amp.autocast(args...)` is deprecated. Please use `torch.amp.autocast('cuda', args...)` instead.\n",
            "  with torch.cuda.amp.autocast(amp):\n",
            "      25/49      4.63G    0.03262    0.02375    0.02372         56        640:  40% 2/5 [00:00<00:00,  4.45it/s]/content/yolov5/train.py:412: FutureWarning: `torch.cuda.amp.autocast(args...)` is deprecated. Please use `torch.amp.autocast('cuda', args...)` instead.\n",
            "  with torch.cuda.amp.autocast(amp):\n",
            "      25/49      4.63G    0.04816    0.02231    0.02926         51        640:  60% 3/5 [00:00<00:00,  4.15it/s]/content/yolov5/train.py:412: FutureWarning: `torch.cuda.amp.autocast(args...)` is deprecated. Please use `torch.amp.autocast('cuda', args...)` instead.\n",
            "  with torch.cuda.amp.autocast(amp):\n",
            "      25/49      4.63G    0.04398    0.02145    0.02746         49        640:  80% 4/5 [00:00<00:00,  4.45it/s]/content/yolov5/train.py:412: FutureWarning: `torch.cuda.amp.autocast(args...)` is deprecated. Please use `torch.amp.autocast('cuda', args...)` instead.\n",
            "  with torch.cuda.amp.autocast(amp):\n",
            "      25/49      4.63G    0.04159    0.01985    0.02588         26        640: 100% 5/5 [00:01<00:00,  4.58it/s]\n",
            "                 Class     Images  Instances          P          R      mAP50   mAP50-95: 100% 3/3 [00:00<00:00,  3.03it/s]\n",
            "                   all         74         85      0.378      0.502      0.439       0.24\n",
            "\n",
            "      Epoch    GPU_mem   box_loss   obj_loss   cls_loss  Instances       Size\n",
            "  0% 0/5 [00:00<?, ?it/s]/content/yolov5/train.py:412: FutureWarning: `torch.cuda.amp.autocast(args...)` is deprecated. Please use `torch.amp.autocast('cuda', args...)` instead.\n",
            "  with torch.cuda.amp.autocast(amp):\n",
            "      26/49      4.63G    0.05447    0.01845    0.05548         49        640:  20% 1/5 [00:00<00:00,  4.83it/s]/content/yolov5/train.py:412: FutureWarning: `torch.cuda.amp.autocast(args...)` is deprecated. Please use `torch.amp.autocast('cuda', args...)` instead.\n",
            "  with torch.cuda.amp.autocast(amp):\n",
            "      26/49      4.63G    0.04153    0.01668    0.03864         38        640:  40% 2/5 [00:00<00:00,  3.71it/s]/content/yolov5/train.py:412: FutureWarning: `torch.cuda.amp.autocast(args...)` is deprecated. Please use `torch.amp.autocast('cuda', args...)` instead.\n",
            "  with torch.cuda.amp.autocast(amp):\n",
            "      26/49      4.63G     0.0373    0.01618    0.03245         37        640:  60% 3/5 [00:00<00:00,  4.04it/s]/content/yolov5/train.py:412: FutureWarning: `torch.cuda.amp.autocast(args...)` is deprecated. Please use `torch.amp.autocast('cuda', args...)` instead.\n",
            "  with torch.cuda.amp.autocast(amp):\n",
            "      26/49      4.63G    0.03534     0.0162    0.03025         46        640:  80% 4/5 [00:01<00:00,  3.65it/s]/content/yolov5/train.py:412: FutureWarning: `torch.cuda.amp.autocast(args...)` is deprecated. Please use `torch.amp.autocast('cuda', args...)` instead.\n",
            "  with torch.cuda.amp.autocast(amp):\n",
            "      26/49      4.63G    0.03975    0.01717    0.03349         33        640: 100% 5/5 [00:01<00:00,  3.62it/s]\n",
            "                 Class     Images  Instances          P          R      mAP50   mAP50-95: 100% 3/3 [00:01<00:00,  1.77it/s]\n",
            "                   all         74         85      0.401      0.559      0.474      0.255\n",
            "\n",
            "      Epoch    GPU_mem   box_loss   obj_loss   cls_loss  Instances       Size\n",
            "  0% 0/5 [00:00<?, ?it/s]/content/yolov5/train.py:412: FutureWarning: `torch.cuda.amp.autocast(args...)` is deprecated. Please use `torch.amp.autocast('cuda', args...)` instead.\n",
            "  with torch.cuda.amp.autocast(amp):\n",
            "      27/49      4.63G    0.03006    0.02048    0.02191         57        640:  20% 1/5 [00:00<00:01,  3.30it/s]/content/yolov5/train.py:412: FutureWarning: `torch.cuda.amp.autocast(args...)` is deprecated. Please use `torch.amp.autocast('cuda', args...)` instead.\n",
            "  with torch.cuda.amp.autocast(amp):\n",
            "      27/49      4.63G    0.05384    0.02352    0.02342         59        640:  40% 2/5 [00:00<00:00,  3.74it/s]/content/yolov5/train.py:412: FutureWarning: `torch.cuda.amp.autocast(args...)` is deprecated. Please use `torch.amp.autocast('cuda', args...)` instead.\n",
            "  with torch.cuda.amp.autocast(amp):\n",
            "      27/49      4.63G    0.04608     0.0223    0.02375         47        640:  60% 3/5 [00:00<00:00,  3.66it/s]/content/yolov5/train.py:412: FutureWarning: `torch.cuda.amp.autocast(args...)` is deprecated. Please use `torch.amp.autocast('cuda', args...)` instead.\n",
            "  with torch.cuda.amp.autocast(amp):\n",
            "      27/49      4.63G    0.04129    0.02112    0.02321         44        640:  80% 4/5 [00:01<00:00,  3.65it/s]/content/yolov5/train.py:412: FutureWarning: `torch.cuda.amp.autocast(args...)` is deprecated. Please use `torch.amp.autocast('cuda', args...)` instead.\n",
            "  with torch.cuda.amp.autocast(amp):\n",
            "      27/49      4.63G    0.03833     0.0209    0.02225         32        640: 100% 5/5 [00:01<00:00,  3.46it/s]\n",
            "                 Class     Images  Instances          P          R      mAP50   mAP50-95: 100% 3/3 [00:01<00:00,  1.77it/s]\n",
            "                   all         74         85      0.402        0.6      0.458      0.238\n",
            "\n",
            "      Epoch    GPU_mem   box_loss   obj_loss   cls_loss  Instances       Size\n",
            "  0% 0/5 [00:00<?, ?it/s]/content/yolov5/train.py:412: FutureWarning: `torch.cuda.amp.autocast(args...)` is deprecated. Please use `torch.amp.autocast('cuda', args...)` instead.\n",
            "  with torch.cuda.amp.autocast(amp):\n",
            "      28/49      4.63G    0.03384    0.01842    0.01991         46        640:  20% 1/5 [00:00<00:00,  4.97it/s]/content/yolov5/train.py:412: FutureWarning: `torch.cuda.amp.autocast(args...)` is deprecated. Please use `torch.amp.autocast('cuda', args...)` instead.\n",
            "  with torch.cuda.amp.autocast(amp):\n",
            "      28/49      4.63G    0.03398    0.01994    0.02021         54        640:  40% 2/5 [00:00<00:00,  4.82it/s]/content/yolov5/train.py:412: FutureWarning: `torch.cuda.amp.autocast(args...)` is deprecated. Please use `torch.amp.autocast('cuda', args...)` instead.\n",
            "  with torch.cuda.amp.autocast(amp):\n",
            "      28/49      4.63G    0.03372      0.019    0.02011         48        640:  60% 3/5 [00:00<00:00,  4.65it/s]/content/yolov5/train.py:412: FutureWarning: `torch.cuda.amp.autocast(args...)` is deprecated. Please use `torch.amp.autocast('cuda', args...)` instead.\n",
            "  with torch.cuda.amp.autocast(amp):\n",
            "      28/49      4.63G    0.03376    0.01941     0.0208         48        640:  80% 4/5 [00:00<00:00,  4.27it/s]/content/yolov5/train.py:412: FutureWarning: `torch.cuda.amp.autocast(args...)` is deprecated. Please use `torch.amp.autocast('cuda', args...)` instead.\n",
            "  with torch.cuda.amp.autocast(amp):\n",
            "      28/49      4.63G    0.03348    0.01941    0.02106         33        640: 100% 5/5 [00:01<00:00,  4.79it/s]\n",
            "                 Class     Images  Instances          P          R      mAP50   mAP50-95: 100% 3/3 [00:00<00:00,  3.06it/s]\n",
            "                   all         74         85      0.295      0.591      0.387      0.208\n",
            "\n",
            "      Epoch    GPU_mem   box_loss   obj_loss   cls_loss  Instances       Size\n",
            "  0% 0/5 [00:00<?, ?it/s]/content/yolov5/train.py:412: FutureWarning: `torch.cuda.amp.autocast(args...)` is deprecated. Please use `torch.amp.autocast('cuda', args...)` instead.\n",
            "  with torch.cuda.amp.autocast(amp):\n",
            "      29/49      4.63G    0.02914    0.02021    0.02131         47        640:  20% 1/5 [00:00<00:00,  5.13it/s]/content/yolov5/train.py:412: FutureWarning: `torch.cuda.amp.autocast(args...)` is deprecated. Please use `torch.amp.autocast('cuda', args...)` instead.\n",
            "  with torch.cuda.amp.autocast(amp):\n",
            "      29/49      4.63G    0.03021    0.01856    0.02082         39        640:  40% 2/5 [00:00<00:00,  4.70it/s]/content/yolov5/train.py:412: FutureWarning: `torch.cuda.amp.autocast(args...)` is deprecated. Please use `torch.amp.autocast('cuda', args...)` instead.\n",
            "  with torch.cuda.amp.autocast(amp):\n",
            "      29/49      4.63G    0.03029    0.01983    0.02103         59        640:  60% 3/5 [00:00<00:00,  4.13it/s]/content/yolov5/train.py:412: FutureWarning: `torch.cuda.amp.autocast(args...)` is deprecated. Please use `torch.amp.autocast('cuda', args...)` instead.\n",
            "  with torch.cuda.amp.autocast(amp):\n",
            "      29/49      4.63G    0.02923    0.01904    0.02109         45        640:  80% 4/5 [00:00<00:00,  4.45it/s]/content/yolov5/train.py:412: FutureWarning: `torch.cuda.amp.autocast(args...)` is deprecated. Please use `torch.amp.autocast('cuda', args...)` instead.\n",
            "  with torch.cuda.amp.autocast(amp):\n",
            "      29/49      4.63G    0.02883    0.01951    0.02047         40        640: 100% 5/5 [00:01<00:00,  4.72it/s]\n",
            "                 Class     Images  Instances          P          R      mAP50   mAP50-95: 100% 3/3 [00:00<00:00,  3.24it/s]\n",
            "                   all         74         85      0.296      0.617      0.367      0.196\n",
            "\n",
            "      Epoch    GPU_mem   box_loss   obj_loss   cls_loss  Instances       Size\n",
            "  0% 0/5 [00:00<?, ?it/s]/content/yolov5/train.py:412: FutureWarning: `torch.cuda.amp.autocast(args...)` is deprecated. Please use `torch.amp.autocast('cuda', args...)` instead.\n",
            "  with torch.cuda.amp.autocast(amp):\n",
            "      30/49      4.63G     0.0268    0.02072    0.01928         56        640:  20% 1/5 [00:00<00:00,  5.06it/s]/content/yolov5/train.py:412: FutureWarning: `torch.cuda.amp.autocast(args...)` is deprecated. Please use `torch.amp.autocast('cuda', args...)` instead.\n",
            "  with torch.cuda.amp.autocast(amp):\n",
            "      30/49      4.63G     0.0351    0.02245    0.01914         58        640:  40% 2/5 [00:00<00:00,  4.34it/s]/content/yolov5/train.py:412: FutureWarning: `torch.cuda.amp.autocast(args...)` is deprecated. Please use `torch.amp.autocast('cuda', args...)` instead.\n",
            "  with torch.cuda.amp.autocast(amp):\n",
            "      30/49      4.63G    0.03149    0.02153    0.01918         45        640:  60% 3/5 [00:00<00:00,  4.34it/s]/content/yolov5/train.py:412: FutureWarning: `torch.cuda.amp.autocast(args...)` is deprecated. Please use `torch.amp.autocast('cuda', args...)` instead.\n",
            "  with torch.cuda.amp.autocast(amp):\n",
            "      30/49      4.63G    0.03679     0.0209    0.02626         44        640:  80% 4/5 [00:00<00:00,  4.12it/s]/content/yolov5/train.py:412: FutureWarning: `torch.cuda.amp.autocast(args...)` is deprecated. Please use `torch.amp.autocast('cuda', args...)` instead.\n",
            "  with torch.cuda.amp.autocast(amp):\n",
            "      30/49      4.63G    0.03514    0.02052    0.02508         33        640: 100% 5/5 [00:01<00:00,  4.40it/s]\n",
            "                 Class     Images  Instances          P          R      mAP50   mAP50-95: 100% 3/3 [00:00<00:00,  3.37it/s]\n",
            "                   all         74         85      0.405      0.633      0.482      0.253\n",
            "\n",
            "      Epoch    GPU_mem   box_loss   obj_loss   cls_loss  Instances       Size\n",
            "  0% 0/5 [00:00<?, ?it/s]/content/yolov5/train.py:412: FutureWarning: `torch.cuda.amp.autocast(args...)` is deprecated. Please use `torch.amp.autocast('cuda', args...)` instead.\n",
            "  with torch.cuda.amp.autocast(amp):\n",
            "      31/49      4.63G    0.04291    0.01707    0.06069         44        640:  20% 1/5 [00:00<00:00,  4.21it/s]/content/yolov5/train.py:412: FutureWarning: `torch.cuda.amp.autocast(args...)` is deprecated. Please use `torch.amp.autocast('cuda', args...)` instead.\n",
            "  with torch.cuda.amp.autocast(amp):\n",
            "      31/49      4.63G    0.03597    0.01849    0.04045         51        640:  40% 2/5 [00:00<00:00,  4.62it/s]/content/yolov5/train.py:412: FutureWarning: `torch.cuda.amp.autocast(args...)` is deprecated. Please use `torch.amp.autocast('cuda', args...)` instead.\n",
            "  with torch.cuda.amp.autocast(amp):\n",
            "      31/49      4.63G    0.04082    0.01936      0.038         52        640:  60% 3/5 [00:00<00:00,  4.59it/s]/content/yolov5/train.py:412: FutureWarning: `torch.cuda.amp.autocast(args...)` is deprecated. Please use `torch.amp.autocast('cuda', args...)` instead.\n",
            "  with torch.cuda.amp.autocast(amp):\n",
            "      31/49      4.63G    0.03762     0.0193    0.03338         51        640:  80% 4/5 [00:00<00:00,  4.56it/s]/content/yolov5/train.py:412: FutureWarning: `torch.cuda.amp.autocast(args...)` is deprecated. Please use `torch.amp.autocast('cuda', args...)` instead.\n",
            "  with torch.cuda.amp.autocast(amp):\n",
            "      31/49      4.63G    0.03536    0.01917    0.03116         35        640: 100% 5/5 [00:01<00:00,  4.53it/s]\n",
            "                 Class     Images  Instances          P          R      mAP50   mAP50-95: 100% 3/3 [00:00<00:00,  3.02it/s]\n",
            "                   all         74         85      0.456      0.657      0.567      0.296\n",
            "\n",
            "      Epoch    GPU_mem   box_loss   obj_loss   cls_loss  Instances       Size\n",
            "  0% 0/5 [00:00<?, ?it/s]/content/yolov5/train.py:412: FutureWarning: `torch.cuda.amp.autocast(args...)` is deprecated. Please use `torch.amp.autocast('cuda', args...)` instead.\n",
            "  with torch.cuda.amp.autocast(amp):\n",
            "      32/49      4.63G    0.05156    0.01847    0.04386         46        640:  20% 1/5 [00:00<00:00,  4.96it/s]/content/yolov5/train.py:412: FutureWarning: `torch.cuda.amp.autocast(args...)` is deprecated. Please use `torch.amp.autocast('cuda', args...)` instead.\n",
            "  with torch.cuda.amp.autocast(amp):\n",
            "      32/49      4.63G    0.03722    0.01877    0.03149         49        640:  40% 2/5 [00:00<00:00,  4.24it/s]/content/yolov5/train.py:412: FutureWarning: `torch.cuda.amp.autocast(args...)` is deprecated. Please use `torch.amp.autocast('cuda', args...)` instead.\n",
            "  with torch.cuda.amp.autocast(amp):\n",
            "      32/49      4.63G    0.03382    0.01833    0.02826         43        640:  60% 3/5 [00:00<00:00,  4.09it/s]/content/yolov5/train.py:412: FutureWarning: `torch.cuda.amp.autocast(args...)` is deprecated. Please use `torch.amp.autocast('cuda', args...)` instead.\n",
            "  with torch.cuda.amp.autocast(amp):\n",
            "      32/49      4.63G    0.03137    0.01817     0.0262         45        640:  80% 4/5 [00:01<00:00,  3.41it/s]/content/yolov5/train.py:412: FutureWarning: `torch.cuda.amp.autocast(args...)` is deprecated. Please use `torch.amp.autocast('cuda', args...)` instead.\n",
            "  with torch.cuda.amp.autocast(amp):\n",
            "      32/49      4.63G    0.03095    0.01793    0.02527         31        640: 100% 5/5 [00:01<00:00,  3.85it/s]\n",
            "                 Class     Images  Instances          P          R      mAP50   mAP50-95: 100% 3/3 [00:01<00:00,  1.78it/s]\n",
            "                   all         74         85      0.442      0.608      0.528       0.28\n",
            "\n",
            "      Epoch    GPU_mem   box_loss   obj_loss   cls_loss  Instances       Size\n",
            "  0% 0/5 [00:00<?, ?it/s]/content/yolov5/train.py:412: FutureWarning: `torch.cuda.amp.autocast(args...)` is deprecated. Please use `torch.amp.autocast('cuda', args...)` instead.\n",
            "  with torch.cuda.amp.autocast(amp):\n",
            "      33/49      4.63G    0.02971    0.02324    0.02077         56        640:  20% 1/5 [00:00<00:00,  4.02it/s]/content/yolov5/train.py:412: FutureWarning: `torch.cuda.amp.autocast(args...)` is deprecated. Please use `torch.amp.autocast('cuda', args...)` instead.\n",
            "  with torch.cuda.amp.autocast(amp):\n",
            "      33/49      4.63G     0.0283    0.01977    0.02148         45        640:  40% 2/5 [00:00<00:00,  3.95it/s]/content/yolov5/train.py:412: FutureWarning: `torch.cuda.amp.autocast(args...)` is deprecated. Please use `torch.amp.autocast('cuda', args...)` instead.\n",
            "  with torch.cuda.amp.autocast(amp):\n",
            "      33/49      4.63G    0.02778    0.02049    0.02135         50        640:  60% 3/5 [00:00<00:00,  3.53it/s]/content/yolov5/train.py:412: FutureWarning: `torch.cuda.amp.autocast(args...)` is deprecated. Please use `torch.amp.autocast('cuda', args...)` instead.\n",
            "  with torch.cuda.amp.autocast(amp):\n",
            "      33/49      4.63G    0.02699    0.01902    0.02015         42        640:  80% 4/5 [00:01<00:00,  3.59it/s]/content/yolov5/train.py:412: FutureWarning: `torch.cuda.amp.autocast(args...)` is deprecated. Please use `torch.amp.autocast('cuda', args...)` instead.\n",
            "  with torch.cuda.amp.autocast(amp):\n",
            "      33/49      4.63G    0.03008    0.02098    0.02197         47        640: 100% 5/5 [00:01<00:00,  3.41it/s]\n",
            "                 Class     Images  Instances          P          R      mAP50   mAP50-95: 100% 3/3 [00:01<00:00,  1.69it/s]\n",
            "                   all         74         85      0.412      0.599      0.517      0.264\n",
            "\n",
            "      Epoch    GPU_mem   box_loss   obj_loss   cls_loss  Instances       Size\n",
            "  0% 0/5 [00:00<?, ?it/s]/content/yolov5/train.py:412: FutureWarning: `torch.cuda.amp.autocast(args...)` is deprecated. Please use `torch.amp.autocast('cuda', args...)` instead.\n",
            "  with torch.cuda.amp.autocast(amp):\n",
            "      34/49      4.63G    0.02398    0.01738    0.01829         46        640:  20% 1/5 [00:00<00:00,  4.11it/s]/content/yolov5/train.py:412: FutureWarning: `torch.cuda.amp.autocast(args...)` is deprecated. Please use `torch.amp.autocast('cuda', args...)` instead.\n",
            "  with torch.cuda.amp.autocast(amp):\n",
            "      34/49      4.63G    0.02922    0.01881    0.02217         51        640:  40% 2/5 [00:00<00:00,  3.14it/s]/content/yolov5/train.py:412: FutureWarning: `torch.cuda.amp.autocast(args...)` is deprecated. Please use `torch.amp.autocast('cuda', args...)` instead.\n",
            "  with torch.cuda.amp.autocast(amp):\n",
            "      34/49      4.63G    0.03872    0.01829     0.0276         46        640:  60% 3/5 [00:00<00:00,  3.27it/s]/content/yolov5/train.py:412: FutureWarning: `torch.cuda.amp.autocast(args...)` is deprecated. Please use `torch.amp.autocast('cuda', args...)` instead.\n",
            "  with torch.cuda.amp.autocast(amp):\n",
            "      34/49      4.63G     0.0382    0.01937    0.02813         52        640:  80% 4/5 [00:01<00:00,  3.33it/s]/content/yolov5/train.py:412: FutureWarning: `torch.cuda.amp.autocast(args...)` is deprecated. Please use `torch.amp.autocast('cuda', args...)` instead.\n",
            "  with torch.cuda.amp.autocast(amp):\n",
            "      34/49      4.63G    0.03584    0.01815    0.02805         21        640: 100% 5/5 [00:01<00:00,  3.46it/s]\n",
            "                 Class     Images  Instances          P          R      mAP50   mAP50-95: 100% 3/3 [00:01<00:00,  2.88it/s]\n",
            "                   all         74         85      0.487      0.603      0.527      0.292\n",
            "\n",
            "      Epoch    GPU_mem   box_loss   obj_loss   cls_loss  Instances       Size\n",
            "  0% 0/5 [00:00<?, ?it/s]/content/yolov5/train.py:412: FutureWarning: `torch.cuda.amp.autocast(args...)` is deprecated. Please use `torch.amp.autocast('cuda', args...)` instead.\n",
            "  with torch.cuda.amp.autocast(amp):\n",
            "      35/49      4.63G    0.02506    0.02058    0.01965         54        640:  20% 1/5 [00:00<00:00,  4.49it/s]/content/yolov5/train.py:412: FutureWarning: `torch.cuda.amp.autocast(args...)` is deprecated. Please use `torch.amp.autocast('cuda', args...)` instead.\n",
            "  with torch.cuda.amp.autocast(amp):\n",
            "      35/49      4.63G    0.02506    0.01873    0.01945         45        640:  40% 2/5 [00:00<00:00,  4.83it/s]/content/yolov5/train.py:412: FutureWarning: `torch.cuda.amp.autocast(args...)` is deprecated. Please use `torch.amp.autocast('cuda', args...)` instead.\n",
            "  with torch.cuda.amp.autocast(amp):\n",
            "      35/49      4.63G    0.02432    0.01861    0.01893         48        640:  60% 3/5 [00:00<00:00,  4.77it/s]/content/yolov5/train.py:412: FutureWarning: `torch.cuda.amp.autocast(args...)` is deprecated. Please use `torch.amp.autocast('cuda', args...)` instead.\n",
            "  with torch.cuda.amp.autocast(amp):\n",
            "      35/49      4.63G    0.03016    0.01849    0.02434         52        640:  80% 4/5 [00:00<00:00,  4.35it/s]/content/yolov5/train.py:412: FutureWarning: `torch.cuda.amp.autocast(args...)` is deprecated. Please use `torch.amp.autocast('cuda', args...)` instead.\n",
            "  with torch.cuda.amp.autocast(amp):\n",
            "      35/49      4.63G    0.02977    0.01793    0.02282         30        640: 100% 5/5 [00:01<00:00,  4.44it/s]\n",
            "                 Class     Images  Instances          P          R      mAP50   mAP50-95: 100% 3/3 [00:00<00:00,  3.49it/s]\n",
            "                   all         74         85      0.428      0.609      0.497       0.27\n",
            "\n",
            "      Epoch    GPU_mem   box_loss   obj_loss   cls_loss  Instances       Size\n",
            "  0% 0/5 [00:00<?, ?it/s]/content/yolov5/train.py:412: FutureWarning: `torch.cuda.amp.autocast(args...)` is deprecated. Please use `torch.amp.autocast('cuda', args...)` instead.\n",
            "  with torch.cuda.amp.autocast(amp):\n",
            "      36/49      4.63G    0.05254    0.01729    0.03577         44        640:  20% 1/5 [00:00<00:00,  4.92it/s]/content/yolov5/train.py:412: FutureWarning: `torch.cuda.amp.autocast(args...)` is deprecated. Please use `torch.amp.autocast('cuda', args...)` instead.\n",
            "  with torch.cuda.amp.autocast(amp):\n",
            "      36/49      4.63G    0.03988    0.01863    0.02718         52        640:  40% 2/5 [00:00<00:00,  4.46it/s]/content/yolov5/train.py:412: FutureWarning: `torch.cuda.amp.autocast(args...)` is deprecated. Please use `torch.amp.autocast('cuda', args...)` instead.\n",
            "  with torch.cuda.amp.autocast(amp):\n",
            "      36/49      4.63G    0.03516    0.01768    0.02486         42        640:  60% 3/5 [00:00<00:00,  4.01it/s]/content/yolov5/train.py:412: FutureWarning: `torch.cuda.amp.autocast(args...)` is deprecated. Please use `torch.amp.autocast('cuda', args...)` instead.\n",
            "  with torch.cuda.amp.autocast(amp):\n",
            "      36/49      4.63G    0.03318    0.01726    0.02267         43        640:  80% 4/5 [00:01<00:00,  3.77it/s]/content/yolov5/train.py:412: FutureWarning: `torch.cuda.amp.autocast(args...)` is deprecated. Please use `torch.amp.autocast('cuda', args...)` instead.\n",
            "  with torch.cuda.amp.autocast(amp):\n",
            "      36/49      4.63G    0.03433    0.01801    0.02183         38        640: 100% 5/5 [00:01<00:00,  4.06it/s]\n",
            "                 Class     Images  Instances          P          R      mAP50   mAP50-95: 100% 3/3 [00:00<00:00,  3.51it/s]\n",
            "                   all         74         85      0.491      0.638      0.548        0.3\n",
            "\n",
            "      Epoch    GPU_mem   box_loss   obj_loss   cls_loss  Instances       Size\n",
            "  0% 0/5 [00:00<?, ?it/s]/content/yolov5/train.py:412: FutureWarning: `torch.cuda.amp.autocast(args...)` is deprecated. Please use `torch.amp.autocast('cuda', args...)` instead.\n",
            "  with torch.cuda.amp.autocast(amp):\n",
            "      37/49      4.63G    0.02377    0.01793    0.01867         47        640:  20% 1/5 [00:00<00:00,  5.04it/s]/content/yolov5/train.py:412: FutureWarning: `torch.cuda.amp.autocast(args...)` is deprecated. Please use `torch.amp.autocast('cuda', args...)` instead.\n",
            "  with torch.cuda.amp.autocast(amp):\n",
            "      37/49      4.63G    0.02249    0.01767    0.01723         50        640:  40% 2/5 [00:00<00:00,  4.87it/s]/content/yolov5/train.py:412: FutureWarning: `torch.cuda.amp.autocast(args...)` is deprecated. Please use `torch.amp.autocast('cuda', args...)` instead.\n",
            "  with torch.cuda.amp.autocast(amp):\n",
            "      37/49      4.63G    0.02408    0.01849    0.01892         44        640:  60% 3/5 [00:00<00:00,  4.05it/s]/content/yolov5/train.py:412: FutureWarning: `torch.cuda.amp.autocast(args...)` is deprecated. Please use `torch.amp.autocast('cuda', args...)` instead.\n",
            "  with torch.cuda.amp.autocast(amp):\n",
            "      37/49      4.63G    0.02444    0.01754    0.01847         43        640:  80% 4/5 [00:00<00:00,  4.27it/s]/content/yolov5/train.py:412: FutureWarning: `torch.cuda.amp.autocast(args...)` is deprecated. Please use `torch.amp.autocast('cuda', args...)` instead.\n",
            "  with torch.cuda.amp.autocast(amp):\n",
            "      37/49      4.63G    0.02493    0.01784    0.01895         35        640: 100% 5/5 [00:01<00:00,  4.44it/s]\n",
            "                 Class     Images  Instances          P          R      mAP50   mAP50-95: 100% 3/3 [00:00<00:00,  3.47it/s]\n",
            "                   all         74         85      0.379      0.657      0.435      0.242\n",
            "\n",
            "      Epoch    GPU_mem   box_loss   obj_loss   cls_loss  Instances       Size\n",
            "  0% 0/5 [00:00<?, ?it/s]/content/yolov5/train.py:412: FutureWarning: `torch.cuda.amp.autocast(args...)` is deprecated. Please use `torch.amp.autocast('cuda', args...)` instead.\n",
            "  with torch.cuda.amp.autocast(amp):\n",
            "      38/49      4.63G    0.02774    0.02056    0.01915         49        640:  20% 1/5 [00:00<00:00,  5.05it/s]/content/yolov5/train.py:412: FutureWarning: `torch.cuda.amp.autocast(args...)` is deprecated. Please use `torch.amp.autocast('cuda', args...)` instead.\n",
            "  with torch.cuda.amp.autocast(amp):\n",
            "      38/49      4.63G    0.02885    0.01835    0.01883         44        640:  40% 2/5 [00:00<00:00,  4.48it/s]/content/yolov5/train.py:412: FutureWarning: `torch.cuda.amp.autocast(args...)` is deprecated. Please use `torch.amp.autocast('cuda', args...)` instead.\n",
            "  with torch.cuda.amp.autocast(amp):\n",
            "      38/49      4.63G    0.02675    0.01836     0.0186         48        640:  60% 3/5 [00:00<00:00,  4.44it/s]/content/yolov5/train.py:412: FutureWarning: `torch.cuda.amp.autocast(args...)` is deprecated. Please use `torch.amp.autocast('cuda', args...)` instead.\n",
            "  with torch.cuda.amp.autocast(amp):\n",
            "      38/49      4.63G    0.02601    0.01801    0.01828         44        640:  80% 4/5 [00:00<00:00,  4.23it/s]/content/yolov5/train.py:412: FutureWarning: `torch.cuda.amp.autocast(args...)` is deprecated. Please use `torch.amp.autocast('cuda', args...)` instead.\n",
            "  with torch.cuda.amp.autocast(amp):\n",
            "      38/49      4.63G    0.02496    0.01809    0.01849         36        640: 100% 5/5 [00:01<00:00,  4.50it/s]\n",
            "                 Class     Images  Instances          P          R      mAP50   mAP50-95: 100% 3/3 [00:01<00:00,  1.96it/s]\n",
            "                   all         74         85      0.565       0.66      0.567      0.324\n",
            "\n",
            "      Epoch    GPU_mem   box_loss   obj_loss   cls_loss  Instances       Size\n",
            "  0% 0/5 [00:00<?, ?it/s]/content/yolov5/train.py:412: FutureWarning: `torch.cuda.amp.autocast(args...)` is deprecated. Please use `torch.amp.autocast('cuda', args...)` instead.\n",
            "  with torch.cuda.amp.autocast(amp):\n",
            "      39/49      4.63G    0.02358    0.02167    0.01686         57        640:  20% 1/5 [00:00<00:01,  3.85it/s]/content/yolov5/train.py:412: FutureWarning: `torch.cuda.amp.autocast(args...)` is deprecated. Please use `torch.amp.autocast('cuda', args...)` instead.\n",
            "  with torch.cuda.amp.autocast(amp):\n",
            "      39/49      4.63G     0.0233    0.01852    0.01791         43        640:  40% 2/5 [00:00<00:00,  3.50it/s]/content/yolov5/train.py:412: FutureWarning: `torch.cuda.amp.autocast(args...)` is deprecated. Please use `torch.amp.autocast('cuda', args...)` instead.\n",
            "  with torch.cuda.amp.autocast(amp):\n",
            "      39/49      4.63G    0.02279    0.01733    0.01843         46        640:  60% 3/5 [00:00<00:00,  3.58it/s]/content/yolov5/train.py:412: FutureWarning: `torch.cuda.amp.autocast(args...)` is deprecated. Please use `torch.amp.autocast('cuda', args...)` instead.\n",
            "  with torch.cuda.amp.autocast(amp):\n",
            "      39/49      4.63G    0.02323    0.01736    0.01845         49        640:  80% 4/5 [00:01<00:00,  3.64it/s]/content/yolov5/train.py:412: FutureWarning: `torch.cuda.amp.autocast(args...)` is deprecated. Please use `torch.amp.autocast('cuda', args...)` instead.\n",
            "  with torch.cuda.amp.autocast(amp):\n",
            "      39/49      4.63G     0.0238    0.01746     0.0187         34        640: 100% 5/5 [00:01<00:00,  3.41it/s]\n",
            "                 Class     Images  Instances          P          R      mAP50   mAP50-95: 100% 3/3 [00:01<00:00,  1.60it/s]\n",
            "                   all         74         85       0.55      0.618      0.567      0.333\n",
            "\n",
            "      Epoch    GPU_mem   box_loss   obj_loss   cls_loss  Instances       Size\n",
            "  0% 0/5 [00:00<?, ?it/s]/content/yolov5/train.py:412: FutureWarning: `torch.cuda.amp.autocast(args...)` is deprecated. Please use `torch.amp.autocast('cuda', args...)` instead.\n",
            "  with torch.cuda.amp.autocast(amp):\n",
            "      40/49      4.63G    0.02674    0.01496    0.01807         41        640:  20% 1/5 [00:00<00:00,  4.73it/s]/content/yolov5/train.py:412: FutureWarning: `torch.cuda.amp.autocast(args...)` is deprecated. Please use `torch.amp.autocast('cuda', args...)` instead.\n",
            "  with torch.cuda.amp.autocast(amp):\n",
            "      40/49      4.63G    0.02481    0.01703    0.01761         51        640:  40% 2/5 [00:00<00:00,  3.86it/s]/content/yolov5/train.py:412: FutureWarning: `torch.cuda.amp.autocast(args...)` is deprecated. Please use `torch.amp.autocast('cuda', args...)` instead.\n",
            "  with torch.cuda.amp.autocast(amp):\n",
            "      40/49      4.63G    0.02481    0.01762    0.01738         51        640:  60% 3/5 [00:00<00:00,  3.72it/s]/content/yolov5/train.py:412: FutureWarning: `torch.cuda.amp.autocast(args...)` is deprecated. Please use `torch.amp.autocast('cuda', args...)` instead.\n",
            "  with torch.cuda.amp.autocast(amp):\n",
            "      40/49      4.63G    0.02518    0.01769    0.01774         53        640:  80% 4/5 [00:01<00:00,  3.57it/s]/content/yolov5/train.py:412: FutureWarning: `torch.cuda.amp.autocast(args...)` is deprecated. Please use `torch.amp.autocast('cuda', args...)` instead.\n",
            "  with torch.cuda.amp.autocast(amp):\n",
            "      40/49      4.63G    0.03068    0.01781    0.02238         36        640: 100% 5/5 [00:01<00:00,  3.83it/s]\n",
            "                 Class     Images  Instances          P          R      mAP50   mAP50-95: 100% 3/3 [00:01<00:00,  2.94it/s]\n",
            "                   all         74         85      0.544      0.634      0.563      0.329\n",
            "\n",
            "      Epoch    GPU_mem   box_loss   obj_loss   cls_loss  Instances       Size\n",
            "  0% 0/5 [00:00<?, ?it/s]/content/yolov5/train.py:412: FutureWarning: `torch.cuda.amp.autocast(args...)` is deprecated. Please use `torch.amp.autocast('cuda', args...)` instead.\n",
            "  with torch.cuda.amp.autocast(amp):\n",
            "      41/49      4.63G    0.03462    0.01396    0.02198         37        640:  20% 1/5 [00:00<00:00,  4.90it/s]/content/yolov5/train.py:412: FutureWarning: `torch.cuda.amp.autocast(args...)` is deprecated. Please use `torch.amp.autocast('cuda', args...)` instead.\n",
            "  with torch.cuda.amp.autocast(amp):\n",
            "      41/49      4.63G    0.02962    0.01616    0.02083         47        640:  40% 2/5 [00:00<00:00,  4.66it/s]/content/yolov5/train.py:412: FutureWarning: `torch.cuda.amp.autocast(args...)` is deprecated. Please use `torch.amp.autocast('cuda', args...)` instead.\n",
            "  with torch.cuda.amp.autocast(amp):\n",
            "      41/49      4.63G    0.03307    0.01636    0.02539         45        640:  60% 3/5 [00:00<00:00,  4.20it/s]/content/yolov5/train.py:412: FutureWarning: `torch.cuda.amp.autocast(args...)` is deprecated. Please use `torch.amp.autocast('cuda', args...)` instead.\n",
            "  with torch.cuda.amp.autocast(amp):\n",
            "      41/49      4.63G    0.03067     0.0175    0.02392         57        640:  80% 4/5 [00:00<00:00,  4.23it/s]/content/yolov5/train.py:412: FutureWarning: `torch.cuda.amp.autocast(args...)` is deprecated. Please use `torch.amp.autocast('cuda', args...)` instead.\n",
            "  with torch.cuda.amp.autocast(amp):\n",
            "      41/49      4.63G    0.02829    0.01745    0.02261         34        640: 100% 5/5 [00:01<00:00,  4.57it/s]\n",
            "                 Class     Images  Instances          P          R      mAP50   mAP50-95: 100% 3/3 [00:00<00:00,  3.07it/s]\n",
            "                   all         74         85      0.575      0.623      0.595      0.348\n",
            "\n",
            "      Epoch    GPU_mem   box_loss   obj_loss   cls_loss  Instances       Size\n",
            "  0% 0/5 [00:00<?, ?it/s]/content/yolov5/train.py:412: FutureWarning: `torch.cuda.amp.autocast(args...)` is deprecated. Please use `torch.amp.autocast('cuda', args...)` instead.\n",
            "  with torch.cuda.amp.autocast(amp):\n",
            "      42/49      4.63G    0.02182    0.01627     0.0192         48        640:  20% 1/5 [00:00<00:00,  5.07it/s]/content/yolov5/train.py:412: FutureWarning: `torch.cuda.amp.autocast(args...)` is deprecated. Please use `torch.amp.autocast('cuda', args...)` instead.\n",
            "  with torch.cuda.amp.autocast(amp):\n",
            "      42/49      4.63G    0.02121    0.01645    0.01905         46        640:  40% 2/5 [00:00<00:00,  4.33it/s]/content/yolov5/train.py:412: FutureWarning: `torch.cuda.amp.autocast(args...)` is deprecated. Please use `torch.amp.autocast('cuda', args...)` instead.\n",
            "  with torch.cuda.amp.autocast(amp):\n",
            "      42/49      4.63G    0.02166     0.0172     0.0188         50        640:  60% 3/5 [00:00<00:00,  4.34it/s]/content/yolov5/train.py:412: FutureWarning: `torch.cuda.amp.autocast(args...)` is deprecated. Please use `torch.amp.autocast('cuda', args...)` instead.\n",
            "  with torch.cuda.amp.autocast(amp):\n",
            "      42/49      4.63G    0.02482    0.01778    0.02188         54        640:  80% 4/5 [00:00<00:00,  4.25it/s]/content/yolov5/train.py:412: FutureWarning: `torch.cuda.amp.autocast(args...)` is deprecated. Please use `torch.amp.autocast('cuda', args...)` instead.\n",
            "  with torch.cuda.amp.autocast(amp):\n",
            "      42/49      4.63G    0.02396    0.01831    0.02106         37        640: 100% 5/5 [00:01<00:00,  4.41it/s]\n",
            "                 Class     Images  Instances          P          R      mAP50   mAP50-95: 100% 3/3 [00:00<00:00,  3.28it/s]\n",
            "                   all         74         85      0.628      0.621      0.603      0.362\n",
            "\n",
            "      Epoch    GPU_mem   box_loss   obj_loss   cls_loss  Instances       Size\n",
            "  0% 0/5 [00:00<?, ?it/s]/content/yolov5/train.py:412: FutureWarning: `torch.cuda.amp.autocast(args...)` is deprecated. Please use `torch.amp.autocast('cuda', args...)` instead.\n",
            "  with torch.cuda.amp.autocast(amp):\n",
            "      43/49      4.63G    0.03749    0.01799    0.03774         50        640:  20% 1/5 [00:00<00:00,  4.28it/s]/content/yolov5/train.py:412: FutureWarning: `torch.cuda.amp.autocast(args...)` is deprecated. Please use `torch.amp.autocast('cuda', args...)` instead.\n",
            "  with torch.cuda.amp.autocast(amp):\n",
            "      43/49      4.63G    0.03607    0.01779    0.03576         43        640:  40% 2/5 [00:00<00:00,  4.47it/s]/content/yolov5/train.py:412: FutureWarning: `torch.cuda.amp.autocast(args...)` is deprecated. Please use `torch.amp.autocast('cuda', args...)` instead.\n",
            "  with torch.cuda.amp.autocast(amp):\n",
            "      43/49      4.63G    0.03155    0.01714    0.03039         45        640:  60% 3/5 [00:00<00:00,  4.40it/s]/content/yolov5/train.py:412: FutureWarning: `torch.cuda.amp.autocast(args...)` is deprecated. Please use `torch.amp.autocast('cuda', args...)` instead.\n",
            "  with torch.cuda.amp.autocast(amp):\n",
            "      43/49      4.63G    0.03567    0.01828    0.02804         56        640:  80% 4/5 [00:00<00:00,  4.27it/s]/content/yolov5/train.py:412: FutureWarning: `torch.cuda.amp.autocast(args...)` is deprecated. Please use `torch.amp.autocast('cuda', args...)` instead.\n",
            "  with torch.cuda.amp.autocast(amp):\n",
            "      43/49      4.63G    0.03315     0.0178    0.02621         31        640: 100% 5/5 [00:01<00:00,  4.26it/s]\n",
            "                 Class     Images  Instances          P          R      mAP50   mAP50-95: 100% 3/3 [00:00<00:00,  3.43it/s]\n",
            "                   all         74         85      0.631      0.617      0.601      0.362\n",
            "\n",
            "      Epoch    GPU_mem   box_loss   obj_loss   cls_loss  Instances       Size\n",
            "  0% 0/5 [00:00<?, ?it/s]/content/yolov5/train.py:412: FutureWarning: `torch.cuda.amp.autocast(args...)` is deprecated. Please use `torch.amp.autocast('cuda', args...)` instead.\n",
            "  with torch.cuda.amp.autocast(amp):\n",
            "      44/49      4.63G    0.02253    0.01821     0.0159         52        640:  20% 1/5 [00:00<00:00,  5.13it/s]/content/yolov5/train.py:412: FutureWarning: `torch.cuda.amp.autocast(args...)` is deprecated. Please use `torch.amp.autocast('cuda', args...)` instead.\n",
            "  with torch.cuda.amp.autocast(amp):\n",
            "      44/49      4.63G    0.02161     0.0185     0.0169         50        640:  40% 2/5 [00:00<00:00,  4.79it/s]/content/yolov5/train.py:412: FutureWarning: `torch.cuda.amp.autocast(args...)` is deprecated. Please use `torch.amp.autocast('cuda', args...)` instead.\n",
            "  with torch.cuda.amp.autocast(amp):\n",
            "      44/49      4.63G    0.02121    0.01801    0.01712         46        640:  60% 3/5 [00:00<00:00,  4.49it/s]/content/yolov5/train.py:412: FutureWarning: `torch.cuda.amp.autocast(args...)` is deprecated. Please use `torch.amp.autocast('cuda', args...)` instead.\n",
            "  with torch.cuda.amp.autocast(amp):\n",
            "      44/49      4.63G    0.02064    0.01821    0.01688         51        640:  80% 4/5 [00:01<00:00,  3.65it/s]/content/yolov5/train.py:412: FutureWarning: `torch.cuda.amp.autocast(args...)` is deprecated. Please use `torch.amp.autocast('cuda', args...)` instead.\n",
            "  with torch.cuda.amp.autocast(amp):\n",
            "      44/49      4.63G    0.02051     0.0176    0.01659         28        640: 100% 5/5 [00:01<00:00,  4.18it/s]\n",
            "                 Class     Images  Instances          P          R      mAP50   mAP50-95: 100% 3/3 [00:01<00:00,  1.74it/s]\n",
            "                   all         74         85       0.65      0.608      0.604      0.352\n",
            "\n",
            "      Epoch    GPU_mem   box_loss   obj_loss   cls_loss  Instances       Size\n",
            "  0% 0/5 [00:00<?, ?it/s]/content/yolov5/train.py:412: FutureWarning: `torch.cuda.amp.autocast(args...)` is deprecated. Please use `torch.amp.autocast('cuda', args...)` instead.\n",
            "  with torch.cuda.amp.autocast(amp):\n",
            "      45/49      4.63G    0.02183    0.01827    0.02038         51        640:  20% 1/5 [00:00<00:00,  4.47it/s]/content/yolov5/train.py:412: FutureWarning: `torch.cuda.amp.autocast(args...)` is deprecated. Please use `torch.amp.autocast('cuda', args...)` instead.\n",
            "  with torch.cuda.amp.autocast(amp):\n",
            "      45/49      4.63G    0.02169    0.01613    0.01873         35        640:  40% 2/5 [00:00<00:00,  4.39it/s]/content/yolov5/train.py:412: FutureWarning: `torch.cuda.amp.autocast(args...)` is deprecated. Please use `torch.amp.autocast('cuda', args...)` instead.\n",
            "  with torch.cuda.amp.autocast(amp):\n",
            "      45/49      4.63G    0.02253    0.01628    0.01895         43        640:  60% 3/5 [00:00<00:00,  3.46it/s]/content/yolov5/train.py:412: FutureWarning: `torch.cuda.amp.autocast(args...)` is deprecated. Please use `torch.amp.autocast('cuda', args...)` instead.\n",
            "  with torch.cuda.amp.autocast(amp):\n",
            "      45/49      4.63G    0.03043    0.01699    0.02406         53        640:  80% 4/5 [00:01<00:00,  3.47it/s]/content/yolov5/train.py:412: FutureWarning: `torch.cuda.amp.autocast(args...)` is deprecated. Please use `torch.amp.autocast('cuda', args...)` instead.\n",
            "  with torch.cuda.amp.autocast(amp):\n",
            "      45/49      4.63G    0.02848    0.01651    0.02346         28        640: 100% 5/5 [00:01<00:00,  3.68it/s]\n",
            "                 Class     Images  Instances          P          R      mAP50   mAP50-95: 100% 3/3 [00:02<00:00,  1.48it/s]\n",
            "                   all         74         85      0.618      0.718      0.618      0.376\n",
            "\n",
            "      Epoch    GPU_mem   box_loss   obj_loss   cls_loss  Instances       Size\n",
            "  0% 0/5 [00:00<?, ?it/s]/content/yolov5/train.py:412: FutureWarning: `torch.cuda.amp.autocast(args...)` is deprecated. Please use `torch.amp.autocast('cuda', args...)` instead.\n",
            "  with torch.cuda.amp.autocast(amp):\n",
            "      46/49      4.63G    0.02337     0.0137    0.01825         42        640:  20% 1/5 [00:00<00:01,  3.76it/s]/content/yolov5/train.py:412: FutureWarning: `torch.cuda.amp.autocast(args...)` is deprecated. Please use `torch.amp.autocast('cuda', args...)` instead.\n",
            "  with torch.cuda.amp.autocast(amp):\n",
            "      46/49      4.63G    0.02151    0.01564    0.01778         49        640:  40% 2/5 [00:00<00:00,  3.26it/s]/content/yolov5/train.py:412: FutureWarning: `torch.cuda.amp.autocast(args...)` is deprecated. Please use `torch.amp.autocast('cuda', args...)` instead.\n",
            "  with torch.cuda.amp.autocast(amp):\n",
            "      46/49      4.63G    0.03375     0.0171     0.0216         58        640:  60% 3/5 [00:00<00:00,  3.39it/s]/content/yolov5/train.py:412: FutureWarning: `torch.cuda.amp.autocast(args...)` is deprecated. Please use `torch.amp.autocast('cuda', args...)` instead.\n",
            "  with torch.cuda.amp.autocast(amp):\n",
            "      46/49      4.63G     0.0301    0.01696     0.0211         49        640:  80% 4/5 [00:01<00:00,  3.71it/s]/content/yolov5/train.py:412: FutureWarning: `torch.cuda.amp.autocast(args...)` is deprecated. Please use `torch.amp.autocast('cuda', args...)` instead.\n",
            "  with torch.cuda.amp.autocast(amp):\n",
            "      46/49      4.63G    0.02797    0.01721    0.02041         34        640: 100% 5/5 [00:01<00:00,  3.85it/s]\n",
            "                 Class     Images  Instances          P          R      mAP50   mAP50-95: 100% 3/3 [00:00<00:00,  3.19it/s]\n",
            "                   all         74         85      0.617      0.709      0.621      0.371\n",
            "\n",
            "      Epoch    GPU_mem   box_loss   obj_loss   cls_loss  Instances       Size\n",
            "  0% 0/5 [00:00<?, ?it/s]/content/yolov5/train.py:412: FutureWarning: `torch.cuda.amp.autocast(args...)` is deprecated. Please use `torch.amp.autocast('cuda', args...)` instead.\n",
            "  with torch.cuda.amp.autocast(amp):\n",
            "      47/49      4.63G    0.01892    0.01462    0.02118         37        640:  20% 1/5 [00:00<00:00,  4.44it/s]/content/yolov5/train.py:412: FutureWarning: `torch.cuda.amp.autocast(args...)` is deprecated. Please use `torch.amp.autocast('cuda', args...)` instead.\n",
            "  with torch.cuda.amp.autocast(amp):\n",
            "      47/49      4.63G    0.02019    0.01693    0.01948         53        640:  40% 2/5 [00:00<00:00,  4.73it/s]/content/yolov5/train.py:412: FutureWarning: `torch.cuda.amp.autocast(args...)` is deprecated. Please use `torch.amp.autocast('cuda', args...)` instead.\n",
            "  with torch.cuda.amp.autocast(amp):\n",
            "      47/49      4.63G    0.02008    0.01613    0.01811         45        640:  60% 3/5 [00:00<00:00,  4.67it/s]/content/yolov5/train.py:412: FutureWarning: `torch.cuda.amp.autocast(args...)` is deprecated. Please use `torch.amp.autocast('cuda', args...)` instead.\n",
            "  with torch.cuda.amp.autocast(amp):\n",
            "      47/49      4.63G    0.01994    0.01571    0.01777         44        640:  80% 4/5 [00:00<00:00,  4.67it/s]/content/yolov5/train.py:412: FutureWarning: `torch.cuda.amp.autocast(args...)` is deprecated. Please use `torch.amp.autocast('cuda', args...)` instead.\n",
            "  with torch.cuda.amp.autocast(amp):\n",
            "      47/49      4.63G    0.02213    0.01578     0.0177         31        640: 100% 5/5 [00:01<00:00,  4.50it/s]\n",
            "                 Class     Images  Instances          P          R      mAP50   mAP50-95: 100% 3/3 [00:00<00:00,  3.25it/s]\n",
            "                   all         74         85      0.617      0.691      0.626      0.392\n",
            "\n",
            "      Epoch    GPU_mem   box_loss   obj_loss   cls_loss  Instances       Size\n",
            "  0% 0/5 [00:00<?, ?it/s]/content/yolov5/train.py:412: FutureWarning: `torch.cuda.amp.autocast(args...)` is deprecated. Please use `torch.amp.autocast('cuda', args...)` instead.\n",
            "  with torch.cuda.amp.autocast(amp):\n",
            "      48/49      4.63G    0.02115    0.01726     0.0163         51        640:  20% 1/5 [00:00<00:00,  5.09it/s]/content/yolov5/train.py:412: FutureWarning: `torch.cuda.amp.autocast(args...)` is deprecated. Please use `torch.amp.autocast('cuda', args...)` instead.\n",
            "  with torch.cuda.amp.autocast(amp):\n",
            "      48/49      4.63G    0.02599    0.01849    0.01877         52        640:  40% 2/5 [00:00<00:00,  4.79it/s]/content/yolov5/train.py:412: FutureWarning: `torch.cuda.amp.autocast(args...)` is deprecated. Please use `torch.amp.autocast('cuda', args...)` instead.\n",
            "  with torch.cuda.amp.autocast(amp):\n",
            "      48/49      4.63G    0.02578    0.01796    0.01924         43        640:  60% 3/5 [00:00<00:00,  4.41it/s]/content/yolov5/train.py:412: FutureWarning: `torch.cuda.amp.autocast(args...)` is deprecated. Please use `torch.amp.autocast('cuda', args...)` instead.\n",
            "  with torch.cuda.amp.autocast(amp):\n",
            "      48/49      4.63G    0.02448    0.01729    0.01828         47        640:  80% 4/5 [00:00<00:00,  4.09it/s]/content/yolov5/train.py:412: FutureWarning: `torch.cuda.amp.autocast(args...)` is deprecated. Please use `torch.amp.autocast('cuda', args...)` instead.\n",
            "  with torch.cuda.amp.autocast(amp):\n",
            "      48/49      4.63G    0.02341    0.01811    0.01776         38        640: 100% 5/5 [00:01<00:00,  4.63it/s]\n",
            "                 Class     Images  Instances          P          R      mAP50   mAP50-95: 100% 3/3 [00:00<00:00,  3.17it/s]\n",
            "                   all         74         85      0.607       0.73      0.632      0.389\n",
            "\n",
            "      Epoch    GPU_mem   box_loss   obj_loss   cls_loss  Instances       Size\n",
            "  0% 0/5 [00:00<?, ?it/s]/content/yolov5/train.py:412: FutureWarning: `torch.cuda.amp.autocast(args...)` is deprecated. Please use `torch.amp.autocast('cuda', args...)` instead.\n",
            "  with torch.cuda.amp.autocast(amp):\n",
            "      49/49      4.63G    0.02155    0.02011     0.0175         53        640:  20% 1/5 [00:00<00:00,  5.06it/s]/content/yolov5/train.py:412: FutureWarning: `torch.cuda.amp.autocast(args...)` is deprecated. Please use `torch.amp.autocast('cuda', args...)` instead.\n",
            "  with torch.cuda.amp.autocast(amp):\n",
            "      49/49      4.63G    0.03089    0.01918    0.02694         54        640:  40% 2/5 [00:00<00:00,  4.78it/s]/content/yolov5/train.py:412: FutureWarning: `torch.cuda.amp.autocast(args...)` is deprecated. Please use `torch.amp.autocast('cuda', args...)` instead.\n",
            "  with torch.cuda.amp.autocast(amp):\n",
            "      49/49      4.63G    0.03144    0.01775     0.0292         44        640:  60% 3/5 [00:00<00:00,  4.22it/s]/content/yolov5/train.py:412: FutureWarning: `torch.cuda.amp.autocast(args...)` is deprecated. Please use `torch.amp.autocast('cuda', args...)` instead.\n",
            "  with torch.cuda.amp.autocast(amp):\n",
            "      49/49      4.63G    0.02853    0.01737    0.02678         45        640:  80% 4/5 [00:00<00:00,  4.12it/s]/content/yolov5/train.py:412: FutureWarning: `torch.cuda.amp.autocast(args...)` is deprecated. Please use `torch.amp.autocast('cuda', args...)` instead.\n",
            "  with torch.cuda.amp.autocast(amp):\n",
            "      49/49      4.63G    0.02768    0.01733    0.02455         31        640: 100% 5/5 [00:01<00:00,  4.49it/s]\n",
            "                 Class     Images  Instances          P          R      mAP50   mAP50-95: 100% 3/3 [00:00<00:00,  3.20it/s]\n",
            "                   all         74         85      0.614      0.735      0.637      0.397\n",
            "\n",
            "50 epochs completed in 0.045 hours.\n",
            "Optimizer stripped from runs/train/exp/weights/last.pt, 14.4MB\n",
            "Optimizer stripped from runs/train/exp/weights/best.pt, 14.4MB\n",
            "\n",
            "Validating runs/train/exp/weights/best.pt...\n",
            "Fusing layers... \n",
            "Model summary: 157 layers, 7023610 parameters, 0 gradients, 15.8 GFLOPs\n",
            "                 Class     Images  Instances          P          R      mAP50   mAP50-95: 100% 3/3 [00:01<00:00,  1.54it/s]\n",
            "                   all         74         85      0.613      0.735      0.637      0.397\n",
            "              car tire         74         21      0.601      0.619      0.509      0.321\n",
            "       motorcycle tire         74         16      0.414      0.562      0.444      0.282\n",
            "                   tug         74         16      0.636      0.625      0.673      0.333\n",
            "                 human         74         17      0.964          1      0.995      0.682\n",
            "              forklift         74         15      0.449      0.867      0.564      0.367\n",
            "Results saved to \u001b[1mruns/train/exp\u001b[0m\n"
          ]
        }
      ]
    },
    {
      "cell_type": "code",
      "source": [
        "!git clone https://github.com/ultralytics/yolov5  # ดาวน์โหลด YOLOv5\n",
        "%cd yolov5-1\n",
        "!pip install -r requirements.txt  # ติดตั้ง dependencies\n",
        "\n"
      ],
      "metadata": {
        "colab": {
          "base_uri": "https://localhost:8080/"
        },
        "id": "6-Us74zaLhAw",
        "outputId": "92d28c3e-d8e0-4bdd-d7df-59342b505108"
      },
      "execution_count": null,
      "outputs": [
        {
          "output_type": "stream",
          "name": "stdout",
          "text": [
            "Cloning into 'yolov5'...\n",
            "remote: Enumerating objects: 17075, done.\u001b[K\n",
            "remote: Counting objects: 100% (26/26), done.\u001b[K\n",
            "remote: Compressing objects: 100% (21/21), done.\u001b[K\n",
            "remote: Total 17075 (delta 18), reused 5 (delta 5), pack-reused 17049 (from 3)\u001b[K\n",
            "Receiving objects: 100% (17075/17075), 15.70 MiB | 18.41 MiB/s, done.\n",
            "Resolving deltas: 100% (11719/11719), done.\n",
            "[Errno 2] No such file or directory: 'yolov5-1'\n",
            "/content/yolov5-5/yolov5\n",
            "Requirement already satisfied: gitpython>=3.1.30 in /usr/local/lib/python3.10/dist-packages (from -r requirements.txt (line 5)) (3.1.43)\n",
            "Requirement already satisfied: matplotlib>=3.3 in /usr/local/lib/python3.10/dist-packages (from -r requirements.txt (line 6)) (3.8.0)\n",
            "Requirement already satisfied: numpy>=1.23.5 in /usr/local/lib/python3.10/dist-packages (from -r requirements.txt (line 7)) (1.26.4)\n",
            "Requirement already satisfied: opencv-python>=4.1.1 in /usr/local/lib/python3.10/dist-packages (from -r requirements.txt (line 8)) (4.10.0.84)\n",
            "Requirement already satisfied: pillow>=10.3.0 in /usr/local/lib/python3.10/dist-packages (from -r requirements.txt (line 9)) (11.0.0)\n",
            "Requirement already satisfied: psutil in /usr/local/lib/python3.10/dist-packages (from -r requirements.txt (line 10)) (5.9.5)\n",
            "Requirement already satisfied: PyYAML>=5.3.1 in /usr/local/lib/python3.10/dist-packages (from -r requirements.txt (line 11)) (6.0.2)\n",
            "Requirement already satisfied: requests>=2.32.2 in /usr/local/lib/python3.10/dist-packages (from -r requirements.txt (line 12)) (2.32.3)\n",
            "Requirement already satisfied: scipy>=1.4.1 in /usr/local/lib/python3.10/dist-packages (from -r requirements.txt (line 13)) (1.13.1)\n",
            "Requirement already satisfied: thop>=0.1.1 in /usr/local/lib/python3.10/dist-packages (from -r requirements.txt (line 14)) (0.1.1.post2209072238)\n",
            "Requirement already satisfied: torch>=1.8.0 in /usr/local/lib/python3.10/dist-packages (from -r requirements.txt (line 15)) (2.5.1+cu121)\n",
            "Requirement already satisfied: torchvision>=0.9.0 in /usr/local/lib/python3.10/dist-packages (from -r requirements.txt (line 16)) (0.20.1+cu121)\n",
            "Requirement already satisfied: tqdm>=4.66.3 in /usr/local/lib/python3.10/dist-packages (from -r requirements.txt (line 17)) (4.67.1)\n",
            "Requirement already satisfied: ultralytics>=8.2.34 in /usr/local/lib/python3.10/dist-packages (from -r requirements.txt (line 18)) (8.3.52)\n",
            "Requirement already satisfied: pandas>=1.1.4 in /usr/local/lib/python3.10/dist-packages (from -r requirements.txt (line 27)) (2.2.2)\n",
            "Requirement already satisfied: seaborn>=0.11.0 in /usr/local/lib/python3.10/dist-packages (from -r requirements.txt (line 28)) (0.13.2)\n",
            "Requirement already satisfied: setuptools>=70.0.0 in /usr/local/lib/python3.10/dist-packages (from -r requirements.txt (line 42)) (75.1.0)\n",
            "Requirement already satisfied: gitdb<5,>=4.0.1 in /usr/local/lib/python3.10/dist-packages (from gitpython>=3.1.30->-r requirements.txt (line 5)) (4.0.11)\n",
            "Requirement already satisfied: contourpy>=1.0.1 in /usr/local/lib/python3.10/dist-packages (from matplotlib>=3.3->-r requirements.txt (line 6)) (1.3.1)\n",
            "Requirement already satisfied: cycler>=0.10 in /usr/local/lib/python3.10/dist-packages (from matplotlib>=3.3->-r requirements.txt (line 6)) (0.12.1)\n",
            "Requirement already satisfied: fonttools>=4.22.0 in /usr/local/lib/python3.10/dist-packages (from matplotlib>=3.3->-r requirements.txt (line 6)) (4.55.3)\n",
            "Requirement already satisfied: kiwisolver>=1.0.1 in /usr/local/lib/python3.10/dist-packages (from matplotlib>=3.3->-r requirements.txt (line 6)) (1.4.7)\n",
            "Requirement already satisfied: packaging>=20.0 in /usr/local/lib/python3.10/dist-packages (from matplotlib>=3.3->-r requirements.txt (line 6)) (24.2)\n",
            "Requirement already satisfied: pyparsing>=2.3.1 in /usr/local/lib/python3.10/dist-packages (from matplotlib>=3.3->-r requirements.txt (line 6)) (3.2.0)\n",
            "Requirement already satisfied: python-dateutil>=2.7 in /usr/local/lib/python3.10/dist-packages (from matplotlib>=3.3->-r requirements.txt (line 6)) (2.8.2)\n",
            "Requirement already satisfied: charset-normalizer<4,>=2 in /usr/local/lib/python3.10/dist-packages (from requests>=2.32.2->-r requirements.txt (line 12)) (3.4.0)\n",
            "Requirement already satisfied: idna<4,>=2.5 in /usr/local/lib/python3.10/dist-packages (from requests>=2.32.2->-r requirements.txt (line 12)) (3.10)\n",
            "Requirement already satisfied: urllib3<3,>=1.21.1 in /usr/local/lib/python3.10/dist-packages (from requests>=2.32.2->-r requirements.txt (line 12)) (2.2.3)\n",
            "Requirement already satisfied: certifi>=2017.4.17 in /usr/local/lib/python3.10/dist-packages (from requests>=2.32.2->-r requirements.txt (line 12)) (2024.12.14)\n",
            "Requirement already satisfied: filelock in /usr/local/lib/python3.10/dist-packages (from torch>=1.8.0->-r requirements.txt (line 15)) (3.16.1)\n",
            "Requirement already satisfied: typing-extensions>=4.8.0 in /usr/local/lib/python3.10/dist-packages (from torch>=1.8.0->-r requirements.txt (line 15)) (4.12.2)\n",
            "Requirement already satisfied: networkx in /usr/local/lib/python3.10/dist-packages (from torch>=1.8.0->-r requirements.txt (line 15)) (3.4.2)\n",
            "Requirement already satisfied: jinja2 in /usr/local/lib/python3.10/dist-packages (from torch>=1.8.0->-r requirements.txt (line 15)) (3.1.4)\n",
            "Requirement already satisfied: fsspec in /usr/local/lib/python3.10/dist-packages (from torch>=1.8.0->-r requirements.txt (line 15)) (2024.10.0)\n",
            "Requirement already satisfied: sympy==1.13.1 in /usr/local/lib/python3.10/dist-packages (from torch>=1.8.0->-r requirements.txt (line 15)) (1.13.1)\n",
            "Requirement already satisfied: mpmath<1.4,>=1.1.0 in /usr/local/lib/python3.10/dist-packages (from sympy==1.13.1->torch>=1.8.0->-r requirements.txt (line 15)) (1.3.0)\n",
            "Requirement already satisfied: py-cpuinfo in /usr/local/lib/python3.10/dist-packages (from ultralytics>=8.2.34->-r requirements.txt (line 18)) (9.0.0)\n",
            "Requirement already satisfied: ultralytics-thop>=2.0.0 in /usr/local/lib/python3.10/dist-packages (from ultralytics>=8.2.34->-r requirements.txt (line 18)) (2.0.13)\n",
            "Requirement already satisfied: pytz>=2020.1 in /usr/local/lib/python3.10/dist-packages (from pandas>=1.1.4->-r requirements.txt (line 27)) (2024.2)\n",
            "Requirement already satisfied: tzdata>=2022.7 in /usr/local/lib/python3.10/dist-packages (from pandas>=1.1.4->-r requirements.txt (line 27)) (2024.2)\n",
            "Requirement already satisfied: smmap<6,>=3.0.1 in /usr/local/lib/python3.10/dist-packages (from gitdb<5,>=4.0.1->gitpython>=3.1.30->-r requirements.txt (line 5)) (5.0.1)\n",
            "Requirement already satisfied: six>=1.5 in /usr/local/lib/python3.10/dist-packages (from python-dateutil>=2.7->matplotlib>=3.3->-r requirements.txt (line 6)) (1.17.0)\n",
            "Requirement already satisfied: MarkupSafe>=2.0 in /usr/local/lib/python3.10/dist-packages (from jinja2->torch>=1.8.0->-r requirements.txt (line 15)) (3.0.2)\n"
          ]
        }
      ]
    },
    {
      "cell_type": "code",
      "source": [
        "!python train.py --img 640 --batch 16 --epochs 30 --data /content/yolov5/data/Test_Trainset.yaml --weights /content/yolov5/runs/train/exp/weights/best.pt"
      ],
      "metadata": {
        "colab": {
          "base_uri": "https://localhost:8080/"
        },
        "id": "GfGHBkM3ntyL",
        "outputId": "a24ab83b-b363-4f99-e0c4-6334fbf1d992"
      },
      "execution_count": 4,
      "outputs": [
        {
          "output_type": "stream",
          "name": "stdout",
          "text": [
            "\u001b[34m\u001b[1mwandb\u001b[0m: WARNING ⚠️ wandb is deprecated and will be removed in a future release. See supported integrations at https://github.com/ultralytics/yolov5#integrations.\n",
            "2024-12-23 04:00:26.667265: E external/local_xla/xla/stream_executor/cuda/cuda_fft.cc:485] Unable to register cuFFT factory: Attempting to register factory for plugin cuFFT when one has already been registered\n",
            "2024-12-23 04:00:26.688311: E external/local_xla/xla/stream_executor/cuda/cuda_dnn.cc:8454] Unable to register cuDNN factory: Attempting to register factory for plugin cuDNN when one has already been registered\n",
            "2024-12-23 04:00:26.695530: E external/local_xla/xla/stream_executor/cuda/cuda_blas.cc:1452] Unable to register cuBLAS factory: Attempting to register factory for plugin cuBLAS when one has already been registered\n",
            "\u001b[34m\u001b[1mwandb\u001b[0m: Using wandb-core as the SDK backend.  Please refer to https://wandb.me/wandb-core for more information.\n",
            "\u001b[34m\u001b[1mwandb\u001b[0m: (1) Create a W&B account\n",
            "\u001b[34m\u001b[1mwandb\u001b[0m: (2) Use an existing W&B account\n",
            "\u001b[34m\u001b[1mwandb\u001b[0m: (3) Don't visualize my results\n",
            "\u001b[34m\u001b[1mwandb\u001b[0m: Enter your choice: (30 second timeout) \n",
            "\u001b[34m\u001b[1mwandb\u001b[0m: W&B disabled due to login timeout.\n",
            "\u001b[34m\u001b[1mtrain: \u001b[0mweights=/content/yolov5/runs/train/exp/weights/best.pt, cfg=, data=/content/yolov5/data/Test_Trainset.yaml, hyp=data/hyps/hyp.scratch-low.yaml, epochs=30, batch_size=16, imgsz=640, rect=False, resume=False, nosave=False, noval=False, noautoanchor=False, noplots=False, evolve=None, evolve_population=data/hyps, resume_evolve=None, bucket=, cache=None, image_weights=False, device=, multi_scale=False, single_cls=False, optimizer=SGD, sync_bn=False, workers=8, project=runs/train, name=exp, exist_ok=False, quad=False, cos_lr=False, label_smoothing=0.0, patience=100, freeze=[0], save_period=-1, seed=0, local_rank=-1, entity=None, upload_dataset=False, bbox_interval=-1, artifact_alias=latest, ndjson_console=False, ndjson_file=False\n",
            "\u001b[34m\u001b[1mgithub: \u001b[0mup to date with https://github.com/ultralytics/yolov5 ✅\n",
            "YOLOv5 🚀 v7.0-389-ge62a31b6 Python-3.10.12 torch-2.5.1+cu121 CUDA:0 (Tesla T4, 15102MiB)\n",
            "\n",
            "\u001b[34m\u001b[1mhyperparameters: \u001b[0mlr0=0.01, lrf=0.01, momentum=0.937, weight_decay=0.0005, warmup_epochs=3.0, warmup_momentum=0.8, warmup_bias_lr=0.1, box=0.05, cls=0.5, cls_pw=1.0, obj=1.0, obj_pw=1.0, iou_t=0.2, anchor_t=4.0, fl_gamma=0.0, hsv_h=0.015, hsv_s=0.7, hsv_v=0.4, degrees=0.0, translate=0.1, scale=0.5, shear=0.0, perspective=0.0, flipud=0.0, fliplr=0.5, mosaic=1.0, mixup=0.0, copy_paste=0.0\n",
            "\u001b[34m\u001b[1mComet: \u001b[0mrun 'pip install comet_ml' to automatically track and visualize YOLOv5 🚀 runs in Comet\n",
            "\u001b[34m\u001b[1mTensorBoard: \u001b[0mStart with 'tensorboard --logdir runs/train', view at http://localhost:6006/\n",
            "\n",
            "                 from  n    params  module                                  arguments                     \n",
            "  0                -1  1      3520  models.common.Conv                      [3, 32, 6, 2, 2]              \n",
            "  1                -1  1     18560  models.common.Conv                      [32, 64, 3, 2]                \n",
            "  2                -1  1     18816  models.common.C3                        [64, 64, 1]                   \n",
            "  3                -1  1     73984  models.common.Conv                      [64, 128, 3, 2]               \n",
            "  4                -1  2    115712  models.common.C3                        [128, 128, 2]                 \n",
            "  5                -1  1    295424  models.common.Conv                      [128, 256, 3, 2]              \n",
            "  6                -1  3    625152  models.common.C3                        [256, 256, 3]                 \n",
            "  7                -1  1   1180672  models.common.Conv                      [256, 512, 3, 2]              \n",
            "  8                -1  1   1182720  models.common.C3                        [512, 512, 1]                 \n",
            "  9                -1  1    656896  models.common.SPPF                      [512, 512, 5]                 \n",
            " 10                -1  1    131584  models.common.Conv                      [512, 256, 1, 1]              \n",
            " 11                -1  1         0  torch.nn.modules.upsampling.Upsample    [None, 2, 'nearest']          \n",
            " 12           [-1, 6]  1         0  models.common.Concat                    [1]                           \n",
            " 13                -1  1    361984  models.common.C3                        [512, 256, 1, False]          \n",
            " 14                -1  1     33024  models.common.Conv                      [256, 128, 1, 1]              \n",
            " 15                -1  1         0  torch.nn.modules.upsampling.Upsample    [None, 2, 'nearest']          \n",
            " 16           [-1, 4]  1         0  models.common.Concat                    [1]                           \n",
            " 17                -1  1     90880  models.common.C3                        [256, 128, 1, False]          \n",
            " 18                -1  1    147712  models.common.Conv                      [128, 128, 3, 2]              \n",
            " 19          [-1, 14]  1         0  models.common.Concat                    [1]                           \n",
            " 20                -1  1    296448  models.common.C3                        [256, 256, 1, False]          \n",
            " 21                -1  1    590336  models.common.Conv                      [256, 256, 3, 2]              \n",
            " 22          [-1, 10]  1         0  models.common.Concat                    [1]                           \n",
            " 23                -1  1   1182720  models.common.C3                        [512, 512, 1, False]          \n",
            " 24      [17, 20, 23]  1     26970  models.yolo.Detect                      [5, [[10, 13, 16, 30, 33, 23], [30, 61, 62, 45, 59, 119], [116, 90, 156, 198, 373, 326]], [128, 256, 512]]\n",
            "Model summary: 214 layers, 7033114 parameters, 7033114 gradients, 16.0 GFLOPs\n",
            "\n",
            "Transferred 349/349 items from /content/yolov5/runs/train/exp/weights/best.pt\n",
            "/content/yolov5/models/common.py:892: FutureWarning: `torch.cuda.amp.autocast(args...)` is deprecated. Please use `torch.amp.autocast('cuda', args...)` instead.\n",
            "  with amp.autocast(autocast):\n",
            "/content/yolov5/models/common.py:892: FutureWarning: `torch.cuda.amp.autocast(args...)` is deprecated. Please use `torch.amp.autocast('cuda', args...)` instead.\n",
            "  with amp.autocast(autocast):\n",
            "\u001b[34m\u001b[1mAMP: \u001b[0mchecks passed ✅\n",
            "\u001b[34m\u001b[1moptimizer:\u001b[0m SGD(lr=0.01) with parameter groups 57 weight(decay=0.0), 60 weight(decay=0.0005), 60 bias\n",
            "\u001b[34m\u001b[1malbumentations: \u001b[0mBlur(p=0.01, blur_limit=(3, 7)), MedianBlur(p=0.01, blur_limit=(3, 7)), ToGray(p=0.01, num_output_channels=3, method='weighted_average'), CLAHE(p=0.01, clip_limit=(1.0, 4.0), tile_grid_size=(8, 8))\n",
            "\u001b[34m\u001b[1mtrain: \u001b[0mScanning /content/yolov5/data/labels/train.cache... 75 images, 0 backgrounds, 0 corrupt: 100% 75/75 [00:00<?, ?it/s]\n",
            "\u001b[34m\u001b[1mval: \u001b[0mScanning /content/yolov5/data/labels/val.cache... 74 images, 0 backgrounds, 0 corrupt: 100% 74/74 [00:00<?, ?it/s]\n",
            "\n",
            "\u001b[34m\u001b[1mAutoAnchor: \u001b[0m2.25 anchors/target, 1.000 Best Possible Recall (BPR). Current anchors are a good fit to dataset ✅\n",
            "Plotting labels to runs/train/exp2/labels.jpg... \n",
            "/content/yolov5/train.py:355: FutureWarning: `torch.cuda.amp.GradScaler(args...)` is deprecated. Please use `torch.amp.GradScaler('cuda', args...)` instead.\n",
            "  scaler = torch.cuda.amp.GradScaler(enabled=amp)\n",
            "Image sizes 640 train, 640 val\n",
            "Using 2 dataloader workers\n",
            "Logging results to \u001b[1mruns/train/exp2\u001b[0m\n",
            "Starting training for 30 epochs...\n",
            "\n",
            "      Epoch    GPU_mem   box_loss   obj_loss   cls_loss  Instances       Size\n",
            "  0% 0/5 [00:00<?, ?it/s]/content/yolov5/train.py:412: FutureWarning: `torch.cuda.amp.autocast(args...)` is deprecated. Please use `torch.amp.autocast('cuda', args...)` instead.\n",
            "  with torch.cuda.amp.autocast(amp):\n",
            "       0/29      3.51G    0.03841    0.01961    0.01965         51        640:  20% 1/5 [00:02<00:09,  2.35s/it]/content/yolov5/train.py:412: FutureWarning: `torch.cuda.amp.autocast(args...)` is deprecated. Please use `torch.amp.autocast('cuda', args...)` instead.\n",
            "  with torch.cuda.amp.autocast(amp):\n",
            "       0/29      3.56G    0.03034    0.01729    0.01907         42        640:  40% 2/5 [00:02<00:03,  1.15s/it]/content/yolov5/train.py:412: FutureWarning: `torch.cuda.amp.autocast(args...)` is deprecated. Please use `torch.amp.autocast('cuda', args...)` instead.\n",
            "  with torch.cuda.amp.autocast(amp):\n",
            "       0/29      3.56G    0.02682    0.01754    0.01798         51        640:  60% 3/5 [00:02<00:01,  1.30it/s]/content/yolov5/train.py:412: FutureWarning: `torch.cuda.amp.autocast(args...)` is deprecated. Please use `torch.amp.autocast('cuda', args...)` instead.\n",
            "  with torch.cuda.amp.autocast(amp):\n",
            "       0/29      3.56G    0.03036    0.01768    0.02544         47        640:  80% 4/5 [00:03<00:00,  1.64it/s]/content/yolov5/train.py:412: FutureWarning: `torch.cuda.amp.autocast(args...)` is deprecated. Please use `torch.amp.autocast('cuda', args...)` instead.\n",
            "  with torch.cuda.amp.autocast(amp):\n",
            "       0/29      3.56G    0.02849    0.01687    0.02501         25        640: 100% 5/5 [00:03<00:00,  1.33it/s]\n",
            "                 Class     Images  Instances          P          R      mAP50   mAP50-95: 100% 3/3 [00:00<00:00,  3.15it/s]\n",
            "                   all         74         85       0.56      0.658      0.578      0.354\n",
            "\n",
            "      Epoch    GPU_mem   box_loss   obj_loss   cls_loss  Instances       Size\n",
            "  0% 0/5 [00:00<?, ?it/s]/content/yolov5/train.py:412: FutureWarning: `torch.cuda.amp.autocast(args...)` is deprecated. Please use `torch.amp.autocast('cuda', args...)` instead.\n",
            "  with torch.cuda.amp.autocast(amp):\n",
            "       1/29      4.64G    0.03234     0.0164    0.03755         44        640:  20% 1/5 [00:00<00:01,  3.35it/s]/content/yolov5/train.py:412: FutureWarning: `torch.cuda.amp.autocast(args...)` is deprecated. Please use `torch.amp.autocast('cuda', args...)` instead.\n",
            "  with torch.cuda.amp.autocast(amp):\n",
            "       1/29      4.64G     0.0455     0.0165    0.02763         48        640:  40% 2/5 [00:00<00:00,  3.49it/s]/content/yolov5/train.py:412: FutureWarning: `torch.cuda.amp.autocast(args...)` is deprecated. Please use `torch.amp.autocast('cuda', args...)` instead.\n",
            "  with torch.cuda.amp.autocast(amp):\n",
            "       1/29      4.64G    0.04578    0.01688    0.02806         46        640:  60% 3/5 [00:00<00:00,  3.12it/s]/content/yolov5/train.py:412: FutureWarning: `torch.cuda.amp.autocast(args...)` is deprecated. Please use `torch.amp.autocast('cuda', args...)` instead.\n",
            "  with torch.cuda.amp.autocast(amp):\n",
            "       1/29      4.64G    0.03941    0.01665    0.02529         47        640:  80% 4/5 [00:01<00:00,  3.10it/s]/content/yolov5/train.py:412: FutureWarning: `torch.cuda.amp.autocast(args...)` is deprecated. Please use `torch.amp.autocast('cuda', args...)` instead.\n",
            "  with torch.cuda.amp.autocast(amp):\n",
            "       1/29      4.64G    0.03515    0.01683    0.02362         37        640: 100% 5/5 [00:01<00:00,  3.20it/s]\n",
            "                 Class     Images  Instances          P          R      mAP50   mAP50-95: 100% 3/3 [00:01<00:00,  1.96it/s]\n",
            "                   all         74         85      0.639      0.624      0.604      0.361\n",
            "\n",
            "      Epoch    GPU_mem   box_loss   obj_loss   cls_loss  Instances       Size\n",
            "  0% 0/5 [00:00<?, ?it/s]/content/yolov5/train.py:412: FutureWarning: `torch.cuda.amp.autocast(args...)` is deprecated. Please use `torch.amp.autocast('cuda', args...)` instead.\n",
            "  with torch.cuda.amp.autocast(amp):\n",
            "       2/29      4.64G    0.02317    0.01573    0.02157         42        640:  20% 1/5 [00:00<00:01,  3.67it/s]/content/yolov5/train.py:412: FutureWarning: `torch.cuda.amp.autocast(args...)` is deprecated. Please use `torch.amp.autocast('cuda', args...)` instead.\n",
            "  with torch.cuda.amp.autocast(amp):\n",
            "       2/29      4.64G    0.02159    0.01601     0.0193         49        640:  40% 2/5 [00:00<00:00,  3.33it/s]/content/yolov5/train.py:412: FutureWarning: `torch.cuda.amp.autocast(args...)` is deprecated. Please use `torch.amp.autocast('cuda', args...)` instead.\n",
            "  with torch.cuda.amp.autocast(amp):\n",
            "       2/29      4.64G     0.0208    0.01727    0.01807         57        640:  60% 3/5 [00:00<00:00,  3.05it/s]/content/yolov5/train.py:412: FutureWarning: `torch.cuda.amp.autocast(args...)` is deprecated. Please use `torch.amp.autocast('cuda', args...)` instead.\n",
            "  with torch.cuda.amp.autocast(amp):\n",
            "       2/29      4.64G    0.02384     0.0172    0.02498         47        640:  80% 4/5 [00:01<00:00,  2.82it/s]/content/yolov5/train.py:412: FutureWarning: `torch.cuda.amp.autocast(args...)` is deprecated. Please use `torch.amp.autocast('cuda', args...)` instead.\n",
            "  with torch.cuda.amp.autocast(amp):\n",
            "       2/29      4.64G    0.03014     0.0171    0.02445         34        640: 100% 5/5 [00:01<00:00,  2.89it/s]\n",
            "                 Class     Images  Instances          P          R      mAP50   mAP50-95: 100% 3/3 [00:01<00:00,  1.61it/s]\n",
            "                   all         74         85      0.603      0.628      0.599      0.374\n",
            "\n",
            "      Epoch    GPU_mem   box_loss   obj_loss   cls_loss  Instances       Size\n",
            "  0% 0/5 [00:00<?, ?it/s]/content/yolov5/train.py:412: FutureWarning: `torch.cuda.amp.autocast(args...)` is deprecated. Please use `torch.amp.autocast('cuda', args...)` instead.\n",
            "  with torch.cuda.amp.autocast(amp):\n",
            "       3/29      4.64G     0.0185    0.01873    0.01468         51        640:  20% 1/5 [00:00<00:00,  4.20it/s]/content/yolov5/train.py:412: FutureWarning: `torch.cuda.amp.autocast(args...)` is deprecated. Please use `torch.amp.autocast('cuda', args...)` instead.\n",
            "  with torch.cuda.amp.autocast(amp):\n",
            "       3/29      4.64G    0.01831    0.01883      0.015         55        640:  40% 2/5 [00:00<00:00,  4.29it/s]/content/yolov5/train.py:412: FutureWarning: `torch.cuda.amp.autocast(args...)` is deprecated. Please use `torch.amp.autocast('cuda', args...)` instead.\n",
            "  with torch.cuda.amp.autocast(amp):\n",
            "       3/29      4.64G    0.01966      0.018    0.01704         46        640:  60% 3/5 [00:00<00:00,  4.52it/s]/content/yolov5/train.py:412: FutureWarning: `torch.cuda.amp.autocast(args...)` is deprecated. Please use `torch.amp.autocast('cuda', args...)` instead.\n",
            "  with torch.cuda.amp.autocast(amp):\n",
            "       3/29      4.64G    0.01974    0.01722    0.01711         41        640:  80% 4/5 [00:00<00:00,  4.25it/s]/content/yolov5/train.py:412: FutureWarning: `torch.cuda.amp.autocast(args...)` is deprecated. Please use `torch.amp.autocast('cuda', args...)` instead.\n",
            "  with torch.cuda.amp.autocast(amp):\n",
            "       3/29      4.64G    0.02083    0.01684    0.01841         29        640: 100% 5/5 [00:01<00:00,  4.43it/s]\n",
            "                 Class     Images  Instances          P          R      mAP50   mAP50-95: 100% 3/3 [00:00<00:00,  3.35it/s]\n",
            "                   all         74         85      0.624      0.604      0.601      0.381\n",
            "\n",
            "      Epoch    GPU_mem   box_loss   obj_loss   cls_loss  Instances       Size\n",
            "  0% 0/5 [00:00<?, ?it/s]/content/yolov5/train.py:412: FutureWarning: `torch.cuda.amp.autocast(args...)` is deprecated. Please use `torch.amp.autocast('cuda', args...)` instead.\n",
            "  with torch.cuda.amp.autocast(amp):\n",
            "       4/29      4.64G    0.04203    0.01751    0.03591         43        640:  20% 1/5 [00:00<00:00,  4.37it/s]/content/yolov5/train.py:412: FutureWarning: `torch.cuda.amp.autocast(args...)` is deprecated. Please use `torch.amp.autocast('cuda', args...)` instead.\n",
            "  with torch.cuda.amp.autocast(amp):\n",
            "       4/29      4.64G    0.03173    0.01957    0.02615         60        640:  40% 2/5 [00:00<00:00,  4.79it/s]/content/yolov5/train.py:412: FutureWarning: `torch.cuda.amp.autocast(args...)` is deprecated. Please use `torch.amp.autocast('cuda', args...)` instead.\n",
            "  with torch.cuda.amp.autocast(amp):\n",
            "       4/29      4.64G    0.02743    0.01881    0.02339         46        640:  60% 3/5 [00:00<00:00,  4.16it/s]/content/yolov5/train.py:412: FutureWarning: `torch.cuda.amp.autocast(args...)` is deprecated. Please use `torch.amp.autocast('cuda', args...)` instead.\n",
            "  with torch.cuda.amp.autocast(amp):\n",
            "       4/29      4.64G    0.02575    0.01837    0.02212         48        640:  80% 4/5 [00:00<00:00,  4.29it/s]/content/yolov5/train.py:412: FutureWarning: `torch.cuda.amp.autocast(args...)` is deprecated. Please use `torch.amp.autocast('cuda', args...)` instead.\n",
            "  with torch.cuda.amp.autocast(amp):\n",
            "       4/29      4.64G    0.02474    0.01783    0.02129         30        640: 100% 5/5 [00:01<00:00,  4.36it/s]\n",
            "                 Class     Images  Instances          P          R      mAP50   mAP50-95: 100% 3/3 [00:00<00:00,  3.08it/s]\n",
            "                   all         74         85      0.553      0.694      0.615      0.408\n",
            "\n",
            "      Epoch    GPU_mem   box_loss   obj_loss   cls_loss  Instances       Size\n",
            "  0% 0/5 [00:00<?, ?it/s]/content/yolov5/train.py:412: FutureWarning: `torch.cuda.amp.autocast(args...)` is deprecated. Please use `torch.amp.autocast('cuda', args...)` instead.\n",
            "  with torch.cuda.amp.autocast(amp):\n",
            "       5/29      4.64G    0.02061    0.02075    0.01605         55        640:  20% 1/5 [00:00<00:00,  5.14it/s]/content/yolov5/train.py:412: FutureWarning: `torch.cuda.amp.autocast(args...)` is deprecated. Please use `torch.amp.autocast('cuda', args...)` instead.\n",
            "  with torch.cuda.amp.autocast(amp):\n",
            "       5/29      4.64G    0.02168     0.0184    0.01729         46        640:  40% 2/5 [00:00<00:00,  4.53it/s]/content/yolov5/train.py:412: FutureWarning: `torch.cuda.amp.autocast(args...)` is deprecated. Please use `torch.amp.autocast('cuda', args...)` instead.\n",
            "  with torch.cuda.amp.autocast(amp):\n",
            "       5/29      4.64G    0.02614    0.01808      0.018         48        640:  60% 3/5 [00:00<00:00,  4.24it/s]/content/yolov5/train.py:412: FutureWarning: `torch.cuda.amp.autocast(args...)` is deprecated. Please use `torch.amp.autocast('cuda', args...)` instead.\n",
            "  with torch.cuda.amp.autocast(amp):\n",
            "       5/29      4.64G    0.02439    0.01718    0.01724         41        640:  80% 4/5 [00:00<00:00,  3.88it/s]/content/yolov5/train.py:412: FutureWarning: `torch.cuda.amp.autocast(args...)` is deprecated. Please use `torch.amp.autocast('cuda', args...)` instead.\n",
            "  with torch.cuda.amp.autocast(amp):\n",
            "       5/29      4.64G    0.02352    0.01684    0.01629         32        640: 100% 5/5 [00:01<00:00,  4.33it/s]\n",
            "                 Class     Images  Instances          P          R      mAP50   mAP50-95: 100% 3/3 [00:00<00:00,  3.23it/s]\n",
            "                   all         74         85      0.621      0.594      0.611      0.397\n",
            "\n",
            "      Epoch    GPU_mem   box_loss   obj_loss   cls_loss  Instances       Size\n",
            "  0% 0/5 [00:00<?, ?it/s]/content/yolov5/train.py:412: FutureWarning: `torch.cuda.amp.autocast(args...)` is deprecated. Please use `torch.amp.autocast('cuda', args...)` instead.\n",
            "  with torch.cuda.amp.autocast(amp):\n",
            "       6/29      4.64G    0.05168    0.01684    0.02726         50        640:  20% 1/5 [00:00<00:00,  4.45it/s]/content/yolov5/train.py:412: FutureWarning: `torch.cuda.amp.autocast(args...)` is deprecated. Please use `torch.amp.autocast('cuda', args...)` instead.\n",
            "  with torch.cuda.amp.autocast(amp):\n",
            "       6/29      4.64G    0.03495    0.01724    0.02106         49        640:  40% 2/5 [00:00<00:00,  4.84it/s]/content/yolov5/train.py:412: FutureWarning: `torch.cuda.amp.autocast(args...)` is deprecated. Please use `torch.amp.autocast('cuda', args...)` instead.\n",
            "  with torch.cuda.amp.autocast(amp):\n",
            "       6/29      4.64G    0.02952    0.01609    0.01907         41        640:  60% 3/5 [00:00<00:00,  4.27it/s]/content/yolov5/train.py:412: FutureWarning: `torch.cuda.amp.autocast(args...)` is deprecated. Please use `torch.amp.autocast('cuda', args...)` instead.\n",
            "  with torch.cuda.amp.autocast(amp):\n",
            "       6/29      4.64G    0.02773    0.01634    0.01865         49        640:  80% 4/5 [00:00<00:00,  4.56it/s]/content/yolov5/train.py:412: FutureWarning: `torch.cuda.amp.autocast(args...)` is deprecated. Please use `torch.amp.autocast('cuda', args...)` instead.\n",
            "  with torch.cuda.amp.autocast(amp):\n",
            "       6/29      4.64G    0.02686    0.01587    0.01813         31        640: 100% 5/5 [00:01<00:00,  4.38it/s]\n",
            "                 Class     Images  Instances          P          R      mAP50   mAP50-95: 100% 3/3 [00:00<00:00,  3.17it/s]\n",
            "                   all         74         85      0.596      0.649      0.612      0.383\n",
            "\n",
            "      Epoch    GPU_mem   box_loss   obj_loss   cls_loss  Instances       Size\n",
            "  0% 0/5 [00:00<?, ?it/s]/content/yolov5/train.py:412: FutureWarning: `torch.cuda.amp.autocast(args...)` is deprecated. Please use `torch.amp.autocast('cuda', args...)` instead.\n",
            "  with torch.cuda.amp.autocast(amp):\n",
            "       7/29      4.64G    0.04541    0.01653    0.02167         46        640:  20% 1/5 [00:00<00:01,  3.60it/s]/content/yolov5/train.py:412: FutureWarning: `torch.cuda.amp.autocast(args...)` is deprecated. Please use `torch.amp.autocast('cuda', args...)` instead.\n",
            "  with torch.cuda.amp.autocast(amp):\n",
            "       7/29      4.64G    0.03394    0.01642    0.02001         50        640:  40% 2/5 [00:00<00:00,  3.70it/s]/content/yolov5/train.py:412: FutureWarning: `torch.cuda.amp.autocast(args...)` is deprecated. Please use `torch.amp.autocast('cuda', args...)` instead.\n",
            "  with torch.cuda.amp.autocast(amp):\n",
            "       7/29      4.64G    0.02969    0.01616    0.01932         39        640:  60% 3/5 [00:00<00:00,  3.92it/s]/content/yolov5/train.py:412: FutureWarning: `torch.cuda.amp.autocast(args...)` is deprecated. Please use `torch.amp.autocast('cuda', args...)` instead.\n",
            "  with torch.cuda.amp.autocast(amp):\n",
            "       7/29      4.64G    0.02743    0.01687    0.01816         52        640:  80% 4/5 [00:01<00:00,  3.57it/s]/content/yolov5/train.py:412: FutureWarning: `torch.cuda.amp.autocast(args...)` is deprecated. Please use `torch.amp.autocast('cuda', args...)` instead.\n",
            "  with torch.cuda.amp.autocast(amp):\n",
            "       7/29      4.64G    0.02725    0.01713    0.01785         33        640: 100% 5/5 [00:01<00:00,  3.79it/s]\n",
            "                 Class     Images  Instances          P          R      mAP50   mAP50-95: 100% 3/3 [00:01<00:00,  1.81it/s]\n",
            "                   all         74         85      0.562      0.675      0.613      0.381\n",
            "\n",
            "      Epoch    GPU_mem   box_loss   obj_loss   cls_loss  Instances       Size\n",
            "  0% 0/5 [00:00<?, ?it/s]/content/yolov5/train.py:412: FutureWarning: `torch.cuda.amp.autocast(args...)` is deprecated. Please use `torch.amp.autocast('cuda', args...)` instead.\n",
            "  with torch.cuda.amp.autocast(amp):\n",
            "       8/29      4.64G    0.02107    0.01536    0.01658         40        640:  20% 1/5 [00:00<00:01,  3.52it/s]/content/yolov5/train.py:412: FutureWarning: `torch.cuda.amp.autocast(args...)` is deprecated. Please use `torch.amp.autocast('cuda', args...)` instead.\n",
            "  with torch.cuda.amp.autocast(amp):\n",
            "       8/29      4.64G    0.01996    0.01437    0.01528         40        640:  40% 2/5 [00:00<00:00,  3.82it/s]/content/yolov5/train.py:412: FutureWarning: `torch.cuda.amp.autocast(args...)` is deprecated. Please use `torch.amp.autocast('cuda', args...)` instead.\n",
            "  with torch.cuda.amp.autocast(amp):\n",
            "       8/29      4.64G    0.02812    0.01588    0.02001         52        640:  60% 3/5 [00:00<00:00,  3.34it/s]/content/yolov5/train.py:412: FutureWarning: `torch.cuda.amp.autocast(args...)` is deprecated. Please use `torch.amp.autocast('cuda', args...)` instead.\n",
            "  with torch.cuda.amp.autocast(amp):\n",
            "       8/29      4.64G    0.02763    0.01603    0.01919         48        640:  80% 4/5 [00:01<00:00,  3.52it/s]/content/yolov5/train.py:412: FutureWarning: `torch.cuda.amp.autocast(args...)` is deprecated. Please use `torch.amp.autocast('cuda', args...)` instead.\n",
            "  with torch.cuda.amp.autocast(amp):\n",
            "       8/29      4.64G    0.02754    0.01517    0.01825         26        640: 100% 5/5 [00:01<00:00,  3.35it/s]\n",
            "                 Class     Images  Instances          P          R      mAP50   mAP50-95: 100% 3/3 [00:01<00:00,  1.79it/s]\n",
            "                   all         74         85      0.648      0.659      0.652      0.412\n",
            "\n",
            "      Epoch    GPU_mem   box_loss   obj_loss   cls_loss  Instances       Size\n",
            "  0% 0/5 [00:00<?, ?it/s]/content/yolov5/train.py:412: FutureWarning: `torch.cuda.amp.autocast(args...)` is deprecated. Please use `torch.amp.autocast('cuda', args...)` instead.\n",
            "  with torch.cuda.amp.autocast(amp):\n",
            "       9/29      4.64G    0.01976    0.01691    0.01646         46        640:  20% 1/5 [00:00<00:00,  4.95it/s]/content/yolov5/train.py:412: FutureWarning: `torch.cuda.amp.autocast(args...)` is deprecated. Please use `torch.amp.autocast('cuda', args...)` instead.\n",
            "  with torch.cuda.amp.autocast(amp):\n",
            "       9/29      4.64G    0.02076    0.01821    0.01559         58        640:  40% 2/5 [00:00<00:00,  4.51it/s]/content/yolov5/train.py:412: FutureWarning: `torch.cuda.amp.autocast(args...)` is deprecated. Please use `torch.amp.autocast('cuda', args...)` instead.\n",
            "  with torch.cuda.amp.autocast(amp):\n",
            "       9/29      4.64G    0.02096    0.01758    0.01702         46        640:  60% 3/5 [00:00<00:00,  4.67it/s]/content/yolov5/train.py:412: FutureWarning: `torch.cuda.amp.autocast(args...)` is deprecated. Please use `torch.amp.autocast('cuda', args...)` instead.\n",
            "  with torch.cuda.amp.autocast(amp):\n",
            "       9/29      4.64G     0.0208    0.01784     0.0162         53        640:  80% 4/5 [00:00<00:00,  4.65it/s]/content/yolov5/train.py:412: FutureWarning: `torch.cuda.amp.autocast(args...)` is deprecated. Please use `torch.amp.autocast('cuda', args...)` instead.\n",
            "  with torch.cuda.amp.autocast(amp):\n",
            "       9/29      4.64G    0.02152    0.01854    0.01654         37        640: 100% 5/5 [00:01<00:00,  4.87it/s]\n",
            "                 Class     Images  Instances          P          R      mAP50   mAP50-95: 100% 3/3 [00:00<00:00,  3.19it/s]\n",
            "                   all         74         85      0.656      0.656      0.669      0.398\n",
            "\n",
            "      Epoch    GPU_mem   box_loss   obj_loss   cls_loss  Instances       Size\n",
            "  0% 0/5 [00:00<?, ?it/s]/content/yolov5/train.py:412: FutureWarning: `torch.cuda.amp.autocast(args...)` is deprecated. Please use `torch.amp.autocast('cuda', args...)` instead.\n",
            "  with torch.cuda.amp.autocast(amp):\n",
            "      10/29      4.64G    0.02179     0.0139    0.01353         39        640:  20% 1/5 [00:00<00:00,  4.48it/s]/content/yolov5/train.py:412: FutureWarning: `torch.cuda.amp.autocast(args...)` is deprecated. Please use `torch.amp.autocast('cuda', args...)` instead.\n",
            "  with torch.cuda.amp.autocast(amp):\n",
            "      10/29      4.64G    0.02132    0.01473    0.01437         45        640:  40% 2/5 [00:00<00:00,  4.73it/s]/content/yolov5/train.py:412: FutureWarning: `torch.cuda.amp.autocast(args...)` is deprecated. Please use `torch.amp.autocast('cuda', args...)` instead.\n",
            "  with torch.cuda.amp.autocast(amp):\n",
            "      10/29      4.64G    0.02149    0.01475    0.01397         46        640:  60% 3/5 [00:00<00:00,  4.68it/s]/content/yolov5/train.py:412: FutureWarning: `torch.cuda.amp.autocast(args...)` is deprecated. Please use `torch.amp.autocast('cuda', args...)` instead.\n",
            "  with torch.cuda.amp.autocast(amp):\n",
            "      10/29      4.64G    0.02153    0.01463    0.01443         41        640:  80% 4/5 [00:00<00:00,  4.16it/s]/content/yolov5/train.py:412: FutureWarning: `torch.cuda.amp.autocast(args...)` is deprecated. Please use `torch.amp.autocast('cuda', args...)` instead.\n",
            "  with torch.cuda.amp.autocast(amp):\n",
            "      10/29      4.64G    0.02765    0.01633    0.01786         39        640: 100% 5/5 [00:01<00:00,  4.41it/s]\n",
            "                 Class     Images  Instances          P          R      mAP50   mAP50-95: 100% 3/3 [00:00<00:00,  3.63it/s]\n",
            "                   all         74         85      0.371      0.646      0.465      0.285\n",
            "\n",
            "      Epoch    GPU_mem   box_loss   obj_loss   cls_loss  Instances       Size\n",
            "  0% 0/5 [00:00<?, ?it/s]/content/yolov5/train.py:412: FutureWarning: `torch.cuda.amp.autocast(args...)` is deprecated. Please use `torch.amp.autocast('cuda', args...)` instead.\n",
            "  with torch.cuda.amp.autocast(amp):\n",
            "      11/29      4.64G    0.02868    0.01734    0.01798         52        640:  20% 1/5 [00:00<00:00,  4.87it/s]/content/yolov5/train.py:412: FutureWarning: `torch.cuda.amp.autocast(args...)` is deprecated. Please use `torch.amp.autocast('cuda', args...)` instead.\n",
            "  with torch.cuda.amp.autocast(amp):\n",
            "      11/29      4.64G    0.03047    0.01611     0.0182         43        640:  40% 2/5 [00:00<00:00,  4.38it/s]/content/yolov5/train.py:412: FutureWarning: `torch.cuda.amp.autocast(args...)` is deprecated. Please use `torch.amp.autocast('cuda', args...)` instead.\n",
            "  with torch.cuda.amp.autocast(amp):\n",
            "      11/29      4.64G    0.02755    0.01692    0.01752         49        640:  60% 3/5 [00:00<00:00,  4.44it/s]/content/yolov5/train.py:412: FutureWarning: `torch.cuda.amp.autocast(args...)` is deprecated. Please use `torch.amp.autocast('cuda', args...)` instead.\n",
            "  with torch.cuda.amp.autocast(amp):\n",
            "      11/29      4.64G    0.02624    0.01643    0.01693         44        640:  80% 4/5 [00:00<00:00,  4.46it/s]/content/yolov5/train.py:412: FutureWarning: `torch.cuda.amp.autocast(args...)` is deprecated. Please use `torch.amp.autocast('cuda', args...)` instead.\n",
            "  with torch.cuda.amp.autocast(amp):\n",
            "      11/29      4.64G    0.02566    0.01685    0.01639         36        640: 100% 5/5 [00:01<00:00,  4.51it/s]\n",
            "                 Class     Images  Instances          P          R      mAP50   mAP50-95: 100% 3/3 [00:00<00:00,  3.33it/s]\n",
            "                   all         74         85      0.444      0.614      0.484      0.286\n",
            "\n",
            "      Epoch    GPU_mem   box_loss   obj_loss   cls_loss  Instances       Size\n",
            "  0% 0/5 [00:00<?, ?it/s]/content/yolov5/train.py:412: FutureWarning: `torch.cuda.amp.autocast(args...)` is deprecated. Please use `torch.amp.autocast('cuda', args...)` instead.\n",
            "  with torch.cuda.amp.autocast(amp):\n",
            "      12/29      4.64G    0.02763    0.01716    0.01423         52        640:  20% 1/5 [00:00<00:00,  5.13it/s]/content/yolov5/train.py:412: FutureWarning: `torch.cuda.amp.autocast(args...)` is deprecated. Please use `torch.amp.autocast('cuda', args...)` instead.\n",
            "  with torch.cuda.amp.autocast(amp):\n",
            "      12/29      4.64G    0.02687    0.01672    0.01621         48        640:  40% 2/5 [00:00<00:00,  4.84it/s]/content/yolov5/train.py:412: FutureWarning: `torch.cuda.amp.autocast(args...)` is deprecated. Please use `torch.amp.autocast('cuda', args...)` instead.\n",
            "  with torch.cuda.amp.autocast(amp):\n",
            "      12/29      4.64G    0.02723    0.01682    0.01607         46        640:  60% 3/5 [00:00<00:00,  4.31it/s]/content/yolov5/train.py:412: FutureWarning: `torch.cuda.amp.autocast(args...)` is deprecated. Please use `torch.amp.autocast('cuda', args...)` instead.\n",
            "  with torch.cuda.amp.autocast(amp):\n",
            "      12/29      4.64G    0.02786    0.01658     0.0154         48        640:  80% 4/5 [00:00<00:00,  4.50it/s]/content/yolov5/train.py:412: FutureWarning: `torch.cuda.amp.autocast(args...)` is deprecated. Please use `torch.amp.autocast('cuda', args...)` instead.\n",
            "  with torch.cuda.amp.autocast(amp):\n",
            "      12/29      4.64G    0.02825    0.01652    0.01505         35        640: 100% 5/5 [00:01<00:00,  4.64it/s]\n",
            "                 Class     Images  Instances          P          R      mAP50   mAP50-95: 100% 3/3 [00:00<00:00,  3.45it/s]\n",
            "                   all         74         85      0.573      0.638      0.622      0.366\n",
            "\n",
            "      Epoch    GPU_mem   box_loss   obj_loss   cls_loss  Instances       Size\n",
            "  0% 0/5 [00:00<?, ?it/s]/content/yolov5/train.py:412: FutureWarning: `torch.cuda.amp.autocast(args...)` is deprecated. Please use `torch.amp.autocast('cuda', args...)` instead.\n",
            "  with torch.cuda.amp.autocast(amp):\n",
            "      13/29      4.64G    0.02968    0.01849    0.01414         57        640:  20% 1/5 [00:00<00:01,  3.98it/s]/content/yolov5/train.py:412: FutureWarning: `torch.cuda.amp.autocast(args...)` is deprecated. Please use `torch.amp.autocast('cuda', args...)` instead.\n",
            "  with torch.cuda.amp.autocast(amp):\n",
            "      13/29      4.64G    0.02798    0.01689    0.01439         51        640:  40% 2/5 [00:00<00:00,  4.22it/s]/content/yolov5/train.py:412: FutureWarning: `torch.cuda.amp.autocast(args...)` is deprecated. Please use `torch.amp.autocast('cuda', args...)` instead.\n",
            "  with torch.cuda.amp.autocast(amp):\n",
            "      13/29      4.64G    0.02716    0.01688    0.01373         47        640:  60% 3/5 [00:00<00:00,  3.85it/s]/content/yolov5/train.py:412: FutureWarning: `torch.cuda.amp.autocast(args...)` is deprecated. Please use `torch.amp.autocast('cuda', args...)` instead.\n",
            "  with torch.cuda.amp.autocast(amp):\n",
            "      13/29      4.64G    0.03408    0.01655    0.01816         49        640:  80% 4/5 [00:01<00:00,  3.43it/s]/content/yolov5/train.py:412: FutureWarning: `torch.cuda.amp.autocast(args...)` is deprecated. Please use `torch.amp.autocast('cuda', args...)` instead.\n",
            "  with torch.cuda.amp.autocast(amp):\n",
            "      13/29      4.64G    0.03172    0.01562    0.01764         27        640: 100% 5/5 [00:01<00:00,  3.67it/s]\n",
            "                 Class     Images  Instances          P          R      mAP50   mAP50-95: 100% 3/3 [00:01<00:00,  1.93it/s]\n",
            "                   all         74         85      0.612      0.671      0.651      0.402\n",
            "\n",
            "      Epoch    GPU_mem   box_loss   obj_loss   cls_loss  Instances       Size\n",
            "  0% 0/5 [00:00<?, ?it/s]/content/yolov5/train.py:412: FutureWarning: `torch.cuda.amp.autocast(args...)` is deprecated. Please use `torch.amp.autocast('cuda', args...)` instead.\n",
            "  with torch.cuda.amp.autocast(amp):\n",
            "      14/29      4.64G    0.02346      0.018    0.01581         53        640:  20% 1/5 [00:00<00:00,  4.23it/s]/content/yolov5/train.py:412: FutureWarning: `torch.cuda.amp.autocast(args...)` is deprecated. Please use `torch.amp.autocast('cuda', args...)` instead.\n",
            "  with torch.cuda.amp.autocast(amp):\n",
            "      14/29      4.64G    0.03246    0.01841    0.02479         55        640:  40% 2/5 [00:00<00:00,  3.30it/s]/content/yolov5/train.py:412: FutureWarning: `torch.cuda.amp.autocast(args...)` is deprecated. Please use `torch.amp.autocast('cuda', args...)` instead.\n",
            "  with torch.cuda.amp.autocast(amp):\n",
            "      14/29      4.64G    0.02868    0.01833    0.02113         47        640:  60% 3/5 [00:00<00:00,  3.59it/s]/content/yolov5/train.py:412: FutureWarning: `torch.cuda.amp.autocast(args...)` is deprecated. Please use `torch.amp.autocast('cuda', args...)` instead.\n",
            "  with torch.cuda.amp.autocast(amp):\n",
            "      14/29      4.64G    0.02662    0.01728    0.01949         46        640:  80% 4/5 [00:01<00:00,  3.67it/s]/content/yolov5/train.py:412: FutureWarning: `torch.cuda.amp.autocast(args...)` is deprecated. Please use `torch.amp.autocast('cuda', args...)` instead.\n",
            "  with torch.cuda.amp.autocast(amp):\n",
            "      14/29      4.64G    0.02566    0.01656    0.01836         28        640: 100% 5/5 [00:01<00:00,  3.44it/s]\n",
            "                 Class     Images  Instances          P          R      mAP50   mAP50-95: 100% 3/3 [00:01<00:00,  1.82it/s]\n",
            "                   all         74         85      0.637      0.633      0.644       0.39\n",
            "\n",
            "      Epoch    GPU_mem   box_loss   obj_loss   cls_loss  Instances       Size\n",
            "  0% 0/5 [00:00<?, ?it/s]/content/yolov5/train.py:412: FutureWarning: `torch.cuda.amp.autocast(args...)` is deprecated. Please use `torch.amp.autocast('cuda', args...)` instead.\n",
            "  with torch.cuda.amp.autocast(amp):\n",
            "      15/29      4.64G    0.05398    0.01936    0.02119         53        640:  20% 1/5 [00:00<00:01,  3.91it/s]/content/yolov5/train.py:412: FutureWarning: `torch.cuda.amp.autocast(args...)` is deprecated. Please use `torch.amp.autocast('cuda', args...)` instead.\n",
            "  with torch.cuda.amp.autocast(amp):\n",
            "      15/29      4.64G    0.04261    0.01874    0.01761         51        640:  40% 2/5 [00:00<00:00,  4.19it/s]/content/yolov5/train.py:412: FutureWarning: `torch.cuda.amp.autocast(args...)` is deprecated. Please use `torch.amp.autocast('cuda', args...)` instead.\n",
            "  with torch.cuda.amp.autocast(amp):\n",
            "      15/29      4.64G    0.03743    0.01852    0.01604         53        640:  60% 3/5 [00:00<00:00,  3.56it/s]/content/yolov5/train.py:412: FutureWarning: `torch.cuda.amp.autocast(args...)` is deprecated. Please use `torch.amp.autocast('cuda', args...)` instead.\n",
            "  with torch.cuda.amp.autocast(amp):\n",
            "      15/29      4.64G    0.03515    0.01785    0.01593         50        640:  80% 4/5 [00:01<00:00,  3.62it/s]/content/yolov5/train.py:412: FutureWarning: `torch.cuda.amp.autocast(args...)` is deprecated. Please use `torch.amp.autocast('cuda', args...)` instead.\n",
            "  with torch.cuda.amp.autocast(amp):\n",
            "      15/29      4.64G    0.03293    0.01844    0.01515         35        640: 100% 5/5 [00:01<00:00,  3.63it/s]\n",
            "                 Class     Images  Instances          P          R      mAP50   mAP50-95: 100% 3/3 [00:01<00:00,  2.84it/s]\n",
            "                   all         74         85      0.631      0.632      0.615      0.345\n",
            "\n",
            "      Epoch    GPU_mem   box_loss   obj_loss   cls_loss  Instances       Size\n",
            "  0% 0/5 [00:00<?, ?it/s]/content/yolov5/train.py:412: FutureWarning: `torch.cuda.amp.autocast(args...)` is deprecated. Please use `torch.amp.autocast('cuda', args...)` instead.\n",
            "  with torch.cuda.amp.autocast(amp):\n",
            "      16/29      4.64G    0.05432    0.01551    0.02003         44        640:  20% 1/5 [00:00<00:00,  4.34it/s]/content/yolov5/train.py:412: FutureWarning: `torch.cuda.amp.autocast(args...)` is deprecated. Please use `torch.amp.autocast('cuda', args...)` instead.\n",
            "  with torch.cuda.amp.autocast(amp):\n",
            "      16/29      4.64G    0.04471    0.01689     0.0273         53        640:  40% 2/5 [00:00<00:00,  4.59it/s]/content/yolov5/train.py:412: FutureWarning: `torch.cuda.amp.autocast(args...)` is deprecated. Please use `torch.amp.autocast('cuda', args...)` instead.\n",
            "  with torch.cuda.amp.autocast(amp):\n",
            "      16/29      4.64G     0.0376    0.01657    0.02284         49        640:  60% 3/5 [00:00<00:00,  4.44it/s]/content/yolov5/train.py:412: FutureWarning: `torch.cuda.amp.autocast(args...)` is deprecated. Please use `torch.amp.autocast('cuda', args...)` instead.\n",
            "  with torch.cuda.amp.autocast(amp):\n",
            "      16/29      4.64G    0.03411    0.01576    0.02075         42        640:  80% 4/5 [00:00<00:00,  4.01it/s]/content/yolov5/train.py:412: FutureWarning: `torch.cuda.amp.autocast(args...)` is deprecated. Please use `torch.amp.autocast('cuda', args...)` instead.\n",
            "  with torch.cuda.amp.autocast(amp):\n",
            "      16/29      4.64G    0.03204    0.01522    0.01908         25        640: 100% 5/5 [00:01<00:00,  4.23it/s]\n",
            "                 Class     Images  Instances          P          R      mAP50   mAP50-95: 100% 3/3 [00:00<00:00,  3.72it/s]\n",
            "                   all         74         85      0.576      0.643      0.624      0.378\n",
            "\n",
            "      Epoch    GPU_mem   box_loss   obj_loss   cls_loss  Instances       Size\n",
            "  0% 0/5 [00:00<?, ?it/s]/content/yolov5/train.py:412: FutureWarning: `torch.cuda.amp.autocast(args...)` is deprecated. Please use `torch.amp.autocast('cuda', args...)` instead.\n",
            "  with torch.cuda.amp.autocast(amp):\n",
            "      17/29      4.64G    0.05155    0.01775    0.02134         54        640:  20% 1/5 [00:00<00:00,  4.96it/s]/content/yolov5/train.py:412: FutureWarning: `torch.cuda.amp.autocast(args...)` is deprecated. Please use `torch.amp.autocast('cuda', args...)` instead.\n",
            "  with torch.cuda.amp.autocast(amp):\n",
            "      17/29      4.64G    0.03818     0.0167    0.01636         47        640:  40% 2/5 [00:00<00:00,  4.90it/s]/content/yolov5/train.py:412: FutureWarning: `torch.cuda.amp.autocast(args...)` is deprecated. Please use `torch.amp.autocast('cuda', args...)` instead.\n",
            "  with torch.cuda.amp.autocast(amp):\n",
            "      17/29      4.64G    0.03439    0.01688    0.01517         51        640:  60% 3/5 [00:00<00:00,  4.26it/s]/content/yolov5/train.py:412: FutureWarning: `torch.cuda.amp.autocast(args...)` is deprecated. Please use `torch.amp.autocast('cuda', args...)` instead.\n",
            "  with torch.cuda.amp.autocast(amp):\n",
            "      17/29      4.64G    0.03126    0.01686    0.01481         50        640:  80% 4/5 [00:00<00:00,  4.42it/s]/content/yolov5/train.py:412: FutureWarning: `torch.cuda.amp.autocast(args...)` is deprecated. Please use `torch.amp.autocast('cuda', args...)` instead.\n",
            "  with torch.cuda.amp.autocast(amp):\n",
            "      17/29      4.64G    0.03029    0.01714    0.01577         29        640: 100% 5/5 [00:01<00:00,  4.55it/s]\n",
            "                 Class     Images  Instances          P          R      mAP50   mAP50-95: 100% 3/3 [00:00<00:00,  3.33it/s]\n",
            "                   all         74         85       0.61      0.712       0.69      0.435\n",
            "\n",
            "      Epoch    GPU_mem   box_loss   obj_loss   cls_loss  Instances       Size\n",
            "  0% 0/5 [00:00<?, ?it/s]/content/yolov5/train.py:412: FutureWarning: `torch.cuda.amp.autocast(args...)` is deprecated. Please use `torch.amp.autocast('cuda', args...)` instead.\n",
            "  with torch.cuda.amp.autocast(amp):\n",
            "      18/29      4.64G    0.02332    0.01553    0.01586         49        640:  20% 1/5 [00:00<00:00,  5.14it/s]/content/yolov5/train.py:412: FutureWarning: `torch.cuda.amp.autocast(args...)` is deprecated. Please use `torch.amp.autocast('cuda', args...)` instead.\n",
            "  with torch.cuda.amp.autocast(amp):\n",
            "      18/29      4.64G    0.02303    0.01511    0.01553         45        640:  40% 2/5 [00:00<00:00,  4.51it/s]/content/yolov5/train.py:412: FutureWarning: `torch.cuda.amp.autocast(args...)` is deprecated. Please use `torch.amp.autocast('cuda', args...)` instead.\n",
            "  with torch.cuda.amp.autocast(amp):\n",
            "      18/29      4.64G    0.02395    0.01538    0.01563         43        640:  60% 3/5 [00:00<00:00,  4.60it/s]/content/yolov5/train.py:412: FutureWarning: `torch.cuda.amp.autocast(args...)` is deprecated. Please use `torch.amp.autocast('cuda', args...)` instead.\n",
            "  with torch.cuda.amp.autocast(amp):\n",
            "      18/29      4.64G    0.02398    0.01587    0.01501         48        640:  80% 4/5 [00:00<00:00,  4.62it/s]/content/yolov5/train.py:412: FutureWarning: `torch.cuda.amp.autocast(args...)` is deprecated. Please use `torch.amp.autocast('cuda', args...)` instead.\n",
            "  with torch.cuda.amp.autocast(amp):\n",
            "      18/29      4.64G    0.02423    0.01537    0.01513         27        640: 100% 5/5 [00:01<00:00,  4.84it/s]\n",
            "                 Class     Images  Instances          P          R      mAP50   mAP50-95: 100% 3/3 [00:00<00:00,  3.32it/s]\n",
            "                   all         74         85      0.586      0.681       0.63      0.398\n",
            "\n",
            "      Epoch    GPU_mem   box_loss   obj_loss   cls_loss  Instances       Size\n",
            "  0% 0/5 [00:00<?, ?it/s]/content/yolov5/train.py:412: FutureWarning: `torch.cuda.amp.autocast(args...)` is deprecated. Please use `torch.amp.autocast('cuda', args...)` instead.\n",
            "  with torch.cuda.amp.autocast(amp):\n",
            "      19/29      4.64G    0.02328    0.01354    0.01063         39        640:  20% 1/5 [00:00<00:00,  4.34it/s]/content/yolov5/train.py:412: FutureWarning: `torch.cuda.amp.autocast(args...)` is deprecated. Please use `torch.amp.autocast('cuda', args...)` instead.\n",
            "  with torch.cuda.amp.autocast(amp):\n",
            "      19/29      4.64G    0.02574    0.01424    0.01174         47        640:  40% 2/5 [00:00<00:00,  4.44it/s]/content/yolov5/train.py:412: FutureWarning: `torch.cuda.amp.autocast(args...)` is deprecated. Please use `torch.amp.autocast('cuda', args...)` instead.\n",
            "  with torch.cuda.amp.autocast(amp):\n",
            "      19/29      4.64G    0.03818    0.01604    0.01845         56        640:  60% 3/5 [00:00<00:00,  4.26it/s]/content/yolov5/train.py:412: FutureWarning: `torch.cuda.amp.autocast(args...)` is deprecated. Please use `torch.amp.autocast('cuda', args...)` instead.\n",
            "  with torch.cuda.amp.autocast(amp):\n",
            "      19/29      4.64G     0.0366     0.0155    0.01843         44        640:  80% 4/5 [00:00<00:00,  4.14it/s]/content/yolov5/train.py:412: FutureWarning: `torch.cuda.amp.autocast(args...)` is deprecated. Please use `torch.amp.autocast('cuda', args...)` instead.\n",
            "  with torch.cuda.amp.autocast(amp):\n",
            "      19/29      4.64G    0.03333    0.01566    0.01765         35        640: 100% 5/5 [00:01<00:00,  4.23it/s]\n",
            "                 Class     Images  Instances          P          R      mAP50   mAP50-95: 100% 3/3 [00:01<00:00,  2.69it/s]\n",
            "                   all         74         85      0.646      0.711      0.695      0.445\n",
            "\n",
            "      Epoch    GPU_mem   box_loss   obj_loss   cls_loss  Instances       Size\n",
            "  0% 0/5 [00:00<?, ?it/s]/content/yolov5/train.py:412: FutureWarning: `torch.cuda.amp.autocast(args...)` is deprecated. Please use `torch.amp.autocast('cuda', args...)` instead.\n",
            "  with torch.cuda.amp.autocast(amp):\n",
            "      20/29      4.64G    0.01979    0.01613    0.01093         52        640:  20% 1/5 [00:00<00:00,  4.26it/s]/content/yolov5/train.py:412: FutureWarning: `torch.cuda.amp.autocast(args...)` is deprecated. Please use `torch.amp.autocast('cuda', args...)` instead.\n",
            "  with torch.cuda.amp.autocast(amp):\n",
            "      20/29      4.64G    0.02867    0.01699    0.01345         50        640:  40% 2/5 [00:00<00:00,  3.96it/s]/content/yolov5/train.py:412: FutureWarning: `torch.cuda.amp.autocast(args...)` is deprecated. Please use `torch.amp.autocast('cuda', args...)` instead.\n",
            "  with torch.cuda.amp.autocast(amp):\n",
            "      20/29      4.64G    0.02657    0.01778    0.01457         50        640:  60% 3/5 [00:00<00:00,  3.99it/s]/content/yolov5/train.py:412: FutureWarning: `torch.cuda.amp.autocast(args...)` is deprecated. Please use `torch.amp.autocast('cuda', args...)` instead.\n",
            "  with torch.cuda.amp.autocast(amp):\n",
            "      20/29      4.64G    0.02625    0.01806    0.01475         56        640:  80% 4/5 [00:01<00:00,  3.65it/s]/content/yolov5/train.py:412: FutureWarning: `torch.cuda.amp.autocast(args...)` is deprecated. Please use `torch.amp.autocast('cuda', args...)` instead.\n",
            "  with torch.cuda.amp.autocast(amp):\n",
            "      20/29      4.64G    0.02576    0.01782    0.01464         34        640: 100% 5/5 [00:01<00:00,  3.82it/s]\n",
            "                 Class     Images  Instances          P          R      mAP50   mAP50-95: 100% 3/3 [00:01<00:00,  1.67it/s]\n",
            "                   all         74         85       0.49      0.696      0.584       0.37\n",
            "\n",
            "      Epoch    GPU_mem   box_loss   obj_loss   cls_loss  Instances       Size\n",
            "  0% 0/5 [00:00<?, ?it/s]/content/yolov5/train.py:412: FutureWarning: `torch.cuda.amp.autocast(args...)` is deprecated. Please use `torch.amp.autocast('cuda', args...)` instead.\n",
            "  with torch.cuda.amp.autocast(amp):\n",
            "      21/29      4.64G    0.02556    0.01567    0.01245         49        640:  20% 1/5 [00:00<00:00,  4.50it/s]/content/yolov5/train.py:412: FutureWarning: `torch.cuda.amp.autocast(args...)` is deprecated. Please use `torch.amp.autocast('cuda', args...)` instead.\n",
            "  with torch.cuda.amp.autocast(amp):\n",
            "      21/29      4.64G    0.02639    0.01462    0.01424         41        640:  40% 2/5 [00:00<00:00,  4.20it/s]/content/yolov5/train.py:412: FutureWarning: `torch.cuda.amp.autocast(args...)` is deprecated. Please use `torch.amp.autocast('cuda', args...)` instead.\n",
            "  with torch.cuda.amp.autocast(amp):\n",
            "      21/29      4.64G    0.03618    0.01498    0.01476         49        640:  60% 3/5 [00:00<00:00,  3.28it/s]/content/yolov5/train.py:412: FutureWarning: `torch.cuda.amp.autocast(args...)` is deprecated. Please use `torch.amp.autocast('cuda', args...)` instead.\n",
            "  with torch.cuda.amp.autocast(amp):\n",
            "      21/29      4.64G    0.03956    0.01664    0.01441         58        640:  80% 4/5 [00:01<00:00,  3.37it/s]/content/yolov5/train.py:412: FutureWarning: `torch.cuda.amp.autocast(args...)` is deprecated. Please use `torch.amp.autocast('cuda', args...)` instead.\n",
            "  with torch.cuda.amp.autocast(amp):\n",
            "      21/29      4.64G    0.03582    0.01616     0.0142         28        640: 100% 5/5 [00:01<00:00,  3.62it/s]\n",
            "                 Class     Images  Instances          P          R      mAP50   mAP50-95: 100% 3/3 [00:01<00:00,  1.63it/s]\n",
            "                   all         74         85      0.624      0.736      0.701       0.43\n",
            "\n",
            "      Epoch    GPU_mem   box_loss   obj_loss   cls_loss  Instances       Size\n",
            "  0% 0/5 [00:00<?, ?it/s]/content/yolov5/train.py:412: FutureWarning: `torch.cuda.amp.autocast(args...)` is deprecated. Please use `torch.amp.autocast('cuda', args...)` instead.\n",
            "  with torch.cuda.amp.autocast(amp):\n",
            "      22/29      4.64G    0.02818    0.01636    0.01305         49        640:  20% 1/5 [00:00<00:00,  4.40it/s]/content/yolov5/train.py:412: FutureWarning: `torch.cuda.amp.autocast(args...)` is deprecated. Please use `torch.amp.autocast('cuda', args...)` instead.\n",
            "  with torch.cuda.amp.autocast(amp):\n",
            "      22/29      4.64G    0.02627    0.01626    0.01241         47        640:  40% 2/5 [00:00<00:00,  4.46it/s]/content/yolov5/train.py:412: FutureWarning: `torch.cuda.amp.autocast(args...)` is deprecated. Please use `torch.amp.autocast('cuda', args...)` instead.\n",
            "  with torch.cuda.amp.autocast(amp):\n",
            "      22/29      4.64G    0.02497    0.01656    0.01248         50        640:  60% 3/5 [00:00<00:00,  4.52it/s]/content/yolov5/train.py:412: FutureWarning: `torch.cuda.amp.autocast(args...)` is deprecated. Please use `torch.amp.autocast('cuda', args...)` instead.\n",
            "  with torch.cuda.amp.autocast(amp):\n",
            "      22/29      4.64G    0.02513    0.01633    0.01374         47        640:  80% 4/5 [00:00<00:00,  4.57it/s]/content/yolov5/train.py:412: FutureWarning: `torch.cuda.amp.autocast(args...)` is deprecated. Please use `torch.amp.autocast('cuda', args...)` instead.\n",
            "  with torch.cuda.amp.autocast(amp):\n",
            "      22/29      4.64G    0.02494    0.01626    0.01431         35        640: 100% 5/5 [00:01<00:00,  4.65it/s]\n",
            "                 Class     Images  Instances          P          R      mAP50   mAP50-95: 100% 3/3 [00:00<00:00,  3.32it/s]\n",
            "                   all         74         85       0.66      0.751      0.726      0.473\n",
            "\n",
            "      Epoch    GPU_mem   box_loss   obj_loss   cls_loss  Instances       Size\n",
            "  0% 0/5 [00:00<?, ?it/s]/content/yolov5/train.py:412: FutureWarning: `torch.cuda.amp.autocast(args...)` is deprecated. Please use `torch.amp.autocast('cuda', args...)` instead.\n",
            "  with torch.cuda.amp.autocast(amp):\n",
            "      23/29      4.64G    0.02405    0.01864    0.01042         58        640:  20% 1/5 [00:00<00:00,  4.44it/s]/content/yolov5/train.py:412: FutureWarning: `torch.cuda.amp.autocast(args...)` is deprecated. Please use `torch.amp.autocast('cuda', args...)` instead.\n",
            "  with torch.cuda.amp.autocast(amp):\n",
            "      23/29      4.64G     0.0242    0.01656    0.01177         40        640:  40% 2/5 [00:00<00:00,  4.71it/s]/content/yolov5/train.py:412: FutureWarning: `torch.cuda.amp.autocast(args...)` is deprecated. Please use `torch.amp.autocast('cuda', args...)` instead.\n",
            "  with torch.cuda.amp.autocast(amp):\n",
            "      23/29      4.64G     0.0226    0.01568    0.01215         47        640:  60% 3/5 [00:00<00:00,  4.40it/s]/content/yolov5/train.py:412: FutureWarning: `torch.cuda.amp.autocast(args...)` is deprecated. Please use `torch.amp.autocast('cuda', args...)` instead.\n",
            "  with torch.cuda.amp.autocast(amp):\n",
            "      23/29      4.64G    0.02174    0.01541     0.0118         50        640:  80% 4/5 [00:00<00:00,  4.36it/s]/content/yolov5/train.py:412: FutureWarning: `torch.cuda.amp.autocast(args...)` is deprecated. Please use `torch.amp.autocast('cuda', args...)` instead.\n",
            "  with torch.cuda.amp.autocast(amp):\n",
            "      23/29      4.64G    0.02756    0.01569    0.01284         37        640: 100% 5/5 [00:01<00:00,  4.38it/s]\n",
            "                 Class     Images  Instances          P          R      mAP50   mAP50-95: 100% 3/3 [00:00<00:00,  3.48it/s]\n",
            "                   all         74         85      0.646      0.737      0.736      0.453\n",
            "\n",
            "      Epoch    GPU_mem   box_loss   obj_loss   cls_loss  Instances       Size\n",
            "  0% 0/5 [00:00<?, ?it/s]/content/yolov5/train.py:412: FutureWarning: `torch.cuda.amp.autocast(args...)` is deprecated. Please use `torch.amp.autocast('cuda', args...)` instead.\n",
            "  with torch.cuda.amp.autocast(amp):\n",
            "      24/29      4.64G    0.02606    0.01565    0.01308         51        640:  20% 1/5 [00:00<00:00,  4.75it/s]/content/yolov5/train.py:412: FutureWarning: `torch.cuda.amp.autocast(args...)` is deprecated. Please use `torch.amp.autocast('cuda', args...)` instead.\n",
            "  with torch.cuda.amp.autocast(amp):\n",
            "      24/29      4.64G     0.0258    0.01435    0.01172         41        640:  40% 2/5 [00:00<00:00,  4.68it/s]/content/yolov5/train.py:412: FutureWarning: `torch.cuda.amp.autocast(args...)` is deprecated. Please use `torch.amp.autocast('cuda', args...)` instead.\n",
            "  with torch.cuda.amp.autocast(amp):\n",
            "      24/29      4.64G      0.025    0.01396    0.01129         50        640:  60% 3/5 [00:00<00:00,  4.50it/s]/content/yolov5/train.py:412: FutureWarning: `torch.cuda.amp.autocast(args...)` is deprecated. Please use `torch.amp.autocast('cuda', args...)` instead.\n",
            "  with torch.cuda.amp.autocast(amp):\n",
            "      24/29      4.64G    0.02565    0.01428    0.01207         42        640:  80% 4/5 [00:00<00:00,  4.07it/s]/content/yolov5/train.py:412: FutureWarning: `torch.cuda.amp.autocast(args...)` is deprecated. Please use `torch.amp.autocast('cuda', args...)` instead.\n",
            "  with torch.cuda.amp.autocast(amp):\n",
            "      24/29      4.64G    0.02474    0.01411    0.01284         31        640: 100% 5/5 [00:01<00:00,  4.39it/s]\n",
            "                 Class     Images  Instances          P          R      mAP50   mAP50-95: 100% 3/3 [00:00<00:00,  3.57it/s]\n",
            "                   all         74         85      0.657      0.742       0.75      0.464\n",
            "\n",
            "      Epoch    GPU_mem   box_loss   obj_loss   cls_loss  Instances       Size\n",
            "  0% 0/5 [00:00<?, ?it/s]/content/yolov5/train.py:412: FutureWarning: `torch.cuda.amp.autocast(args...)` is deprecated. Please use `torch.amp.autocast('cuda', args...)` instead.\n",
            "  with torch.cuda.amp.autocast(amp):\n",
            "      25/29      4.64G    0.02107    0.01789     0.0131         51        640:  20% 1/5 [00:00<00:00,  5.12it/s]/content/yolov5/train.py:412: FutureWarning: `torch.cuda.amp.autocast(args...)` is deprecated. Please use `torch.amp.autocast('cuda', args...)` instead.\n",
            "  with torch.cuda.amp.autocast(amp):\n",
            "      25/29      4.64G    0.02293    0.02087    0.01297         56        640:  40% 2/5 [00:00<00:00,  4.94it/s]/content/yolov5/train.py:412: FutureWarning: `torch.cuda.amp.autocast(args...)` is deprecated. Please use `torch.amp.autocast('cuda', args...)` instead.\n",
            "  with torch.cuda.amp.autocast(amp):\n",
            "      25/29      4.64G    0.03139    0.01951    0.01624         51        640:  60% 3/5 [00:00<00:00,  4.25it/s]/content/yolov5/train.py:412: FutureWarning: `torch.cuda.amp.autocast(args...)` is deprecated. Please use `torch.amp.autocast('cuda', args...)` instead.\n",
            "  with torch.cuda.amp.autocast(amp):\n",
            "      25/29      4.64G    0.02845    0.01863    0.01528         49        640:  80% 4/5 [00:00<00:00,  4.10it/s]/content/yolov5/train.py:412: FutureWarning: `torch.cuda.amp.autocast(args...)` is deprecated. Please use `torch.amp.autocast('cuda', args...)` instead.\n",
            "  with torch.cuda.amp.autocast(amp):\n",
            "      25/29      4.64G    0.02627    0.01711    0.01458         26        640: 100% 5/5 [00:01<00:00,  4.56it/s]\n",
            "                 Class     Images  Instances          P          R      mAP50   mAP50-95: 100% 3/3 [00:00<00:00,  3.23it/s]\n",
            "                   all         74         85      0.659       0.75      0.762      0.494\n",
            "\n",
            "      Epoch    GPU_mem   box_loss   obj_loss   cls_loss  Instances       Size\n",
            "  0% 0/5 [00:00<?, ?it/s]/content/yolov5/train.py:412: FutureWarning: `torch.cuda.amp.autocast(args...)` is deprecated. Please use `torch.amp.autocast('cuda', args...)` instead.\n",
            "  with torch.cuda.amp.autocast(amp):\n",
            "      26/29      4.64G    0.03102    0.01571    0.01336         49        640:  20% 1/5 [00:00<00:00,  4.09it/s]/content/yolov5/train.py:412: FutureWarning: `torch.cuda.amp.autocast(args...)` is deprecated. Please use `torch.amp.autocast('cuda', args...)` instead.\n",
            "  with torch.cuda.amp.autocast(amp):\n",
            "      26/29      4.64G    0.02412    0.01401    0.01204         38        640:  40% 2/5 [00:00<00:00,  3.77it/s]/content/yolov5/train.py:412: FutureWarning: `torch.cuda.amp.autocast(args...)` is deprecated. Please use `torch.amp.autocast('cuda', args...)` instead.\n",
            "  with torch.cuda.amp.autocast(amp):\n",
            "      26/29      4.64G    0.02253    0.01364    0.01189         37        640:  60% 3/5 [00:00<00:00,  4.12it/s]/content/yolov5/train.py:412: FutureWarning: `torch.cuda.amp.autocast(args...)` is deprecated. Please use `torch.amp.autocast('cuda', args...)` instead.\n",
            "  with torch.cuda.amp.autocast(amp):\n",
            "      26/29      4.64G    0.02188    0.01354    0.01229         46        640:  80% 4/5 [00:01<00:00,  4.00it/s]/content/yolov5/train.py:412: FutureWarning: `torch.cuda.amp.autocast(args...)` is deprecated. Please use `torch.amp.autocast('cuda', args...)` instead.\n",
            "  with torch.cuda.amp.autocast(amp):\n",
            "      26/29      4.64G    0.02728    0.01432    0.02037         33        640: 100% 5/5 [00:01<00:00,  4.16it/s]\n",
            "                 Class     Images  Instances          P          R      mAP50   mAP50-95: 100% 3/3 [00:01<00:00,  1.96it/s]\n",
            "                   all         74         85      0.662       0.75      0.771      0.489\n",
            "\n",
            "      Epoch    GPU_mem   box_loss   obj_loss   cls_loss  Instances       Size\n",
            "  0% 0/5 [00:00<?, ?it/s]/content/yolov5/train.py:412: FutureWarning: `torch.cuda.amp.autocast(args...)` is deprecated. Please use `torch.amp.autocast('cuda', args...)` instead.\n",
            "  with torch.cuda.amp.autocast(amp):\n",
            "      27/29      4.64G    0.01865    0.01688    0.01292         57        640:  20% 1/5 [00:00<00:01,  3.45it/s]/content/yolov5/train.py:412: FutureWarning: `torch.cuda.amp.autocast(args...)` is deprecated. Please use `torch.amp.autocast('cuda', args...)` instead.\n",
            "  with torch.cuda.amp.autocast(amp):\n",
            "      27/29      4.64G    0.03811    0.01924    0.01399         59        640:  40% 2/5 [00:00<00:00,  3.41it/s]/content/yolov5/train.py:412: FutureWarning: `torch.cuda.amp.autocast(args...)` is deprecated. Please use `torch.amp.autocast('cuda', args...)` instead.\n",
            "  with torch.cuda.amp.autocast(amp):\n",
            "      27/29      4.64G     0.0326    0.01826    0.01456         47        640:  60% 3/5 [00:00<00:00,  3.40it/s]/content/yolov5/train.py:412: FutureWarning: `torch.cuda.amp.autocast(args...)` is deprecated. Please use `torch.amp.autocast('cuda', args...)` instead.\n",
            "  with torch.cuda.amp.autocast(amp):\n",
            "      27/29      4.64G    0.02885    0.01699    0.01361         44        640:  80% 4/5 [00:01<00:00,  3.54it/s]/content/yolov5/train.py:412: FutureWarning: `torch.cuda.amp.autocast(args...)` is deprecated. Please use `torch.amp.autocast('cuda', args...)` instead.\n",
            "  with torch.cuda.amp.autocast(amp):\n",
            "      27/29      4.64G    0.02654    0.01666    0.01244         32        640: 100% 5/5 [00:01<00:00,  3.36it/s]\n",
            "                 Class     Images  Instances          P          R      mAP50   mAP50-95: 100% 3/3 [00:01<00:00,  1.60it/s]\n",
            "                   all         74         85      0.644      0.772      0.769      0.487\n",
            "\n",
            "      Epoch    GPU_mem   box_loss   obj_loss   cls_loss  Instances       Size\n",
            "  0% 0/5 [00:00<?, ?it/s]/content/yolov5/train.py:412: FutureWarning: `torch.cuda.amp.autocast(args...)` is deprecated. Please use `torch.amp.autocast('cuda', args...)` instead.\n",
            "  with torch.cuda.amp.autocast(amp):\n",
            "      28/29      4.64G    0.01947    0.01492     0.0125         46        640:  20% 1/5 [00:00<00:00,  4.68it/s]/content/yolov5/train.py:412: FutureWarning: `torch.cuda.amp.autocast(args...)` is deprecated. Please use `torch.amp.autocast('cuda', args...)` instead.\n",
            "  with torch.cuda.amp.autocast(amp):\n",
            "      28/29      4.64G    0.02074    0.01664    0.01228         54        640:  40% 2/5 [00:00<00:00,  4.81it/s]/content/yolov5/train.py:412: FutureWarning: `torch.cuda.amp.autocast(args...)` is deprecated. Please use `torch.amp.autocast('cuda', args...)` instead.\n",
            "  with torch.cuda.amp.autocast(amp):\n",
            "      28/29      4.64G    0.02009    0.01595    0.01206         48        640:  60% 3/5 [00:00<00:00,  4.80it/s]/content/yolov5/train.py:412: FutureWarning: `torch.cuda.amp.autocast(args...)` is deprecated. Please use `torch.amp.autocast('cuda', args...)` instead.\n",
            "  with torch.cuda.amp.autocast(amp):\n",
            "      28/29      4.64G    0.02067    0.01659    0.01216         48        640:  80% 4/5 [00:00<00:00,  4.25it/s]/content/yolov5/train.py:412: FutureWarning: `torch.cuda.amp.autocast(args...)` is deprecated. Please use `torch.amp.autocast('cuda', args...)` instead.\n",
            "  with torch.cuda.amp.autocast(amp):\n",
            "      28/29      4.64G     0.0211    0.01634    0.01256         33        640: 100% 5/5 [00:01<00:00,  4.57it/s]\n",
            "                 Class     Images  Instances          P          R      mAP50   mAP50-95: 100% 3/3 [00:00<00:00,  3.23it/s]\n",
            "                   all         74         85      0.644      0.788      0.772       0.49\n",
            "\n",
            "      Epoch    GPU_mem   box_loss   obj_loss   cls_loss  Instances       Size\n",
            "  0% 0/5 [00:00<?, ?it/s]/content/yolov5/train.py:412: FutureWarning: `torch.cuda.amp.autocast(args...)` is deprecated. Please use `torch.amp.autocast('cuda', args...)` instead.\n",
            "  with torch.cuda.amp.autocast(amp):\n",
            "      29/29      4.64G    0.01906    0.01696    0.01338         47        640:  20% 1/5 [00:00<00:00,  5.11it/s]/content/yolov5/train.py:412: FutureWarning: `torch.cuda.amp.autocast(args...)` is deprecated. Please use `torch.amp.autocast('cuda', args...)` instead.\n",
            "  with torch.cuda.amp.autocast(amp):\n",
            "      29/29      4.64G    0.01926    0.01544    0.01243         39        640:  40% 2/5 [00:00<00:00,  4.94it/s]/content/yolov5/train.py:412: FutureWarning: `torch.cuda.amp.autocast(args...)` is deprecated. Please use `torch.amp.autocast('cuda', args...)` instead.\n",
            "  with torch.cuda.amp.autocast(amp):\n",
            "      29/29      4.64G    0.01879    0.01632    0.01263         59        640:  60% 3/5 [00:00<00:00,  4.26it/s]/content/yolov5/train.py:412: FutureWarning: `torch.cuda.amp.autocast(args...)` is deprecated. Please use `torch.amp.autocast('cuda', args...)` instead.\n",
            "  with torch.cuda.amp.autocast(amp):\n",
            "      29/29      4.64G    0.01815    0.01562    0.01283         45        640:  80% 4/5 [00:00<00:00,  4.22it/s]/content/yolov5/train.py:412: FutureWarning: `torch.cuda.amp.autocast(args...)` is deprecated. Please use `torch.amp.autocast('cuda', args...)` instead.\n",
            "  with torch.cuda.amp.autocast(amp):\n",
            "      29/29      4.64G    0.01821    0.01588    0.01212         40        640: 100% 5/5 [00:01<00:00,  4.56it/s]\n",
            "                 Class     Images  Instances          P          R      mAP50   mAP50-95: 100% 3/3 [00:00<00:00,  3.34it/s]\n",
            "                   all         74         85      0.648      0.788      0.773      0.494\n",
            "\n",
            "30 epochs completed in 0.025 hours.\n",
            "Optimizer stripped from runs/train/exp2/weights/last.pt, 14.4MB\n",
            "Optimizer stripped from runs/train/exp2/weights/best.pt, 14.4MB\n",
            "\n",
            "Validating runs/train/exp2/weights/best.pt...\n",
            "Fusing layers... \n",
            "Model summary: 157 layers, 7023610 parameters, 0 gradients, 15.8 GFLOPs\n",
            "                 Class     Images  Instances          P          R      mAP50   mAP50-95: 100% 3/3 [00:01<00:00,  2.21it/s]\n",
            "                   all         74         85      0.648      0.788      0.773      0.495\n",
            "              car tire         74         21      0.511      0.571      0.583      0.332\n",
            "       motorcycle tire         74         16      0.436      0.688      0.587      0.319\n",
            "                   tug         74         16      0.801      0.812       0.87      0.538\n",
            "                 human         74         17      0.932          1      0.992      0.704\n",
            "              forklift         74         15      0.559      0.867      0.831      0.582\n",
            "Results saved to \u001b[1mruns/train/exp2\u001b[0m\n"
          ]
        }
      ]
    },
    {
      "cell_type": "code",
      "source": [
        "# ติดตั้ง YOLOv5 และ dependencies\n",
        "!git clone https://github.com/ultralytics/yolov5.git\n",
        "%cd yolov5\n",
        "!pip install -r requirements.txt\n",
        "\n",
        "# Import libraries\n",
        "from IPython.display import display, Javascript\n",
        "from google.colab.output import register_callback\n",
        "import cv2\n",
        "import numpy as np\n",
        "import torch\n",
        "import time\n",
        "import base64\n",
        "from io import BytesIO\n",
        "from PIL import Image\n",
        "from matplotlib import pyplot as plt\n",
        "from models.common import DetectMultiBackend\n",
        "from utils.torch_utils import select_device\n",
        "\n",
        "# ฟังก์ชันวาดกรอบ\n",
        "def draw_boxes(image, detections, model):\n",
        "    for *xyxy, conf, cls in detections:\n",
        "        x1, y1, x2, y2 = map(int, xyxy)\n",
        "        label = f\"{model.names[int(cls)]} {conf:.2f}\"\n",
        "        color = (0, 255, 0)  # สีของกรอบ (RGB)\n",
        "\n",
        "        # วาดกรอบรอบวัตถุ\n",
        "        cv2.rectangle(image, (x1, y1), (x2, y2), color, 2)\n",
        "\n",
        "        # เพิ่มข้อความ\n",
        "        cv2.putText(image, label, (x1, y1 - 10), cv2.FONT_HERSHEY_SIMPLEX, 0.5, color, 2)\n",
        "\n",
        "# ฟังก์ชันเปิดกล้องใน Google Colab\n",
        "def start_camera():\n",
        "    display(Javascript(\"\"\"\n",
        "        async function startVideo() {\n",
        "            const stream = await navigator.mediaDevices.getUserMedia({video: true});\n",
        "            window.videoElement = document.createElement('video');\n",
        "            window.videoElement.srcObject = stream;\n",
        "            window.videoElement.play();\n",
        "            document.body.appendChild(window.videoElement);\n",
        "        }\n",
        "        startVideo();\n",
        "    \"\"\"))\n",
        "\n",
        "# ฟังก์ชันเพื่อดึงภาพจากกล้องใน Google Colab\n",
        "def get_frame():\n",
        "    display(Javascript(\"\"\"\n",
        "        async function getFrame() {\n",
        "            let canvas = document.createElement('canvas');\n",
        "            let video = window.videoElement;\n",
        "            canvas.width = video.videoWidth;\n",
        "            canvas.height = video.videoHeight;\n",
        "            let context = canvas.getContext('2d');\n",
        "            context.drawImage(video, 0, 0, canvas.width, canvas.height);\n",
        "            const dataURL = canvas.toDataURL('image/jpeg');\n",
        "            google.colab.kernel.invokeFunction('notebook.captureFrame', [dataURL], {});\n",
        "        }\n",
        "        getFrame();\n",
        "    \"\"\"))\n",
        "\n",
        "# ฟังก์ชันรับข้อมูลภาพจาก JavaScript\n",
        "def capture_frame(data_url):\n",
        "    # แปลงจาก base64 มาเป็นภาพ\n",
        "    header, encoded = data_url.split(\",\", 1)\n",
        "    img_data = base64.b64decode(encoded)\n",
        "    img = Image.open(BytesIO(img_data))\n",
        "    img = np.array(img)\n",
        "    return img\n",
        "\n",
        "# ฟังก์ชันตรวจจับวัตถุ\n",
        "def detect_and_display(model):\n",
        "    def callback(data_url):\n",
        "        frame = capture_frame(data_url)\n",
        "\n",
        "        # แปลงภาพให้อยู่ในรูปแบบที่ YOLOv5 ต้องการ\n",
        "        frame_rgb = cv2.cvtColor(frame, cv2.COLOR_BGR2RGB)\n",
        "        img_tensor = torch.from_numpy(frame_rgb).permute(2, 0, 1).float() / 255.0  # แปลงภาพเป็น Tensor\n",
        "        img_tensor = img_tensor.unsqueeze(0).to(device)\n",
        "\n",
        "        # ตรวจจับวัตถุในภาพ\n",
        "        results = model(img_tensor)\n",
        "        detections = results.xyxy[0].cpu().numpy()\n",
        "\n",
        "        # วาดกรอบรอบวัตถุ\n",
        "        draw_boxes(frame, detections, model)\n",
        "\n",
        "        # แสดงผลภาพ\n",
        "        plt.figure(figsize=(12, 8))\n",
        "        plt.imshow(cv2.cvtColor(frame, cv2.COLOR_BGR2RGB))\n",
        "        plt.axis('off')\n",
        "        plt.show()\n",
        "\n",
        "    register_callback('notebook.captureFrame', callback)\n",
        "\n",
        "    while True:\n",
        "        get_frame()\n",
        "        time.sleep(2)  # รอ 2 วินาทีระหว่างการตรวจจับแต่ละเฟรม\n",
        "\n",
        "# โหลดโมเดล YOLOv5\n",
        "weights_path = '/content/yolov5/runs/train/exp2/weights/best.pt'  # เปลี่ยนเป็นพาธที่ถูกต้อง\n",
        "device = select_device('')  # เลือกอุปกรณ์ (CPU หรือ GPU)\n",
        "model = DetectMultiBackend(weights_path, device=device)  # โหลดโมเดล\n",
        "model.names = model.names if hasattr(model, 'names') else ['class_0', 'class_1', 'class_2']  # ตั้งชื่อคลาสถ้าจำเป็น\n",
        "\n",
        "# เริ่มต้นกล้อง\n",
        "start_camera()\n",
        "\n",
        "# รับภาพจากกล้องและตรวจจับ\n",
        "detect_and_display(model)\n"
      ],
      "metadata": {
        "colab": {
          "base_uri": "https://localhost:8080/",
          "height": 991
        },
        "id": "bsY5jVHEsPe-",
        "outputId": "369191fd-4891-4dc5-e622-6fe4a6b579c2"
      },
      "execution_count": null,
      "outputs": [
        {
          "output_type": "stream",
          "name": "stdout",
          "text": [
            "Cloning into 'yolov5'...\n",
            "remote: Enumerating objects: 17075, done.\u001b[K\n",
            "remote: Counting objects: 100% (26/26), done.\u001b[K\n",
            "remote: Compressing objects: 100% (19/19), done.\u001b[K\n",
            "remote: Total 17075 (delta 19), reused 7 (delta 7), pack-reused 17049 (from 2)\u001b[K\n",
            "Receiving objects: 100% (17075/17075), 15.68 MiB | 15.41 MiB/s, done.\n",
            "Resolving deltas: 100% (11719/11719), done.\n",
            "/content/yolov5/yolov5\n",
            "Requirement already satisfied: gitpython>=3.1.30 in /usr/local/lib/python3.10/dist-packages (from -r requirements.txt (line 5)) (3.1.43)\n",
            "Requirement already satisfied: matplotlib>=3.3 in /usr/local/lib/python3.10/dist-packages (from -r requirements.txt (line 6)) (3.8.0)\n",
            "Requirement already satisfied: numpy>=1.23.5 in /usr/local/lib/python3.10/dist-packages (from -r requirements.txt (line 7)) (1.26.4)\n",
            "Requirement already satisfied: opencv-python>=4.1.1 in /usr/local/lib/python3.10/dist-packages (from -r requirements.txt (line 8)) (4.10.0.84)\n",
            "Requirement already satisfied: pillow>=10.3.0 in /usr/local/lib/python3.10/dist-packages (from -r requirements.txt (line 9)) (11.0.0)\n",
            "Requirement already satisfied: psutil in /usr/local/lib/python3.10/dist-packages (from -r requirements.txt (line 10)) (5.9.5)\n",
            "Requirement already satisfied: PyYAML>=5.3.1 in /usr/local/lib/python3.10/dist-packages (from -r requirements.txt (line 11)) (6.0.2)\n",
            "Requirement already satisfied: requests>=2.32.2 in /usr/local/lib/python3.10/dist-packages (from -r requirements.txt (line 12)) (2.32.3)\n",
            "Requirement already satisfied: scipy>=1.4.1 in /usr/local/lib/python3.10/dist-packages (from -r requirements.txt (line 13)) (1.13.1)\n",
            "Requirement already satisfied: thop>=0.1.1 in /usr/local/lib/python3.10/dist-packages (from -r requirements.txt (line 14)) (0.1.1.post2209072238)\n",
            "Requirement already satisfied: torch>=1.8.0 in /usr/local/lib/python3.10/dist-packages (from -r requirements.txt (line 15)) (2.5.1+cu121)\n",
            "Requirement already satisfied: torchvision>=0.9.0 in /usr/local/lib/python3.10/dist-packages (from -r requirements.txt (line 16)) (0.20.1+cu121)\n",
            "Requirement already satisfied: tqdm>=4.66.3 in /usr/local/lib/python3.10/dist-packages (from -r requirements.txt (line 17)) (4.67.1)\n",
            "Requirement already satisfied: ultralytics>=8.2.34 in /usr/local/lib/python3.10/dist-packages (from -r requirements.txt (line 18)) (8.3.53)\n",
            "Requirement already satisfied: pandas>=1.1.4 in /usr/local/lib/python3.10/dist-packages (from -r requirements.txt (line 27)) (2.2.2)\n",
            "Requirement already satisfied: seaborn>=0.11.0 in /usr/local/lib/python3.10/dist-packages (from -r requirements.txt (line 28)) (0.13.2)\n",
            "Requirement already satisfied: setuptools>=70.0.0 in /usr/local/lib/python3.10/dist-packages (from -r requirements.txt (line 42)) (75.1.0)\n",
            "Requirement already satisfied: gitdb<5,>=4.0.1 in /usr/local/lib/python3.10/dist-packages (from gitpython>=3.1.30->-r requirements.txt (line 5)) (4.0.11)\n",
            "Requirement already satisfied: contourpy>=1.0.1 in /usr/local/lib/python3.10/dist-packages (from matplotlib>=3.3->-r requirements.txt (line 6)) (1.3.1)\n",
            "Requirement already satisfied: cycler>=0.10 in /usr/local/lib/python3.10/dist-packages (from matplotlib>=3.3->-r requirements.txt (line 6)) (0.12.1)\n",
            "Requirement already satisfied: fonttools>=4.22.0 in /usr/local/lib/python3.10/dist-packages (from matplotlib>=3.3->-r requirements.txt (line 6)) (4.55.3)\n",
            "Requirement already satisfied: kiwisolver>=1.0.1 in /usr/local/lib/python3.10/dist-packages (from matplotlib>=3.3->-r requirements.txt (line 6)) (1.4.7)\n",
            "Requirement already satisfied: packaging>=20.0 in /usr/local/lib/python3.10/dist-packages (from matplotlib>=3.3->-r requirements.txt (line 6)) (24.2)\n",
            "Requirement already satisfied: pyparsing>=2.3.1 in /usr/local/lib/python3.10/dist-packages (from matplotlib>=3.3->-r requirements.txt (line 6)) (3.2.0)\n",
            "Requirement already satisfied: python-dateutil>=2.7 in /usr/local/lib/python3.10/dist-packages (from matplotlib>=3.3->-r requirements.txt (line 6)) (2.8.2)\n",
            "Requirement already satisfied: charset-normalizer<4,>=2 in /usr/local/lib/python3.10/dist-packages (from requests>=2.32.2->-r requirements.txt (line 12)) (3.4.0)\n",
            "Requirement already satisfied: idna<4,>=2.5 in /usr/local/lib/python3.10/dist-packages (from requests>=2.32.2->-r requirements.txt (line 12)) (3.10)\n",
            "Requirement already satisfied: urllib3<3,>=1.21.1 in /usr/local/lib/python3.10/dist-packages (from requests>=2.32.2->-r requirements.txt (line 12)) (2.2.3)\n",
            "Requirement already satisfied: certifi>=2017.4.17 in /usr/local/lib/python3.10/dist-packages (from requests>=2.32.2->-r requirements.txt (line 12)) (2024.12.14)\n",
            "Requirement already satisfied: filelock in /usr/local/lib/python3.10/dist-packages (from torch>=1.8.0->-r requirements.txt (line 15)) (3.16.1)\n",
            "Requirement already satisfied: typing-extensions>=4.8.0 in /usr/local/lib/python3.10/dist-packages (from torch>=1.8.0->-r requirements.txt (line 15)) (4.12.2)\n",
            "Requirement already satisfied: networkx in /usr/local/lib/python3.10/dist-packages (from torch>=1.8.0->-r requirements.txt (line 15)) (3.4.2)\n",
            "Requirement already satisfied: jinja2 in /usr/local/lib/python3.10/dist-packages (from torch>=1.8.0->-r requirements.txt (line 15)) (3.1.4)\n",
            "Requirement already satisfied: fsspec in /usr/local/lib/python3.10/dist-packages (from torch>=1.8.0->-r requirements.txt (line 15)) (2024.10.0)\n",
            "Requirement already satisfied: sympy==1.13.1 in /usr/local/lib/python3.10/dist-packages (from torch>=1.8.0->-r requirements.txt (line 15)) (1.13.1)\n",
            "Requirement already satisfied: mpmath<1.4,>=1.1.0 in /usr/local/lib/python3.10/dist-packages (from sympy==1.13.1->torch>=1.8.0->-r requirements.txt (line 15)) (1.3.0)\n",
            "Requirement already satisfied: py-cpuinfo in /usr/local/lib/python3.10/dist-packages (from ultralytics>=8.2.34->-r requirements.txt (line 18)) (9.0.0)\n",
            "Requirement already satisfied: ultralytics-thop>=2.0.0 in /usr/local/lib/python3.10/dist-packages (from ultralytics>=8.2.34->-r requirements.txt (line 18)) (2.0.13)\n",
            "Requirement already satisfied: pytz>=2020.1 in /usr/local/lib/python3.10/dist-packages (from pandas>=1.1.4->-r requirements.txt (line 27)) (2024.2)\n",
            "Requirement already satisfied: tzdata>=2022.7 in /usr/local/lib/python3.10/dist-packages (from pandas>=1.1.4->-r requirements.txt (line 27)) (2024.2)\n",
            "Requirement already satisfied: smmap<6,>=3.0.1 in /usr/local/lib/python3.10/dist-packages (from gitdb<5,>=4.0.1->gitpython>=3.1.30->-r requirements.txt (line 5)) (5.0.1)\n",
            "Requirement already satisfied: six>=1.5 in /usr/local/lib/python3.10/dist-packages (from python-dateutil>=2.7->matplotlib>=3.3->-r requirements.txt (line 6)) (1.17.0)\n",
            "Requirement already satisfied: MarkupSafe>=2.0 in /usr/local/lib/python3.10/dist-packages (from jinja2->torch>=1.8.0->-r requirements.txt (line 15)) (3.0.2)\n"
          ]
        },
        {
          "output_type": "stream",
          "name": "stderr",
          "text": [
            "YOLOv5 🚀 v7.0-389-ge62a31b6 Python-3.10.12 torch-2.5.1+cu121 CUDA:0 (Tesla T4, 15102MiB)\n",
            "\n",
            "Fusing layers... \n",
            "Model summary: 157 layers, 7023610 parameters, 0 gradients, 15.8 GFLOPs\n"
          ]
        },
        {
          "output_type": "display_data",
          "data": {
            "text/plain": [
              "<IPython.core.display.Javascript object>"
            ],
            "application/javascript": [
              "\n",
              "        async function startVideo() {\n",
              "            const stream = await navigator.mediaDevices.getUserMedia({video: true});\n",
              "            window.videoElement = document.createElement('video');\n",
              "            window.videoElement.srcObject = stream;\n",
              "            window.videoElement.play();\n",
              "            document.body.appendChild(window.videoElement);\n",
              "        }\n",
              "        startVideo();\n",
              "    "
            ]
          },
          "metadata": {}
        },
        {
          "output_type": "display_data",
          "data": {
            "text/plain": [
              "<IPython.core.display.Javascript object>"
            ],
            "application/javascript": [
              "\n",
              "        async function getFrame() {\n",
              "            let canvas = document.createElement('canvas');\n",
              "            let video = window.videoElement;\n",
              "            canvas.width = video.videoWidth;\n",
              "            canvas.height = video.videoHeight;\n",
              "            let context = canvas.getContext('2d');\n",
              "            context.drawImage(video, 0, 0, canvas.width, canvas.height);\n",
              "            const dataURL = canvas.toDataURL('image/jpeg');\n",
              "            google.colab.kernel.invokeFunction('notebook.captureFrame', [dataURL], {});\n",
              "        }\n",
              "        getFrame();\n",
              "    "
            ]
          },
          "metadata": {}
        },
        {
          "output_type": "display_data",
          "data": {
            "text/plain": [
              "<IPython.core.display.Javascript object>"
            ],
            "application/javascript": [
              "\n",
              "        async function getFrame() {\n",
              "            let canvas = document.createElement('canvas');\n",
              "            let video = window.videoElement;\n",
              "            canvas.width = video.videoWidth;\n",
              "            canvas.height = video.videoHeight;\n",
              "            let context = canvas.getContext('2d');\n",
              "            context.drawImage(video, 0, 0, canvas.width, canvas.height);\n",
              "            const dataURL = canvas.toDataURL('image/jpeg');\n",
              "            google.colab.kernel.invokeFunction('notebook.captureFrame', [dataURL], {});\n",
              "        }\n",
              "        getFrame();\n",
              "    "
            ]
          },
          "metadata": {}
        },
        {
          "output_type": "display_data",
          "data": {
            "text/plain": [
              "<IPython.core.display.Javascript object>"
            ],
            "application/javascript": [
              "\n",
              "        async function getFrame() {\n",
              "            let canvas = document.createElement('canvas');\n",
              "            let video = window.videoElement;\n",
              "            canvas.width = video.videoWidth;\n",
              "            canvas.height = video.videoHeight;\n",
              "            let context = canvas.getContext('2d');\n",
              "            context.drawImage(video, 0, 0, canvas.width, canvas.height);\n",
              "            const dataURL = canvas.toDataURL('image/jpeg');\n",
              "            google.colab.kernel.invokeFunction('notebook.captureFrame', [dataURL], {});\n",
              "        }\n",
              "        getFrame();\n",
              "    "
            ]
          },
          "metadata": {}
        },
        {
          "output_type": "display_data",
          "data": {
            "text/plain": [
              "<IPython.core.display.Javascript object>"
            ],
            "application/javascript": [
              "\n",
              "        async function getFrame() {\n",
              "            let canvas = document.createElement('canvas');\n",
              "            let video = window.videoElement;\n",
              "            canvas.width = video.videoWidth;\n",
              "            canvas.height = video.videoHeight;\n",
              "            let context = canvas.getContext('2d');\n",
              "            context.drawImage(video, 0, 0, canvas.width, canvas.height);\n",
              "            const dataURL = canvas.toDataURL('image/jpeg');\n",
              "            google.colab.kernel.invokeFunction('notebook.captureFrame', [dataURL], {});\n",
              "        }\n",
              "        getFrame();\n",
              "    "
            ]
          },
          "metadata": {}
        },
        {
          "output_type": "display_data",
          "data": {
            "text/plain": [
              "<IPython.core.display.Javascript object>"
            ],
            "application/javascript": [
              "\n",
              "        async function getFrame() {\n",
              "            let canvas = document.createElement('canvas');\n",
              "            let video = window.videoElement;\n",
              "            canvas.width = video.videoWidth;\n",
              "            canvas.height = video.videoHeight;\n",
              "            let context = canvas.getContext('2d');\n",
              "            context.drawImage(video, 0, 0, canvas.width, canvas.height);\n",
              "            const dataURL = canvas.toDataURL('image/jpeg');\n",
              "            google.colab.kernel.invokeFunction('notebook.captureFrame', [dataURL], {});\n",
              "        }\n",
              "        getFrame();\n",
              "    "
            ]
          },
          "metadata": {}
        },
        {
          "output_type": "display_data",
          "data": {
            "text/plain": [
              "<IPython.core.display.Javascript object>"
            ],
            "application/javascript": [
              "\n",
              "        async function getFrame() {\n",
              "            let canvas = document.createElement('canvas');\n",
              "            let video = window.videoElement;\n",
              "            canvas.width = video.videoWidth;\n",
              "            canvas.height = video.videoHeight;\n",
              "            let context = canvas.getContext('2d');\n",
              "            context.drawImage(video, 0, 0, canvas.width, canvas.height);\n",
              "            const dataURL = canvas.toDataURL('image/jpeg');\n",
              "            google.colab.kernel.invokeFunction('notebook.captureFrame', [dataURL], {});\n",
              "        }\n",
              "        getFrame();\n",
              "    "
            ]
          },
          "metadata": {}
        },
        {
          "output_type": "display_data",
          "data": {
            "text/plain": [
              "<IPython.core.display.Javascript object>"
            ],
            "application/javascript": [
              "\n",
              "        async function getFrame() {\n",
              "            let canvas = document.createElement('canvas');\n",
              "            let video = window.videoElement;\n",
              "            canvas.width = video.videoWidth;\n",
              "            canvas.height = video.videoHeight;\n",
              "            let context = canvas.getContext('2d');\n",
              "            context.drawImage(video, 0, 0, canvas.width, canvas.height);\n",
              "            const dataURL = canvas.toDataURL('image/jpeg');\n",
              "            google.colab.kernel.invokeFunction('notebook.captureFrame', [dataURL], {});\n",
              "        }\n",
              "        getFrame();\n",
              "    "
            ]
          },
          "metadata": {}
        },
        {
          "output_type": "display_data",
          "data": {
            "text/plain": [
              "<IPython.core.display.Javascript object>"
            ],
            "application/javascript": [
              "\n",
              "        async function getFrame() {\n",
              "            let canvas = document.createElement('canvas');\n",
              "            let video = window.videoElement;\n",
              "            canvas.width = video.videoWidth;\n",
              "            canvas.height = video.videoHeight;\n",
              "            let context = canvas.getContext('2d');\n",
              "            context.drawImage(video, 0, 0, canvas.width, canvas.height);\n",
              "            const dataURL = canvas.toDataURL('image/jpeg');\n",
              "            google.colab.kernel.invokeFunction('notebook.captureFrame', [dataURL], {});\n",
              "        }\n",
              "        getFrame();\n",
              "    "
            ]
          },
          "metadata": {}
        },
        {
          "output_type": "display_data",
          "data": {
            "text/plain": [
              "<IPython.core.display.Javascript object>"
            ],
            "application/javascript": [
              "\n",
              "        async function getFrame() {\n",
              "            let canvas = document.createElement('canvas');\n",
              "            let video = window.videoElement;\n",
              "            canvas.width = video.videoWidth;\n",
              "            canvas.height = video.videoHeight;\n",
              "            let context = canvas.getContext('2d');\n",
              "            context.drawImage(video, 0, 0, canvas.width, canvas.height);\n",
              "            const dataURL = canvas.toDataURL('image/jpeg');\n",
              "            google.colab.kernel.invokeFunction('notebook.captureFrame', [dataURL], {});\n",
              "        }\n",
              "        getFrame();\n",
              "    "
            ]
          },
          "metadata": {}
        },
        {
          "output_type": "display_data",
          "data": {
            "text/plain": [
              "<IPython.core.display.Javascript object>"
            ],
            "application/javascript": [
              "\n",
              "        async function getFrame() {\n",
              "            let canvas = document.createElement('canvas');\n",
              "            let video = window.videoElement;\n",
              "            canvas.width = video.videoWidth;\n",
              "            canvas.height = video.videoHeight;\n",
              "            let context = canvas.getContext('2d');\n",
              "            context.drawImage(video, 0, 0, canvas.width, canvas.height);\n",
              "            const dataURL = canvas.toDataURL('image/jpeg');\n",
              "            google.colab.kernel.invokeFunction('notebook.captureFrame', [dataURL], {});\n",
              "        }\n",
              "        getFrame();\n",
              "    "
            ]
          },
          "metadata": {}
        },
        {
          "output_type": "display_data",
          "data": {
            "text/plain": [
              "<IPython.core.display.Javascript object>"
            ],
            "application/javascript": [
              "\n",
              "        async function getFrame() {\n",
              "            let canvas = document.createElement('canvas');\n",
              "            let video = window.videoElement;\n",
              "            canvas.width = video.videoWidth;\n",
              "            canvas.height = video.videoHeight;\n",
              "            let context = canvas.getContext('2d');\n",
              "            context.drawImage(video, 0, 0, canvas.width, canvas.height);\n",
              "            const dataURL = canvas.toDataURL('image/jpeg');\n",
              "            google.colab.kernel.invokeFunction('notebook.captureFrame', [dataURL], {});\n",
              "        }\n",
              "        getFrame();\n",
              "    "
            ]
          },
          "metadata": {}
        },
        {
          "output_type": "display_data",
          "data": {
            "text/plain": [
              "<IPython.core.display.Javascript object>"
            ],
            "application/javascript": [
              "\n",
              "        async function getFrame() {\n",
              "            let canvas = document.createElement('canvas');\n",
              "            let video = window.videoElement;\n",
              "            canvas.width = video.videoWidth;\n",
              "            canvas.height = video.videoHeight;\n",
              "            let context = canvas.getContext('2d');\n",
              "            context.drawImage(video, 0, 0, canvas.width, canvas.height);\n",
              "            const dataURL = canvas.toDataURL('image/jpeg');\n",
              "            google.colab.kernel.invokeFunction('notebook.captureFrame', [dataURL], {});\n",
              "        }\n",
              "        getFrame();\n",
              "    "
            ]
          },
          "metadata": {}
        },
        {
          "output_type": "display_data",
          "data": {
            "text/plain": [
              "<IPython.core.display.Javascript object>"
            ],
            "application/javascript": [
              "\n",
              "        async function getFrame() {\n",
              "            let canvas = document.createElement('canvas');\n",
              "            let video = window.videoElement;\n",
              "            canvas.width = video.videoWidth;\n",
              "            canvas.height = video.videoHeight;\n",
              "            let context = canvas.getContext('2d');\n",
              "            context.drawImage(video, 0, 0, canvas.width, canvas.height);\n",
              "            const dataURL = canvas.toDataURL('image/jpeg');\n",
              "            google.colab.kernel.invokeFunction('notebook.captureFrame', [dataURL], {});\n",
              "        }\n",
              "        getFrame();\n",
              "    "
            ]
          },
          "metadata": {}
        },
        {
          "output_type": "display_data",
          "data": {
            "text/plain": [
              "<IPython.core.display.Javascript object>"
            ],
            "application/javascript": [
              "\n",
              "        async function getFrame() {\n",
              "            let canvas = document.createElement('canvas');\n",
              "            let video = window.videoElement;\n",
              "            canvas.width = video.videoWidth;\n",
              "            canvas.height = video.videoHeight;\n",
              "            let context = canvas.getContext('2d');\n",
              "            context.drawImage(video, 0, 0, canvas.width, canvas.height);\n",
              "            const dataURL = canvas.toDataURL('image/jpeg');\n",
              "            google.colab.kernel.invokeFunction('notebook.captureFrame', [dataURL], {});\n",
              "        }\n",
              "        getFrame();\n",
              "    "
            ]
          },
          "metadata": {}
        },
        {
          "output_type": "display_data",
          "data": {
            "text/plain": [
              "<IPython.core.display.Javascript object>"
            ],
            "application/javascript": [
              "\n",
              "        async function getFrame() {\n",
              "            let canvas = document.createElement('canvas');\n",
              "            let video = window.videoElement;\n",
              "            canvas.width = video.videoWidth;\n",
              "            canvas.height = video.videoHeight;\n",
              "            let context = canvas.getContext('2d');\n",
              "            context.drawImage(video, 0, 0, canvas.width, canvas.height);\n",
              "            const dataURL = canvas.toDataURL('image/jpeg');\n",
              "            google.colab.kernel.invokeFunction('notebook.captureFrame', [dataURL], {});\n",
              "        }\n",
              "        getFrame();\n",
              "    "
            ]
          },
          "metadata": {}
        },
        {
          "output_type": "display_data",
          "data": {
            "text/plain": [
              "<IPython.core.display.Javascript object>"
            ],
            "application/javascript": [
              "\n",
              "        async function getFrame() {\n",
              "            let canvas = document.createElement('canvas');\n",
              "            let video = window.videoElement;\n",
              "            canvas.width = video.videoWidth;\n",
              "            canvas.height = video.videoHeight;\n",
              "            let context = canvas.getContext('2d');\n",
              "            context.drawImage(video, 0, 0, canvas.width, canvas.height);\n",
              "            const dataURL = canvas.toDataURL('image/jpeg');\n",
              "            google.colab.kernel.invokeFunction('notebook.captureFrame', [dataURL], {});\n",
              "        }\n",
              "        getFrame();\n",
              "    "
            ]
          },
          "metadata": {}
        },
        {
          "output_type": "display_data",
          "data": {
            "text/plain": [
              "<IPython.core.display.Javascript object>"
            ],
            "application/javascript": [
              "\n",
              "        async function getFrame() {\n",
              "            let canvas = document.createElement('canvas');\n",
              "            let video = window.videoElement;\n",
              "            canvas.width = video.videoWidth;\n",
              "            canvas.height = video.videoHeight;\n",
              "            let context = canvas.getContext('2d');\n",
              "            context.drawImage(video, 0, 0, canvas.width, canvas.height);\n",
              "            const dataURL = canvas.toDataURL('image/jpeg');\n",
              "            google.colab.kernel.invokeFunction('notebook.captureFrame', [dataURL], {});\n",
              "        }\n",
              "        getFrame();\n",
              "    "
            ]
          },
          "metadata": {}
        },
        {
          "output_type": "display_data",
          "data": {
            "text/plain": [
              "<IPython.core.display.Javascript object>"
            ],
            "application/javascript": [
              "\n",
              "        async function getFrame() {\n",
              "            let canvas = document.createElement('canvas');\n",
              "            let video = window.videoElement;\n",
              "            canvas.width = video.videoWidth;\n",
              "            canvas.height = video.videoHeight;\n",
              "            let context = canvas.getContext('2d');\n",
              "            context.drawImage(video, 0, 0, canvas.width, canvas.height);\n",
              "            const dataURL = canvas.toDataURL('image/jpeg');\n",
              "            google.colab.kernel.invokeFunction('notebook.captureFrame', [dataURL], {});\n",
              "        }\n",
              "        getFrame();\n",
              "    "
            ]
          },
          "metadata": {}
        },
        {
          "output_type": "display_data",
          "data": {
            "text/plain": [
              "<IPython.core.display.Javascript object>"
            ],
            "application/javascript": [
              "\n",
              "        async function getFrame() {\n",
              "            let canvas = document.createElement('canvas');\n",
              "            let video = window.videoElement;\n",
              "            canvas.width = video.videoWidth;\n",
              "            canvas.height = video.videoHeight;\n",
              "            let context = canvas.getContext('2d');\n",
              "            context.drawImage(video, 0, 0, canvas.width, canvas.height);\n",
              "            const dataURL = canvas.toDataURL('image/jpeg');\n",
              "            google.colab.kernel.invokeFunction('notebook.captureFrame', [dataURL], {});\n",
              "        }\n",
              "        getFrame();\n",
              "    "
            ]
          },
          "metadata": {}
        },
        {
          "output_type": "display_data",
          "data": {
            "text/plain": [
              "<IPython.core.display.Javascript object>"
            ],
            "application/javascript": [
              "\n",
              "        async function getFrame() {\n",
              "            let canvas = document.createElement('canvas');\n",
              "            let video = window.videoElement;\n",
              "            canvas.width = video.videoWidth;\n",
              "            canvas.height = video.videoHeight;\n",
              "            let context = canvas.getContext('2d');\n",
              "            context.drawImage(video, 0, 0, canvas.width, canvas.height);\n",
              "            const dataURL = canvas.toDataURL('image/jpeg');\n",
              "            google.colab.kernel.invokeFunction('notebook.captureFrame', [dataURL], {});\n",
              "        }\n",
              "        getFrame();\n",
              "    "
            ]
          },
          "metadata": {}
        },
        {
          "output_type": "display_data",
          "data": {
            "text/plain": [
              "<IPython.core.display.Javascript object>"
            ],
            "application/javascript": [
              "\n",
              "        async function getFrame() {\n",
              "            let canvas = document.createElement('canvas');\n",
              "            let video = window.videoElement;\n",
              "            canvas.width = video.videoWidth;\n",
              "            canvas.height = video.videoHeight;\n",
              "            let context = canvas.getContext('2d');\n",
              "            context.drawImage(video, 0, 0, canvas.width, canvas.height);\n",
              "            const dataURL = canvas.toDataURL('image/jpeg');\n",
              "            google.colab.kernel.invokeFunction('notebook.captureFrame', [dataURL], {});\n",
              "        }\n",
              "        getFrame();\n",
              "    "
            ]
          },
          "metadata": {}
        },
        {
          "output_type": "display_data",
          "data": {
            "text/plain": [
              "<IPython.core.display.Javascript object>"
            ],
            "application/javascript": [
              "\n",
              "        async function getFrame() {\n",
              "            let canvas = document.createElement('canvas');\n",
              "            let video = window.videoElement;\n",
              "            canvas.width = video.videoWidth;\n",
              "            canvas.height = video.videoHeight;\n",
              "            let context = canvas.getContext('2d');\n",
              "            context.drawImage(video, 0, 0, canvas.width, canvas.height);\n",
              "            const dataURL = canvas.toDataURL('image/jpeg');\n",
              "            google.colab.kernel.invokeFunction('notebook.captureFrame', [dataURL], {});\n",
              "        }\n",
              "        getFrame();\n",
              "    "
            ]
          },
          "metadata": {}
        },
        {
          "output_type": "display_data",
          "data": {
            "text/plain": [
              "<IPython.core.display.Javascript object>"
            ],
            "application/javascript": [
              "\n",
              "        async function getFrame() {\n",
              "            let canvas = document.createElement('canvas');\n",
              "            let video = window.videoElement;\n",
              "            canvas.width = video.videoWidth;\n",
              "            canvas.height = video.videoHeight;\n",
              "            let context = canvas.getContext('2d');\n",
              "            context.drawImage(video, 0, 0, canvas.width, canvas.height);\n",
              "            const dataURL = canvas.toDataURL('image/jpeg');\n",
              "            google.colab.kernel.invokeFunction('notebook.captureFrame', [dataURL], {});\n",
              "        }\n",
              "        getFrame();\n",
              "    "
            ]
          },
          "metadata": {}
        },
        {
          "output_type": "display_data",
          "data": {
            "text/plain": [
              "<IPython.core.display.Javascript object>"
            ],
            "application/javascript": [
              "\n",
              "        async function getFrame() {\n",
              "            let canvas = document.createElement('canvas');\n",
              "            let video = window.videoElement;\n",
              "            canvas.width = video.videoWidth;\n",
              "            canvas.height = video.videoHeight;\n",
              "            let context = canvas.getContext('2d');\n",
              "            context.drawImage(video, 0, 0, canvas.width, canvas.height);\n",
              "            const dataURL = canvas.toDataURL('image/jpeg');\n",
              "            google.colab.kernel.invokeFunction('notebook.captureFrame', [dataURL], {});\n",
              "        }\n",
              "        getFrame();\n",
              "    "
            ]
          },
          "metadata": {}
        },
        {
          "output_type": "display_data",
          "data": {
            "text/plain": [
              "<IPython.core.display.Javascript object>"
            ],
            "application/javascript": [
              "\n",
              "        async function getFrame() {\n",
              "            let canvas = document.createElement('canvas');\n",
              "            let video = window.videoElement;\n",
              "            canvas.width = video.videoWidth;\n",
              "            canvas.height = video.videoHeight;\n",
              "            let context = canvas.getContext('2d');\n",
              "            context.drawImage(video, 0, 0, canvas.width, canvas.height);\n",
              "            const dataURL = canvas.toDataURL('image/jpeg');\n",
              "            google.colab.kernel.invokeFunction('notebook.captureFrame', [dataURL], {});\n",
              "        }\n",
              "        getFrame();\n",
              "    "
            ]
          },
          "metadata": {}
        },
        {
          "output_type": "display_data",
          "data": {
            "text/plain": [
              "<IPython.core.display.Javascript object>"
            ],
            "application/javascript": [
              "\n",
              "        async function getFrame() {\n",
              "            let canvas = document.createElement('canvas');\n",
              "            let video = window.videoElement;\n",
              "            canvas.width = video.videoWidth;\n",
              "            canvas.height = video.videoHeight;\n",
              "            let context = canvas.getContext('2d');\n",
              "            context.drawImage(video, 0, 0, canvas.width, canvas.height);\n",
              "            const dataURL = canvas.toDataURL('image/jpeg');\n",
              "            google.colab.kernel.invokeFunction('notebook.captureFrame', [dataURL], {});\n",
              "        }\n",
              "        getFrame();\n",
              "    "
            ]
          },
          "metadata": {}
        },
        {
          "output_type": "display_data",
          "data": {
            "text/plain": [
              "<IPython.core.display.Javascript object>"
            ],
            "application/javascript": [
              "\n",
              "        async function getFrame() {\n",
              "            let canvas = document.createElement('canvas');\n",
              "            let video = window.videoElement;\n",
              "            canvas.width = video.videoWidth;\n",
              "            canvas.height = video.videoHeight;\n",
              "            let context = canvas.getContext('2d');\n",
              "            context.drawImage(video, 0, 0, canvas.width, canvas.height);\n",
              "            const dataURL = canvas.toDataURL('image/jpeg');\n",
              "            google.colab.kernel.invokeFunction('notebook.captureFrame', [dataURL], {});\n",
              "        }\n",
              "        getFrame();\n",
              "    "
            ]
          },
          "metadata": {}
        },
        {
          "output_type": "display_data",
          "data": {
            "text/plain": [
              "<IPython.core.display.Javascript object>"
            ],
            "application/javascript": [
              "\n",
              "        async function getFrame() {\n",
              "            let canvas = document.createElement('canvas');\n",
              "            let video = window.videoElement;\n",
              "            canvas.width = video.videoWidth;\n",
              "            canvas.height = video.videoHeight;\n",
              "            let context = canvas.getContext('2d');\n",
              "            context.drawImage(video, 0, 0, canvas.width, canvas.height);\n",
              "            const dataURL = canvas.toDataURL('image/jpeg');\n",
              "            google.colab.kernel.invokeFunction('notebook.captureFrame', [dataURL], {});\n",
              "        }\n",
              "        getFrame();\n",
              "    "
            ]
          },
          "metadata": {}
        },
        {
          "output_type": "display_data",
          "data": {
            "text/plain": [
              "<IPython.core.display.Javascript object>"
            ],
            "application/javascript": [
              "\n",
              "        async function getFrame() {\n",
              "            let canvas = document.createElement('canvas');\n",
              "            let video = window.videoElement;\n",
              "            canvas.width = video.videoWidth;\n",
              "            canvas.height = video.videoHeight;\n",
              "            let context = canvas.getContext('2d');\n",
              "            context.drawImage(video, 0, 0, canvas.width, canvas.height);\n",
              "            const dataURL = canvas.toDataURL('image/jpeg');\n",
              "            google.colab.kernel.invokeFunction('notebook.captureFrame', [dataURL], {});\n",
              "        }\n",
              "        getFrame();\n",
              "    "
            ]
          },
          "metadata": {}
        },
        {
          "output_type": "display_data",
          "data": {
            "text/plain": [
              "<IPython.core.display.Javascript object>"
            ],
            "application/javascript": [
              "\n",
              "        async function getFrame() {\n",
              "            let canvas = document.createElement('canvas');\n",
              "            let video = window.videoElement;\n",
              "            canvas.width = video.videoWidth;\n",
              "            canvas.height = video.videoHeight;\n",
              "            let context = canvas.getContext('2d');\n",
              "            context.drawImage(video, 0, 0, canvas.width, canvas.height);\n",
              "            const dataURL = canvas.toDataURL('image/jpeg');\n",
              "            google.colab.kernel.invokeFunction('notebook.captureFrame', [dataURL], {});\n",
              "        }\n",
              "        getFrame();\n",
              "    "
            ]
          },
          "metadata": {}
        },
        {
          "output_type": "display_data",
          "data": {
            "text/plain": [
              "<IPython.core.display.Javascript object>"
            ],
            "application/javascript": [
              "\n",
              "        async function getFrame() {\n",
              "            let canvas = document.createElement('canvas');\n",
              "            let video = window.videoElement;\n",
              "            canvas.width = video.videoWidth;\n",
              "            canvas.height = video.videoHeight;\n",
              "            let context = canvas.getContext('2d');\n",
              "            context.drawImage(video, 0, 0, canvas.width, canvas.height);\n",
              "            const dataURL = canvas.toDataURL('image/jpeg');\n",
              "            google.colab.kernel.invokeFunction('notebook.captureFrame', [dataURL], {});\n",
              "        }\n",
              "        getFrame();\n",
              "    "
            ]
          },
          "metadata": {}
        },
        {
          "output_type": "display_data",
          "data": {
            "text/plain": [
              "<IPython.core.display.Javascript object>"
            ],
            "application/javascript": [
              "\n",
              "        async function getFrame() {\n",
              "            let canvas = document.createElement('canvas');\n",
              "            let video = window.videoElement;\n",
              "            canvas.width = video.videoWidth;\n",
              "            canvas.height = video.videoHeight;\n",
              "            let context = canvas.getContext('2d');\n",
              "            context.drawImage(video, 0, 0, canvas.width, canvas.height);\n",
              "            const dataURL = canvas.toDataURL('image/jpeg');\n",
              "            google.colab.kernel.invokeFunction('notebook.captureFrame', [dataURL], {});\n",
              "        }\n",
              "        getFrame();\n",
              "    "
            ]
          },
          "metadata": {}
        },
        {
          "output_type": "display_data",
          "data": {
            "text/plain": [
              "<IPython.core.display.Javascript object>"
            ],
            "application/javascript": [
              "\n",
              "        async function getFrame() {\n",
              "            let canvas = document.createElement('canvas');\n",
              "            let video = window.videoElement;\n",
              "            canvas.width = video.videoWidth;\n",
              "            canvas.height = video.videoHeight;\n",
              "            let context = canvas.getContext('2d');\n",
              "            context.drawImage(video, 0, 0, canvas.width, canvas.height);\n",
              "            const dataURL = canvas.toDataURL('image/jpeg');\n",
              "            google.colab.kernel.invokeFunction('notebook.captureFrame', [dataURL], {});\n",
              "        }\n",
              "        getFrame();\n",
              "    "
            ]
          },
          "metadata": {}
        },
        {
          "output_type": "display_data",
          "data": {
            "text/plain": [
              "<IPython.core.display.Javascript object>"
            ],
            "application/javascript": [
              "\n",
              "        async function getFrame() {\n",
              "            let canvas = document.createElement('canvas');\n",
              "            let video = window.videoElement;\n",
              "            canvas.width = video.videoWidth;\n",
              "            canvas.height = video.videoHeight;\n",
              "            let context = canvas.getContext('2d');\n",
              "            context.drawImage(video, 0, 0, canvas.width, canvas.height);\n",
              "            const dataURL = canvas.toDataURL('image/jpeg');\n",
              "            google.colab.kernel.invokeFunction('notebook.captureFrame', [dataURL], {});\n",
              "        }\n",
              "        getFrame();\n",
              "    "
            ]
          },
          "metadata": {}
        },
        {
          "output_type": "display_data",
          "data": {
            "text/plain": [
              "<IPython.core.display.Javascript object>"
            ],
            "application/javascript": [
              "\n",
              "        async function getFrame() {\n",
              "            let canvas = document.createElement('canvas');\n",
              "            let video = window.videoElement;\n",
              "            canvas.width = video.videoWidth;\n",
              "            canvas.height = video.videoHeight;\n",
              "            let context = canvas.getContext('2d');\n",
              "            context.drawImage(video, 0, 0, canvas.width, canvas.height);\n",
              "            const dataURL = canvas.toDataURL('image/jpeg');\n",
              "            google.colab.kernel.invokeFunction('notebook.captureFrame', [dataURL], {});\n",
              "        }\n",
              "        getFrame();\n",
              "    "
            ]
          },
          "metadata": {}
        },
        {
          "output_type": "display_data",
          "data": {
            "text/plain": [
              "<IPython.core.display.Javascript object>"
            ],
            "application/javascript": [
              "\n",
              "        async function getFrame() {\n",
              "            let canvas = document.createElement('canvas');\n",
              "            let video = window.videoElement;\n",
              "            canvas.width = video.videoWidth;\n",
              "            canvas.height = video.videoHeight;\n",
              "            let context = canvas.getContext('2d');\n",
              "            context.drawImage(video, 0, 0, canvas.width, canvas.height);\n",
              "            const dataURL = canvas.toDataURL('image/jpeg');\n",
              "            google.colab.kernel.invokeFunction('notebook.captureFrame', [dataURL], {});\n",
              "        }\n",
              "        getFrame();\n",
              "    "
            ]
          },
          "metadata": {}
        },
        {
          "output_type": "display_data",
          "data": {
            "text/plain": [
              "<IPython.core.display.Javascript object>"
            ],
            "application/javascript": [
              "\n",
              "        async function getFrame() {\n",
              "            let canvas = document.createElement('canvas');\n",
              "            let video = window.videoElement;\n",
              "            canvas.width = video.videoWidth;\n",
              "            canvas.height = video.videoHeight;\n",
              "            let context = canvas.getContext('2d');\n",
              "            context.drawImage(video, 0, 0, canvas.width, canvas.height);\n",
              "            const dataURL = canvas.toDataURL('image/jpeg');\n",
              "            google.colab.kernel.invokeFunction('notebook.captureFrame', [dataURL], {});\n",
              "        }\n",
              "        getFrame();\n",
              "    "
            ]
          },
          "metadata": {}
        },
        {
          "output_type": "display_data",
          "data": {
            "text/plain": [
              "<IPython.core.display.Javascript object>"
            ],
            "application/javascript": [
              "\n",
              "        async function getFrame() {\n",
              "            let canvas = document.createElement('canvas');\n",
              "            let video = window.videoElement;\n",
              "            canvas.width = video.videoWidth;\n",
              "            canvas.height = video.videoHeight;\n",
              "            let context = canvas.getContext('2d');\n",
              "            context.drawImage(video, 0, 0, canvas.width, canvas.height);\n",
              "            const dataURL = canvas.toDataURL('image/jpeg');\n",
              "            google.colab.kernel.invokeFunction('notebook.captureFrame', [dataURL], {});\n",
              "        }\n",
              "        getFrame();\n",
              "    "
            ]
          },
          "metadata": {}
        },
        {
          "output_type": "display_data",
          "data": {
            "text/plain": [
              "<IPython.core.display.Javascript object>"
            ],
            "application/javascript": [
              "\n",
              "        async function getFrame() {\n",
              "            let canvas = document.createElement('canvas');\n",
              "            let video = window.videoElement;\n",
              "            canvas.width = video.videoWidth;\n",
              "            canvas.height = video.videoHeight;\n",
              "            let context = canvas.getContext('2d');\n",
              "            context.drawImage(video, 0, 0, canvas.width, canvas.height);\n",
              "            const dataURL = canvas.toDataURL('image/jpeg');\n",
              "            google.colab.kernel.invokeFunction('notebook.captureFrame', [dataURL], {});\n",
              "        }\n",
              "        getFrame();\n",
              "    "
            ]
          },
          "metadata": {}
        },
        {
          "output_type": "display_data",
          "data": {
            "text/plain": [
              "<IPython.core.display.Javascript object>"
            ],
            "application/javascript": [
              "\n",
              "        async function getFrame() {\n",
              "            let canvas = document.createElement('canvas');\n",
              "            let video = window.videoElement;\n",
              "            canvas.width = video.videoWidth;\n",
              "            canvas.height = video.videoHeight;\n",
              "            let context = canvas.getContext('2d');\n",
              "            context.drawImage(video, 0, 0, canvas.width, canvas.height);\n",
              "            const dataURL = canvas.toDataURL('image/jpeg');\n",
              "            google.colab.kernel.invokeFunction('notebook.captureFrame', [dataURL], {});\n",
              "        }\n",
              "        getFrame();\n",
              "    "
            ]
          },
          "metadata": {}
        },
        {
          "output_type": "display_data",
          "data": {
            "text/plain": [
              "<IPython.core.display.Javascript object>"
            ],
            "application/javascript": [
              "\n",
              "        async function getFrame() {\n",
              "            let canvas = document.createElement('canvas');\n",
              "            let video = window.videoElement;\n",
              "            canvas.width = video.videoWidth;\n",
              "            canvas.height = video.videoHeight;\n",
              "            let context = canvas.getContext('2d');\n",
              "            context.drawImage(video, 0, 0, canvas.width, canvas.height);\n",
              "            const dataURL = canvas.toDataURL('image/jpeg');\n",
              "            google.colab.kernel.invokeFunction('notebook.captureFrame', [dataURL], {});\n",
              "        }\n",
              "        getFrame();\n",
              "    "
            ]
          },
          "metadata": {}
        },
        {
          "output_type": "display_data",
          "data": {
            "text/plain": [
              "<IPython.core.display.Javascript object>"
            ],
            "application/javascript": [
              "\n",
              "        async function getFrame() {\n",
              "            let canvas = document.createElement('canvas');\n",
              "            let video = window.videoElement;\n",
              "            canvas.width = video.videoWidth;\n",
              "            canvas.height = video.videoHeight;\n",
              "            let context = canvas.getContext('2d');\n",
              "            context.drawImage(video, 0, 0, canvas.width, canvas.height);\n",
              "            const dataURL = canvas.toDataURL('image/jpeg');\n",
              "            google.colab.kernel.invokeFunction('notebook.captureFrame', [dataURL], {});\n",
              "        }\n",
              "        getFrame();\n",
              "    "
            ]
          },
          "metadata": {}
        },
        {
          "output_type": "display_data",
          "data": {
            "text/plain": [
              "<IPython.core.display.Javascript object>"
            ],
            "application/javascript": [
              "\n",
              "        async function getFrame() {\n",
              "            let canvas = document.createElement('canvas');\n",
              "            let video = window.videoElement;\n",
              "            canvas.width = video.videoWidth;\n",
              "            canvas.height = video.videoHeight;\n",
              "            let context = canvas.getContext('2d');\n",
              "            context.drawImage(video, 0, 0, canvas.width, canvas.height);\n",
              "            const dataURL = canvas.toDataURL('image/jpeg');\n",
              "            google.colab.kernel.invokeFunction('notebook.captureFrame', [dataURL], {});\n",
              "        }\n",
              "        getFrame();\n",
              "    "
            ]
          },
          "metadata": {}
        },
        {
          "output_type": "display_data",
          "data": {
            "text/plain": [
              "<IPython.core.display.Javascript object>"
            ],
            "application/javascript": [
              "\n",
              "        async function getFrame() {\n",
              "            let canvas = document.createElement('canvas');\n",
              "            let video = window.videoElement;\n",
              "            canvas.width = video.videoWidth;\n",
              "            canvas.height = video.videoHeight;\n",
              "            let context = canvas.getContext('2d');\n",
              "            context.drawImage(video, 0, 0, canvas.width, canvas.height);\n",
              "            const dataURL = canvas.toDataURL('image/jpeg');\n",
              "            google.colab.kernel.invokeFunction('notebook.captureFrame', [dataURL], {});\n",
              "        }\n",
              "        getFrame();\n",
              "    "
            ]
          },
          "metadata": {}
        },
        {
          "output_type": "display_data",
          "data": {
            "text/plain": [
              "<IPython.core.display.Javascript object>"
            ],
            "application/javascript": [
              "\n",
              "        async function getFrame() {\n",
              "            let canvas = document.createElement('canvas');\n",
              "            let video = window.videoElement;\n",
              "            canvas.width = video.videoWidth;\n",
              "            canvas.height = video.videoHeight;\n",
              "            let context = canvas.getContext('2d');\n",
              "            context.drawImage(video, 0, 0, canvas.width, canvas.height);\n",
              "            const dataURL = canvas.toDataURL('image/jpeg');\n",
              "            google.colab.kernel.invokeFunction('notebook.captureFrame', [dataURL], {});\n",
              "        }\n",
              "        getFrame();\n",
              "    "
            ]
          },
          "metadata": {}
        },
        {
          "output_type": "display_data",
          "data": {
            "text/plain": [
              "<IPython.core.display.Javascript object>"
            ],
            "application/javascript": [
              "\n",
              "        async function getFrame() {\n",
              "            let canvas = document.createElement('canvas');\n",
              "            let video = window.videoElement;\n",
              "            canvas.width = video.videoWidth;\n",
              "            canvas.height = video.videoHeight;\n",
              "            let context = canvas.getContext('2d');\n",
              "            context.drawImage(video, 0, 0, canvas.width, canvas.height);\n",
              "            const dataURL = canvas.toDataURL('image/jpeg');\n",
              "            google.colab.kernel.invokeFunction('notebook.captureFrame', [dataURL], {});\n",
              "        }\n",
              "        getFrame();\n",
              "    "
            ]
          },
          "metadata": {}
        },
        {
          "output_type": "display_data",
          "data": {
            "text/plain": [
              "<IPython.core.display.Javascript object>"
            ],
            "application/javascript": [
              "\n",
              "        async function getFrame() {\n",
              "            let canvas = document.createElement('canvas');\n",
              "            let video = window.videoElement;\n",
              "            canvas.width = video.videoWidth;\n",
              "            canvas.height = video.videoHeight;\n",
              "            let context = canvas.getContext('2d');\n",
              "            context.drawImage(video, 0, 0, canvas.width, canvas.height);\n",
              "            const dataURL = canvas.toDataURL('image/jpeg');\n",
              "            google.colab.kernel.invokeFunction('notebook.captureFrame', [dataURL], {});\n",
              "        }\n",
              "        getFrame();\n",
              "    "
            ]
          },
          "metadata": {}
        },
        {
          "output_type": "display_data",
          "data": {
            "text/plain": [
              "<IPython.core.display.Javascript object>"
            ],
            "application/javascript": [
              "\n",
              "        async function getFrame() {\n",
              "            let canvas = document.createElement('canvas');\n",
              "            let video = window.videoElement;\n",
              "            canvas.width = video.videoWidth;\n",
              "            canvas.height = video.videoHeight;\n",
              "            let context = canvas.getContext('2d');\n",
              "            context.drawImage(video, 0, 0, canvas.width, canvas.height);\n",
              "            const dataURL = canvas.toDataURL('image/jpeg');\n",
              "            google.colab.kernel.invokeFunction('notebook.captureFrame', [dataURL], {});\n",
              "        }\n",
              "        getFrame();\n",
              "    "
            ]
          },
          "metadata": {}
        },
        {
          "output_type": "display_data",
          "data": {
            "text/plain": [
              "<IPython.core.display.Javascript object>"
            ],
            "application/javascript": [
              "\n",
              "        async function getFrame() {\n",
              "            let canvas = document.createElement('canvas');\n",
              "            let video = window.videoElement;\n",
              "            canvas.width = video.videoWidth;\n",
              "            canvas.height = video.videoHeight;\n",
              "            let context = canvas.getContext('2d');\n",
              "            context.drawImage(video, 0, 0, canvas.width, canvas.height);\n",
              "            const dataURL = canvas.toDataURL('image/jpeg');\n",
              "            google.colab.kernel.invokeFunction('notebook.captureFrame', [dataURL], {});\n",
              "        }\n",
              "        getFrame();\n",
              "    "
            ]
          },
          "metadata": {}
        },
        {
          "output_type": "display_data",
          "data": {
            "text/plain": [
              "<IPython.core.display.Javascript object>"
            ],
            "application/javascript": [
              "\n",
              "        async function getFrame() {\n",
              "            let canvas = document.createElement('canvas');\n",
              "            let video = window.videoElement;\n",
              "            canvas.width = video.videoWidth;\n",
              "            canvas.height = video.videoHeight;\n",
              "            let context = canvas.getContext('2d');\n",
              "            context.drawImage(video, 0, 0, canvas.width, canvas.height);\n",
              "            const dataURL = canvas.toDataURL('image/jpeg');\n",
              "            google.colab.kernel.invokeFunction('notebook.captureFrame', [dataURL], {});\n",
              "        }\n",
              "        getFrame();\n",
              "    "
            ]
          },
          "metadata": {}
        },
        {
          "output_type": "display_data",
          "data": {
            "text/plain": [
              "<IPython.core.display.Javascript object>"
            ],
            "application/javascript": [
              "\n",
              "        async function getFrame() {\n",
              "            let canvas = document.createElement('canvas');\n",
              "            let video = window.videoElement;\n",
              "            canvas.width = video.videoWidth;\n",
              "            canvas.height = video.videoHeight;\n",
              "            let context = canvas.getContext('2d');\n",
              "            context.drawImage(video, 0, 0, canvas.width, canvas.height);\n",
              "            const dataURL = canvas.toDataURL('image/jpeg');\n",
              "            google.colab.kernel.invokeFunction('notebook.captureFrame', [dataURL], {});\n",
              "        }\n",
              "        getFrame();\n",
              "    "
            ]
          },
          "metadata": {}
        },
        {
          "output_type": "display_data",
          "data": {
            "text/plain": [
              "<IPython.core.display.Javascript object>"
            ],
            "application/javascript": [
              "\n",
              "        async function getFrame() {\n",
              "            let canvas = document.createElement('canvas');\n",
              "            let video = window.videoElement;\n",
              "            canvas.width = video.videoWidth;\n",
              "            canvas.height = video.videoHeight;\n",
              "            let context = canvas.getContext('2d');\n",
              "            context.drawImage(video, 0, 0, canvas.width, canvas.height);\n",
              "            const dataURL = canvas.toDataURL('image/jpeg');\n",
              "            google.colab.kernel.invokeFunction('notebook.captureFrame', [dataURL], {});\n",
              "        }\n",
              "        getFrame();\n",
              "    "
            ]
          },
          "metadata": {}
        },
        {
          "output_type": "display_data",
          "data": {
            "text/plain": [
              "<IPython.core.display.Javascript object>"
            ],
            "application/javascript": [
              "\n",
              "        async function getFrame() {\n",
              "            let canvas = document.createElement('canvas');\n",
              "            let video = window.videoElement;\n",
              "            canvas.width = video.videoWidth;\n",
              "            canvas.height = video.videoHeight;\n",
              "            let context = canvas.getContext('2d');\n",
              "            context.drawImage(video, 0, 0, canvas.width, canvas.height);\n",
              "            const dataURL = canvas.toDataURL('image/jpeg');\n",
              "            google.colab.kernel.invokeFunction('notebook.captureFrame', [dataURL], {});\n",
              "        }\n",
              "        getFrame();\n",
              "    "
            ]
          },
          "metadata": {}
        },
        {
          "output_type": "display_data",
          "data": {
            "text/plain": [
              "<IPython.core.display.Javascript object>"
            ],
            "application/javascript": [
              "\n",
              "        async function getFrame() {\n",
              "            let canvas = document.createElement('canvas');\n",
              "            let video = window.videoElement;\n",
              "            canvas.width = video.videoWidth;\n",
              "            canvas.height = video.videoHeight;\n",
              "            let context = canvas.getContext('2d');\n",
              "            context.drawImage(video, 0, 0, canvas.width, canvas.height);\n",
              "            const dataURL = canvas.toDataURL('image/jpeg');\n",
              "            google.colab.kernel.invokeFunction('notebook.captureFrame', [dataURL], {});\n",
              "        }\n",
              "        getFrame();\n",
              "    "
            ]
          },
          "metadata": {}
        },
        {
          "output_type": "display_data",
          "data": {
            "text/plain": [
              "<IPython.core.display.Javascript object>"
            ],
            "application/javascript": [
              "\n",
              "        async function getFrame() {\n",
              "            let canvas = document.createElement('canvas');\n",
              "            let video = window.videoElement;\n",
              "            canvas.width = video.videoWidth;\n",
              "            canvas.height = video.videoHeight;\n",
              "            let context = canvas.getContext('2d');\n",
              "            context.drawImage(video, 0, 0, canvas.width, canvas.height);\n",
              "            const dataURL = canvas.toDataURL('image/jpeg');\n",
              "            google.colab.kernel.invokeFunction('notebook.captureFrame', [dataURL], {});\n",
              "        }\n",
              "        getFrame();\n",
              "    "
            ]
          },
          "metadata": {}
        },
        {
          "output_type": "display_data",
          "data": {
            "text/plain": [
              "<IPython.core.display.Javascript object>"
            ],
            "application/javascript": [
              "\n",
              "        async function getFrame() {\n",
              "            let canvas = document.createElement('canvas');\n",
              "            let video = window.videoElement;\n",
              "            canvas.width = video.videoWidth;\n",
              "            canvas.height = video.videoHeight;\n",
              "            let context = canvas.getContext('2d');\n",
              "            context.drawImage(video, 0, 0, canvas.width, canvas.height);\n",
              "            const dataURL = canvas.toDataURL('image/jpeg');\n",
              "            google.colab.kernel.invokeFunction('notebook.captureFrame', [dataURL], {});\n",
              "        }\n",
              "        getFrame();\n",
              "    "
            ]
          },
          "metadata": {}
        },
        {
          "output_type": "display_data",
          "data": {
            "text/plain": [
              "<IPython.core.display.Javascript object>"
            ],
            "application/javascript": [
              "\n",
              "        async function getFrame() {\n",
              "            let canvas = document.createElement('canvas');\n",
              "            let video = window.videoElement;\n",
              "            canvas.width = video.videoWidth;\n",
              "            canvas.height = video.videoHeight;\n",
              "            let context = canvas.getContext('2d');\n",
              "            context.drawImage(video, 0, 0, canvas.width, canvas.height);\n",
              "            const dataURL = canvas.toDataURL('image/jpeg');\n",
              "            google.colab.kernel.invokeFunction('notebook.captureFrame', [dataURL], {});\n",
              "        }\n",
              "        getFrame();\n",
              "    "
            ]
          },
          "metadata": {}
        },
        {
          "output_type": "display_data",
          "data": {
            "text/plain": [
              "<IPython.core.display.Javascript object>"
            ],
            "application/javascript": [
              "\n",
              "        async function getFrame() {\n",
              "            let canvas = document.createElement('canvas');\n",
              "            let video = window.videoElement;\n",
              "            canvas.width = video.videoWidth;\n",
              "            canvas.height = video.videoHeight;\n",
              "            let context = canvas.getContext('2d');\n",
              "            context.drawImage(video, 0, 0, canvas.width, canvas.height);\n",
              "            const dataURL = canvas.toDataURL('image/jpeg');\n",
              "            google.colab.kernel.invokeFunction('notebook.captureFrame', [dataURL], {});\n",
              "        }\n",
              "        getFrame();\n",
              "    "
            ]
          },
          "metadata": {}
        },
        {
          "output_type": "display_data",
          "data": {
            "text/plain": [
              "<IPython.core.display.Javascript object>"
            ],
            "application/javascript": [
              "\n",
              "        async function getFrame() {\n",
              "            let canvas = document.createElement('canvas');\n",
              "            let video = window.videoElement;\n",
              "            canvas.width = video.videoWidth;\n",
              "            canvas.height = video.videoHeight;\n",
              "            let context = canvas.getContext('2d');\n",
              "            context.drawImage(video, 0, 0, canvas.width, canvas.height);\n",
              "            const dataURL = canvas.toDataURL('image/jpeg');\n",
              "            google.colab.kernel.invokeFunction('notebook.captureFrame', [dataURL], {});\n",
              "        }\n",
              "        getFrame();\n",
              "    "
            ]
          },
          "metadata": {}
        },
        {
          "output_type": "display_data",
          "data": {
            "text/plain": [
              "<IPython.core.display.Javascript object>"
            ],
            "application/javascript": [
              "\n",
              "        async function getFrame() {\n",
              "            let canvas = document.createElement('canvas');\n",
              "            let video = window.videoElement;\n",
              "            canvas.width = video.videoWidth;\n",
              "            canvas.height = video.videoHeight;\n",
              "            let context = canvas.getContext('2d');\n",
              "            context.drawImage(video, 0, 0, canvas.width, canvas.height);\n",
              "            const dataURL = canvas.toDataURL('image/jpeg');\n",
              "            google.colab.kernel.invokeFunction('notebook.captureFrame', [dataURL], {});\n",
              "        }\n",
              "        getFrame();\n",
              "    "
            ]
          },
          "metadata": {}
        },
        {
          "output_type": "display_data",
          "data": {
            "text/plain": [
              "<IPython.core.display.Javascript object>"
            ],
            "application/javascript": [
              "\n",
              "        async function getFrame() {\n",
              "            let canvas = document.createElement('canvas');\n",
              "            let video = window.videoElement;\n",
              "            canvas.width = video.videoWidth;\n",
              "            canvas.height = video.videoHeight;\n",
              "            let context = canvas.getContext('2d');\n",
              "            context.drawImage(video, 0, 0, canvas.width, canvas.height);\n",
              "            const dataURL = canvas.toDataURL('image/jpeg');\n",
              "            google.colab.kernel.invokeFunction('notebook.captureFrame', [dataURL], {});\n",
              "        }\n",
              "        getFrame();\n",
              "    "
            ]
          },
          "metadata": {}
        },
        {
          "output_type": "display_data",
          "data": {
            "text/plain": [
              "<IPython.core.display.Javascript object>"
            ],
            "application/javascript": [
              "\n",
              "        async function getFrame() {\n",
              "            let canvas = document.createElement('canvas');\n",
              "            let video = window.videoElement;\n",
              "            canvas.width = video.videoWidth;\n",
              "            canvas.height = video.videoHeight;\n",
              "            let context = canvas.getContext('2d');\n",
              "            context.drawImage(video, 0, 0, canvas.width, canvas.height);\n",
              "            const dataURL = canvas.toDataURL('image/jpeg');\n",
              "            google.colab.kernel.invokeFunction('notebook.captureFrame', [dataURL], {});\n",
              "        }\n",
              "        getFrame();\n",
              "    "
            ]
          },
          "metadata": {}
        },
        {
          "output_type": "display_data",
          "data": {
            "text/plain": [
              "<IPython.core.display.Javascript object>"
            ],
            "application/javascript": [
              "\n",
              "        async function getFrame() {\n",
              "            let canvas = document.createElement('canvas');\n",
              "            let video = window.videoElement;\n",
              "            canvas.width = video.videoWidth;\n",
              "            canvas.height = video.videoHeight;\n",
              "            let context = canvas.getContext('2d');\n",
              "            context.drawImage(video, 0, 0, canvas.width, canvas.height);\n",
              "            const dataURL = canvas.toDataURL('image/jpeg');\n",
              "            google.colab.kernel.invokeFunction('notebook.captureFrame', [dataURL], {});\n",
              "        }\n",
              "        getFrame();\n",
              "    "
            ]
          },
          "metadata": {}
        },
        {
          "output_type": "display_data",
          "data": {
            "text/plain": [
              "<IPython.core.display.Javascript object>"
            ],
            "application/javascript": [
              "\n",
              "        async function getFrame() {\n",
              "            let canvas = document.createElement('canvas');\n",
              "            let video = window.videoElement;\n",
              "            canvas.width = video.videoWidth;\n",
              "            canvas.height = video.videoHeight;\n",
              "            let context = canvas.getContext('2d');\n",
              "            context.drawImage(video, 0, 0, canvas.width, canvas.height);\n",
              "            const dataURL = canvas.toDataURL('image/jpeg');\n",
              "            google.colab.kernel.invokeFunction('notebook.captureFrame', [dataURL], {});\n",
              "        }\n",
              "        getFrame();\n",
              "    "
            ]
          },
          "metadata": {}
        },
        {
          "output_type": "display_data",
          "data": {
            "text/plain": [
              "<IPython.core.display.Javascript object>"
            ],
            "application/javascript": [
              "\n",
              "        async function getFrame() {\n",
              "            let canvas = document.createElement('canvas');\n",
              "            let video = window.videoElement;\n",
              "            canvas.width = video.videoWidth;\n",
              "            canvas.height = video.videoHeight;\n",
              "            let context = canvas.getContext('2d');\n",
              "            context.drawImage(video, 0, 0, canvas.width, canvas.height);\n",
              "            const dataURL = canvas.toDataURL('image/jpeg');\n",
              "            google.colab.kernel.invokeFunction('notebook.captureFrame', [dataURL], {});\n",
              "        }\n",
              "        getFrame();\n",
              "    "
            ]
          },
          "metadata": {}
        },
        {
          "output_type": "display_data",
          "data": {
            "text/plain": [
              "<IPython.core.display.Javascript object>"
            ],
            "application/javascript": [
              "\n",
              "        async function getFrame() {\n",
              "            let canvas = document.createElement('canvas');\n",
              "            let video = window.videoElement;\n",
              "            canvas.width = video.videoWidth;\n",
              "            canvas.height = video.videoHeight;\n",
              "            let context = canvas.getContext('2d');\n",
              "            context.drawImage(video, 0, 0, canvas.width, canvas.height);\n",
              "            const dataURL = canvas.toDataURL('image/jpeg');\n",
              "            google.colab.kernel.invokeFunction('notebook.captureFrame', [dataURL], {});\n",
              "        }\n",
              "        getFrame();\n",
              "    "
            ]
          },
          "metadata": {}
        },
        {
          "output_type": "display_data",
          "data": {
            "text/plain": [
              "<IPython.core.display.Javascript object>"
            ],
            "application/javascript": [
              "\n",
              "        async function getFrame() {\n",
              "            let canvas = document.createElement('canvas');\n",
              "            let video = window.videoElement;\n",
              "            canvas.width = video.videoWidth;\n",
              "            canvas.height = video.videoHeight;\n",
              "            let context = canvas.getContext('2d');\n",
              "            context.drawImage(video, 0, 0, canvas.width, canvas.height);\n",
              "            const dataURL = canvas.toDataURL('image/jpeg');\n",
              "            google.colab.kernel.invokeFunction('notebook.captureFrame', [dataURL], {});\n",
              "        }\n",
              "        getFrame();\n",
              "    "
            ]
          },
          "metadata": {}
        },
        {
          "output_type": "display_data",
          "data": {
            "text/plain": [
              "<IPython.core.display.Javascript object>"
            ],
            "application/javascript": [
              "\n",
              "        async function getFrame() {\n",
              "            let canvas = document.createElement('canvas');\n",
              "            let video = window.videoElement;\n",
              "            canvas.width = video.videoWidth;\n",
              "            canvas.height = video.videoHeight;\n",
              "            let context = canvas.getContext('2d');\n",
              "            context.drawImage(video, 0, 0, canvas.width, canvas.height);\n",
              "            const dataURL = canvas.toDataURL('image/jpeg');\n",
              "            google.colab.kernel.invokeFunction('notebook.captureFrame', [dataURL], {});\n",
              "        }\n",
              "        getFrame();\n",
              "    "
            ]
          },
          "metadata": {}
        },
        {
          "output_type": "display_data",
          "data": {
            "text/plain": [
              "<IPython.core.display.Javascript object>"
            ],
            "application/javascript": [
              "\n",
              "        async function getFrame() {\n",
              "            let canvas = document.createElement('canvas');\n",
              "            let video = window.videoElement;\n",
              "            canvas.width = video.videoWidth;\n",
              "            canvas.height = video.videoHeight;\n",
              "            let context = canvas.getContext('2d');\n",
              "            context.drawImage(video, 0, 0, canvas.width, canvas.height);\n",
              "            const dataURL = canvas.toDataURL('image/jpeg');\n",
              "            google.colab.kernel.invokeFunction('notebook.captureFrame', [dataURL], {});\n",
              "        }\n",
              "        getFrame();\n",
              "    "
            ]
          },
          "metadata": {}
        },
        {
          "output_type": "display_data",
          "data": {
            "text/plain": [
              "<IPython.core.display.Javascript object>"
            ],
            "application/javascript": [
              "\n",
              "        async function getFrame() {\n",
              "            let canvas = document.createElement('canvas');\n",
              "            let video = window.videoElement;\n",
              "            canvas.width = video.videoWidth;\n",
              "            canvas.height = video.videoHeight;\n",
              "            let context = canvas.getContext('2d');\n",
              "            context.drawImage(video, 0, 0, canvas.width, canvas.height);\n",
              "            const dataURL = canvas.toDataURL('image/jpeg');\n",
              "            google.colab.kernel.invokeFunction('notebook.captureFrame', [dataURL], {});\n",
              "        }\n",
              "        getFrame();\n",
              "    "
            ]
          },
          "metadata": {}
        },
        {
          "output_type": "display_data",
          "data": {
            "text/plain": [
              "<IPython.core.display.Javascript object>"
            ],
            "application/javascript": [
              "\n",
              "        async function getFrame() {\n",
              "            let canvas = document.createElement('canvas');\n",
              "            let video = window.videoElement;\n",
              "            canvas.width = video.videoWidth;\n",
              "            canvas.height = video.videoHeight;\n",
              "            let context = canvas.getContext('2d');\n",
              "            context.drawImage(video, 0, 0, canvas.width, canvas.height);\n",
              "            const dataURL = canvas.toDataURL('image/jpeg');\n",
              "            google.colab.kernel.invokeFunction('notebook.captureFrame', [dataURL], {});\n",
              "        }\n",
              "        getFrame();\n",
              "    "
            ]
          },
          "metadata": {}
        },
        {
          "output_type": "display_data",
          "data": {
            "text/plain": [
              "<IPython.core.display.Javascript object>"
            ],
            "application/javascript": [
              "\n",
              "        async function getFrame() {\n",
              "            let canvas = document.createElement('canvas');\n",
              "            let video = window.videoElement;\n",
              "            canvas.width = video.videoWidth;\n",
              "            canvas.height = video.videoHeight;\n",
              "            let context = canvas.getContext('2d');\n",
              "            context.drawImage(video, 0, 0, canvas.width, canvas.height);\n",
              "            const dataURL = canvas.toDataURL('image/jpeg');\n",
              "            google.colab.kernel.invokeFunction('notebook.captureFrame', [dataURL], {});\n",
              "        }\n",
              "        getFrame();\n",
              "    "
            ]
          },
          "metadata": {}
        },
        {
          "output_type": "display_data",
          "data": {
            "text/plain": [
              "<IPython.core.display.Javascript object>"
            ],
            "application/javascript": [
              "\n",
              "        async function getFrame() {\n",
              "            let canvas = document.createElement('canvas');\n",
              "            let video = window.videoElement;\n",
              "            canvas.width = video.videoWidth;\n",
              "            canvas.height = video.videoHeight;\n",
              "            let context = canvas.getContext('2d');\n",
              "            context.drawImage(video, 0, 0, canvas.width, canvas.height);\n",
              "            const dataURL = canvas.toDataURL('image/jpeg');\n",
              "            google.colab.kernel.invokeFunction('notebook.captureFrame', [dataURL], {});\n",
              "        }\n",
              "        getFrame();\n",
              "    "
            ]
          },
          "metadata": {}
        },
        {
          "output_type": "display_data",
          "data": {
            "text/plain": [
              "<IPython.core.display.Javascript object>"
            ],
            "application/javascript": [
              "\n",
              "        async function getFrame() {\n",
              "            let canvas = document.createElement('canvas');\n",
              "            let video = window.videoElement;\n",
              "            canvas.width = video.videoWidth;\n",
              "            canvas.height = video.videoHeight;\n",
              "            let context = canvas.getContext('2d');\n",
              "            context.drawImage(video, 0, 0, canvas.width, canvas.height);\n",
              "            const dataURL = canvas.toDataURL('image/jpeg');\n",
              "            google.colab.kernel.invokeFunction('notebook.captureFrame', [dataURL], {});\n",
              "        }\n",
              "        getFrame();\n",
              "    "
            ]
          },
          "metadata": {}
        },
        {
          "output_type": "display_data",
          "data": {
            "text/plain": [
              "<IPython.core.display.Javascript object>"
            ],
            "application/javascript": [
              "\n",
              "        async function getFrame() {\n",
              "            let canvas = document.createElement('canvas');\n",
              "            let video = window.videoElement;\n",
              "            canvas.width = video.videoWidth;\n",
              "            canvas.height = video.videoHeight;\n",
              "            let context = canvas.getContext('2d');\n",
              "            context.drawImage(video, 0, 0, canvas.width, canvas.height);\n",
              "            const dataURL = canvas.toDataURL('image/jpeg');\n",
              "            google.colab.kernel.invokeFunction('notebook.captureFrame', [dataURL], {});\n",
              "        }\n",
              "        getFrame();\n",
              "    "
            ]
          },
          "metadata": {}
        },
        {
          "output_type": "display_data",
          "data": {
            "text/plain": [
              "<IPython.core.display.Javascript object>"
            ],
            "application/javascript": [
              "\n",
              "        async function getFrame() {\n",
              "            let canvas = document.createElement('canvas');\n",
              "            let video = window.videoElement;\n",
              "            canvas.width = video.videoWidth;\n",
              "            canvas.height = video.videoHeight;\n",
              "            let context = canvas.getContext('2d');\n",
              "            context.drawImage(video, 0, 0, canvas.width, canvas.height);\n",
              "            const dataURL = canvas.toDataURL('image/jpeg');\n",
              "            google.colab.kernel.invokeFunction('notebook.captureFrame', [dataURL], {});\n",
              "        }\n",
              "        getFrame();\n",
              "    "
            ]
          },
          "metadata": {}
        },
        {
          "output_type": "display_data",
          "data": {
            "text/plain": [
              "<IPython.core.display.Javascript object>"
            ],
            "application/javascript": [
              "\n",
              "        async function getFrame() {\n",
              "            let canvas = document.createElement('canvas');\n",
              "            let video = window.videoElement;\n",
              "            canvas.width = video.videoWidth;\n",
              "            canvas.height = video.videoHeight;\n",
              "            let context = canvas.getContext('2d');\n",
              "            context.drawImage(video, 0, 0, canvas.width, canvas.height);\n",
              "            const dataURL = canvas.toDataURL('image/jpeg');\n",
              "            google.colab.kernel.invokeFunction('notebook.captureFrame', [dataURL], {});\n",
              "        }\n",
              "        getFrame();\n",
              "    "
            ]
          },
          "metadata": {}
        },
        {
          "output_type": "display_data",
          "data": {
            "text/plain": [
              "<IPython.core.display.Javascript object>"
            ],
            "application/javascript": [
              "\n",
              "        async function getFrame() {\n",
              "            let canvas = document.createElement('canvas');\n",
              "            let video = window.videoElement;\n",
              "            canvas.width = video.videoWidth;\n",
              "            canvas.height = video.videoHeight;\n",
              "            let context = canvas.getContext('2d');\n",
              "            context.drawImage(video, 0, 0, canvas.width, canvas.height);\n",
              "            const dataURL = canvas.toDataURL('image/jpeg');\n",
              "            google.colab.kernel.invokeFunction('notebook.captureFrame', [dataURL], {});\n",
              "        }\n",
              "        getFrame();\n",
              "    "
            ]
          },
          "metadata": {}
        },
        {
          "output_type": "display_data",
          "data": {
            "text/plain": [
              "<IPython.core.display.Javascript object>"
            ],
            "application/javascript": [
              "\n",
              "        async function getFrame() {\n",
              "            let canvas = document.createElement('canvas');\n",
              "            let video = window.videoElement;\n",
              "            canvas.width = video.videoWidth;\n",
              "            canvas.height = video.videoHeight;\n",
              "            let context = canvas.getContext('2d');\n",
              "            context.drawImage(video, 0, 0, canvas.width, canvas.height);\n",
              "            const dataURL = canvas.toDataURL('image/jpeg');\n",
              "            google.colab.kernel.invokeFunction('notebook.captureFrame', [dataURL], {});\n",
              "        }\n",
              "        getFrame();\n",
              "    "
            ]
          },
          "metadata": {}
        },
        {
          "output_type": "display_data",
          "data": {
            "text/plain": [
              "<IPython.core.display.Javascript object>"
            ],
            "application/javascript": [
              "\n",
              "        async function getFrame() {\n",
              "            let canvas = document.createElement('canvas');\n",
              "            let video = window.videoElement;\n",
              "            canvas.width = video.videoWidth;\n",
              "            canvas.height = video.videoHeight;\n",
              "            let context = canvas.getContext('2d');\n",
              "            context.drawImage(video, 0, 0, canvas.width, canvas.height);\n",
              "            const dataURL = canvas.toDataURL('image/jpeg');\n",
              "            google.colab.kernel.invokeFunction('notebook.captureFrame', [dataURL], {});\n",
              "        }\n",
              "        getFrame();\n",
              "    "
            ]
          },
          "metadata": {}
        },
        {
          "output_type": "display_data",
          "data": {
            "text/plain": [
              "<IPython.core.display.Javascript object>"
            ],
            "application/javascript": [
              "\n",
              "        async function getFrame() {\n",
              "            let canvas = document.createElement('canvas');\n",
              "            let video = window.videoElement;\n",
              "            canvas.width = video.videoWidth;\n",
              "            canvas.height = video.videoHeight;\n",
              "            let context = canvas.getContext('2d');\n",
              "            context.drawImage(video, 0, 0, canvas.width, canvas.height);\n",
              "            const dataURL = canvas.toDataURL('image/jpeg');\n",
              "            google.colab.kernel.invokeFunction('notebook.captureFrame', [dataURL], {});\n",
              "        }\n",
              "        getFrame();\n",
              "    "
            ]
          },
          "metadata": {}
        },
        {
          "output_type": "display_data",
          "data": {
            "text/plain": [
              "<IPython.core.display.Javascript object>"
            ],
            "application/javascript": [
              "\n",
              "        async function getFrame() {\n",
              "            let canvas = document.createElement('canvas');\n",
              "            let video = window.videoElement;\n",
              "            canvas.width = video.videoWidth;\n",
              "            canvas.height = video.videoHeight;\n",
              "            let context = canvas.getContext('2d');\n",
              "            context.drawImage(video, 0, 0, canvas.width, canvas.height);\n",
              "            const dataURL = canvas.toDataURL('image/jpeg');\n",
              "            google.colab.kernel.invokeFunction('notebook.captureFrame', [dataURL], {});\n",
              "        }\n",
              "        getFrame();\n",
              "    "
            ]
          },
          "metadata": {}
        },
        {
          "output_type": "display_data",
          "data": {
            "text/plain": [
              "<IPython.core.display.Javascript object>"
            ],
            "application/javascript": [
              "\n",
              "        async function getFrame() {\n",
              "            let canvas = document.createElement('canvas');\n",
              "            let video = window.videoElement;\n",
              "            canvas.width = video.videoWidth;\n",
              "            canvas.height = video.videoHeight;\n",
              "            let context = canvas.getContext('2d');\n",
              "            context.drawImage(video, 0, 0, canvas.width, canvas.height);\n",
              "            const dataURL = canvas.toDataURL('image/jpeg');\n",
              "            google.colab.kernel.invokeFunction('notebook.captureFrame', [dataURL], {});\n",
              "        }\n",
              "        getFrame();\n",
              "    "
            ]
          },
          "metadata": {}
        },
        {
          "output_type": "display_data",
          "data": {
            "text/plain": [
              "<IPython.core.display.Javascript object>"
            ],
            "application/javascript": [
              "\n",
              "        async function getFrame() {\n",
              "            let canvas = document.createElement('canvas');\n",
              "            let video = window.videoElement;\n",
              "            canvas.width = video.videoWidth;\n",
              "            canvas.height = video.videoHeight;\n",
              "            let context = canvas.getContext('2d');\n",
              "            context.drawImage(video, 0, 0, canvas.width, canvas.height);\n",
              "            const dataURL = canvas.toDataURL('image/jpeg');\n",
              "            google.colab.kernel.invokeFunction('notebook.captureFrame', [dataURL], {});\n",
              "        }\n",
              "        getFrame();\n",
              "    "
            ]
          },
          "metadata": {}
        },
        {
          "output_type": "display_data",
          "data": {
            "text/plain": [
              "<IPython.core.display.Javascript object>"
            ],
            "application/javascript": [
              "\n",
              "        async function getFrame() {\n",
              "            let canvas = document.createElement('canvas');\n",
              "            let video = window.videoElement;\n",
              "            canvas.width = video.videoWidth;\n",
              "            canvas.height = video.videoHeight;\n",
              "            let context = canvas.getContext('2d');\n",
              "            context.drawImage(video, 0, 0, canvas.width, canvas.height);\n",
              "            const dataURL = canvas.toDataURL('image/jpeg');\n",
              "            google.colab.kernel.invokeFunction('notebook.captureFrame', [dataURL], {});\n",
              "        }\n",
              "        getFrame();\n",
              "    "
            ]
          },
          "metadata": {}
        },
        {
          "output_type": "display_data",
          "data": {
            "text/plain": [
              "<IPython.core.display.Javascript object>"
            ],
            "application/javascript": [
              "\n",
              "        async function getFrame() {\n",
              "            let canvas = document.createElement('canvas');\n",
              "            let video = window.videoElement;\n",
              "            canvas.width = video.videoWidth;\n",
              "            canvas.height = video.videoHeight;\n",
              "            let context = canvas.getContext('2d');\n",
              "            context.drawImage(video, 0, 0, canvas.width, canvas.height);\n",
              "            const dataURL = canvas.toDataURL('image/jpeg');\n",
              "            google.colab.kernel.invokeFunction('notebook.captureFrame', [dataURL], {});\n",
              "        }\n",
              "        getFrame();\n",
              "    "
            ]
          },
          "metadata": {}
        },
        {
          "output_type": "display_data",
          "data": {
            "text/plain": [
              "<IPython.core.display.Javascript object>"
            ],
            "application/javascript": [
              "\n",
              "        async function getFrame() {\n",
              "            let canvas = document.createElement('canvas');\n",
              "            let video = window.videoElement;\n",
              "            canvas.width = video.videoWidth;\n",
              "            canvas.height = video.videoHeight;\n",
              "            let context = canvas.getContext('2d');\n",
              "            context.drawImage(video, 0, 0, canvas.width, canvas.height);\n",
              "            const dataURL = canvas.toDataURL('image/jpeg');\n",
              "            google.colab.kernel.invokeFunction('notebook.captureFrame', [dataURL], {});\n",
              "        }\n",
              "        getFrame();\n",
              "    "
            ]
          },
          "metadata": {}
        },
        {
          "output_type": "display_data",
          "data": {
            "text/plain": [
              "<IPython.core.display.Javascript object>"
            ],
            "application/javascript": [
              "\n",
              "        async function getFrame() {\n",
              "            let canvas = document.createElement('canvas');\n",
              "            let video = window.videoElement;\n",
              "            canvas.width = video.videoWidth;\n",
              "            canvas.height = video.videoHeight;\n",
              "            let context = canvas.getContext('2d');\n",
              "            context.drawImage(video, 0, 0, canvas.width, canvas.height);\n",
              "            const dataURL = canvas.toDataURL('image/jpeg');\n",
              "            google.colab.kernel.invokeFunction('notebook.captureFrame', [dataURL], {});\n",
              "        }\n",
              "        getFrame();\n",
              "    "
            ]
          },
          "metadata": {}
        },
        {
          "output_type": "display_data",
          "data": {
            "text/plain": [
              "<IPython.core.display.Javascript object>"
            ],
            "application/javascript": [
              "\n",
              "        async function getFrame() {\n",
              "            let canvas = document.createElement('canvas');\n",
              "            let video = window.videoElement;\n",
              "            canvas.width = video.videoWidth;\n",
              "            canvas.height = video.videoHeight;\n",
              "            let context = canvas.getContext('2d');\n",
              "            context.drawImage(video, 0, 0, canvas.width, canvas.height);\n",
              "            const dataURL = canvas.toDataURL('image/jpeg');\n",
              "            google.colab.kernel.invokeFunction('notebook.captureFrame', [dataURL], {});\n",
              "        }\n",
              "        getFrame();\n",
              "    "
            ]
          },
          "metadata": {}
        },
        {
          "output_type": "display_data",
          "data": {
            "text/plain": [
              "<IPython.core.display.Javascript object>"
            ],
            "application/javascript": [
              "\n",
              "        async function getFrame() {\n",
              "            let canvas = document.createElement('canvas');\n",
              "            let video = window.videoElement;\n",
              "            canvas.width = video.videoWidth;\n",
              "            canvas.height = video.videoHeight;\n",
              "            let context = canvas.getContext('2d');\n",
              "            context.drawImage(video, 0, 0, canvas.width, canvas.height);\n",
              "            const dataURL = canvas.toDataURL('image/jpeg');\n",
              "            google.colab.kernel.invokeFunction('notebook.captureFrame', [dataURL], {});\n",
              "        }\n",
              "        getFrame();\n",
              "    "
            ]
          },
          "metadata": {}
        },
        {
          "output_type": "display_data",
          "data": {
            "text/plain": [
              "<IPython.core.display.Javascript object>"
            ],
            "application/javascript": [
              "\n",
              "        async function getFrame() {\n",
              "            let canvas = document.createElement('canvas');\n",
              "            let video = window.videoElement;\n",
              "            canvas.width = video.videoWidth;\n",
              "            canvas.height = video.videoHeight;\n",
              "            let context = canvas.getContext('2d');\n",
              "            context.drawImage(video, 0, 0, canvas.width, canvas.height);\n",
              "            const dataURL = canvas.toDataURL('image/jpeg');\n",
              "            google.colab.kernel.invokeFunction('notebook.captureFrame', [dataURL], {});\n",
              "        }\n",
              "        getFrame();\n",
              "    "
            ]
          },
          "metadata": {}
        },
        {
          "output_type": "display_data",
          "data": {
            "text/plain": [
              "<IPython.core.display.Javascript object>"
            ],
            "application/javascript": [
              "\n",
              "        async function getFrame() {\n",
              "            let canvas = document.createElement('canvas');\n",
              "            let video = window.videoElement;\n",
              "            canvas.width = video.videoWidth;\n",
              "            canvas.height = video.videoHeight;\n",
              "            let context = canvas.getContext('2d');\n",
              "            context.drawImage(video, 0, 0, canvas.width, canvas.height);\n",
              "            const dataURL = canvas.toDataURL('image/jpeg');\n",
              "            google.colab.kernel.invokeFunction('notebook.captureFrame', [dataURL], {});\n",
              "        }\n",
              "        getFrame();\n",
              "    "
            ]
          },
          "metadata": {}
        },
        {
          "output_type": "display_data",
          "data": {
            "text/plain": [
              "<IPython.core.display.Javascript object>"
            ],
            "application/javascript": [
              "\n",
              "        async function getFrame() {\n",
              "            let canvas = document.createElement('canvas');\n",
              "            let video = window.videoElement;\n",
              "            canvas.width = video.videoWidth;\n",
              "            canvas.height = video.videoHeight;\n",
              "            let context = canvas.getContext('2d');\n",
              "            context.drawImage(video, 0, 0, canvas.width, canvas.height);\n",
              "            const dataURL = canvas.toDataURL('image/jpeg');\n",
              "            google.colab.kernel.invokeFunction('notebook.captureFrame', [dataURL], {});\n",
              "        }\n",
              "        getFrame();\n",
              "    "
            ]
          },
          "metadata": {}
        },
        {
          "output_type": "display_data",
          "data": {
            "text/plain": [
              "<IPython.core.display.Javascript object>"
            ],
            "application/javascript": [
              "\n",
              "        async function getFrame() {\n",
              "            let canvas = document.createElement('canvas');\n",
              "            let video = window.videoElement;\n",
              "            canvas.width = video.videoWidth;\n",
              "            canvas.height = video.videoHeight;\n",
              "            let context = canvas.getContext('2d');\n",
              "            context.drawImage(video, 0, 0, canvas.width, canvas.height);\n",
              "            const dataURL = canvas.toDataURL('image/jpeg');\n",
              "            google.colab.kernel.invokeFunction('notebook.captureFrame', [dataURL], {});\n",
              "        }\n",
              "        getFrame();\n",
              "    "
            ]
          },
          "metadata": {}
        },
        {
          "output_type": "display_data",
          "data": {
            "text/plain": [
              "<IPython.core.display.Javascript object>"
            ],
            "application/javascript": [
              "\n",
              "        async function getFrame() {\n",
              "            let canvas = document.createElement('canvas');\n",
              "            let video = window.videoElement;\n",
              "            canvas.width = video.videoWidth;\n",
              "            canvas.height = video.videoHeight;\n",
              "            let context = canvas.getContext('2d');\n",
              "            context.drawImage(video, 0, 0, canvas.width, canvas.height);\n",
              "            const dataURL = canvas.toDataURL('image/jpeg');\n",
              "            google.colab.kernel.invokeFunction('notebook.captureFrame', [dataURL], {});\n",
              "        }\n",
              "        getFrame();\n",
              "    "
            ]
          },
          "metadata": {}
        },
        {
          "output_type": "display_data",
          "data": {
            "text/plain": [
              "<IPython.core.display.Javascript object>"
            ],
            "application/javascript": [
              "\n",
              "        async function getFrame() {\n",
              "            let canvas = document.createElement('canvas');\n",
              "            let video = window.videoElement;\n",
              "            canvas.width = video.videoWidth;\n",
              "            canvas.height = video.videoHeight;\n",
              "            let context = canvas.getContext('2d');\n",
              "            context.drawImage(video, 0, 0, canvas.width, canvas.height);\n",
              "            const dataURL = canvas.toDataURL('image/jpeg');\n",
              "            google.colab.kernel.invokeFunction('notebook.captureFrame', [dataURL], {});\n",
              "        }\n",
              "        getFrame();\n",
              "    "
            ]
          },
          "metadata": {}
        },
        {
          "output_type": "display_data",
          "data": {
            "text/plain": [
              "<IPython.core.display.Javascript object>"
            ],
            "application/javascript": [
              "\n",
              "        async function getFrame() {\n",
              "            let canvas = document.createElement('canvas');\n",
              "            let video = window.videoElement;\n",
              "            canvas.width = video.videoWidth;\n",
              "            canvas.height = video.videoHeight;\n",
              "            let context = canvas.getContext('2d');\n",
              "            context.drawImage(video, 0, 0, canvas.width, canvas.height);\n",
              "            const dataURL = canvas.toDataURL('image/jpeg');\n",
              "            google.colab.kernel.invokeFunction('notebook.captureFrame', [dataURL], {});\n",
              "        }\n",
              "        getFrame();\n",
              "    "
            ]
          },
          "metadata": {}
        },
        {
          "output_type": "display_data",
          "data": {
            "text/plain": [
              "<IPython.core.display.Javascript object>"
            ],
            "application/javascript": [
              "\n",
              "        async function getFrame() {\n",
              "            let canvas = document.createElement('canvas');\n",
              "            let video = window.videoElement;\n",
              "            canvas.width = video.videoWidth;\n",
              "            canvas.height = video.videoHeight;\n",
              "            let context = canvas.getContext('2d');\n",
              "            context.drawImage(video, 0, 0, canvas.width, canvas.height);\n",
              "            const dataURL = canvas.toDataURL('image/jpeg');\n",
              "            google.colab.kernel.invokeFunction('notebook.captureFrame', [dataURL], {});\n",
              "        }\n",
              "        getFrame();\n",
              "    "
            ]
          },
          "metadata": {}
        },
        {
          "output_type": "display_data",
          "data": {
            "text/plain": [
              "<IPython.core.display.Javascript object>"
            ],
            "application/javascript": [
              "\n",
              "        async function getFrame() {\n",
              "            let canvas = document.createElement('canvas');\n",
              "            let video = window.videoElement;\n",
              "            canvas.width = video.videoWidth;\n",
              "            canvas.height = video.videoHeight;\n",
              "            let context = canvas.getContext('2d');\n",
              "            context.drawImage(video, 0, 0, canvas.width, canvas.height);\n",
              "            const dataURL = canvas.toDataURL('image/jpeg');\n",
              "            google.colab.kernel.invokeFunction('notebook.captureFrame', [dataURL], {});\n",
              "        }\n",
              "        getFrame();\n",
              "    "
            ]
          },
          "metadata": {}
        },
        {
          "output_type": "display_data",
          "data": {
            "text/plain": [
              "<IPython.core.display.Javascript object>"
            ],
            "application/javascript": [
              "\n",
              "        async function getFrame() {\n",
              "            let canvas = document.createElement('canvas');\n",
              "            let video = window.videoElement;\n",
              "            canvas.width = video.videoWidth;\n",
              "            canvas.height = video.videoHeight;\n",
              "            let context = canvas.getContext('2d');\n",
              "            context.drawImage(video, 0, 0, canvas.width, canvas.height);\n",
              "            const dataURL = canvas.toDataURL('image/jpeg');\n",
              "            google.colab.kernel.invokeFunction('notebook.captureFrame', [dataURL], {});\n",
              "        }\n",
              "        getFrame();\n",
              "    "
            ]
          },
          "metadata": {}
        },
        {
          "output_type": "display_data",
          "data": {
            "text/plain": [
              "<IPython.core.display.Javascript object>"
            ],
            "application/javascript": [
              "\n",
              "        async function getFrame() {\n",
              "            let canvas = document.createElement('canvas');\n",
              "            let video = window.videoElement;\n",
              "            canvas.width = video.videoWidth;\n",
              "            canvas.height = video.videoHeight;\n",
              "            let context = canvas.getContext('2d');\n",
              "            context.drawImage(video, 0, 0, canvas.width, canvas.height);\n",
              "            const dataURL = canvas.toDataURL('image/jpeg');\n",
              "            google.colab.kernel.invokeFunction('notebook.captureFrame', [dataURL], {});\n",
              "        }\n",
              "        getFrame();\n",
              "    "
            ]
          },
          "metadata": {}
        },
        {
          "output_type": "display_data",
          "data": {
            "text/plain": [
              "<IPython.core.display.Javascript object>"
            ],
            "application/javascript": [
              "\n",
              "        async function getFrame() {\n",
              "            let canvas = document.createElement('canvas');\n",
              "            let video = window.videoElement;\n",
              "            canvas.width = video.videoWidth;\n",
              "            canvas.height = video.videoHeight;\n",
              "            let context = canvas.getContext('2d');\n",
              "            context.drawImage(video, 0, 0, canvas.width, canvas.height);\n",
              "            const dataURL = canvas.toDataURL('image/jpeg');\n",
              "            google.colab.kernel.invokeFunction('notebook.captureFrame', [dataURL], {});\n",
              "        }\n",
              "        getFrame();\n",
              "    "
            ]
          },
          "metadata": {}
        },
        {
          "output_type": "display_data",
          "data": {
            "text/plain": [
              "<IPython.core.display.Javascript object>"
            ],
            "application/javascript": [
              "\n",
              "        async function getFrame() {\n",
              "            let canvas = document.createElement('canvas');\n",
              "            let video = window.videoElement;\n",
              "            canvas.width = video.videoWidth;\n",
              "            canvas.height = video.videoHeight;\n",
              "            let context = canvas.getContext('2d');\n",
              "            context.drawImage(video, 0, 0, canvas.width, canvas.height);\n",
              "            const dataURL = canvas.toDataURL('image/jpeg');\n",
              "            google.colab.kernel.invokeFunction('notebook.captureFrame', [dataURL], {});\n",
              "        }\n",
              "        getFrame();\n",
              "    "
            ]
          },
          "metadata": {}
        },
        {
          "output_type": "display_data",
          "data": {
            "text/plain": [
              "<IPython.core.display.Javascript object>"
            ],
            "application/javascript": [
              "\n",
              "        async function getFrame() {\n",
              "            let canvas = document.createElement('canvas');\n",
              "            let video = window.videoElement;\n",
              "            canvas.width = video.videoWidth;\n",
              "            canvas.height = video.videoHeight;\n",
              "            let context = canvas.getContext('2d');\n",
              "            context.drawImage(video, 0, 0, canvas.width, canvas.height);\n",
              "            const dataURL = canvas.toDataURL('image/jpeg');\n",
              "            google.colab.kernel.invokeFunction('notebook.captureFrame', [dataURL], {});\n",
              "        }\n",
              "        getFrame();\n",
              "    "
            ]
          },
          "metadata": {}
        },
        {
          "output_type": "display_data",
          "data": {
            "text/plain": [
              "<IPython.core.display.Javascript object>"
            ],
            "application/javascript": [
              "\n",
              "        async function getFrame() {\n",
              "            let canvas = document.createElement('canvas');\n",
              "            let video = window.videoElement;\n",
              "            canvas.width = video.videoWidth;\n",
              "            canvas.height = video.videoHeight;\n",
              "            let context = canvas.getContext('2d');\n",
              "            context.drawImage(video, 0, 0, canvas.width, canvas.height);\n",
              "            const dataURL = canvas.toDataURL('image/jpeg');\n",
              "            google.colab.kernel.invokeFunction('notebook.captureFrame', [dataURL], {});\n",
              "        }\n",
              "        getFrame();\n",
              "    "
            ]
          },
          "metadata": {}
        },
        {
          "output_type": "display_data",
          "data": {
            "text/plain": [
              "<IPython.core.display.Javascript object>"
            ],
            "application/javascript": [
              "\n",
              "        async function getFrame() {\n",
              "            let canvas = document.createElement('canvas');\n",
              "            let video = window.videoElement;\n",
              "            canvas.width = video.videoWidth;\n",
              "            canvas.height = video.videoHeight;\n",
              "            let context = canvas.getContext('2d');\n",
              "            context.drawImage(video, 0, 0, canvas.width, canvas.height);\n",
              "            const dataURL = canvas.toDataURL('image/jpeg');\n",
              "            google.colab.kernel.invokeFunction('notebook.captureFrame', [dataURL], {});\n",
              "        }\n",
              "        getFrame();\n",
              "    "
            ]
          },
          "metadata": {}
        },
        {
          "output_type": "display_data",
          "data": {
            "text/plain": [
              "<IPython.core.display.Javascript object>"
            ],
            "application/javascript": [
              "\n",
              "        async function getFrame() {\n",
              "            let canvas = document.createElement('canvas');\n",
              "            let video = window.videoElement;\n",
              "            canvas.width = video.videoWidth;\n",
              "            canvas.height = video.videoHeight;\n",
              "            let context = canvas.getContext('2d');\n",
              "            context.drawImage(video, 0, 0, canvas.width, canvas.height);\n",
              "            const dataURL = canvas.toDataURL('image/jpeg');\n",
              "            google.colab.kernel.invokeFunction('notebook.captureFrame', [dataURL], {});\n",
              "        }\n",
              "        getFrame();\n",
              "    "
            ]
          },
          "metadata": {}
        },
        {
          "output_type": "display_data",
          "data": {
            "text/plain": [
              "<IPython.core.display.Javascript object>"
            ],
            "application/javascript": [
              "\n",
              "        async function getFrame() {\n",
              "            let canvas = document.createElement('canvas');\n",
              "            let video = window.videoElement;\n",
              "            canvas.width = video.videoWidth;\n",
              "            canvas.height = video.videoHeight;\n",
              "            let context = canvas.getContext('2d');\n",
              "            context.drawImage(video, 0, 0, canvas.width, canvas.height);\n",
              "            const dataURL = canvas.toDataURL('image/jpeg');\n",
              "            google.colab.kernel.invokeFunction('notebook.captureFrame', [dataURL], {});\n",
              "        }\n",
              "        getFrame();\n",
              "    "
            ]
          },
          "metadata": {}
        },
        {
          "output_type": "display_data",
          "data": {
            "text/plain": [
              "<IPython.core.display.Javascript object>"
            ],
            "application/javascript": [
              "\n",
              "        async function getFrame() {\n",
              "            let canvas = document.createElement('canvas');\n",
              "            let video = window.videoElement;\n",
              "            canvas.width = video.videoWidth;\n",
              "            canvas.height = video.videoHeight;\n",
              "            let context = canvas.getContext('2d');\n",
              "            context.drawImage(video, 0, 0, canvas.width, canvas.height);\n",
              "            const dataURL = canvas.toDataURL('image/jpeg');\n",
              "            google.colab.kernel.invokeFunction('notebook.captureFrame', [dataURL], {});\n",
              "        }\n",
              "        getFrame();\n",
              "    "
            ]
          },
          "metadata": {}
        },
        {
          "output_type": "display_data",
          "data": {
            "text/plain": [
              "<IPython.core.display.Javascript object>"
            ],
            "application/javascript": [
              "\n",
              "        async function getFrame() {\n",
              "            let canvas = document.createElement('canvas');\n",
              "            let video = window.videoElement;\n",
              "            canvas.width = video.videoWidth;\n",
              "            canvas.height = video.videoHeight;\n",
              "            let context = canvas.getContext('2d');\n",
              "            context.drawImage(video, 0, 0, canvas.width, canvas.height);\n",
              "            const dataURL = canvas.toDataURL('image/jpeg');\n",
              "            google.colab.kernel.invokeFunction('notebook.captureFrame', [dataURL], {});\n",
              "        }\n",
              "        getFrame();\n",
              "    "
            ]
          },
          "metadata": {}
        },
        {
          "output_type": "display_data",
          "data": {
            "text/plain": [
              "<IPython.core.display.Javascript object>"
            ],
            "application/javascript": [
              "\n",
              "        async function getFrame() {\n",
              "            let canvas = document.createElement('canvas');\n",
              "            let video = window.videoElement;\n",
              "            canvas.width = video.videoWidth;\n",
              "            canvas.height = video.videoHeight;\n",
              "            let context = canvas.getContext('2d');\n",
              "            context.drawImage(video, 0, 0, canvas.width, canvas.height);\n",
              "            const dataURL = canvas.toDataURL('image/jpeg');\n",
              "            google.colab.kernel.invokeFunction('notebook.captureFrame', [dataURL], {});\n",
              "        }\n",
              "        getFrame();\n",
              "    "
            ]
          },
          "metadata": {}
        },
        {
          "output_type": "display_data",
          "data": {
            "text/plain": [
              "<IPython.core.display.Javascript object>"
            ],
            "application/javascript": [
              "\n",
              "        async function getFrame() {\n",
              "            let canvas = document.createElement('canvas');\n",
              "            let video = window.videoElement;\n",
              "            canvas.width = video.videoWidth;\n",
              "            canvas.height = video.videoHeight;\n",
              "            let context = canvas.getContext('2d');\n",
              "            context.drawImage(video, 0, 0, canvas.width, canvas.height);\n",
              "            const dataURL = canvas.toDataURL('image/jpeg');\n",
              "            google.colab.kernel.invokeFunction('notebook.captureFrame', [dataURL], {});\n",
              "        }\n",
              "        getFrame();\n",
              "    "
            ]
          },
          "metadata": {}
        },
        {
          "output_type": "display_data",
          "data": {
            "text/plain": [
              "<IPython.core.display.Javascript object>"
            ],
            "application/javascript": [
              "\n",
              "        async function getFrame() {\n",
              "            let canvas = document.createElement('canvas');\n",
              "            let video = window.videoElement;\n",
              "            canvas.width = video.videoWidth;\n",
              "            canvas.height = video.videoHeight;\n",
              "            let context = canvas.getContext('2d');\n",
              "            context.drawImage(video, 0, 0, canvas.width, canvas.height);\n",
              "            const dataURL = canvas.toDataURL('image/jpeg');\n",
              "            google.colab.kernel.invokeFunction('notebook.captureFrame', [dataURL], {});\n",
              "        }\n",
              "        getFrame();\n",
              "    "
            ]
          },
          "metadata": {}
        },
        {
          "output_type": "display_data",
          "data": {
            "text/plain": [
              "<IPython.core.display.Javascript object>"
            ],
            "application/javascript": [
              "\n",
              "        async function getFrame() {\n",
              "            let canvas = document.createElement('canvas');\n",
              "            let video = window.videoElement;\n",
              "            canvas.width = video.videoWidth;\n",
              "            canvas.height = video.videoHeight;\n",
              "            let context = canvas.getContext('2d');\n",
              "            context.drawImage(video, 0, 0, canvas.width, canvas.height);\n",
              "            const dataURL = canvas.toDataURL('image/jpeg');\n",
              "            google.colab.kernel.invokeFunction('notebook.captureFrame', [dataURL], {});\n",
              "        }\n",
              "        getFrame();\n",
              "    "
            ]
          },
          "metadata": {}
        },
        {
          "output_type": "display_data",
          "data": {
            "text/plain": [
              "<IPython.core.display.Javascript object>"
            ],
            "application/javascript": [
              "\n",
              "        async function getFrame() {\n",
              "            let canvas = document.createElement('canvas');\n",
              "            let video = window.videoElement;\n",
              "            canvas.width = video.videoWidth;\n",
              "            canvas.height = video.videoHeight;\n",
              "            let context = canvas.getContext('2d');\n",
              "            context.drawImage(video, 0, 0, canvas.width, canvas.height);\n",
              "            const dataURL = canvas.toDataURL('image/jpeg');\n",
              "            google.colab.kernel.invokeFunction('notebook.captureFrame', [dataURL], {});\n",
              "        }\n",
              "        getFrame();\n",
              "    "
            ]
          },
          "metadata": {}
        },
        {
          "output_type": "display_data",
          "data": {
            "text/plain": [
              "<IPython.core.display.Javascript object>"
            ],
            "application/javascript": [
              "\n",
              "        async function getFrame() {\n",
              "            let canvas = document.createElement('canvas');\n",
              "            let video = window.videoElement;\n",
              "            canvas.width = video.videoWidth;\n",
              "            canvas.height = video.videoHeight;\n",
              "            let context = canvas.getContext('2d');\n",
              "            context.drawImage(video, 0, 0, canvas.width, canvas.height);\n",
              "            const dataURL = canvas.toDataURL('image/jpeg');\n",
              "            google.colab.kernel.invokeFunction('notebook.captureFrame', [dataURL], {});\n",
              "        }\n",
              "        getFrame();\n",
              "    "
            ]
          },
          "metadata": {}
        },
        {
          "output_type": "display_data",
          "data": {
            "text/plain": [
              "<IPython.core.display.Javascript object>"
            ],
            "application/javascript": [
              "\n",
              "        async function getFrame() {\n",
              "            let canvas = document.createElement('canvas');\n",
              "            let video = window.videoElement;\n",
              "            canvas.width = video.videoWidth;\n",
              "            canvas.height = video.videoHeight;\n",
              "            let context = canvas.getContext('2d');\n",
              "            context.drawImage(video, 0, 0, canvas.width, canvas.height);\n",
              "            const dataURL = canvas.toDataURL('image/jpeg');\n",
              "            google.colab.kernel.invokeFunction('notebook.captureFrame', [dataURL], {});\n",
              "        }\n",
              "        getFrame();\n",
              "    "
            ]
          },
          "metadata": {}
        },
        {
          "output_type": "display_data",
          "data": {
            "text/plain": [
              "<IPython.core.display.Javascript object>"
            ],
            "application/javascript": [
              "\n",
              "        async function getFrame() {\n",
              "            let canvas = document.createElement('canvas');\n",
              "            let video = window.videoElement;\n",
              "            canvas.width = video.videoWidth;\n",
              "            canvas.height = video.videoHeight;\n",
              "            let context = canvas.getContext('2d');\n",
              "            context.drawImage(video, 0, 0, canvas.width, canvas.height);\n",
              "            const dataURL = canvas.toDataURL('image/jpeg');\n",
              "            google.colab.kernel.invokeFunction('notebook.captureFrame', [dataURL], {});\n",
              "        }\n",
              "        getFrame();\n",
              "    "
            ]
          },
          "metadata": {}
        },
        {
          "output_type": "display_data",
          "data": {
            "text/plain": [
              "<IPython.core.display.Javascript object>"
            ],
            "application/javascript": [
              "\n",
              "        async function getFrame() {\n",
              "            let canvas = document.createElement('canvas');\n",
              "            let video = window.videoElement;\n",
              "            canvas.width = video.videoWidth;\n",
              "            canvas.height = video.videoHeight;\n",
              "            let context = canvas.getContext('2d');\n",
              "            context.drawImage(video, 0, 0, canvas.width, canvas.height);\n",
              "            const dataURL = canvas.toDataURL('image/jpeg');\n",
              "            google.colab.kernel.invokeFunction('notebook.captureFrame', [dataURL], {});\n",
              "        }\n",
              "        getFrame();\n",
              "    "
            ]
          },
          "metadata": {}
        },
        {
          "output_type": "display_data",
          "data": {
            "text/plain": [
              "<IPython.core.display.Javascript object>"
            ],
            "application/javascript": [
              "\n",
              "        async function getFrame() {\n",
              "            let canvas = document.createElement('canvas');\n",
              "            let video = window.videoElement;\n",
              "            canvas.width = video.videoWidth;\n",
              "            canvas.height = video.videoHeight;\n",
              "            let context = canvas.getContext('2d');\n",
              "            context.drawImage(video, 0, 0, canvas.width, canvas.height);\n",
              "            const dataURL = canvas.toDataURL('image/jpeg');\n",
              "            google.colab.kernel.invokeFunction('notebook.captureFrame', [dataURL], {});\n",
              "        }\n",
              "        getFrame();\n",
              "    "
            ]
          },
          "metadata": {}
        },
        {
          "output_type": "display_data",
          "data": {
            "text/plain": [
              "<IPython.core.display.Javascript object>"
            ],
            "application/javascript": [
              "\n",
              "        async function getFrame() {\n",
              "            let canvas = document.createElement('canvas');\n",
              "            let video = window.videoElement;\n",
              "            canvas.width = video.videoWidth;\n",
              "            canvas.height = video.videoHeight;\n",
              "            let context = canvas.getContext('2d');\n",
              "            context.drawImage(video, 0, 0, canvas.width, canvas.height);\n",
              "            const dataURL = canvas.toDataURL('image/jpeg');\n",
              "            google.colab.kernel.invokeFunction('notebook.captureFrame', [dataURL], {});\n",
              "        }\n",
              "        getFrame();\n",
              "    "
            ]
          },
          "metadata": {}
        },
        {
          "output_type": "display_data",
          "data": {
            "text/plain": [
              "<IPython.core.display.Javascript object>"
            ],
            "application/javascript": [
              "\n",
              "        async function getFrame() {\n",
              "            let canvas = document.createElement('canvas');\n",
              "            let video = window.videoElement;\n",
              "            canvas.width = video.videoWidth;\n",
              "            canvas.height = video.videoHeight;\n",
              "            let context = canvas.getContext('2d');\n",
              "            context.drawImage(video, 0, 0, canvas.width, canvas.height);\n",
              "            const dataURL = canvas.toDataURL('image/jpeg');\n",
              "            google.colab.kernel.invokeFunction('notebook.captureFrame', [dataURL], {});\n",
              "        }\n",
              "        getFrame();\n",
              "    "
            ]
          },
          "metadata": {}
        },
        {
          "output_type": "display_data",
          "data": {
            "text/plain": [
              "<IPython.core.display.Javascript object>"
            ],
            "application/javascript": [
              "\n",
              "        async function getFrame() {\n",
              "            let canvas = document.createElement('canvas');\n",
              "            let video = window.videoElement;\n",
              "            canvas.width = video.videoWidth;\n",
              "            canvas.height = video.videoHeight;\n",
              "            let context = canvas.getContext('2d');\n",
              "            context.drawImage(video, 0, 0, canvas.width, canvas.height);\n",
              "            const dataURL = canvas.toDataURL('image/jpeg');\n",
              "            google.colab.kernel.invokeFunction('notebook.captureFrame', [dataURL], {});\n",
              "        }\n",
              "        getFrame();\n",
              "    "
            ]
          },
          "metadata": {}
        },
        {
          "output_type": "display_data",
          "data": {
            "text/plain": [
              "<IPython.core.display.Javascript object>"
            ],
            "application/javascript": [
              "\n",
              "        async function getFrame() {\n",
              "            let canvas = document.createElement('canvas');\n",
              "            let video = window.videoElement;\n",
              "            canvas.width = video.videoWidth;\n",
              "            canvas.height = video.videoHeight;\n",
              "            let context = canvas.getContext('2d');\n",
              "            context.drawImage(video, 0, 0, canvas.width, canvas.height);\n",
              "            const dataURL = canvas.toDataURL('image/jpeg');\n",
              "            google.colab.kernel.invokeFunction('notebook.captureFrame', [dataURL], {});\n",
              "        }\n",
              "        getFrame();\n",
              "    "
            ]
          },
          "metadata": {}
        },
        {
          "output_type": "display_data",
          "data": {
            "text/plain": [
              "<IPython.core.display.Javascript object>"
            ],
            "application/javascript": [
              "\n",
              "        async function getFrame() {\n",
              "            let canvas = document.createElement('canvas');\n",
              "            let video = window.videoElement;\n",
              "            canvas.width = video.videoWidth;\n",
              "            canvas.height = video.videoHeight;\n",
              "            let context = canvas.getContext('2d');\n",
              "            context.drawImage(video, 0, 0, canvas.width, canvas.height);\n",
              "            const dataURL = canvas.toDataURL('image/jpeg');\n",
              "            google.colab.kernel.invokeFunction('notebook.captureFrame', [dataURL], {});\n",
              "        }\n",
              "        getFrame();\n",
              "    "
            ]
          },
          "metadata": {}
        },
        {
          "output_type": "display_data",
          "data": {
            "text/plain": [
              "<IPython.core.display.Javascript object>"
            ],
            "application/javascript": [
              "\n",
              "        async function getFrame() {\n",
              "            let canvas = document.createElement('canvas');\n",
              "            let video = window.videoElement;\n",
              "            canvas.width = video.videoWidth;\n",
              "            canvas.height = video.videoHeight;\n",
              "            let context = canvas.getContext('2d');\n",
              "            context.drawImage(video, 0, 0, canvas.width, canvas.height);\n",
              "            const dataURL = canvas.toDataURL('image/jpeg');\n",
              "            google.colab.kernel.invokeFunction('notebook.captureFrame', [dataURL], {});\n",
              "        }\n",
              "        getFrame();\n",
              "    "
            ]
          },
          "metadata": {}
        },
        {
          "output_type": "display_data",
          "data": {
            "text/plain": [
              "<IPython.core.display.Javascript object>"
            ],
            "application/javascript": [
              "\n",
              "        async function getFrame() {\n",
              "            let canvas = document.createElement('canvas');\n",
              "            let video = window.videoElement;\n",
              "            canvas.width = video.videoWidth;\n",
              "            canvas.height = video.videoHeight;\n",
              "            let context = canvas.getContext('2d');\n",
              "            context.drawImage(video, 0, 0, canvas.width, canvas.height);\n",
              "            const dataURL = canvas.toDataURL('image/jpeg');\n",
              "            google.colab.kernel.invokeFunction('notebook.captureFrame', [dataURL], {});\n",
              "        }\n",
              "        getFrame();\n",
              "    "
            ]
          },
          "metadata": {}
        },
        {
          "output_type": "display_data",
          "data": {
            "text/plain": [
              "<IPython.core.display.Javascript object>"
            ],
            "application/javascript": [
              "\n",
              "        async function getFrame() {\n",
              "            let canvas = document.createElement('canvas');\n",
              "            let video = window.videoElement;\n",
              "            canvas.width = video.videoWidth;\n",
              "            canvas.height = video.videoHeight;\n",
              "            let context = canvas.getContext('2d');\n",
              "            context.drawImage(video, 0, 0, canvas.width, canvas.height);\n",
              "            const dataURL = canvas.toDataURL('image/jpeg');\n",
              "            google.colab.kernel.invokeFunction('notebook.captureFrame', [dataURL], {});\n",
              "        }\n",
              "        getFrame();\n",
              "    "
            ]
          },
          "metadata": {}
        },
        {
          "output_type": "display_data",
          "data": {
            "text/plain": [
              "<IPython.core.display.Javascript object>"
            ],
            "application/javascript": [
              "\n",
              "        async function getFrame() {\n",
              "            let canvas = document.createElement('canvas');\n",
              "            let video = window.videoElement;\n",
              "            canvas.width = video.videoWidth;\n",
              "            canvas.height = video.videoHeight;\n",
              "            let context = canvas.getContext('2d');\n",
              "            context.drawImage(video, 0, 0, canvas.width, canvas.height);\n",
              "            const dataURL = canvas.toDataURL('image/jpeg');\n",
              "            google.colab.kernel.invokeFunction('notebook.captureFrame', [dataURL], {});\n",
              "        }\n",
              "        getFrame();\n",
              "    "
            ]
          },
          "metadata": {}
        },
        {
          "output_type": "display_data",
          "data": {
            "text/plain": [
              "<IPython.core.display.Javascript object>"
            ],
            "application/javascript": [
              "\n",
              "        async function getFrame() {\n",
              "            let canvas = document.createElement('canvas');\n",
              "            let video = window.videoElement;\n",
              "            canvas.width = video.videoWidth;\n",
              "            canvas.height = video.videoHeight;\n",
              "            let context = canvas.getContext('2d');\n",
              "            context.drawImage(video, 0, 0, canvas.width, canvas.height);\n",
              "            const dataURL = canvas.toDataURL('image/jpeg');\n",
              "            google.colab.kernel.invokeFunction('notebook.captureFrame', [dataURL], {});\n",
              "        }\n",
              "        getFrame();\n",
              "    "
            ]
          },
          "metadata": {}
        },
        {
          "output_type": "display_data",
          "data": {
            "text/plain": [
              "<IPython.core.display.Javascript object>"
            ],
            "application/javascript": [
              "\n",
              "        async function getFrame() {\n",
              "            let canvas = document.createElement('canvas');\n",
              "            let video = window.videoElement;\n",
              "            canvas.width = video.videoWidth;\n",
              "            canvas.height = video.videoHeight;\n",
              "            let context = canvas.getContext('2d');\n",
              "            context.drawImage(video, 0, 0, canvas.width, canvas.height);\n",
              "            const dataURL = canvas.toDataURL('image/jpeg');\n",
              "            google.colab.kernel.invokeFunction('notebook.captureFrame', [dataURL], {});\n",
              "        }\n",
              "        getFrame();\n",
              "    "
            ]
          },
          "metadata": {}
        },
        {
          "output_type": "display_data",
          "data": {
            "text/plain": [
              "<IPython.core.display.Javascript object>"
            ],
            "application/javascript": [
              "\n",
              "        async function getFrame() {\n",
              "            let canvas = document.createElement('canvas');\n",
              "            let video = window.videoElement;\n",
              "            canvas.width = video.videoWidth;\n",
              "            canvas.height = video.videoHeight;\n",
              "            let context = canvas.getContext('2d');\n",
              "            context.drawImage(video, 0, 0, canvas.width, canvas.height);\n",
              "            const dataURL = canvas.toDataURL('image/jpeg');\n",
              "            google.colab.kernel.invokeFunction('notebook.captureFrame', [dataURL], {});\n",
              "        }\n",
              "        getFrame();\n",
              "    "
            ]
          },
          "metadata": {}
        },
        {
          "output_type": "display_data",
          "data": {
            "text/plain": [
              "<IPython.core.display.Javascript object>"
            ],
            "application/javascript": [
              "\n",
              "        async function getFrame() {\n",
              "            let canvas = document.createElement('canvas');\n",
              "            let video = window.videoElement;\n",
              "            canvas.width = video.videoWidth;\n",
              "            canvas.height = video.videoHeight;\n",
              "            let context = canvas.getContext('2d');\n",
              "            context.drawImage(video, 0, 0, canvas.width, canvas.height);\n",
              "            const dataURL = canvas.toDataURL('image/jpeg');\n",
              "            google.colab.kernel.invokeFunction('notebook.captureFrame', [dataURL], {});\n",
              "        }\n",
              "        getFrame();\n",
              "    "
            ]
          },
          "metadata": {}
        },
        {
          "output_type": "display_data",
          "data": {
            "text/plain": [
              "<IPython.core.display.Javascript object>"
            ],
            "application/javascript": [
              "\n",
              "        async function getFrame() {\n",
              "            let canvas = document.createElement('canvas');\n",
              "            let video = window.videoElement;\n",
              "            canvas.width = video.videoWidth;\n",
              "            canvas.height = video.videoHeight;\n",
              "            let context = canvas.getContext('2d');\n",
              "            context.drawImage(video, 0, 0, canvas.width, canvas.height);\n",
              "            const dataURL = canvas.toDataURL('image/jpeg');\n",
              "            google.colab.kernel.invokeFunction('notebook.captureFrame', [dataURL], {});\n",
              "        }\n",
              "        getFrame();\n",
              "    "
            ]
          },
          "metadata": {}
        },
        {
          "output_type": "display_data",
          "data": {
            "text/plain": [
              "<IPython.core.display.Javascript object>"
            ],
            "application/javascript": [
              "\n",
              "        async function getFrame() {\n",
              "            let canvas = document.createElement('canvas');\n",
              "            let video = window.videoElement;\n",
              "            canvas.width = video.videoWidth;\n",
              "            canvas.height = video.videoHeight;\n",
              "            let context = canvas.getContext('2d');\n",
              "            context.drawImage(video, 0, 0, canvas.width, canvas.height);\n",
              "            const dataURL = canvas.toDataURL('image/jpeg');\n",
              "            google.colab.kernel.invokeFunction('notebook.captureFrame', [dataURL], {});\n",
              "        }\n",
              "        getFrame();\n",
              "    "
            ]
          },
          "metadata": {}
        },
        {
          "output_type": "display_data",
          "data": {
            "text/plain": [
              "<IPython.core.display.Javascript object>"
            ],
            "application/javascript": [
              "\n",
              "        async function getFrame() {\n",
              "            let canvas = document.createElement('canvas');\n",
              "            let video = window.videoElement;\n",
              "            canvas.width = video.videoWidth;\n",
              "            canvas.height = video.videoHeight;\n",
              "            let context = canvas.getContext('2d');\n",
              "            context.drawImage(video, 0, 0, canvas.width, canvas.height);\n",
              "            const dataURL = canvas.toDataURL('image/jpeg');\n",
              "            google.colab.kernel.invokeFunction('notebook.captureFrame', [dataURL], {});\n",
              "        }\n",
              "        getFrame();\n",
              "    "
            ]
          },
          "metadata": {}
        },
        {
          "output_type": "display_data",
          "data": {
            "text/plain": [
              "<IPython.core.display.Javascript object>"
            ],
            "application/javascript": [
              "\n",
              "        async function getFrame() {\n",
              "            let canvas = document.createElement('canvas');\n",
              "            let video = window.videoElement;\n",
              "            canvas.width = video.videoWidth;\n",
              "            canvas.height = video.videoHeight;\n",
              "            let context = canvas.getContext('2d');\n",
              "            context.drawImage(video, 0, 0, canvas.width, canvas.height);\n",
              "            const dataURL = canvas.toDataURL('image/jpeg');\n",
              "            google.colab.kernel.invokeFunction('notebook.captureFrame', [dataURL], {});\n",
              "        }\n",
              "        getFrame();\n",
              "    "
            ]
          },
          "metadata": {}
        },
        {
          "output_type": "display_data",
          "data": {
            "text/plain": [
              "<IPython.core.display.Javascript object>"
            ],
            "application/javascript": [
              "\n",
              "        async function getFrame() {\n",
              "            let canvas = document.createElement('canvas');\n",
              "            let video = window.videoElement;\n",
              "            canvas.width = video.videoWidth;\n",
              "            canvas.height = video.videoHeight;\n",
              "            let context = canvas.getContext('2d');\n",
              "            context.drawImage(video, 0, 0, canvas.width, canvas.height);\n",
              "            const dataURL = canvas.toDataURL('image/jpeg');\n",
              "            google.colab.kernel.invokeFunction('notebook.captureFrame', [dataURL], {});\n",
              "        }\n",
              "        getFrame();\n",
              "    "
            ]
          },
          "metadata": {}
        },
        {
          "output_type": "display_data",
          "data": {
            "text/plain": [
              "<IPython.core.display.Javascript object>"
            ],
            "application/javascript": [
              "\n",
              "        async function getFrame() {\n",
              "            let canvas = document.createElement('canvas');\n",
              "            let video = window.videoElement;\n",
              "            canvas.width = video.videoWidth;\n",
              "            canvas.height = video.videoHeight;\n",
              "            let context = canvas.getContext('2d');\n",
              "            context.drawImage(video, 0, 0, canvas.width, canvas.height);\n",
              "            const dataURL = canvas.toDataURL('image/jpeg');\n",
              "            google.colab.kernel.invokeFunction('notebook.captureFrame', [dataURL], {});\n",
              "        }\n",
              "        getFrame();\n",
              "    "
            ]
          },
          "metadata": {}
        },
        {
          "output_type": "display_data",
          "data": {
            "text/plain": [
              "<IPython.core.display.Javascript object>"
            ],
            "application/javascript": [
              "\n",
              "        async function getFrame() {\n",
              "            let canvas = document.createElement('canvas');\n",
              "            let video = window.videoElement;\n",
              "            canvas.width = video.videoWidth;\n",
              "            canvas.height = video.videoHeight;\n",
              "            let context = canvas.getContext('2d');\n",
              "            context.drawImage(video, 0, 0, canvas.width, canvas.height);\n",
              "            const dataURL = canvas.toDataURL('image/jpeg');\n",
              "            google.colab.kernel.invokeFunction('notebook.captureFrame', [dataURL], {});\n",
              "        }\n",
              "        getFrame();\n",
              "    "
            ]
          },
          "metadata": {}
        },
        {
          "output_type": "display_data",
          "data": {
            "text/plain": [
              "<IPython.core.display.Javascript object>"
            ],
            "application/javascript": [
              "\n",
              "        async function getFrame() {\n",
              "            let canvas = document.createElement('canvas');\n",
              "            let video = window.videoElement;\n",
              "            canvas.width = video.videoWidth;\n",
              "            canvas.height = video.videoHeight;\n",
              "            let context = canvas.getContext('2d');\n",
              "            context.drawImage(video, 0, 0, canvas.width, canvas.height);\n",
              "            const dataURL = canvas.toDataURL('image/jpeg');\n",
              "            google.colab.kernel.invokeFunction('notebook.captureFrame', [dataURL], {});\n",
              "        }\n",
              "        getFrame();\n",
              "    "
            ]
          },
          "metadata": {}
        },
        {
          "output_type": "display_data",
          "data": {
            "text/plain": [
              "<IPython.core.display.Javascript object>"
            ],
            "application/javascript": [
              "\n",
              "        async function getFrame() {\n",
              "            let canvas = document.createElement('canvas');\n",
              "            let video = window.videoElement;\n",
              "            canvas.width = video.videoWidth;\n",
              "            canvas.height = video.videoHeight;\n",
              "            let context = canvas.getContext('2d');\n",
              "            context.drawImage(video, 0, 0, canvas.width, canvas.height);\n",
              "            const dataURL = canvas.toDataURL('image/jpeg');\n",
              "            google.colab.kernel.invokeFunction('notebook.captureFrame', [dataURL], {});\n",
              "        }\n",
              "        getFrame();\n",
              "    "
            ]
          },
          "metadata": {}
        },
        {
          "output_type": "display_data",
          "data": {
            "text/plain": [
              "<IPython.core.display.Javascript object>"
            ],
            "application/javascript": [
              "\n",
              "        async function getFrame() {\n",
              "            let canvas = document.createElement('canvas');\n",
              "            let video = window.videoElement;\n",
              "            canvas.width = video.videoWidth;\n",
              "            canvas.height = video.videoHeight;\n",
              "            let context = canvas.getContext('2d');\n",
              "            context.drawImage(video, 0, 0, canvas.width, canvas.height);\n",
              "            const dataURL = canvas.toDataURL('image/jpeg');\n",
              "            google.colab.kernel.invokeFunction('notebook.captureFrame', [dataURL], {});\n",
              "        }\n",
              "        getFrame();\n",
              "    "
            ]
          },
          "metadata": {}
        },
        {
          "output_type": "display_data",
          "data": {
            "text/plain": [
              "<IPython.core.display.Javascript object>"
            ],
            "application/javascript": [
              "\n",
              "        async function getFrame() {\n",
              "            let canvas = document.createElement('canvas');\n",
              "            let video = window.videoElement;\n",
              "            canvas.width = video.videoWidth;\n",
              "            canvas.height = video.videoHeight;\n",
              "            let context = canvas.getContext('2d');\n",
              "            context.drawImage(video, 0, 0, canvas.width, canvas.height);\n",
              "            const dataURL = canvas.toDataURL('image/jpeg');\n",
              "            google.colab.kernel.invokeFunction('notebook.captureFrame', [dataURL], {});\n",
              "        }\n",
              "        getFrame();\n",
              "    "
            ]
          },
          "metadata": {}
        },
        {
          "output_type": "display_data",
          "data": {
            "text/plain": [
              "<IPython.core.display.Javascript object>"
            ],
            "application/javascript": [
              "\n",
              "        async function getFrame() {\n",
              "            let canvas = document.createElement('canvas');\n",
              "            let video = window.videoElement;\n",
              "            canvas.width = video.videoWidth;\n",
              "            canvas.height = video.videoHeight;\n",
              "            let context = canvas.getContext('2d');\n",
              "            context.drawImage(video, 0, 0, canvas.width, canvas.height);\n",
              "            const dataURL = canvas.toDataURL('image/jpeg');\n",
              "            google.colab.kernel.invokeFunction('notebook.captureFrame', [dataURL], {});\n",
              "        }\n",
              "        getFrame();\n",
              "    "
            ]
          },
          "metadata": {}
        },
        {
          "output_type": "display_data",
          "data": {
            "text/plain": [
              "<IPython.core.display.Javascript object>"
            ],
            "application/javascript": [
              "\n",
              "        async function getFrame() {\n",
              "            let canvas = document.createElement('canvas');\n",
              "            let video = window.videoElement;\n",
              "            canvas.width = video.videoWidth;\n",
              "            canvas.height = video.videoHeight;\n",
              "            let context = canvas.getContext('2d');\n",
              "            context.drawImage(video, 0, 0, canvas.width, canvas.height);\n",
              "            const dataURL = canvas.toDataURL('image/jpeg');\n",
              "            google.colab.kernel.invokeFunction('notebook.captureFrame', [dataURL], {});\n",
              "        }\n",
              "        getFrame();\n",
              "    "
            ]
          },
          "metadata": {}
        },
        {
          "output_type": "display_data",
          "data": {
            "text/plain": [
              "<IPython.core.display.Javascript object>"
            ],
            "application/javascript": [
              "\n",
              "        async function getFrame() {\n",
              "            let canvas = document.createElement('canvas');\n",
              "            let video = window.videoElement;\n",
              "            canvas.width = video.videoWidth;\n",
              "            canvas.height = video.videoHeight;\n",
              "            let context = canvas.getContext('2d');\n",
              "            context.drawImage(video, 0, 0, canvas.width, canvas.height);\n",
              "            const dataURL = canvas.toDataURL('image/jpeg');\n",
              "            google.colab.kernel.invokeFunction('notebook.captureFrame', [dataURL], {});\n",
              "        }\n",
              "        getFrame();\n",
              "    "
            ]
          },
          "metadata": {}
        },
        {
          "output_type": "display_data",
          "data": {
            "text/plain": [
              "<IPython.core.display.Javascript object>"
            ],
            "application/javascript": [
              "\n",
              "        async function getFrame() {\n",
              "            let canvas = document.createElement('canvas');\n",
              "            let video = window.videoElement;\n",
              "            canvas.width = video.videoWidth;\n",
              "            canvas.height = video.videoHeight;\n",
              "            let context = canvas.getContext('2d');\n",
              "            context.drawImage(video, 0, 0, canvas.width, canvas.height);\n",
              "            const dataURL = canvas.toDataURL('image/jpeg');\n",
              "            google.colab.kernel.invokeFunction('notebook.captureFrame', [dataURL], {});\n",
              "        }\n",
              "        getFrame();\n",
              "    "
            ]
          },
          "metadata": {}
        },
        {
          "output_type": "display_data",
          "data": {
            "text/plain": [
              "<IPython.core.display.Javascript object>"
            ],
            "application/javascript": [
              "\n",
              "        async function getFrame() {\n",
              "            let canvas = document.createElement('canvas');\n",
              "            let video = window.videoElement;\n",
              "            canvas.width = video.videoWidth;\n",
              "            canvas.height = video.videoHeight;\n",
              "            let context = canvas.getContext('2d');\n",
              "            context.drawImage(video, 0, 0, canvas.width, canvas.height);\n",
              "            const dataURL = canvas.toDataURL('image/jpeg');\n",
              "            google.colab.kernel.invokeFunction('notebook.captureFrame', [dataURL], {});\n",
              "        }\n",
              "        getFrame();\n",
              "    "
            ]
          },
          "metadata": {}
        },
        {
          "output_type": "display_data",
          "data": {
            "text/plain": [
              "<IPython.core.display.Javascript object>"
            ],
            "application/javascript": [
              "\n",
              "        async function getFrame() {\n",
              "            let canvas = document.createElement('canvas');\n",
              "            let video = window.videoElement;\n",
              "            canvas.width = video.videoWidth;\n",
              "            canvas.height = video.videoHeight;\n",
              "            let context = canvas.getContext('2d');\n",
              "            context.drawImage(video, 0, 0, canvas.width, canvas.height);\n",
              "            const dataURL = canvas.toDataURL('image/jpeg');\n",
              "            google.colab.kernel.invokeFunction('notebook.captureFrame', [dataURL], {});\n",
              "        }\n",
              "        getFrame();\n",
              "    "
            ]
          },
          "metadata": {}
        },
        {
          "output_type": "display_data",
          "data": {
            "text/plain": [
              "<IPython.core.display.Javascript object>"
            ],
            "application/javascript": [
              "\n",
              "        async function getFrame() {\n",
              "            let canvas = document.createElement('canvas');\n",
              "            let video = window.videoElement;\n",
              "            canvas.width = video.videoWidth;\n",
              "            canvas.height = video.videoHeight;\n",
              "            let context = canvas.getContext('2d');\n",
              "            context.drawImage(video, 0, 0, canvas.width, canvas.height);\n",
              "            const dataURL = canvas.toDataURL('image/jpeg');\n",
              "            google.colab.kernel.invokeFunction('notebook.captureFrame', [dataURL], {});\n",
              "        }\n",
              "        getFrame();\n",
              "    "
            ]
          },
          "metadata": {}
        },
        {
          "output_type": "display_data",
          "data": {
            "text/plain": [
              "<IPython.core.display.Javascript object>"
            ],
            "application/javascript": [
              "\n",
              "        async function getFrame() {\n",
              "            let canvas = document.createElement('canvas');\n",
              "            let video = window.videoElement;\n",
              "            canvas.width = video.videoWidth;\n",
              "            canvas.height = video.videoHeight;\n",
              "            let context = canvas.getContext('2d');\n",
              "            context.drawImage(video, 0, 0, canvas.width, canvas.height);\n",
              "            const dataURL = canvas.toDataURL('image/jpeg');\n",
              "            google.colab.kernel.invokeFunction('notebook.captureFrame', [dataURL], {});\n",
              "        }\n",
              "        getFrame();\n",
              "    "
            ]
          },
          "metadata": {}
        },
        {
          "output_type": "display_data",
          "data": {
            "text/plain": [
              "<IPython.core.display.Javascript object>"
            ],
            "application/javascript": [
              "\n",
              "        async function getFrame() {\n",
              "            let canvas = document.createElement('canvas');\n",
              "            let video = window.videoElement;\n",
              "            canvas.width = video.videoWidth;\n",
              "            canvas.height = video.videoHeight;\n",
              "            let context = canvas.getContext('2d');\n",
              "            context.drawImage(video, 0, 0, canvas.width, canvas.height);\n",
              "            const dataURL = canvas.toDataURL('image/jpeg');\n",
              "            google.colab.kernel.invokeFunction('notebook.captureFrame', [dataURL], {});\n",
              "        }\n",
              "        getFrame();\n",
              "    "
            ]
          },
          "metadata": {}
        },
        {
          "output_type": "display_data",
          "data": {
            "text/plain": [
              "<IPython.core.display.Javascript object>"
            ],
            "application/javascript": [
              "\n",
              "        async function getFrame() {\n",
              "            let canvas = document.createElement('canvas');\n",
              "            let video = window.videoElement;\n",
              "            canvas.width = video.videoWidth;\n",
              "            canvas.height = video.videoHeight;\n",
              "            let context = canvas.getContext('2d');\n",
              "            context.drawImage(video, 0, 0, canvas.width, canvas.height);\n",
              "            const dataURL = canvas.toDataURL('image/jpeg');\n",
              "            google.colab.kernel.invokeFunction('notebook.captureFrame', [dataURL], {});\n",
              "        }\n",
              "        getFrame();\n",
              "    "
            ]
          },
          "metadata": {}
        },
        {
          "output_type": "display_data",
          "data": {
            "text/plain": [
              "<IPython.core.display.Javascript object>"
            ],
            "application/javascript": [
              "\n",
              "        async function getFrame() {\n",
              "            let canvas = document.createElement('canvas');\n",
              "            let video = window.videoElement;\n",
              "            canvas.width = video.videoWidth;\n",
              "            canvas.height = video.videoHeight;\n",
              "            let context = canvas.getContext('2d');\n",
              "            context.drawImage(video, 0, 0, canvas.width, canvas.height);\n",
              "            const dataURL = canvas.toDataURL('image/jpeg');\n",
              "            google.colab.kernel.invokeFunction('notebook.captureFrame', [dataURL], {});\n",
              "        }\n",
              "        getFrame();\n",
              "    "
            ]
          },
          "metadata": {}
        },
        {
          "output_type": "display_data",
          "data": {
            "text/plain": [
              "<IPython.core.display.Javascript object>"
            ],
            "application/javascript": [
              "\n",
              "        async function getFrame() {\n",
              "            let canvas = document.createElement('canvas');\n",
              "            let video = window.videoElement;\n",
              "            canvas.width = video.videoWidth;\n",
              "            canvas.height = video.videoHeight;\n",
              "            let context = canvas.getContext('2d');\n",
              "            context.drawImage(video, 0, 0, canvas.width, canvas.height);\n",
              "            const dataURL = canvas.toDataURL('image/jpeg');\n",
              "            google.colab.kernel.invokeFunction('notebook.captureFrame', [dataURL], {});\n",
              "        }\n",
              "        getFrame();\n",
              "    "
            ]
          },
          "metadata": {}
        },
        {
          "output_type": "display_data",
          "data": {
            "text/plain": [
              "<IPython.core.display.Javascript object>"
            ],
            "application/javascript": [
              "\n",
              "        async function getFrame() {\n",
              "            let canvas = document.createElement('canvas');\n",
              "            let video = window.videoElement;\n",
              "            canvas.width = video.videoWidth;\n",
              "            canvas.height = video.videoHeight;\n",
              "            let context = canvas.getContext('2d');\n",
              "            context.drawImage(video, 0, 0, canvas.width, canvas.height);\n",
              "            const dataURL = canvas.toDataURL('image/jpeg');\n",
              "            google.colab.kernel.invokeFunction('notebook.captureFrame', [dataURL], {});\n",
              "        }\n",
              "        getFrame();\n",
              "    "
            ]
          },
          "metadata": {}
        },
        {
          "output_type": "display_data",
          "data": {
            "text/plain": [
              "<IPython.core.display.Javascript object>"
            ],
            "application/javascript": [
              "\n",
              "        async function getFrame() {\n",
              "            let canvas = document.createElement('canvas');\n",
              "            let video = window.videoElement;\n",
              "            canvas.width = video.videoWidth;\n",
              "            canvas.height = video.videoHeight;\n",
              "            let context = canvas.getContext('2d');\n",
              "            context.drawImage(video, 0, 0, canvas.width, canvas.height);\n",
              "            const dataURL = canvas.toDataURL('image/jpeg');\n",
              "            google.colab.kernel.invokeFunction('notebook.captureFrame', [dataURL], {});\n",
              "        }\n",
              "        getFrame();\n",
              "    "
            ]
          },
          "metadata": {}
        },
        {
          "output_type": "display_data",
          "data": {
            "text/plain": [
              "<IPython.core.display.Javascript object>"
            ],
            "application/javascript": [
              "\n",
              "        async function getFrame() {\n",
              "            let canvas = document.createElement('canvas');\n",
              "            let video = window.videoElement;\n",
              "            canvas.width = video.videoWidth;\n",
              "            canvas.height = video.videoHeight;\n",
              "            let context = canvas.getContext('2d');\n",
              "            context.drawImage(video, 0, 0, canvas.width, canvas.height);\n",
              "            const dataURL = canvas.toDataURL('image/jpeg');\n",
              "            google.colab.kernel.invokeFunction('notebook.captureFrame', [dataURL], {});\n",
              "        }\n",
              "        getFrame();\n",
              "    "
            ]
          },
          "metadata": {}
        },
        {
          "output_type": "display_data",
          "data": {
            "text/plain": [
              "<IPython.core.display.Javascript object>"
            ],
            "application/javascript": [
              "\n",
              "        async function getFrame() {\n",
              "            let canvas = document.createElement('canvas');\n",
              "            let video = window.videoElement;\n",
              "            canvas.width = video.videoWidth;\n",
              "            canvas.height = video.videoHeight;\n",
              "            let context = canvas.getContext('2d');\n",
              "            context.drawImage(video, 0, 0, canvas.width, canvas.height);\n",
              "            const dataURL = canvas.toDataURL('image/jpeg');\n",
              "            google.colab.kernel.invokeFunction('notebook.captureFrame', [dataURL], {});\n",
              "        }\n",
              "        getFrame();\n",
              "    "
            ]
          },
          "metadata": {}
        },
        {
          "output_type": "display_data",
          "data": {
            "text/plain": [
              "<IPython.core.display.Javascript object>"
            ],
            "application/javascript": [
              "\n",
              "        async function getFrame() {\n",
              "            let canvas = document.createElement('canvas');\n",
              "            let video = window.videoElement;\n",
              "            canvas.width = video.videoWidth;\n",
              "            canvas.height = video.videoHeight;\n",
              "            let context = canvas.getContext('2d');\n",
              "            context.drawImage(video, 0, 0, canvas.width, canvas.height);\n",
              "            const dataURL = canvas.toDataURL('image/jpeg');\n",
              "            google.colab.kernel.invokeFunction('notebook.captureFrame', [dataURL], {});\n",
              "        }\n",
              "        getFrame();\n",
              "    "
            ]
          },
          "metadata": {}
        },
        {
          "output_type": "display_data",
          "data": {
            "text/plain": [
              "<IPython.core.display.Javascript object>"
            ],
            "application/javascript": [
              "\n",
              "        async function getFrame() {\n",
              "            let canvas = document.createElement('canvas');\n",
              "            let video = window.videoElement;\n",
              "            canvas.width = video.videoWidth;\n",
              "            canvas.height = video.videoHeight;\n",
              "            let context = canvas.getContext('2d');\n",
              "            context.drawImage(video, 0, 0, canvas.width, canvas.height);\n",
              "            const dataURL = canvas.toDataURL('image/jpeg');\n",
              "            google.colab.kernel.invokeFunction('notebook.captureFrame', [dataURL], {});\n",
              "        }\n",
              "        getFrame();\n",
              "    "
            ]
          },
          "metadata": {}
        },
        {
          "output_type": "display_data",
          "data": {
            "text/plain": [
              "<IPython.core.display.Javascript object>"
            ],
            "application/javascript": [
              "\n",
              "        async function getFrame() {\n",
              "            let canvas = document.createElement('canvas');\n",
              "            let video = window.videoElement;\n",
              "            canvas.width = video.videoWidth;\n",
              "            canvas.height = video.videoHeight;\n",
              "            let context = canvas.getContext('2d');\n",
              "            context.drawImage(video, 0, 0, canvas.width, canvas.height);\n",
              "            const dataURL = canvas.toDataURL('image/jpeg');\n",
              "            google.colab.kernel.invokeFunction('notebook.captureFrame', [dataURL], {});\n",
              "        }\n",
              "        getFrame();\n",
              "    "
            ]
          },
          "metadata": {}
        },
        {
          "output_type": "display_data",
          "data": {
            "text/plain": [
              "<IPython.core.display.Javascript object>"
            ],
            "application/javascript": [
              "\n",
              "        async function getFrame() {\n",
              "            let canvas = document.createElement('canvas');\n",
              "            let video = window.videoElement;\n",
              "            canvas.width = video.videoWidth;\n",
              "            canvas.height = video.videoHeight;\n",
              "            let context = canvas.getContext('2d');\n",
              "            context.drawImage(video, 0, 0, canvas.width, canvas.height);\n",
              "            const dataURL = canvas.toDataURL('image/jpeg');\n",
              "            google.colab.kernel.invokeFunction('notebook.captureFrame', [dataURL], {});\n",
              "        }\n",
              "        getFrame();\n",
              "    "
            ]
          },
          "metadata": {}
        },
        {
          "output_type": "display_data",
          "data": {
            "text/plain": [
              "<IPython.core.display.Javascript object>"
            ],
            "application/javascript": [
              "\n",
              "        async function getFrame() {\n",
              "            let canvas = document.createElement('canvas');\n",
              "            let video = window.videoElement;\n",
              "            canvas.width = video.videoWidth;\n",
              "            canvas.height = video.videoHeight;\n",
              "            let context = canvas.getContext('2d');\n",
              "            context.drawImage(video, 0, 0, canvas.width, canvas.height);\n",
              "            const dataURL = canvas.toDataURL('image/jpeg');\n",
              "            google.colab.kernel.invokeFunction('notebook.captureFrame', [dataURL], {});\n",
              "        }\n",
              "        getFrame();\n",
              "    "
            ]
          },
          "metadata": {}
        },
        {
          "output_type": "display_data",
          "data": {
            "text/plain": [
              "<IPython.core.display.Javascript object>"
            ],
            "application/javascript": [
              "\n",
              "        async function getFrame() {\n",
              "            let canvas = document.createElement('canvas');\n",
              "            let video = window.videoElement;\n",
              "            canvas.width = video.videoWidth;\n",
              "            canvas.height = video.videoHeight;\n",
              "            let context = canvas.getContext('2d');\n",
              "            context.drawImage(video, 0, 0, canvas.width, canvas.height);\n",
              "            const dataURL = canvas.toDataURL('image/jpeg');\n",
              "            google.colab.kernel.invokeFunction('notebook.captureFrame', [dataURL], {});\n",
              "        }\n",
              "        getFrame();\n",
              "    "
            ]
          },
          "metadata": {}
        },
        {
          "output_type": "display_data",
          "data": {
            "text/plain": [
              "<IPython.core.display.Javascript object>"
            ],
            "application/javascript": [
              "\n",
              "        async function getFrame() {\n",
              "            let canvas = document.createElement('canvas');\n",
              "            let video = window.videoElement;\n",
              "            canvas.width = video.videoWidth;\n",
              "            canvas.height = video.videoHeight;\n",
              "            let context = canvas.getContext('2d');\n",
              "            context.drawImage(video, 0, 0, canvas.width, canvas.height);\n",
              "            const dataURL = canvas.toDataURL('image/jpeg');\n",
              "            google.colab.kernel.invokeFunction('notebook.captureFrame', [dataURL], {});\n",
              "        }\n",
              "        getFrame();\n",
              "    "
            ]
          },
          "metadata": {}
        },
        {
          "output_type": "display_data",
          "data": {
            "text/plain": [
              "<IPython.core.display.Javascript object>"
            ],
            "application/javascript": [
              "\n",
              "        async function getFrame() {\n",
              "            let canvas = document.createElement('canvas');\n",
              "            let video = window.videoElement;\n",
              "            canvas.width = video.videoWidth;\n",
              "            canvas.height = video.videoHeight;\n",
              "            let context = canvas.getContext('2d');\n",
              "            context.drawImage(video, 0, 0, canvas.width, canvas.height);\n",
              "            const dataURL = canvas.toDataURL('image/jpeg');\n",
              "            google.colab.kernel.invokeFunction('notebook.captureFrame', [dataURL], {});\n",
              "        }\n",
              "        getFrame();\n",
              "    "
            ]
          },
          "metadata": {}
        },
        {
          "output_type": "display_data",
          "data": {
            "text/plain": [
              "<IPython.core.display.Javascript object>"
            ],
            "application/javascript": [
              "\n",
              "        async function getFrame() {\n",
              "            let canvas = document.createElement('canvas');\n",
              "            let video = window.videoElement;\n",
              "            canvas.width = video.videoWidth;\n",
              "            canvas.height = video.videoHeight;\n",
              "            let context = canvas.getContext('2d');\n",
              "            context.drawImage(video, 0, 0, canvas.width, canvas.height);\n",
              "            const dataURL = canvas.toDataURL('image/jpeg');\n",
              "            google.colab.kernel.invokeFunction('notebook.captureFrame', [dataURL], {});\n",
              "        }\n",
              "        getFrame();\n",
              "    "
            ]
          },
          "metadata": {}
        },
        {
          "output_type": "display_data",
          "data": {
            "text/plain": [
              "<IPython.core.display.Javascript object>"
            ],
            "application/javascript": [
              "\n",
              "        async function getFrame() {\n",
              "            let canvas = document.createElement('canvas');\n",
              "            let video = window.videoElement;\n",
              "            canvas.width = video.videoWidth;\n",
              "            canvas.height = video.videoHeight;\n",
              "            let context = canvas.getContext('2d');\n",
              "            context.drawImage(video, 0, 0, canvas.width, canvas.height);\n",
              "            const dataURL = canvas.toDataURL('image/jpeg');\n",
              "            google.colab.kernel.invokeFunction('notebook.captureFrame', [dataURL], {});\n",
              "        }\n",
              "        getFrame();\n",
              "    "
            ]
          },
          "metadata": {}
        },
        {
          "output_type": "display_data",
          "data": {
            "text/plain": [
              "<IPython.core.display.Javascript object>"
            ],
            "application/javascript": [
              "\n",
              "        async function getFrame() {\n",
              "            let canvas = document.createElement('canvas');\n",
              "            let video = window.videoElement;\n",
              "            canvas.width = video.videoWidth;\n",
              "            canvas.height = video.videoHeight;\n",
              "            let context = canvas.getContext('2d');\n",
              "            context.drawImage(video, 0, 0, canvas.width, canvas.height);\n",
              "            const dataURL = canvas.toDataURL('image/jpeg');\n",
              "            google.colab.kernel.invokeFunction('notebook.captureFrame', [dataURL], {});\n",
              "        }\n",
              "        getFrame();\n",
              "    "
            ]
          },
          "metadata": {}
        },
        {
          "output_type": "display_data",
          "data": {
            "text/plain": [
              "<IPython.core.display.Javascript object>"
            ],
            "application/javascript": [
              "\n",
              "        async function getFrame() {\n",
              "            let canvas = document.createElement('canvas');\n",
              "            let video = window.videoElement;\n",
              "            canvas.width = video.videoWidth;\n",
              "            canvas.height = video.videoHeight;\n",
              "            let context = canvas.getContext('2d');\n",
              "            context.drawImage(video, 0, 0, canvas.width, canvas.height);\n",
              "            const dataURL = canvas.toDataURL('image/jpeg');\n",
              "            google.colab.kernel.invokeFunction('notebook.captureFrame', [dataURL], {});\n",
              "        }\n",
              "        getFrame();\n",
              "    "
            ]
          },
          "metadata": {}
        },
        {
          "output_type": "display_data",
          "data": {
            "text/plain": [
              "<IPython.core.display.Javascript object>"
            ],
            "application/javascript": [
              "\n",
              "        async function getFrame() {\n",
              "            let canvas = document.createElement('canvas');\n",
              "            let video = window.videoElement;\n",
              "            canvas.width = video.videoWidth;\n",
              "            canvas.height = video.videoHeight;\n",
              "            let context = canvas.getContext('2d');\n",
              "            context.drawImage(video, 0, 0, canvas.width, canvas.height);\n",
              "            const dataURL = canvas.toDataURL('image/jpeg');\n",
              "            google.colab.kernel.invokeFunction('notebook.captureFrame', [dataURL], {});\n",
              "        }\n",
              "        getFrame();\n",
              "    "
            ]
          },
          "metadata": {}
        },
        {
          "output_type": "display_data",
          "data": {
            "text/plain": [
              "<IPython.core.display.Javascript object>"
            ],
            "application/javascript": [
              "\n",
              "        async function getFrame() {\n",
              "            let canvas = document.createElement('canvas');\n",
              "            let video = window.videoElement;\n",
              "            canvas.width = video.videoWidth;\n",
              "            canvas.height = video.videoHeight;\n",
              "            let context = canvas.getContext('2d');\n",
              "            context.drawImage(video, 0, 0, canvas.width, canvas.height);\n",
              "            const dataURL = canvas.toDataURL('image/jpeg');\n",
              "            google.colab.kernel.invokeFunction('notebook.captureFrame', [dataURL], {});\n",
              "        }\n",
              "        getFrame();\n",
              "    "
            ]
          },
          "metadata": {}
        },
        {
          "output_type": "display_data",
          "data": {
            "text/plain": [
              "<IPython.core.display.Javascript object>"
            ],
            "application/javascript": [
              "\n",
              "        async function getFrame() {\n",
              "            let canvas = document.createElement('canvas');\n",
              "            let video = window.videoElement;\n",
              "            canvas.width = video.videoWidth;\n",
              "            canvas.height = video.videoHeight;\n",
              "            let context = canvas.getContext('2d');\n",
              "            context.drawImage(video, 0, 0, canvas.width, canvas.height);\n",
              "            const dataURL = canvas.toDataURL('image/jpeg');\n",
              "            google.colab.kernel.invokeFunction('notebook.captureFrame', [dataURL], {});\n",
              "        }\n",
              "        getFrame();\n",
              "    "
            ]
          },
          "metadata": {}
        },
        {
          "output_type": "display_data",
          "data": {
            "text/plain": [
              "<IPython.core.display.Javascript object>"
            ],
            "application/javascript": [
              "\n",
              "        async function getFrame() {\n",
              "            let canvas = document.createElement('canvas');\n",
              "            let video = window.videoElement;\n",
              "            canvas.width = video.videoWidth;\n",
              "            canvas.height = video.videoHeight;\n",
              "            let context = canvas.getContext('2d');\n",
              "            context.drawImage(video, 0, 0, canvas.width, canvas.height);\n",
              "            const dataURL = canvas.toDataURL('image/jpeg');\n",
              "            google.colab.kernel.invokeFunction('notebook.captureFrame', [dataURL], {});\n",
              "        }\n",
              "        getFrame();\n",
              "    "
            ]
          },
          "metadata": {}
        },
        {
          "output_type": "display_data",
          "data": {
            "text/plain": [
              "<IPython.core.display.Javascript object>"
            ],
            "application/javascript": [
              "\n",
              "        async function getFrame() {\n",
              "            let canvas = document.createElement('canvas');\n",
              "            let video = window.videoElement;\n",
              "            canvas.width = video.videoWidth;\n",
              "            canvas.height = video.videoHeight;\n",
              "            let context = canvas.getContext('2d');\n",
              "            context.drawImage(video, 0, 0, canvas.width, canvas.height);\n",
              "            const dataURL = canvas.toDataURL('image/jpeg');\n",
              "            google.colab.kernel.invokeFunction('notebook.captureFrame', [dataURL], {});\n",
              "        }\n",
              "        getFrame();\n",
              "    "
            ]
          },
          "metadata": {}
        },
        {
          "output_type": "display_data",
          "data": {
            "text/plain": [
              "<IPython.core.display.Javascript object>"
            ],
            "application/javascript": [
              "\n",
              "        async function getFrame() {\n",
              "            let canvas = document.createElement('canvas');\n",
              "            let video = window.videoElement;\n",
              "            canvas.width = video.videoWidth;\n",
              "            canvas.height = video.videoHeight;\n",
              "            let context = canvas.getContext('2d');\n",
              "            context.drawImage(video, 0, 0, canvas.width, canvas.height);\n",
              "            const dataURL = canvas.toDataURL('image/jpeg');\n",
              "            google.colab.kernel.invokeFunction('notebook.captureFrame', [dataURL], {});\n",
              "        }\n",
              "        getFrame();\n",
              "    "
            ]
          },
          "metadata": {}
        },
        {
          "output_type": "display_data",
          "data": {
            "text/plain": [
              "<IPython.core.display.Javascript object>"
            ],
            "application/javascript": [
              "\n",
              "        async function getFrame() {\n",
              "            let canvas = document.createElement('canvas');\n",
              "            let video = window.videoElement;\n",
              "            canvas.width = video.videoWidth;\n",
              "            canvas.height = video.videoHeight;\n",
              "            let context = canvas.getContext('2d');\n",
              "            context.drawImage(video, 0, 0, canvas.width, canvas.height);\n",
              "            const dataURL = canvas.toDataURL('image/jpeg');\n",
              "            google.colab.kernel.invokeFunction('notebook.captureFrame', [dataURL], {});\n",
              "        }\n",
              "        getFrame();\n",
              "    "
            ]
          },
          "metadata": {}
        },
        {
          "output_type": "display_data",
          "data": {
            "text/plain": [
              "<IPython.core.display.Javascript object>"
            ],
            "application/javascript": [
              "\n",
              "        async function getFrame() {\n",
              "            let canvas = document.createElement('canvas');\n",
              "            let video = window.videoElement;\n",
              "            canvas.width = video.videoWidth;\n",
              "            canvas.height = video.videoHeight;\n",
              "            let context = canvas.getContext('2d');\n",
              "            context.drawImage(video, 0, 0, canvas.width, canvas.height);\n",
              "            const dataURL = canvas.toDataURL('image/jpeg');\n",
              "            google.colab.kernel.invokeFunction('notebook.captureFrame', [dataURL], {});\n",
              "        }\n",
              "        getFrame();\n",
              "    "
            ]
          },
          "metadata": {}
        },
        {
          "output_type": "display_data",
          "data": {
            "text/plain": [
              "<IPython.core.display.Javascript object>"
            ],
            "application/javascript": [
              "\n",
              "        async function getFrame() {\n",
              "            let canvas = document.createElement('canvas');\n",
              "            let video = window.videoElement;\n",
              "            canvas.width = video.videoWidth;\n",
              "            canvas.height = video.videoHeight;\n",
              "            let context = canvas.getContext('2d');\n",
              "            context.drawImage(video, 0, 0, canvas.width, canvas.height);\n",
              "            const dataURL = canvas.toDataURL('image/jpeg');\n",
              "            google.colab.kernel.invokeFunction('notebook.captureFrame', [dataURL], {});\n",
              "        }\n",
              "        getFrame();\n",
              "    "
            ]
          },
          "metadata": {}
        },
        {
          "output_type": "display_data",
          "data": {
            "text/plain": [
              "<IPython.core.display.Javascript object>"
            ],
            "application/javascript": [
              "\n",
              "        async function getFrame() {\n",
              "            let canvas = document.createElement('canvas');\n",
              "            let video = window.videoElement;\n",
              "            canvas.width = video.videoWidth;\n",
              "            canvas.height = video.videoHeight;\n",
              "            let context = canvas.getContext('2d');\n",
              "            context.drawImage(video, 0, 0, canvas.width, canvas.height);\n",
              "            const dataURL = canvas.toDataURL('image/jpeg');\n",
              "            google.colab.kernel.invokeFunction('notebook.captureFrame', [dataURL], {});\n",
              "        }\n",
              "        getFrame();\n",
              "    "
            ]
          },
          "metadata": {}
        },
        {
          "output_type": "display_data",
          "data": {
            "text/plain": [
              "<IPython.core.display.Javascript object>"
            ],
            "application/javascript": [
              "\n",
              "        async function getFrame() {\n",
              "            let canvas = document.createElement('canvas');\n",
              "            let video = window.videoElement;\n",
              "            canvas.width = video.videoWidth;\n",
              "            canvas.height = video.videoHeight;\n",
              "            let context = canvas.getContext('2d');\n",
              "            context.drawImage(video, 0, 0, canvas.width, canvas.height);\n",
              "            const dataURL = canvas.toDataURL('image/jpeg');\n",
              "            google.colab.kernel.invokeFunction('notebook.captureFrame', [dataURL], {});\n",
              "        }\n",
              "        getFrame();\n",
              "    "
            ]
          },
          "metadata": {}
        },
        {
          "output_type": "display_data",
          "data": {
            "text/plain": [
              "<IPython.core.display.Javascript object>"
            ],
            "application/javascript": [
              "\n",
              "        async function getFrame() {\n",
              "            let canvas = document.createElement('canvas');\n",
              "            let video = window.videoElement;\n",
              "            canvas.width = video.videoWidth;\n",
              "            canvas.height = video.videoHeight;\n",
              "            let context = canvas.getContext('2d');\n",
              "            context.drawImage(video, 0, 0, canvas.width, canvas.height);\n",
              "            const dataURL = canvas.toDataURL('image/jpeg');\n",
              "            google.colab.kernel.invokeFunction('notebook.captureFrame', [dataURL], {});\n",
              "        }\n",
              "        getFrame();\n",
              "    "
            ]
          },
          "metadata": {}
        },
        {
          "output_type": "display_data",
          "data": {
            "text/plain": [
              "<IPython.core.display.Javascript object>"
            ],
            "application/javascript": [
              "\n",
              "        async function getFrame() {\n",
              "            let canvas = document.createElement('canvas');\n",
              "            let video = window.videoElement;\n",
              "            canvas.width = video.videoWidth;\n",
              "            canvas.height = video.videoHeight;\n",
              "            let context = canvas.getContext('2d');\n",
              "            context.drawImage(video, 0, 0, canvas.width, canvas.height);\n",
              "            const dataURL = canvas.toDataURL('image/jpeg');\n",
              "            google.colab.kernel.invokeFunction('notebook.captureFrame', [dataURL], {});\n",
              "        }\n",
              "        getFrame();\n",
              "    "
            ]
          },
          "metadata": {}
        },
        {
          "output_type": "display_data",
          "data": {
            "text/plain": [
              "<IPython.core.display.Javascript object>"
            ],
            "application/javascript": [
              "\n",
              "        async function getFrame() {\n",
              "            let canvas = document.createElement('canvas');\n",
              "            let video = window.videoElement;\n",
              "            canvas.width = video.videoWidth;\n",
              "            canvas.height = video.videoHeight;\n",
              "            let context = canvas.getContext('2d');\n",
              "            context.drawImage(video, 0, 0, canvas.width, canvas.height);\n",
              "            const dataURL = canvas.toDataURL('image/jpeg');\n",
              "            google.colab.kernel.invokeFunction('notebook.captureFrame', [dataURL], {});\n",
              "        }\n",
              "        getFrame();\n",
              "    "
            ]
          },
          "metadata": {}
        },
        {
          "output_type": "display_data",
          "data": {
            "text/plain": [
              "<IPython.core.display.Javascript object>"
            ],
            "application/javascript": [
              "\n",
              "        async function getFrame() {\n",
              "            let canvas = document.createElement('canvas');\n",
              "            let video = window.videoElement;\n",
              "            canvas.width = video.videoWidth;\n",
              "            canvas.height = video.videoHeight;\n",
              "            let context = canvas.getContext('2d');\n",
              "            context.drawImage(video, 0, 0, canvas.width, canvas.height);\n",
              "            const dataURL = canvas.toDataURL('image/jpeg');\n",
              "            google.colab.kernel.invokeFunction('notebook.captureFrame', [dataURL], {});\n",
              "        }\n",
              "        getFrame();\n",
              "    "
            ]
          },
          "metadata": {}
        },
        {
          "output_type": "display_data",
          "data": {
            "text/plain": [
              "<IPython.core.display.Javascript object>"
            ],
            "application/javascript": [
              "\n",
              "        async function getFrame() {\n",
              "            let canvas = document.createElement('canvas');\n",
              "            let video = window.videoElement;\n",
              "            canvas.width = video.videoWidth;\n",
              "            canvas.height = video.videoHeight;\n",
              "            let context = canvas.getContext('2d');\n",
              "            context.drawImage(video, 0, 0, canvas.width, canvas.height);\n",
              "            const dataURL = canvas.toDataURL('image/jpeg');\n",
              "            google.colab.kernel.invokeFunction('notebook.captureFrame', [dataURL], {});\n",
              "        }\n",
              "        getFrame();\n",
              "    "
            ]
          },
          "metadata": {}
        },
        {
          "output_type": "display_data",
          "data": {
            "text/plain": [
              "<IPython.core.display.Javascript object>"
            ],
            "application/javascript": [
              "\n",
              "        async function getFrame() {\n",
              "            let canvas = document.createElement('canvas');\n",
              "            let video = window.videoElement;\n",
              "            canvas.width = video.videoWidth;\n",
              "            canvas.height = video.videoHeight;\n",
              "            let context = canvas.getContext('2d');\n",
              "            context.drawImage(video, 0, 0, canvas.width, canvas.height);\n",
              "            const dataURL = canvas.toDataURL('image/jpeg');\n",
              "            google.colab.kernel.invokeFunction('notebook.captureFrame', [dataURL], {});\n",
              "        }\n",
              "        getFrame();\n",
              "    "
            ]
          },
          "metadata": {}
        },
        {
          "output_type": "display_data",
          "data": {
            "text/plain": [
              "<IPython.core.display.Javascript object>"
            ],
            "application/javascript": [
              "\n",
              "        async function getFrame() {\n",
              "            let canvas = document.createElement('canvas');\n",
              "            let video = window.videoElement;\n",
              "            canvas.width = video.videoWidth;\n",
              "            canvas.height = video.videoHeight;\n",
              "            let context = canvas.getContext('2d');\n",
              "            context.drawImage(video, 0, 0, canvas.width, canvas.height);\n",
              "            const dataURL = canvas.toDataURL('image/jpeg');\n",
              "            google.colab.kernel.invokeFunction('notebook.captureFrame', [dataURL], {});\n",
              "        }\n",
              "        getFrame();\n",
              "    "
            ]
          },
          "metadata": {}
        },
        {
          "output_type": "display_data",
          "data": {
            "text/plain": [
              "<IPython.core.display.Javascript object>"
            ],
            "application/javascript": [
              "\n",
              "        async function getFrame() {\n",
              "            let canvas = document.createElement('canvas');\n",
              "            let video = window.videoElement;\n",
              "            canvas.width = video.videoWidth;\n",
              "            canvas.height = video.videoHeight;\n",
              "            let context = canvas.getContext('2d');\n",
              "            context.drawImage(video, 0, 0, canvas.width, canvas.height);\n",
              "            const dataURL = canvas.toDataURL('image/jpeg');\n",
              "            google.colab.kernel.invokeFunction('notebook.captureFrame', [dataURL], {});\n",
              "        }\n",
              "        getFrame();\n",
              "    "
            ]
          },
          "metadata": {}
        },
        {
          "output_type": "display_data",
          "data": {
            "text/plain": [
              "<IPython.core.display.Javascript object>"
            ],
            "application/javascript": [
              "\n",
              "        async function getFrame() {\n",
              "            let canvas = document.createElement('canvas');\n",
              "            let video = window.videoElement;\n",
              "            canvas.width = video.videoWidth;\n",
              "            canvas.height = video.videoHeight;\n",
              "            let context = canvas.getContext('2d');\n",
              "            context.drawImage(video, 0, 0, canvas.width, canvas.height);\n",
              "            const dataURL = canvas.toDataURL('image/jpeg');\n",
              "            google.colab.kernel.invokeFunction('notebook.captureFrame', [dataURL], {});\n",
              "        }\n",
              "        getFrame();\n",
              "    "
            ]
          },
          "metadata": {}
        },
        {
          "output_type": "display_data",
          "data": {
            "text/plain": [
              "<IPython.core.display.Javascript object>"
            ],
            "application/javascript": [
              "\n",
              "        async function getFrame() {\n",
              "            let canvas = document.createElement('canvas');\n",
              "            let video = window.videoElement;\n",
              "            canvas.width = video.videoWidth;\n",
              "            canvas.height = video.videoHeight;\n",
              "            let context = canvas.getContext('2d');\n",
              "            context.drawImage(video, 0, 0, canvas.width, canvas.height);\n",
              "            const dataURL = canvas.toDataURL('image/jpeg');\n",
              "            google.colab.kernel.invokeFunction('notebook.captureFrame', [dataURL], {});\n",
              "        }\n",
              "        getFrame();\n",
              "    "
            ]
          },
          "metadata": {}
        },
        {
          "output_type": "display_data",
          "data": {
            "text/plain": [
              "<IPython.core.display.Javascript object>"
            ],
            "application/javascript": [
              "\n",
              "        async function getFrame() {\n",
              "            let canvas = document.createElement('canvas');\n",
              "            let video = window.videoElement;\n",
              "            canvas.width = video.videoWidth;\n",
              "            canvas.height = video.videoHeight;\n",
              "            let context = canvas.getContext('2d');\n",
              "            context.drawImage(video, 0, 0, canvas.width, canvas.height);\n",
              "            const dataURL = canvas.toDataURL('image/jpeg');\n",
              "            google.colab.kernel.invokeFunction('notebook.captureFrame', [dataURL], {});\n",
              "        }\n",
              "        getFrame();\n",
              "    "
            ]
          },
          "metadata": {}
        },
        {
          "output_type": "display_data",
          "data": {
            "text/plain": [
              "<IPython.core.display.Javascript object>"
            ],
            "application/javascript": [
              "\n",
              "        async function getFrame() {\n",
              "            let canvas = document.createElement('canvas');\n",
              "            let video = window.videoElement;\n",
              "            canvas.width = video.videoWidth;\n",
              "            canvas.height = video.videoHeight;\n",
              "            let context = canvas.getContext('2d');\n",
              "            context.drawImage(video, 0, 0, canvas.width, canvas.height);\n",
              "            const dataURL = canvas.toDataURL('image/jpeg');\n",
              "            google.colab.kernel.invokeFunction('notebook.captureFrame', [dataURL], {});\n",
              "        }\n",
              "        getFrame();\n",
              "    "
            ]
          },
          "metadata": {}
        },
        {
          "output_type": "display_data",
          "data": {
            "text/plain": [
              "<IPython.core.display.Javascript object>"
            ],
            "application/javascript": [
              "\n",
              "        async function getFrame() {\n",
              "            let canvas = document.createElement('canvas');\n",
              "            let video = window.videoElement;\n",
              "            canvas.width = video.videoWidth;\n",
              "            canvas.height = video.videoHeight;\n",
              "            let context = canvas.getContext('2d');\n",
              "            context.drawImage(video, 0, 0, canvas.width, canvas.height);\n",
              "            const dataURL = canvas.toDataURL('image/jpeg');\n",
              "            google.colab.kernel.invokeFunction('notebook.captureFrame', [dataURL], {});\n",
              "        }\n",
              "        getFrame();\n",
              "    "
            ]
          },
          "metadata": {}
        },
        {
          "output_type": "display_data",
          "data": {
            "text/plain": [
              "<IPython.core.display.Javascript object>"
            ],
            "application/javascript": [
              "\n",
              "        async function getFrame() {\n",
              "            let canvas = document.createElement('canvas');\n",
              "            let video = window.videoElement;\n",
              "            canvas.width = video.videoWidth;\n",
              "            canvas.height = video.videoHeight;\n",
              "            let context = canvas.getContext('2d');\n",
              "            context.drawImage(video, 0, 0, canvas.width, canvas.height);\n",
              "            const dataURL = canvas.toDataURL('image/jpeg');\n",
              "            google.colab.kernel.invokeFunction('notebook.captureFrame', [dataURL], {});\n",
              "        }\n",
              "        getFrame();\n",
              "    "
            ]
          },
          "metadata": {}
        },
        {
          "output_type": "display_data",
          "data": {
            "text/plain": [
              "<IPython.core.display.Javascript object>"
            ],
            "application/javascript": [
              "\n",
              "        async function getFrame() {\n",
              "            let canvas = document.createElement('canvas');\n",
              "            let video = window.videoElement;\n",
              "            canvas.width = video.videoWidth;\n",
              "            canvas.height = video.videoHeight;\n",
              "            let context = canvas.getContext('2d');\n",
              "            context.drawImage(video, 0, 0, canvas.width, canvas.height);\n",
              "            const dataURL = canvas.toDataURL('image/jpeg');\n",
              "            google.colab.kernel.invokeFunction('notebook.captureFrame', [dataURL], {});\n",
              "        }\n",
              "        getFrame();\n",
              "    "
            ]
          },
          "metadata": {}
        },
        {
          "output_type": "display_data",
          "data": {
            "text/plain": [
              "<IPython.core.display.Javascript object>"
            ],
            "application/javascript": [
              "\n",
              "        async function getFrame() {\n",
              "            let canvas = document.createElement('canvas');\n",
              "            let video = window.videoElement;\n",
              "            canvas.width = video.videoWidth;\n",
              "            canvas.height = video.videoHeight;\n",
              "            let context = canvas.getContext('2d');\n",
              "            context.drawImage(video, 0, 0, canvas.width, canvas.height);\n",
              "            const dataURL = canvas.toDataURL('image/jpeg');\n",
              "            google.colab.kernel.invokeFunction('notebook.captureFrame', [dataURL], {});\n",
              "        }\n",
              "        getFrame();\n",
              "    "
            ]
          },
          "metadata": {}
        },
        {
          "output_type": "display_data",
          "data": {
            "text/plain": [
              "<IPython.core.display.Javascript object>"
            ],
            "application/javascript": [
              "\n",
              "        async function getFrame() {\n",
              "            let canvas = document.createElement('canvas');\n",
              "            let video = window.videoElement;\n",
              "            canvas.width = video.videoWidth;\n",
              "            canvas.height = video.videoHeight;\n",
              "            let context = canvas.getContext('2d');\n",
              "            context.drawImage(video, 0, 0, canvas.width, canvas.height);\n",
              "            const dataURL = canvas.toDataURL('image/jpeg');\n",
              "            google.colab.kernel.invokeFunction('notebook.captureFrame', [dataURL], {});\n",
              "        }\n",
              "        getFrame();\n",
              "    "
            ]
          },
          "metadata": {}
        },
        {
          "output_type": "display_data",
          "data": {
            "text/plain": [
              "<IPython.core.display.Javascript object>"
            ],
            "application/javascript": [
              "\n",
              "        async function getFrame() {\n",
              "            let canvas = document.createElement('canvas');\n",
              "            let video = window.videoElement;\n",
              "            canvas.width = video.videoWidth;\n",
              "            canvas.height = video.videoHeight;\n",
              "            let context = canvas.getContext('2d');\n",
              "            context.drawImage(video, 0, 0, canvas.width, canvas.height);\n",
              "            const dataURL = canvas.toDataURL('image/jpeg');\n",
              "            google.colab.kernel.invokeFunction('notebook.captureFrame', [dataURL], {});\n",
              "        }\n",
              "        getFrame();\n",
              "    "
            ]
          },
          "metadata": {}
        },
        {
          "output_type": "display_data",
          "data": {
            "text/plain": [
              "<IPython.core.display.Javascript object>"
            ],
            "application/javascript": [
              "\n",
              "        async function getFrame() {\n",
              "            let canvas = document.createElement('canvas');\n",
              "            let video = window.videoElement;\n",
              "            canvas.width = video.videoWidth;\n",
              "            canvas.height = video.videoHeight;\n",
              "            let context = canvas.getContext('2d');\n",
              "            context.drawImage(video, 0, 0, canvas.width, canvas.height);\n",
              "            const dataURL = canvas.toDataURL('image/jpeg');\n",
              "            google.colab.kernel.invokeFunction('notebook.captureFrame', [dataURL], {});\n",
              "        }\n",
              "        getFrame();\n",
              "    "
            ]
          },
          "metadata": {}
        },
        {
          "output_type": "display_data",
          "data": {
            "text/plain": [
              "<IPython.core.display.Javascript object>"
            ],
            "application/javascript": [
              "\n",
              "        async function getFrame() {\n",
              "            let canvas = document.createElement('canvas');\n",
              "            let video = window.videoElement;\n",
              "            canvas.width = video.videoWidth;\n",
              "            canvas.height = video.videoHeight;\n",
              "            let context = canvas.getContext('2d');\n",
              "            context.drawImage(video, 0, 0, canvas.width, canvas.height);\n",
              "            const dataURL = canvas.toDataURL('image/jpeg');\n",
              "            google.colab.kernel.invokeFunction('notebook.captureFrame', [dataURL], {});\n",
              "        }\n",
              "        getFrame();\n",
              "    "
            ]
          },
          "metadata": {}
        },
        {
          "output_type": "display_data",
          "data": {
            "text/plain": [
              "<IPython.core.display.Javascript object>"
            ],
            "application/javascript": [
              "\n",
              "        async function getFrame() {\n",
              "            let canvas = document.createElement('canvas');\n",
              "            let video = window.videoElement;\n",
              "            canvas.width = video.videoWidth;\n",
              "            canvas.height = video.videoHeight;\n",
              "            let context = canvas.getContext('2d');\n",
              "            context.drawImage(video, 0, 0, canvas.width, canvas.height);\n",
              "            const dataURL = canvas.toDataURL('image/jpeg');\n",
              "            google.colab.kernel.invokeFunction('notebook.captureFrame', [dataURL], {});\n",
              "        }\n",
              "        getFrame();\n",
              "    "
            ]
          },
          "metadata": {}
        },
        {
          "output_type": "display_data",
          "data": {
            "text/plain": [
              "<IPython.core.display.Javascript object>"
            ],
            "application/javascript": [
              "\n",
              "        async function getFrame() {\n",
              "            let canvas = document.createElement('canvas');\n",
              "            let video = window.videoElement;\n",
              "            canvas.width = video.videoWidth;\n",
              "            canvas.height = video.videoHeight;\n",
              "            let context = canvas.getContext('2d');\n",
              "            context.drawImage(video, 0, 0, canvas.width, canvas.height);\n",
              "            const dataURL = canvas.toDataURL('image/jpeg');\n",
              "            google.colab.kernel.invokeFunction('notebook.captureFrame', [dataURL], {});\n",
              "        }\n",
              "        getFrame();\n",
              "    "
            ]
          },
          "metadata": {}
        },
        {
          "output_type": "display_data",
          "data": {
            "text/plain": [
              "<IPython.core.display.Javascript object>"
            ],
            "application/javascript": [
              "\n",
              "        async function getFrame() {\n",
              "            let canvas = document.createElement('canvas');\n",
              "            let video = window.videoElement;\n",
              "            canvas.width = video.videoWidth;\n",
              "            canvas.height = video.videoHeight;\n",
              "            let context = canvas.getContext('2d');\n",
              "            context.drawImage(video, 0, 0, canvas.width, canvas.height);\n",
              "            const dataURL = canvas.toDataURL('image/jpeg');\n",
              "            google.colab.kernel.invokeFunction('notebook.captureFrame', [dataURL], {});\n",
              "        }\n",
              "        getFrame();\n",
              "    "
            ]
          },
          "metadata": {}
        },
        {
          "output_type": "display_data",
          "data": {
            "text/plain": [
              "<IPython.core.display.Javascript object>"
            ],
            "application/javascript": [
              "\n",
              "        async function getFrame() {\n",
              "            let canvas = document.createElement('canvas');\n",
              "            let video = window.videoElement;\n",
              "            canvas.width = video.videoWidth;\n",
              "            canvas.height = video.videoHeight;\n",
              "            let context = canvas.getContext('2d');\n",
              "            context.drawImage(video, 0, 0, canvas.width, canvas.height);\n",
              "            const dataURL = canvas.toDataURL('image/jpeg');\n",
              "            google.colab.kernel.invokeFunction('notebook.captureFrame', [dataURL], {});\n",
              "        }\n",
              "        getFrame();\n",
              "    "
            ]
          },
          "metadata": {}
        },
        {
          "output_type": "display_data",
          "data": {
            "text/plain": [
              "<IPython.core.display.Javascript object>"
            ],
            "application/javascript": [
              "\n",
              "        async function getFrame() {\n",
              "            let canvas = document.createElement('canvas');\n",
              "            let video = window.videoElement;\n",
              "            canvas.width = video.videoWidth;\n",
              "            canvas.height = video.videoHeight;\n",
              "            let context = canvas.getContext('2d');\n",
              "            context.drawImage(video, 0, 0, canvas.width, canvas.height);\n",
              "            const dataURL = canvas.toDataURL('image/jpeg');\n",
              "            google.colab.kernel.invokeFunction('notebook.captureFrame', [dataURL], {});\n",
              "        }\n",
              "        getFrame();\n",
              "    "
            ]
          },
          "metadata": {}
        },
        {
          "output_type": "display_data",
          "data": {
            "text/plain": [
              "<IPython.core.display.Javascript object>"
            ],
            "application/javascript": [
              "\n",
              "        async function getFrame() {\n",
              "            let canvas = document.createElement('canvas');\n",
              "            let video = window.videoElement;\n",
              "            canvas.width = video.videoWidth;\n",
              "            canvas.height = video.videoHeight;\n",
              "            let context = canvas.getContext('2d');\n",
              "            context.drawImage(video, 0, 0, canvas.width, canvas.height);\n",
              "            const dataURL = canvas.toDataURL('image/jpeg');\n",
              "            google.colab.kernel.invokeFunction('notebook.captureFrame', [dataURL], {});\n",
              "        }\n",
              "        getFrame();\n",
              "    "
            ]
          },
          "metadata": {}
        },
        {
          "output_type": "display_data",
          "data": {
            "text/plain": [
              "<IPython.core.display.Javascript object>"
            ],
            "application/javascript": [
              "\n",
              "        async function getFrame() {\n",
              "            let canvas = document.createElement('canvas');\n",
              "            let video = window.videoElement;\n",
              "            canvas.width = video.videoWidth;\n",
              "            canvas.height = video.videoHeight;\n",
              "            let context = canvas.getContext('2d');\n",
              "            context.drawImage(video, 0, 0, canvas.width, canvas.height);\n",
              "            const dataURL = canvas.toDataURL('image/jpeg');\n",
              "            google.colab.kernel.invokeFunction('notebook.captureFrame', [dataURL], {});\n",
              "        }\n",
              "        getFrame();\n",
              "    "
            ]
          },
          "metadata": {}
        },
        {
          "output_type": "display_data",
          "data": {
            "text/plain": [
              "<IPython.core.display.Javascript object>"
            ],
            "application/javascript": [
              "\n",
              "        async function getFrame() {\n",
              "            let canvas = document.createElement('canvas');\n",
              "            let video = window.videoElement;\n",
              "            canvas.width = video.videoWidth;\n",
              "            canvas.height = video.videoHeight;\n",
              "            let context = canvas.getContext('2d');\n",
              "            context.drawImage(video, 0, 0, canvas.width, canvas.height);\n",
              "            const dataURL = canvas.toDataURL('image/jpeg');\n",
              "            google.colab.kernel.invokeFunction('notebook.captureFrame', [dataURL], {});\n",
              "        }\n",
              "        getFrame();\n",
              "    "
            ]
          },
          "metadata": {}
        },
        {
          "output_type": "display_data",
          "data": {
            "text/plain": [
              "<IPython.core.display.Javascript object>"
            ],
            "application/javascript": [
              "\n",
              "        async function getFrame() {\n",
              "            let canvas = document.createElement('canvas');\n",
              "            let video = window.videoElement;\n",
              "            canvas.width = video.videoWidth;\n",
              "            canvas.height = video.videoHeight;\n",
              "            let context = canvas.getContext('2d');\n",
              "            context.drawImage(video, 0, 0, canvas.width, canvas.height);\n",
              "            const dataURL = canvas.toDataURL('image/jpeg');\n",
              "            google.colab.kernel.invokeFunction('notebook.captureFrame', [dataURL], {});\n",
              "        }\n",
              "        getFrame();\n",
              "    "
            ]
          },
          "metadata": {}
        },
        {
          "output_type": "display_data",
          "data": {
            "text/plain": [
              "<IPython.core.display.Javascript object>"
            ],
            "application/javascript": [
              "\n",
              "        async function getFrame() {\n",
              "            let canvas = document.createElement('canvas');\n",
              "            let video = window.videoElement;\n",
              "            canvas.width = video.videoWidth;\n",
              "            canvas.height = video.videoHeight;\n",
              "            let context = canvas.getContext('2d');\n",
              "            context.drawImage(video, 0, 0, canvas.width, canvas.height);\n",
              "            const dataURL = canvas.toDataURL('image/jpeg');\n",
              "            google.colab.kernel.invokeFunction('notebook.captureFrame', [dataURL], {});\n",
              "        }\n",
              "        getFrame();\n",
              "    "
            ]
          },
          "metadata": {}
        },
        {
          "output_type": "display_data",
          "data": {
            "text/plain": [
              "<IPython.core.display.Javascript object>"
            ],
            "application/javascript": [
              "\n",
              "        async function getFrame() {\n",
              "            let canvas = document.createElement('canvas');\n",
              "            let video = window.videoElement;\n",
              "            canvas.width = video.videoWidth;\n",
              "            canvas.height = video.videoHeight;\n",
              "            let context = canvas.getContext('2d');\n",
              "            context.drawImage(video, 0, 0, canvas.width, canvas.height);\n",
              "            const dataURL = canvas.toDataURL('image/jpeg');\n",
              "            google.colab.kernel.invokeFunction('notebook.captureFrame', [dataURL], {});\n",
              "        }\n",
              "        getFrame();\n",
              "    "
            ]
          },
          "metadata": {}
        },
        {
          "output_type": "display_data",
          "data": {
            "text/plain": [
              "<IPython.core.display.Javascript object>"
            ],
            "application/javascript": [
              "\n",
              "        async function getFrame() {\n",
              "            let canvas = document.createElement('canvas');\n",
              "            let video = window.videoElement;\n",
              "            canvas.width = video.videoWidth;\n",
              "            canvas.height = video.videoHeight;\n",
              "            let context = canvas.getContext('2d');\n",
              "            context.drawImage(video, 0, 0, canvas.width, canvas.height);\n",
              "            const dataURL = canvas.toDataURL('image/jpeg');\n",
              "            google.colab.kernel.invokeFunction('notebook.captureFrame', [dataURL], {});\n",
              "        }\n",
              "        getFrame();\n",
              "    "
            ]
          },
          "metadata": {}
        },
        {
          "output_type": "display_data",
          "data": {
            "text/plain": [
              "<IPython.core.display.Javascript object>"
            ],
            "application/javascript": [
              "\n",
              "        async function getFrame() {\n",
              "            let canvas = document.createElement('canvas');\n",
              "            let video = window.videoElement;\n",
              "            canvas.width = video.videoWidth;\n",
              "            canvas.height = video.videoHeight;\n",
              "            let context = canvas.getContext('2d');\n",
              "            context.drawImage(video, 0, 0, canvas.width, canvas.height);\n",
              "            const dataURL = canvas.toDataURL('image/jpeg');\n",
              "            google.colab.kernel.invokeFunction('notebook.captureFrame', [dataURL], {});\n",
              "        }\n",
              "        getFrame();\n",
              "    "
            ]
          },
          "metadata": {}
        },
        {
          "output_type": "display_data",
          "data": {
            "text/plain": [
              "<IPython.core.display.Javascript object>"
            ],
            "application/javascript": [
              "\n",
              "        async function getFrame() {\n",
              "            let canvas = document.createElement('canvas');\n",
              "            let video = window.videoElement;\n",
              "            canvas.width = video.videoWidth;\n",
              "            canvas.height = video.videoHeight;\n",
              "            let context = canvas.getContext('2d');\n",
              "            context.drawImage(video, 0, 0, canvas.width, canvas.height);\n",
              "            const dataURL = canvas.toDataURL('image/jpeg');\n",
              "            google.colab.kernel.invokeFunction('notebook.captureFrame', [dataURL], {});\n",
              "        }\n",
              "        getFrame();\n",
              "    "
            ]
          },
          "metadata": {}
        },
        {
          "output_type": "display_data",
          "data": {
            "text/plain": [
              "<IPython.core.display.Javascript object>"
            ],
            "application/javascript": [
              "\n",
              "        async function getFrame() {\n",
              "            let canvas = document.createElement('canvas');\n",
              "            let video = window.videoElement;\n",
              "            canvas.width = video.videoWidth;\n",
              "            canvas.height = video.videoHeight;\n",
              "            let context = canvas.getContext('2d');\n",
              "            context.drawImage(video, 0, 0, canvas.width, canvas.height);\n",
              "            const dataURL = canvas.toDataURL('image/jpeg');\n",
              "            google.colab.kernel.invokeFunction('notebook.captureFrame', [dataURL], {});\n",
              "        }\n",
              "        getFrame();\n",
              "    "
            ]
          },
          "metadata": {}
        },
        {
          "output_type": "display_data",
          "data": {
            "text/plain": [
              "<IPython.core.display.Javascript object>"
            ],
            "application/javascript": [
              "\n",
              "        async function getFrame() {\n",
              "            let canvas = document.createElement('canvas');\n",
              "            let video = window.videoElement;\n",
              "            canvas.width = video.videoWidth;\n",
              "            canvas.height = video.videoHeight;\n",
              "            let context = canvas.getContext('2d');\n",
              "            context.drawImage(video, 0, 0, canvas.width, canvas.height);\n",
              "            const dataURL = canvas.toDataURL('image/jpeg');\n",
              "            google.colab.kernel.invokeFunction('notebook.captureFrame', [dataURL], {});\n",
              "        }\n",
              "        getFrame();\n",
              "    "
            ]
          },
          "metadata": {}
        },
        {
          "output_type": "display_data",
          "data": {
            "text/plain": [
              "<IPython.core.display.Javascript object>"
            ],
            "application/javascript": [
              "\n",
              "        async function getFrame() {\n",
              "            let canvas = document.createElement('canvas');\n",
              "            let video = window.videoElement;\n",
              "            canvas.width = video.videoWidth;\n",
              "            canvas.height = video.videoHeight;\n",
              "            let context = canvas.getContext('2d');\n",
              "            context.drawImage(video, 0, 0, canvas.width, canvas.height);\n",
              "            const dataURL = canvas.toDataURL('image/jpeg');\n",
              "            google.colab.kernel.invokeFunction('notebook.captureFrame', [dataURL], {});\n",
              "        }\n",
              "        getFrame();\n",
              "    "
            ]
          },
          "metadata": {}
        },
        {
          "output_type": "display_data",
          "data": {
            "text/plain": [
              "<IPython.core.display.Javascript object>"
            ],
            "application/javascript": [
              "\n",
              "        async function getFrame() {\n",
              "            let canvas = document.createElement('canvas');\n",
              "            let video = window.videoElement;\n",
              "            canvas.width = video.videoWidth;\n",
              "            canvas.height = video.videoHeight;\n",
              "            let context = canvas.getContext('2d');\n",
              "            context.drawImage(video, 0, 0, canvas.width, canvas.height);\n",
              "            const dataURL = canvas.toDataURL('image/jpeg');\n",
              "            google.colab.kernel.invokeFunction('notebook.captureFrame', [dataURL], {});\n",
              "        }\n",
              "        getFrame();\n",
              "    "
            ]
          },
          "metadata": {}
        },
        {
          "output_type": "display_data",
          "data": {
            "text/plain": [
              "<IPython.core.display.Javascript object>"
            ],
            "application/javascript": [
              "\n",
              "        async function getFrame() {\n",
              "            let canvas = document.createElement('canvas');\n",
              "            let video = window.videoElement;\n",
              "            canvas.width = video.videoWidth;\n",
              "            canvas.height = video.videoHeight;\n",
              "            let context = canvas.getContext('2d');\n",
              "            context.drawImage(video, 0, 0, canvas.width, canvas.height);\n",
              "            const dataURL = canvas.toDataURL('image/jpeg');\n",
              "            google.colab.kernel.invokeFunction('notebook.captureFrame', [dataURL], {});\n",
              "        }\n",
              "        getFrame();\n",
              "    "
            ]
          },
          "metadata": {}
        },
        {
          "output_type": "display_data",
          "data": {
            "text/plain": [
              "<IPython.core.display.Javascript object>"
            ],
            "application/javascript": [
              "\n",
              "        async function getFrame() {\n",
              "            let canvas = document.createElement('canvas');\n",
              "            let video = window.videoElement;\n",
              "            canvas.width = video.videoWidth;\n",
              "            canvas.height = video.videoHeight;\n",
              "            let context = canvas.getContext('2d');\n",
              "            context.drawImage(video, 0, 0, canvas.width, canvas.height);\n",
              "            const dataURL = canvas.toDataURL('image/jpeg');\n",
              "            google.colab.kernel.invokeFunction('notebook.captureFrame', [dataURL], {});\n",
              "        }\n",
              "        getFrame();\n",
              "    "
            ]
          },
          "metadata": {}
        },
        {
          "output_type": "display_data",
          "data": {
            "text/plain": [
              "<IPython.core.display.Javascript object>"
            ],
            "application/javascript": [
              "\n",
              "        async function getFrame() {\n",
              "            let canvas = document.createElement('canvas');\n",
              "            let video = window.videoElement;\n",
              "            canvas.width = video.videoWidth;\n",
              "            canvas.height = video.videoHeight;\n",
              "            let context = canvas.getContext('2d');\n",
              "            context.drawImage(video, 0, 0, canvas.width, canvas.height);\n",
              "            const dataURL = canvas.toDataURL('image/jpeg');\n",
              "            google.colab.kernel.invokeFunction('notebook.captureFrame', [dataURL], {});\n",
              "        }\n",
              "        getFrame();\n",
              "    "
            ]
          },
          "metadata": {}
        },
        {
          "output_type": "display_data",
          "data": {
            "text/plain": [
              "<IPython.core.display.Javascript object>"
            ],
            "application/javascript": [
              "\n",
              "        async function getFrame() {\n",
              "            let canvas = document.createElement('canvas');\n",
              "            let video = window.videoElement;\n",
              "            canvas.width = video.videoWidth;\n",
              "            canvas.height = video.videoHeight;\n",
              "            let context = canvas.getContext('2d');\n",
              "            context.drawImage(video, 0, 0, canvas.width, canvas.height);\n",
              "            const dataURL = canvas.toDataURL('image/jpeg');\n",
              "            google.colab.kernel.invokeFunction('notebook.captureFrame', [dataURL], {});\n",
              "        }\n",
              "        getFrame();\n",
              "    "
            ]
          },
          "metadata": {}
        },
        {
          "output_type": "display_data",
          "data": {
            "text/plain": [
              "<IPython.core.display.Javascript object>"
            ],
            "application/javascript": [
              "\n",
              "        async function getFrame() {\n",
              "            let canvas = document.createElement('canvas');\n",
              "            let video = window.videoElement;\n",
              "            canvas.width = video.videoWidth;\n",
              "            canvas.height = video.videoHeight;\n",
              "            let context = canvas.getContext('2d');\n",
              "            context.drawImage(video, 0, 0, canvas.width, canvas.height);\n",
              "            const dataURL = canvas.toDataURL('image/jpeg');\n",
              "            google.colab.kernel.invokeFunction('notebook.captureFrame', [dataURL], {});\n",
              "        }\n",
              "        getFrame();\n",
              "    "
            ]
          },
          "metadata": {}
        },
        {
          "output_type": "display_data",
          "data": {
            "text/plain": [
              "<IPython.core.display.Javascript object>"
            ],
            "application/javascript": [
              "\n",
              "        async function getFrame() {\n",
              "            let canvas = document.createElement('canvas');\n",
              "            let video = window.videoElement;\n",
              "            canvas.width = video.videoWidth;\n",
              "            canvas.height = video.videoHeight;\n",
              "            let context = canvas.getContext('2d');\n",
              "            context.drawImage(video, 0, 0, canvas.width, canvas.height);\n",
              "            const dataURL = canvas.toDataURL('image/jpeg');\n",
              "            google.colab.kernel.invokeFunction('notebook.captureFrame', [dataURL], {});\n",
              "        }\n",
              "        getFrame();\n",
              "    "
            ]
          },
          "metadata": {}
        },
        {
          "output_type": "display_data",
          "data": {
            "text/plain": [
              "<IPython.core.display.Javascript object>"
            ],
            "application/javascript": [
              "\n",
              "        async function getFrame() {\n",
              "            let canvas = document.createElement('canvas');\n",
              "            let video = window.videoElement;\n",
              "            canvas.width = video.videoWidth;\n",
              "            canvas.height = video.videoHeight;\n",
              "            let context = canvas.getContext('2d');\n",
              "            context.drawImage(video, 0, 0, canvas.width, canvas.height);\n",
              "            const dataURL = canvas.toDataURL('image/jpeg');\n",
              "            google.colab.kernel.invokeFunction('notebook.captureFrame', [dataURL], {});\n",
              "        }\n",
              "        getFrame();\n",
              "    "
            ]
          },
          "metadata": {}
        },
        {
          "output_type": "display_data",
          "data": {
            "text/plain": [
              "<IPython.core.display.Javascript object>"
            ],
            "application/javascript": [
              "\n",
              "        async function getFrame() {\n",
              "            let canvas = document.createElement('canvas');\n",
              "            let video = window.videoElement;\n",
              "            canvas.width = video.videoWidth;\n",
              "            canvas.height = video.videoHeight;\n",
              "            let context = canvas.getContext('2d');\n",
              "            context.drawImage(video, 0, 0, canvas.width, canvas.height);\n",
              "            const dataURL = canvas.toDataURL('image/jpeg');\n",
              "            google.colab.kernel.invokeFunction('notebook.captureFrame', [dataURL], {});\n",
              "        }\n",
              "        getFrame();\n",
              "    "
            ]
          },
          "metadata": {}
        },
        {
          "output_type": "display_data",
          "data": {
            "text/plain": [
              "<IPython.core.display.Javascript object>"
            ],
            "application/javascript": [
              "\n",
              "        async function getFrame() {\n",
              "            let canvas = document.createElement('canvas');\n",
              "            let video = window.videoElement;\n",
              "            canvas.width = video.videoWidth;\n",
              "            canvas.height = video.videoHeight;\n",
              "            let context = canvas.getContext('2d');\n",
              "            context.drawImage(video, 0, 0, canvas.width, canvas.height);\n",
              "            const dataURL = canvas.toDataURL('image/jpeg');\n",
              "            google.colab.kernel.invokeFunction('notebook.captureFrame', [dataURL], {});\n",
              "        }\n",
              "        getFrame();\n",
              "    "
            ]
          },
          "metadata": {}
        },
        {
          "output_type": "display_data",
          "data": {
            "text/plain": [
              "<IPython.core.display.Javascript object>"
            ],
            "application/javascript": [
              "\n",
              "        async function getFrame() {\n",
              "            let canvas = document.createElement('canvas');\n",
              "            let video = window.videoElement;\n",
              "            canvas.width = video.videoWidth;\n",
              "            canvas.height = video.videoHeight;\n",
              "            let context = canvas.getContext('2d');\n",
              "            context.drawImage(video, 0, 0, canvas.width, canvas.height);\n",
              "            const dataURL = canvas.toDataURL('image/jpeg');\n",
              "            google.colab.kernel.invokeFunction('notebook.captureFrame', [dataURL], {});\n",
              "        }\n",
              "        getFrame();\n",
              "    "
            ]
          },
          "metadata": {}
        },
        {
          "output_type": "display_data",
          "data": {
            "text/plain": [
              "<IPython.core.display.Javascript object>"
            ],
            "application/javascript": [
              "\n",
              "        async function getFrame() {\n",
              "            let canvas = document.createElement('canvas');\n",
              "            let video = window.videoElement;\n",
              "            canvas.width = video.videoWidth;\n",
              "            canvas.height = video.videoHeight;\n",
              "            let context = canvas.getContext('2d');\n",
              "            context.drawImage(video, 0, 0, canvas.width, canvas.height);\n",
              "            const dataURL = canvas.toDataURL('image/jpeg');\n",
              "            google.colab.kernel.invokeFunction('notebook.captureFrame', [dataURL], {});\n",
              "        }\n",
              "        getFrame();\n",
              "    "
            ]
          },
          "metadata": {}
        },
        {
          "output_type": "display_data",
          "data": {
            "text/plain": [
              "<IPython.core.display.Javascript object>"
            ],
            "application/javascript": [
              "\n",
              "        async function getFrame() {\n",
              "            let canvas = document.createElement('canvas');\n",
              "            let video = window.videoElement;\n",
              "            canvas.width = video.videoWidth;\n",
              "            canvas.height = video.videoHeight;\n",
              "            let context = canvas.getContext('2d');\n",
              "            context.drawImage(video, 0, 0, canvas.width, canvas.height);\n",
              "            const dataURL = canvas.toDataURL('image/jpeg');\n",
              "            google.colab.kernel.invokeFunction('notebook.captureFrame', [dataURL], {});\n",
              "        }\n",
              "        getFrame();\n",
              "    "
            ]
          },
          "metadata": {}
        },
        {
          "output_type": "display_data",
          "data": {
            "text/plain": [
              "<IPython.core.display.Javascript object>"
            ],
            "application/javascript": [
              "\n",
              "        async function getFrame() {\n",
              "            let canvas = document.createElement('canvas');\n",
              "            let video = window.videoElement;\n",
              "            canvas.width = video.videoWidth;\n",
              "            canvas.height = video.videoHeight;\n",
              "            let context = canvas.getContext('2d');\n",
              "            context.drawImage(video, 0, 0, canvas.width, canvas.height);\n",
              "            const dataURL = canvas.toDataURL('image/jpeg');\n",
              "            google.colab.kernel.invokeFunction('notebook.captureFrame', [dataURL], {});\n",
              "        }\n",
              "        getFrame();\n",
              "    "
            ]
          },
          "metadata": {}
        },
        {
          "output_type": "display_data",
          "data": {
            "text/plain": [
              "<IPython.core.display.Javascript object>"
            ],
            "application/javascript": [
              "\n",
              "        async function getFrame() {\n",
              "            let canvas = document.createElement('canvas');\n",
              "            let video = window.videoElement;\n",
              "            canvas.width = video.videoWidth;\n",
              "            canvas.height = video.videoHeight;\n",
              "            let context = canvas.getContext('2d');\n",
              "            context.drawImage(video, 0, 0, canvas.width, canvas.height);\n",
              "            const dataURL = canvas.toDataURL('image/jpeg');\n",
              "            google.colab.kernel.invokeFunction('notebook.captureFrame', [dataURL], {});\n",
              "        }\n",
              "        getFrame();\n",
              "    "
            ]
          },
          "metadata": {}
        },
        {
          "output_type": "display_data",
          "data": {
            "text/plain": [
              "<IPython.core.display.Javascript object>"
            ],
            "application/javascript": [
              "\n",
              "        async function getFrame() {\n",
              "            let canvas = document.createElement('canvas');\n",
              "            let video = window.videoElement;\n",
              "            canvas.width = video.videoWidth;\n",
              "            canvas.height = video.videoHeight;\n",
              "            let context = canvas.getContext('2d');\n",
              "            context.drawImage(video, 0, 0, canvas.width, canvas.height);\n",
              "            const dataURL = canvas.toDataURL('image/jpeg');\n",
              "            google.colab.kernel.invokeFunction('notebook.captureFrame', [dataURL], {});\n",
              "        }\n",
              "        getFrame();\n",
              "    "
            ]
          },
          "metadata": {}
        },
        {
          "output_type": "display_data",
          "data": {
            "text/plain": [
              "<IPython.core.display.Javascript object>"
            ],
            "application/javascript": [
              "\n",
              "        async function getFrame() {\n",
              "            let canvas = document.createElement('canvas');\n",
              "            let video = window.videoElement;\n",
              "            canvas.width = video.videoWidth;\n",
              "            canvas.height = video.videoHeight;\n",
              "            let context = canvas.getContext('2d');\n",
              "            context.drawImage(video, 0, 0, canvas.width, canvas.height);\n",
              "            const dataURL = canvas.toDataURL('image/jpeg');\n",
              "            google.colab.kernel.invokeFunction('notebook.captureFrame', [dataURL], {});\n",
              "        }\n",
              "        getFrame();\n",
              "    "
            ]
          },
          "metadata": {}
        },
        {
          "output_type": "display_data",
          "data": {
            "text/plain": [
              "<IPython.core.display.Javascript object>"
            ],
            "application/javascript": [
              "\n",
              "        async function getFrame() {\n",
              "            let canvas = document.createElement('canvas');\n",
              "            let video = window.videoElement;\n",
              "            canvas.width = video.videoWidth;\n",
              "            canvas.height = video.videoHeight;\n",
              "            let context = canvas.getContext('2d');\n",
              "            context.drawImage(video, 0, 0, canvas.width, canvas.height);\n",
              "            const dataURL = canvas.toDataURL('image/jpeg');\n",
              "            google.colab.kernel.invokeFunction('notebook.captureFrame', [dataURL], {});\n",
              "        }\n",
              "        getFrame();\n",
              "    "
            ]
          },
          "metadata": {}
        },
        {
          "output_type": "display_data",
          "data": {
            "text/plain": [
              "<IPython.core.display.Javascript object>"
            ],
            "application/javascript": [
              "\n",
              "        async function getFrame() {\n",
              "            let canvas = document.createElement('canvas');\n",
              "            let video = window.videoElement;\n",
              "            canvas.width = video.videoWidth;\n",
              "            canvas.height = video.videoHeight;\n",
              "            let context = canvas.getContext('2d');\n",
              "            context.drawImage(video, 0, 0, canvas.width, canvas.height);\n",
              "            const dataURL = canvas.toDataURL('image/jpeg');\n",
              "            google.colab.kernel.invokeFunction('notebook.captureFrame', [dataURL], {});\n",
              "        }\n",
              "        getFrame();\n",
              "    "
            ]
          },
          "metadata": {}
        },
        {
          "output_type": "display_data",
          "data": {
            "text/plain": [
              "<IPython.core.display.Javascript object>"
            ],
            "application/javascript": [
              "\n",
              "        async function getFrame() {\n",
              "            let canvas = document.createElement('canvas');\n",
              "            let video = window.videoElement;\n",
              "            canvas.width = video.videoWidth;\n",
              "            canvas.height = video.videoHeight;\n",
              "            let context = canvas.getContext('2d');\n",
              "            context.drawImage(video, 0, 0, canvas.width, canvas.height);\n",
              "            const dataURL = canvas.toDataURL('image/jpeg');\n",
              "            google.colab.kernel.invokeFunction('notebook.captureFrame', [dataURL], {});\n",
              "        }\n",
              "        getFrame();\n",
              "    "
            ]
          },
          "metadata": {}
        },
        {
          "output_type": "display_data",
          "data": {
            "text/plain": [
              "<IPython.core.display.Javascript object>"
            ],
            "application/javascript": [
              "\n",
              "        async function getFrame() {\n",
              "            let canvas = document.createElement('canvas');\n",
              "            let video = window.videoElement;\n",
              "            canvas.width = video.videoWidth;\n",
              "            canvas.height = video.videoHeight;\n",
              "            let context = canvas.getContext('2d');\n",
              "            context.drawImage(video, 0, 0, canvas.width, canvas.height);\n",
              "            const dataURL = canvas.toDataURL('image/jpeg');\n",
              "            google.colab.kernel.invokeFunction('notebook.captureFrame', [dataURL], {});\n",
              "        }\n",
              "        getFrame();\n",
              "    "
            ]
          },
          "metadata": {}
        },
        {
          "output_type": "display_data",
          "data": {
            "text/plain": [
              "<IPython.core.display.Javascript object>"
            ],
            "application/javascript": [
              "\n",
              "        async function getFrame() {\n",
              "            let canvas = document.createElement('canvas');\n",
              "            let video = window.videoElement;\n",
              "            canvas.width = video.videoWidth;\n",
              "            canvas.height = video.videoHeight;\n",
              "            let context = canvas.getContext('2d');\n",
              "            context.drawImage(video, 0, 0, canvas.width, canvas.height);\n",
              "            const dataURL = canvas.toDataURL('image/jpeg');\n",
              "            google.colab.kernel.invokeFunction('notebook.captureFrame', [dataURL], {});\n",
              "        }\n",
              "        getFrame();\n",
              "    "
            ]
          },
          "metadata": {}
        },
        {
          "output_type": "display_data",
          "data": {
            "text/plain": [
              "<IPython.core.display.Javascript object>"
            ],
            "application/javascript": [
              "\n",
              "        async function getFrame() {\n",
              "            let canvas = document.createElement('canvas');\n",
              "            let video = window.videoElement;\n",
              "            canvas.width = video.videoWidth;\n",
              "            canvas.height = video.videoHeight;\n",
              "            let context = canvas.getContext('2d');\n",
              "            context.drawImage(video, 0, 0, canvas.width, canvas.height);\n",
              "            const dataURL = canvas.toDataURL('image/jpeg');\n",
              "            google.colab.kernel.invokeFunction('notebook.captureFrame', [dataURL], {});\n",
              "        }\n",
              "        getFrame();\n",
              "    "
            ]
          },
          "metadata": {}
        },
        {
          "output_type": "display_data",
          "data": {
            "text/plain": [
              "<IPython.core.display.Javascript object>"
            ],
            "application/javascript": [
              "\n",
              "        async function getFrame() {\n",
              "            let canvas = document.createElement('canvas');\n",
              "            let video = window.videoElement;\n",
              "            canvas.width = video.videoWidth;\n",
              "            canvas.height = video.videoHeight;\n",
              "            let context = canvas.getContext('2d');\n",
              "            context.drawImage(video, 0, 0, canvas.width, canvas.height);\n",
              "            const dataURL = canvas.toDataURL('image/jpeg');\n",
              "            google.colab.kernel.invokeFunction('notebook.captureFrame', [dataURL], {});\n",
              "        }\n",
              "        getFrame();\n",
              "    "
            ]
          },
          "metadata": {}
        },
        {
          "output_type": "display_data",
          "data": {
            "text/plain": [
              "<IPython.core.display.Javascript object>"
            ],
            "application/javascript": [
              "\n",
              "        async function getFrame() {\n",
              "            let canvas = document.createElement('canvas');\n",
              "            let video = window.videoElement;\n",
              "            canvas.width = video.videoWidth;\n",
              "            canvas.height = video.videoHeight;\n",
              "            let context = canvas.getContext('2d');\n",
              "            context.drawImage(video, 0, 0, canvas.width, canvas.height);\n",
              "            const dataURL = canvas.toDataURL('image/jpeg');\n",
              "            google.colab.kernel.invokeFunction('notebook.captureFrame', [dataURL], {});\n",
              "        }\n",
              "        getFrame();\n",
              "    "
            ]
          },
          "metadata": {}
        },
        {
          "output_type": "display_data",
          "data": {
            "text/plain": [
              "<IPython.core.display.Javascript object>"
            ],
            "application/javascript": [
              "\n",
              "        async function getFrame() {\n",
              "            let canvas = document.createElement('canvas');\n",
              "            let video = window.videoElement;\n",
              "            canvas.width = video.videoWidth;\n",
              "            canvas.height = video.videoHeight;\n",
              "            let context = canvas.getContext('2d');\n",
              "            context.drawImage(video, 0, 0, canvas.width, canvas.height);\n",
              "            const dataURL = canvas.toDataURL('image/jpeg');\n",
              "            google.colab.kernel.invokeFunction('notebook.captureFrame', [dataURL], {});\n",
              "        }\n",
              "        getFrame();\n",
              "    "
            ]
          },
          "metadata": {}
        },
        {
          "output_type": "display_data",
          "data": {
            "text/plain": [
              "<IPython.core.display.Javascript object>"
            ],
            "application/javascript": [
              "\n",
              "        async function getFrame() {\n",
              "            let canvas = document.createElement('canvas');\n",
              "            let video = window.videoElement;\n",
              "            canvas.width = video.videoWidth;\n",
              "            canvas.height = video.videoHeight;\n",
              "            let context = canvas.getContext('2d');\n",
              "            context.drawImage(video, 0, 0, canvas.width, canvas.height);\n",
              "            const dataURL = canvas.toDataURL('image/jpeg');\n",
              "            google.colab.kernel.invokeFunction('notebook.captureFrame', [dataURL], {});\n",
              "        }\n",
              "        getFrame();\n",
              "    "
            ]
          },
          "metadata": {}
        },
        {
          "output_type": "display_data",
          "data": {
            "text/plain": [
              "<IPython.core.display.Javascript object>"
            ],
            "application/javascript": [
              "\n",
              "        async function getFrame() {\n",
              "            let canvas = document.createElement('canvas');\n",
              "            let video = window.videoElement;\n",
              "            canvas.width = video.videoWidth;\n",
              "            canvas.height = video.videoHeight;\n",
              "            let context = canvas.getContext('2d');\n",
              "            context.drawImage(video, 0, 0, canvas.width, canvas.height);\n",
              "            const dataURL = canvas.toDataURL('image/jpeg');\n",
              "            google.colab.kernel.invokeFunction('notebook.captureFrame', [dataURL], {});\n",
              "        }\n",
              "        getFrame();\n",
              "    "
            ]
          },
          "metadata": {}
        },
        {
          "output_type": "display_data",
          "data": {
            "text/plain": [
              "<IPython.core.display.Javascript object>"
            ],
            "application/javascript": [
              "\n",
              "        async function getFrame() {\n",
              "            let canvas = document.createElement('canvas');\n",
              "            let video = window.videoElement;\n",
              "            canvas.width = video.videoWidth;\n",
              "            canvas.height = video.videoHeight;\n",
              "            let context = canvas.getContext('2d');\n",
              "            context.drawImage(video, 0, 0, canvas.width, canvas.height);\n",
              "            const dataURL = canvas.toDataURL('image/jpeg');\n",
              "            google.colab.kernel.invokeFunction('notebook.captureFrame', [dataURL], {});\n",
              "        }\n",
              "        getFrame();\n",
              "    "
            ]
          },
          "metadata": {}
        },
        {
          "output_type": "display_data",
          "data": {
            "text/plain": [
              "<IPython.core.display.Javascript object>"
            ],
            "application/javascript": [
              "\n",
              "        async function getFrame() {\n",
              "            let canvas = document.createElement('canvas');\n",
              "            let video = window.videoElement;\n",
              "            canvas.width = video.videoWidth;\n",
              "            canvas.height = video.videoHeight;\n",
              "            let context = canvas.getContext('2d');\n",
              "            context.drawImage(video, 0, 0, canvas.width, canvas.height);\n",
              "            const dataURL = canvas.toDataURL('image/jpeg');\n",
              "            google.colab.kernel.invokeFunction('notebook.captureFrame', [dataURL], {});\n",
              "        }\n",
              "        getFrame();\n",
              "    "
            ]
          },
          "metadata": {}
        },
        {
          "output_type": "display_data",
          "data": {
            "text/plain": [
              "<IPython.core.display.Javascript object>"
            ],
            "application/javascript": [
              "\n",
              "        async function getFrame() {\n",
              "            let canvas = document.createElement('canvas');\n",
              "            let video = window.videoElement;\n",
              "            canvas.width = video.videoWidth;\n",
              "            canvas.height = video.videoHeight;\n",
              "            let context = canvas.getContext('2d');\n",
              "            context.drawImage(video, 0, 0, canvas.width, canvas.height);\n",
              "            const dataURL = canvas.toDataURL('image/jpeg');\n",
              "            google.colab.kernel.invokeFunction('notebook.captureFrame', [dataURL], {});\n",
              "        }\n",
              "        getFrame();\n",
              "    "
            ]
          },
          "metadata": {}
        },
        {
          "output_type": "display_data",
          "data": {
            "text/plain": [
              "<IPython.core.display.Javascript object>"
            ],
            "application/javascript": [
              "\n",
              "        async function getFrame() {\n",
              "            let canvas = document.createElement('canvas');\n",
              "            let video = window.videoElement;\n",
              "            canvas.width = video.videoWidth;\n",
              "            canvas.height = video.videoHeight;\n",
              "            let context = canvas.getContext('2d');\n",
              "            context.drawImage(video, 0, 0, canvas.width, canvas.height);\n",
              "            const dataURL = canvas.toDataURL('image/jpeg');\n",
              "            google.colab.kernel.invokeFunction('notebook.captureFrame', [dataURL], {});\n",
              "        }\n",
              "        getFrame();\n",
              "    "
            ]
          },
          "metadata": {}
        },
        {
          "output_type": "display_data",
          "data": {
            "text/plain": [
              "<IPython.core.display.Javascript object>"
            ],
            "application/javascript": [
              "\n",
              "        async function getFrame() {\n",
              "            let canvas = document.createElement('canvas');\n",
              "            let video = window.videoElement;\n",
              "            canvas.width = video.videoWidth;\n",
              "            canvas.height = video.videoHeight;\n",
              "            let context = canvas.getContext('2d');\n",
              "            context.drawImage(video, 0, 0, canvas.width, canvas.height);\n",
              "            const dataURL = canvas.toDataURL('image/jpeg');\n",
              "            google.colab.kernel.invokeFunction('notebook.captureFrame', [dataURL], {});\n",
              "        }\n",
              "        getFrame();\n",
              "    "
            ]
          },
          "metadata": {}
        },
        {
          "output_type": "display_data",
          "data": {
            "text/plain": [
              "<IPython.core.display.Javascript object>"
            ],
            "application/javascript": [
              "\n",
              "        async function getFrame() {\n",
              "            let canvas = document.createElement('canvas');\n",
              "            let video = window.videoElement;\n",
              "            canvas.width = video.videoWidth;\n",
              "            canvas.height = video.videoHeight;\n",
              "            let context = canvas.getContext('2d');\n",
              "            context.drawImage(video, 0, 0, canvas.width, canvas.height);\n",
              "            const dataURL = canvas.toDataURL('image/jpeg');\n",
              "            google.colab.kernel.invokeFunction('notebook.captureFrame', [dataURL], {});\n",
              "        }\n",
              "        getFrame();\n",
              "    "
            ]
          },
          "metadata": {}
        },
        {
          "output_type": "display_data",
          "data": {
            "text/plain": [
              "<IPython.core.display.Javascript object>"
            ],
            "application/javascript": [
              "\n",
              "        async function getFrame() {\n",
              "            let canvas = document.createElement('canvas');\n",
              "            let video = window.videoElement;\n",
              "            canvas.width = video.videoWidth;\n",
              "            canvas.height = video.videoHeight;\n",
              "            let context = canvas.getContext('2d');\n",
              "            context.drawImage(video, 0, 0, canvas.width, canvas.height);\n",
              "            const dataURL = canvas.toDataURL('image/jpeg');\n",
              "            google.colab.kernel.invokeFunction('notebook.captureFrame', [dataURL], {});\n",
              "        }\n",
              "        getFrame();\n",
              "    "
            ]
          },
          "metadata": {}
        },
        {
          "output_type": "display_data",
          "data": {
            "text/plain": [
              "<IPython.core.display.Javascript object>"
            ],
            "application/javascript": [
              "\n",
              "        async function getFrame() {\n",
              "            let canvas = document.createElement('canvas');\n",
              "            let video = window.videoElement;\n",
              "            canvas.width = video.videoWidth;\n",
              "            canvas.height = video.videoHeight;\n",
              "            let context = canvas.getContext('2d');\n",
              "            context.drawImage(video, 0, 0, canvas.width, canvas.height);\n",
              "            const dataURL = canvas.toDataURL('image/jpeg');\n",
              "            google.colab.kernel.invokeFunction('notebook.captureFrame', [dataURL], {});\n",
              "        }\n",
              "        getFrame();\n",
              "    "
            ]
          },
          "metadata": {}
        },
        {
          "output_type": "display_data",
          "data": {
            "text/plain": [
              "<IPython.core.display.Javascript object>"
            ],
            "application/javascript": [
              "\n",
              "        async function getFrame() {\n",
              "            let canvas = document.createElement('canvas');\n",
              "            let video = window.videoElement;\n",
              "            canvas.width = video.videoWidth;\n",
              "            canvas.height = video.videoHeight;\n",
              "            let context = canvas.getContext('2d');\n",
              "            context.drawImage(video, 0, 0, canvas.width, canvas.height);\n",
              "            const dataURL = canvas.toDataURL('image/jpeg');\n",
              "            google.colab.kernel.invokeFunction('notebook.captureFrame', [dataURL], {});\n",
              "        }\n",
              "        getFrame();\n",
              "    "
            ]
          },
          "metadata": {}
        },
        {
          "output_type": "display_data",
          "data": {
            "text/plain": [
              "<IPython.core.display.Javascript object>"
            ],
            "application/javascript": [
              "\n",
              "        async function getFrame() {\n",
              "            let canvas = document.createElement('canvas');\n",
              "            let video = window.videoElement;\n",
              "            canvas.width = video.videoWidth;\n",
              "            canvas.height = video.videoHeight;\n",
              "            let context = canvas.getContext('2d');\n",
              "            context.drawImage(video, 0, 0, canvas.width, canvas.height);\n",
              "            const dataURL = canvas.toDataURL('image/jpeg');\n",
              "            google.colab.kernel.invokeFunction('notebook.captureFrame', [dataURL], {});\n",
              "        }\n",
              "        getFrame();\n",
              "    "
            ]
          },
          "metadata": {}
        },
        {
          "output_type": "display_data",
          "data": {
            "text/plain": [
              "<IPython.core.display.Javascript object>"
            ],
            "application/javascript": [
              "\n",
              "        async function getFrame() {\n",
              "            let canvas = document.createElement('canvas');\n",
              "            let video = window.videoElement;\n",
              "            canvas.width = video.videoWidth;\n",
              "            canvas.height = video.videoHeight;\n",
              "            let context = canvas.getContext('2d');\n",
              "            context.drawImage(video, 0, 0, canvas.width, canvas.height);\n",
              "            const dataURL = canvas.toDataURL('image/jpeg');\n",
              "            google.colab.kernel.invokeFunction('notebook.captureFrame', [dataURL], {});\n",
              "        }\n",
              "        getFrame();\n",
              "    "
            ]
          },
          "metadata": {}
        },
        {
          "output_type": "display_data",
          "data": {
            "text/plain": [
              "<IPython.core.display.Javascript object>"
            ],
            "application/javascript": [
              "\n",
              "        async function getFrame() {\n",
              "            let canvas = document.createElement('canvas');\n",
              "            let video = window.videoElement;\n",
              "            canvas.width = video.videoWidth;\n",
              "            canvas.height = video.videoHeight;\n",
              "            let context = canvas.getContext('2d');\n",
              "            context.drawImage(video, 0, 0, canvas.width, canvas.height);\n",
              "            const dataURL = canvas.toDataURL('image/jpeg');\n",
              "            google.colab.kernel.invokeFunction('notebook.captureFrame', [dataURL], {});\n",
              "        }\n",
              "        getFrame();\n",
              "    "
            ]
          },
          "metadata": {}
        },
        {
          "output_type": "display_data",
          "data": {
            "text/plain": [
              "<IPython.core.display.Javascript object>"
            ],
            "application/javascript": [
              "\n",
              "        async function getFrame() {\n",
              "            let canvas = document.createElement('canvas');\n",
              "            let video = window.videoElement;\n",
              "            canvas.width = video.videoWidth;\n",
              "            canvas.height = video.videoHeight;\n",
              "            let context = canvas.getContext('2d');\n",
              "            context.drawImage(video, 0, 0, canvas.width, canvas.height);\n",
              "            const dataURL = canvas.toDataURL('image/jpeg');\n",
              "            google.colab.kernel.invokeFunction('notebook.captureFrame', [dataURL], {});\n",
              "        }\n",
              "        getFrame();\n",
              "    "
            ]
          },
          "metadata": {}
        },
        {
          "output_type": "display_data",
          "data": {
            "text/plain": [
              "<IPython.core.display.Javascript object>"
            ],
            "application/javascript": [
              "\n",
              "        async function getFrame() {\n",
              "            let canvas = document.createElement('canvas');\n",
              "            let video = window.videoElement;\n",
              "            canvas.width = video.videoWidth;\n",
              "            canvas.height = video.videoHeight;\n",
              "            let context = canvas.getContext('2d');\n",
              "            context.drawImage(video, 0, 0, canvas.width, canvas.height);\n",
              "            const dataURL = canvas.toDataURL('image/jpeg');\n",
              "            google.colab.kernel.invokeFunction('notebook.captureFrame', [dataURL], {});\n",
              "        }\n",
              "        getFrame();\n",
              "    "
            ]
          },
          "metadata": {}
        },
        {
          "output_type": "display_data",
          "data": {
            "text/plain": [
              "<IPython.core.display.Javascript object>"
            ],
            "application/javascript": [
              "\n",
              "        async function getFrame() {\n",
              "            let canvas = document.createElement('canvas');\n",
              "            let video = window.videoElement;\n",
              "            canvas.width = video.videoWidth;\n",
              "            canvas.height = video.videoHeight;\n",
              "            let context = canvas.getContext('2d');\n",
              "            context.drawImage(video, 0, 0, canvas.width, canvas.height);\n",
              "            const dataURL = canvas.toDataURL('image/jpeg');\n",
              "            google.colab.kernel.invokeFunction('notebook.captureFrame', [dataURL], {});\n",
              "        }\n",
              "        getFrame();\n",
              "    "
            ]
          },
          "metadata": {}
        },
        {
          "output_type": "display_data",
          "data": {
            "text/plain": [
              "<IPython.core.display.Javascript object>"
            ],
            "application/javascript": [
              "\n",
              "        async function getFrame() {\n",
              "            let canvas = document.createElement('canvas');\n",
              "            let video = window.videoElement;\n",
              "            canvas.width = video.videoWidth;\n",
              "            canvas.height = video.videoHeight;\n",
              "            let context = canvas.getContext('2d');\n",
              "            context.drawImage(video, 0, 0, canvas.width, canvas.height);\n",
              "            const dataURL = canvas.toDataURL('image/jpeg');\n",
              "            google.colab.kernel.invokeFunction('notebook.captureFrame', [dataURL], {});\n",
              "        }\n",
              "        getFrame();\n",
              "    "
            ]
          },
          "metadata": {}
        },
        {
          "output_type": "display_data",
          "data": {
            "text/plain": [
              "<IPython.core.display.Javascript object>"
            ],
            "application/javascript": [
              "\n",
              "        async function getFrame() {\n",
              "            let canvas = document.createElement('canvas');\n",
              "            let video = window.videoElement;\n",
              "            canvas.width = video.videoWidth;\n",
              "            canvas.height = video.videoHeight;\n",
              "            let context = canvas.getContext('2d');\n",
              "            context.drawImage(video, 0, 0, canvas.width, canvas.height);\n",
              "            const dataURL = canvas.toDataURL('image/jpeg');\n",
              "            google.colab.kernel.invokeFunction('notebook.captureFrame', [dataURL], {});\n",
              "        }\n",
              "        getFrame();\n",
              "    "
            ]
          },
          "metadata": {}
        },
        {
          "output_type": "display_data",
          "data": {
            "text/plain": [
              "<IPython.core.display.Javascript object>"
            ],
            "application/javascript": [
              "\n",
              "        async function getFrame() {\n",
              "            let canvas = document.createElement('canvas');\n",
              "            let video = window.videoElement;\n",
              "            canvas.width = video.videoWidth;\n",
              "            canvas.height = video.videoHeight;\n",
              "            let context = canvas.getContext('2d');\n",
              "            context.drawImage(video, 0, 0, canvas.width, canvas.height);\n",
              "            const dataURL = canvas.toDataURL('image/jpeg');\n",
              "            google.colab.kernel.invokeFunction('notebook.captureFrame', [dataURL], {});\n",
              "        }\n",
              "        getFrame();\n",
              "    "
            ]
          },
          "metadata": {}
        },
        {
          "output_type": "display_data",
          "data": {
            "text/plain": [
              "<IPython.core.display.Javascript object>"
            ],
            "application/javascript": [
              "\n",
              "        async function getFrame() {\n",
              "            let canvas = document.createElement('canvas');\n",
              "            let video = window.videoElement;\n",
              "            canvas.width = video.videoWidth;\n",
              "            canvas.height = video.videoHeight;\n",
              "            let context = canvas.getContext('2d');\n",
              "            context.drawImage(video, 0, 0, canvas.width, canvas.height);\n",
              "            const dataURL = canvas.toDataURL('image/jpeg');\n",
              "            google.colab.kernel.invokeFunction('notebook.captureFrame', [dataURL], {});\n",
              "        }\n",
              "        getFrame();\n",
              "    "
            ]
          },
          "metadata": {}
        },
        {
          "output_type": "display_data",
          "data": {
            "text/plain": [
              "<IPython.core.display.Javascript object>"
            ],
            "application/javascript": [
              "\n",
              "        async function getFrame() {\n",
              "            let canvas = document.createElement('canvas');\n",
              "            let video = window.videoElement;\n",
              "            canvas.width = video.videoWidth;\n",
              "            canvas.height = video.videoHeight;\n",
              "            let context = canvas.getContext('2d');\n",
              "            context.drawImage(video, 0, 0, canvas.width, canvas.height);\n",
              "            const dataURL = canvas.toDataURL('image/jpeg');\n",
              "            google.colab.kernel.invokeFunction('notebook.captureFrame', [dataURL], {});\n",
              "        }\n",
              "        getFrame();\n",
              "    "
            ]
          },
          "metadata": {}
        },
        {
          "output_type": "display_data",
          "data": {
            "text/plain": [
              "<IPython.core.display.Javascript object>"
            ],
            "application/javascript": [
              "\n",
              "        async function getFrame() {\n",
              "            let canvas = document.createElement('canvas');\n",
              "            let video = window.videoElement;\n",
              "            canvas.width = video.videoWidth;\n",
              "            canvas.height = video.videoHeight;\n",
              "            let context = canvas.getContext('2d');\n",
              "            context.drawImage(video, 0, 0, canvas.width, canvas.height);\n",
              "            const dataURL = canvas.toDataURL('image/jpeg');\n",
              "            google.colab.kernel.invokeFunction('notebook.captureFrame', [dataURL], {});\n",
              "        }\n",
              "        getFrame();\n",
              "    "
            ]
          },
          "metadata": {}
        },
        {
          "output_type": "display_data",
          "data": {
            "text/plain": [
              "<IPython.core.display.Javascript object>"
            ],
            "application/javascript": [
              "\n",
              "        async function getFrame() {\n",
              "            let canvas = document.createElement('canvas');\n",
              "            let video = window.videoElement;\n",
              "            canvas.width = video.videoWidth;\n",
              "            canvas.height = video.videoHeight;\n",
              "            let context = canvas.getContext('2d');\n",
              "            context.drawImage(video, 0, 0, canvas.width, canvas.height);\n",
              "            const dataURL = canvas.toDataURL('image/jpeg');\n",
              "            google.colab.kernel.invokeFunction('notebook.captureFrame', [dataURL], {});\n",
              "        }\n",
              "        getFrame();\n",
              "    "
            ]
          },
          "metadata": {}
        },
        {
          "output_type": "display_data",
          "data": {
            "text/plain": [
              "<IPython.core.display.Javascript object>"
            ],
            "application/javascript": [
              "\n",
              "        async function getFrame() {\n",
              "            let canvas = document.createElement('canvas');\n",
              "            let video = window.videoElement;\n",
              "            canvas.width = video.videoWidth;\n",
              "            canvas.height = video.videoHeight;\n",
              "            let context = canvas.getContext('2d');\n",
              "            context.drawImage(video, 0, 0, canvas.width, canvas.height);\n",
              "            const dataURL = canvas.toDataURL('image/jpeg');\n",
              "            google.colab.kernel.invokeFunction('notebook.captureFrame', [dataURL], {});\n",
              "        }\n",
              "        getFrame();\n",
              "    "
            ]
          },
          "metadata": {}
        },
        {
          "output_type": "display_data",
          "data": {
            "text/plain": [
              "<IPython.core.display.Javascript object>"
            ],
            "application/javascript": [
              "\n",
              "        async function getFrame() {\n",
              "            let canvas = document.createElement('canvas');\n",
              "            let video = window.videoElement;\n",
              "            canvas.width = video.videoWidth;\n",
              "            canvas.height = video.videoHeight;\n",
              "            let context = canvas.getContext('2d');\n",
              "            context.drawImage(video, 0, 0, canvas.width, canvas.height);\n",
              "            const dataURL = canvas.toDataURL('image/jpeg');\n",
              "            google.colab.kernel.invokeFunction('notebook.captureFrame', [dataURL], {});\n",
              "        }\n",
              "        getFrame();\n",
              "    "
            ]
          },
          "metadata": {}
        },
        {
          "output_type": "display_data",
          "data": {
            "text/plain": [
              "<IPython.core.display.Javascript object>"
            ],
            "application/javascript": [
              "\n",
              "        async function getFrame() {\n",
              "            let canvas = document.createElement('canvas');\n",
              "            let video = window.videoElement;\n",
              "            canvas.width = video.videoWidth;\n",
              "            canvas.height = video.videoHeight;\n",
              "            let context = canvas.getContext('2d');\n",
              "            context.drawImage(video, 0, 0, canvas.width, canvas.height);\n",
              "            const dataURL = canvas.toDataURL('image/jpeg');\n",
              "            google.colab.kernel.invokeFunction('notebook.captureFrame', [dataURL], {});\n",
              "        }\n",
              "        getFrame();\n",
              "    "
            ]
          },
          "metadata": {}
        },
        {
          "output_type": "display_data",
          "data": {
            "text/plain": [
              "<IPython.core.display.Javascript object>"
            ],
            "application/javascript": [
              "\n",
              "        async function getFrame() {\n",
              "            let canvas = document.createElement('canvas');\n",
              "            let video = window.videoElement;\n",
              "            canvas.width = video.videoWidth;\n",
              "            canvas.height = video.videoHeight;\n",
              "            let context = canvas.getContext('2d');\n",
              "            context.drawImage(video, 0, 0, canvas.width, canvas.height);\n",
              "            const dataURL = canvas.toDataURL('image/jpeg');\n",
              "            google.colab.kernel.invokeFunction('notebook.captureFrame', [dataURL], {});\n",
              "        }\n",
              "        getFrame();\n",
              "    "
            ]
          },
          "metadata": {}
        },
        {
          "output_type": "display_data",
          "data": {
            "text/plain": [
              "<IPython.core.display.Javascript object>"
            ],
            "application/javascript": [
              "\n",
              "        async function getFrame() {\n",
              "            let canvas = document.createElement('canvas');\n",
              "            let video = window.videoElement;\n",
              "            canvas.width = video.videoWidth;\n",
              "            canvas.height = video.videoHeight;\n",
              "            let context = canvas.getContext('2d');\n",
              "            context.drawImage(video, 0, 0, canvas.width, canvas.height);\n",
              "            const dataURL = canvas.toDataURL('image/jpeg');\n",
              "            google.colab.kernel.invokeFunction('notebook.captureFrame', [dataURL], {});\n",
              "        }\n",
              "        getFrame();\n",
              "    "
            ]
          },
          "metadata": {}
        },
        {
          "output_type": "display_data",
          "data": {
            "text/plain": [
              "<IPython.core.display.Javascript object>"
            ],
            "application/javascript": [
              "\n",
              "        async function getFrame() {\n",
              "            let canvas = document.createElement('canvas');\n",
              "            let video = window.videoElement;\n",
              "            canvas.width = video.videoWidth;\n",
              "            canvas.height = video.videoHeight;\n",
              "            let context = canvas.getContext('2d');\n",
              "            context.drawImage(video, 0, 0, canvas.width, canvas.height);\n",
              "            const dataURL = canvas.toDataURL('image/jpeg');\n",
              "            google.colab.kernel.invokeFunction('notebook.captureFrame', [dataURL], {});\n",
              "        }\n",
              "        getFrame();\n",
              "    "
            ]
          },
          "metadata": {}
        },
        {
          "output_type": "display_data",
          "data": {
            "text/plain": [
              "<IPython.core.display.Javascript object>"
            ],
            "application/javascript": [
              "\n",
              "        async function getFrame() {\n",
              "            let canvas = document.createElement('canvas');\n",
              "            let video = window.videoElement;\n",
              "            canvas.width = video.videoWidth;\n",
              "            canvas.height = video.videoHeight;\n",
              "            let context = canvas.getContext('2d');\n",
              "            context.drawImage(video, 0, 0, canvas.width, canvas.height);\n",
              "            const dataURL = canvas.toDataURL('image/jpeg');\n",
              "            google.colab.kernel.invokeFunction('notebook.captureFrame', [dataURL], {});\n",
              "        }\n",
              "        getFrame();\n",
              "    "
            ]
          },
          "metadata": {}
        },
        {
          "output_type": "display_data",
          "data": {
            "text/plain": [
              "<IPython.core.display.Javascript object>"
            ],
            "application/javascript": [
              "\n",
              "        async function getFrame() {\n",
              "            let canvas = document.createElement('canvas');\n",
              "            let video = window.videoElement;\n",
              "            canvas.width = video.videoWidth;\n",
              "            canvas.height = video.videoHeight;\n",
              "            let context = canvas.getContext('2d');\n",
              "            context.drawImage(video, 0, 0, canvas.width, canvas.height);\n",
              "            const dataURL = canvas.toDataURL('image/jpeg');\n",
              "            google.colab.kernel.invokeFunction('notebook.captureFrame', [dataURL], {});\n",
              "        }\n",
              "        getFrame();\n",
              "    "
            ]
          },
          "metadata": {}
        },
        {
          "output_type": "display_data",
          "data": {
            "text/plain": [
              "<IPython.core.display.Javascript object>"
            ],
            "application/javascript": [
              "\n",
              "        async function getFrame() {\n",
              "            let canvas = document.createElement('canvas');\n",
              "            let video = window.videoElement;\n",
              "            canvas.width = video.videoWidth;\n",
              "            canvas.height = video.videoHeight;\n",
              "            let context = canvas.getContext('2d');\n",
              "            context.drawImage(video, 0, 0, canvas.width, canvas.height);\n",
              "            const dataURL = canvas.toDataURL('image/jpeg');\n",
              "            google.colab.kernel.invokeFunction('notebook.captureFrame', [dataURL], {});\n",
              "        }\n",
              "        getFrame();\n",
              "    "
            ]
          },
          "metadata": {}
        },
        {
          "output_type": "display_data",
          "data": {
            "text/plain": [
              "<IPython.core.display.Javascript object>"
            ],
            "application/javascript": [
              "\n",
              "        async function getFrame() {\n",
              "            let canvas = document.createElement('canvas');\n",
              "            let video = window.videoElement;\n",
              "            canvas.width = video.videoWidth;\n",
              "            canvas.height = video.videoHeight;\n",
              "            let context = canvas.getContext('2d');\n",
              "            context.drawImage(video, 0, 0, canvas.width, canvas.height);\n",
              "            const dataURL = canvas.toDataURL('image/jpeg');\n",
              "            google.colab.kernel.invokeFunction('notebook.captureFrame', [dataURL], {});\n",
              "        }\n",
              "        getFrame();\n",
              "    "
            ]
          },
          "metadata": {}
        },
        {
          "output_type": "display_data",
          "data": {
            "text/plain": [
              "<IPython.core.display.Javascript object>"
            ],
            "application/javascript": [
              "\n",
              "        async function getFrame() {\n",
              "            let canvas = document.createElement('canvas');\n",
              "            let video = window.videoElement;\n",
              "            canvas.width = video.videoWidth;\n",
              "            canvas.height = video.videoHeight;\n",
              "            let context = canvas.getContext('2d');\n",
              "            context.drawImage(video, 0, 0, canvas.width, canvas.height);\n",
              "            const dataURL = canvas.toDataURL('image/jpeg');\n",
              "            google.colab.kernel.invokeFunction('notebook.captureFrame', [dataURL], {});\n",
              "        }\n",
              "        getFrame();\n",
              "    "
            ]
          },
          "metadata": {}
        },
        {
          "output_type": "display_data",
          "data": {
            "text/plain": [
              "<IPython.core.display.Javascript object>"
            ],
            "application/javascript": [
              "\n",
              "        async function getFrame() {\n",
              "            let canvas = document.createElement('canvas');\n",
              "            let video = window.videoElement;\n",
              "            canvas.width = video.videoWidth;\n",
              "            canvas.height = video.videoHeight;\n",
              "            let context = canvas.getContext('2d');\n",
              "            context.drawImage(video, 0, 0, canvas.width, canvas.height);\n",
              "            const dataURL = canvas.toDataURL('image/jpeg');\n",
              "            google.colab.kernel.invokeFunction('notebook.captureFrame', [dataURL], {});\n",
              "        }\n",
              "        getFrame();\n",
              "    "
            ]
          },
          "metadata": {}
        },
        {
          "output_type": "display_data",
          "data": {
            "text/plain": [
              "<IPython.core.display.Javascript object>"
            ],
            "application/javascript": [
              "\n",
              "        async function getFrame() {\n",
              "            let canvas = document.createElement('canvas');\n",
              "            let video = window.videoElement;\n",
              "            canvas.width = video.videoWidth;\n",
              "            canvas.height = video.videoHeight;\n",
              "            let context = canvas.getContext('2d');\n",
              "            context.drawImage(video, 0, 0, canvas.width, canvas.height);\n",
              "            const dataURL = canvas.toDataURL('image/jpeg');\n",
              "            google.colab.kernel.invokeFunction('notebook.captureFrame', [dataURL], {});\n",
              "        }\n",
              "        getFrame();\n",
              "    "
            ]
          },
          "metadata": {}
        },
        {
          "output_type": "display_data",
          "data": {
            "text/plain": [
              "<IPython.core.display.Javascript object>"
            ],
            "application/javascript": [
              "\n",
              "        async function getFrame() {\n",
              "            let canvas = document.createElement('canvas');\n",
              "            let video = window.videoElement;\n",
              "            canvas.width = video.videoWidth;\n",
              "            canvas.height = video.videoHeight;\n",
              "            let context = canvas.getContext('2d');\n",
              "            context.drawImage(video, 0, 0, canvas.width, canvas.height);\n",
              "            const dataURL = canvas.toDataURL('image/jpeg');\n",
              "            google.colab.kernel.invokeFunction('notebook.captureFrame', [dataURL], {});\n",
              "        }\n",
              "        getFrame();\n",
              "    "
            ]
          },
          "metadata": {}
        },
        {
          "output_type": "display_data",
          "data": {
            "text/plain": [
              "<IPython.core.display.Javascript object>"
            ],
            "application/javascript": [
              "\n",
              "        async function getFrame() {\n",
              "            let canvas = document.createElement('canvas');\n",
              "            let video = window.videoElement;\n",
              "            canvas.width = video.videoWidth;\n",
              "            canvas.height = video.videoHeight;\n",
              "            let context = canvas.getContext('2d');\n",
              "            context.drawImage(video, 0, 0, canvas.width, canvas.height);\n",
              "            const dataURL = canvas.toDataURL('image/jpeg');\n",
              "            google.colab.kernel.invokeFunction('notebook.captureFrame', [dataURL], {});\n",
              "        }\n",
              "        getFrame();\n",
              "    "
            ]
          },
          "metadata": {}
        },
        {
          "output_type": "display_data",
          "data": {
            "text/plain": [
              "<IPython.core.display.Javascript object>"
            ],
            "application/javascript": [
              "\n",
              "        async function getFrame() {\n",
              "            let canvas = document.createElement('canvas');\n",
              "            let video = window.videoElement;\n",
              "            canvas.width = video.videoWidth;\n",
              "            canvas.height = video.videoHeight;\n",
              "            let context = canvas.getContext('2d');\n",
              "            context.drawImage(video, 0, 0, canvas.width, canvas.height);\n",
              "            const dataURL = canvas.toDataURL('image/jpeg');\n",
              "            google.colab.kernel.invokeFunction('notebook.captureFrame', [dataURL], {});\n",
              "        }\n",
              "        getFrame();\n",
              "    "
            ]
          },
          "metadata": {}
        },
        {
          "output_type": "display_data",
          "data": {
            "text/plain": [
              "<IPython.core.display.Javascript object>"
            ],
            "application/javascript": [
              "\n",
              "        async function getFrame() {\n",
              "            let canvas = document.createElement('canvas');\n",
              "            let video = window.videoElement;\n",
              "            canvas.width = video.videoWidth;\n",
              "            canvas.height = video.videoHeight;\n",
              "            let context = canvas.getContext('2d');\n",
              "            context.drawImage(video, 0, 0, canvas.width, canvas.height);\n",
              "            const dataURL = canvas.toDataURL('image/jpeg');\n",
              "            google.colab.kernel.invokeFunction('notebook.captureFrame', [dataURL], {});\n",
              "        }\n",
              "        getFrame();\n",
              "    "
            ]
          },
          "metadata": {}
        },
        {
          "output_type": "display_data",
          "data": {
            "text/plain": [
              "<IPython.core.display.Javascript object>"
            ],
            "application/javascript": [
              "\n",
              "        async function getFrame() {\n",
              "            let canvas = document.createElement('canvas');\n",
              "            let video = window.videoElement;\n",
              "            canvas.width = video.videoWidth;\n",
              "            canvas.height = video.videoHeight;\n",
              "            let context = canvas.getContext('2d');\n",
              "            context.drawImage(video, 0, 0, canvas.width, canvas.height);\n",
              "            const dataURL = canvas.toDataURL('image/jpeg');\n",
              "            google.colab.kernel.invokeFunction('notebook.captureFrame', [dataURL], {});\n",
              "        }\n",
              "        getFrame();\n",
              "    "
            ]
          },
          "metadata": {}
        },
        {
          "output_type": "display_data",
          "data": {
            "text/plain": [
              "<IPython.core.display.Javascript object>"
            ],
            "application/javascript": [
              "\n",
              "        async function getFrame() {\n",
              "            let canvas = document.createElement('canvas');\n",
              "            let video = window.videoElement;\n",
              "            canvas.width = video.videoWidth;\n",
              "            canvas.height = video.videoHeight;\n",
              "            let context = canvas.getContext('2d');\n",
              "            context.drawImage(video, 0, 0, canvas.width, canvas.height);\n",
              "            const dataURL = canvas.toDataURL('image/jpeg');\n",
              "            google.colab.kernel.invokeFunction('notebook.captureFrame', [dataURL], {});\n",
              "        }\n",
              "        getFrame();\n",
              "    "
            ]
          },
          "metadata": {}
        },
        {
          "output_type": "display_data",
          "data": {
            "text/plain": [
              "<IPython.core.display.Javascript object>"
            ],
            "application/javascript": [
              "\n",
              "        async function getFrame() {\n",
              "            let canvas = document.createElement('canvas');\n",
              "            let video = window.videoElement;\n",
              "            canvas.width = video.videoWidth;\n",
              "            canvas.height = video.videoHeight;\n",
              "            let context = canvas.getContext('2d');\n",
              "            context.drawImage(video, 0, 0, canvas.width, canvas.height);\n",
              "            const dataURL = canvas.toDataURL('image/jpeg');\n",
              "            google.colab.kernel.invokeFunction('notebook.captureFrame', [dataURL], {});\n",
              "        }\n",
              "        getFrame();\n",
              "    "
            ]
          },
          "metadata": {}
        },
        {
          "output_type": "display_data",
          "data": {
            "text/plain": [
              "<IPython.core.display.Javascript object>"
            ],
            "application/javascript": [
              "\n",
              "        async function getFrame() {\n",
              "            let canvas = document.createElement('canvas');\n",
              "            let video = window.videoElement;\n",
              "            canvas.width = video.videoWidth;\n",
              "            canvas.height = video.videoHeight;\n",
              "            let context = canvas.getContext('2d');\n",
              "            context.drawImage(video, 0, 0, canvas.width, canvas.height);\n",
              "            const dataURL = canvas.toDataURL('image/jpeg');\n",
              "            google.colab.kernel.invokeFunction('notebook.captureFrame', [dataURL], {});\n",
              "        }\n",
              "        getFrame();\n",
              "    "
            ]
          },
          "metadata": {}
        },
        {
          "output_type": "display_data",
          "data": {
            "text/plain": [
              "<IPython.core.display.Javascript object>"
            ],
            "application/javascript": [
              "\n",
              "        async function getFrame() {\n",
              "            let canvas = document.createElement('canvas');\n",
              "            let video = window.videoElement;\n",
              "            canvas.width = video.videoWidth;\n",
              "            canvas.height = video.videoHeight;\n",
              "            let context = canvas.getContext('2d');\n",
              "            context.drawImage(video, 0, 0, canvas.width, canvas.height);\n",
              "            const dataURL = canvas.toDataURL('image/jpeg');\n",
              "            google.colab.kernel.invokeFunction('notebook.captureFrame', [dataURL], {});\n",
              "        }\n",
              "        getFrame();\n",
              "    "
            ]
          },
          "metadata": {}
        },
        {
          "output_type": "display_data",
          "data": {
            "text/plain": [
              "<IPython.core.display.Javascript object>"
            ],
            "application/javascript": [
              "\n",
              "        async function getFrame() {\n",
              "            let canvas = document.createElement('canvas');\n",
              "            let video = window.videoElement;\n",
              "            canvas.width = video.videoWidth;\n",
              "            canvas.height = video.videoHeight;\n",
              "            let context = canvas.getContext('2d');\n",
              "            context.drawImage(video, 0, 0, canvas.width, canvas.height);\n",
              "            const dataURL = canvas.toDataURL('image/jpeg');\n",
              "            google.colab.kernel.invokeFunction('notebook.captureFrame', [dataURL], {});\n",
              "        }\n",
              "        getFrame();\n",
              "    "
            ]
          },
          "metadata": {}
        },
        {
          "output_type": "display_data",
          "data": {
            "text/plain": [
              "<IPython.core.display.Javascript object>"
            ],
            "application/javascript": [
              "\n",
              "        async function getFrame() {\n",
              "            let canvas = document.createElement('canvas');\n",
              "            let video = window.videoElement;\n",
              "            canvas.width = video.videoWidth;\n",
              "            canvas.height = video.videoHeight;\n",
              "            let context = canvas.getContext('2d');\n",
              "            context.drawImage(video, 0, 0, canvas.width, canvas.height);\n",
              "            const dataURL = canvas.toDataURL('image/jpeg');\n",
              "            google.colab.kernel.invokeFunction('notebook.captureFrame', [dataURL], {});\n",
              "        }\n",
              "        getFrame();\n",
              "    "
            ]
          },
          "metadata": {}
        },
        {
          "output_type": "display_data",
          "data": {
            "text/plain": [
              "<IPython.core.display.Javascript object>"
            ],
            "application/javascript": [
              "\n",
              "        async function getFrame() {\n",
              "            let canvas = document.createElement('canvas');\n",
              "            let video = window.videoElement;\n",
              "            canvas.width = video.videoWidth;\n",
              "            canvas.height = video.videoHeight;\n",
              "            let context = canvas.getContext('2d');\n",
              "            context.drawImage(video, 0, 0, canvas.width, canvas.height);\n",
              "            const dataURL = canvas.toDataURL('image/jpeg');\n",
              "            google.colab.kernel.invokeFunction('notebook.captureFrame', [dataURL], {});\n",
              "        }\n",
              "        getFrame();\n",
              "    "
            ]
          },
          "metadata": {}
        },
        {
          "output_type": "display_data",
          "data": {
            "text/plain": [
              "<IPython.core.display.Javascript object>"
            ],
            "application/javascript": [
              "\n",
              "        async function getFrame() {\n",
              "            let canvas = document.createElement('canvas');\n",
              "            let video = window.videoElement;\n",
              "            canvas.width = video.videoWidth;\n",
              "            canvas.height = video.videoHeight;\n",
              "            let context = canvas.getContext('2d');\n",
              "            context.drawImage(video, 0, 0, canvas.width, canvas.height);\n",
              "            const dataURL = canvas.toDataURL('image/jpeg');\n",
              "            google.colab.kernel.invokeFunction('notebook.captureFrame', [dataURL], {});\n",
              "        }\n",
              "        getFrame();\n",
              "    "
            ]
          },
          "metadata": {}
        },
        {
          "output_type": "display_data",
          "data": {
            "text/plain": [
              "<IPython.core.display.Javascript object>"
            ],
            "application/javascript": [
              "\n",
              "        async function getFrame() {\n",
              "            let canvas = document.createElement('canvas');\n",
              "            let video = window.videoElement;\n",
              "            canvas.width = video.videoWidth;\n",
              "            canvas.height = video.videoHeight;\n",
              "            let context = canvas.getContext('2d');\n",
              "            context.drawImage(video, 0, 0, canvas.width, canvas.height);\n",
              "            const dataURL = canvas.toDataURL('image/jpeg');\n",
              "            google.colab.kernel.invokeFunction('notebook.captureFrame', [dataURL], {});\n",
              "        }\n",
              "        getFrame();\n",
              "    "
            ]
          },
          "metadata": {}
        },
        {
          "output_type": "display_data",
          "data": {
            "text/plain": [
              "<IPython.core.display.Javascript object>"
            ],
            "application/javascript": [
              "\n",
              "        async function getFrame() {\n",
              "            let canvas = document.createElement('canvas');\n",
              "            let video = window.videoElement;\n",
              "            canvas.width = video.videoWidth;\n",
              "            canvas.height = video.videoHeight;\n",
              "            let context = canvas.getContext('2d');\n",
              "            context.drawImage(video, 0, 0, canvas.width, canvas.height);\n",
              "            const dataURL = canvas.toDataURL('image/jpeg');\n",
              "            google.colab.kernel.invokeFunction('notebook.captureFrame', [dataURL], {});\n",
              "        }\n",
              "        getFrame();\n",
              "    "
            ]
          },
          "metadata": {}
        },
        {
          "output_type": "display_data",
          "data": {
            "text/plain": [
              "<IPython.core.display.Javascript object>"
            ],
            "application/javascript": [
              "\n",
              "        async function getFrame() {\n",
              "            let canvas = document.createElement('canvas');\n",
              "            let video = window.videoElement;\n",
              "            canvas.width = video.videoWidth;\n",
              "            canvas.height = video.videoHeight;\n",
              "            let context = canvas.getContext('2d');\n",
              "            context.drawImage(video, 0, 0, canvas.width, canvas.height);\n",
              "            const dataURL = canvas.toDataURL('image/jpeg');\n",
              "            google.colab.kernel.invokeFunction('notebook.captureFrame', [dataURL], {});\n",
              "        }\n",
              "        getFrame();\n",
              "    "
            ]
          },
          "metadata": {}
        },
        {
          "output_type": "display_data",
          "data": {
            "text/plain": [
              "<IPython.core.display.Javascript object>"
            ],
            "application/javascript": [
              "\n",
              "        async function getFrame() {\n",
              "            let canvas = document.createElement('canvas');\n",
              "            let video = window.videoElement;\n",
              "            canvas.width = video.videoWidth;\n",
              "            canvas.height = video.videoHeight;\n",
              "            let context = canvas.getContext('2d');\n",
              "            context.drawImage(video, 0, 0, canvas.width, canvas.height);\n",
              "            const dataURL = canvas.toDataURL('image/jpeg');\n",
              "            google.colab.kernel.invokeFunction('notebook.captureFrame', [dataURL], {});\n",
              "        }\n",
              "        getFrame();\n",
              "    "
            ]
          },
          "metadata": {}
        },
        {
          "output_type": "display_data",
          "data": {
            "text/plain": [
              "<IPython.core.display.Javascript object>"
            ],
            "application/javascript": [
              "\n",
              "        async function getFrame() {\n",
              "            let canvas = document.createElement('canvas');\n",
              "            let video = window.videoElement;\n",
              "            canvas.width = video.videoWidth;\n",
              "            canvas.height = video.videoHeight;\n",
              "            let context = canvas.getContext('2d');\n",
              "            context.drawImage(video, 0, 0, canvas.width, canvas.height);\n",
              "            const dataURL = canvas.toDataURL('image/jpeg');\n",
              "            google.colab.kernel.invokeFunction('notebook.captureFrame', [dataURL], {});\n",
              "        }\n",
              "        getFrame();\n",
              "    "
            ]
          },
          "metadata": {}
        },
        {
          "output_type": "display_data",
          "data": {
            "text/plain": [
              "<IPython.core.display.Javascript object>"
            ],
            "application/javascript": [
              "\n",
              "        async function getFrame() {\n",
              "            let canvas = document.createElement('canvas');\n",
              "            let video = window.videoElement;\n",
              "            canvas.width = video.videoWidth;\n",
              "            canvas.height = video.videoHeight;\n",
              "            let context = canvas.getContext('2d');\n",
              "            context.drawImage(video, 0, 0, canvas.width, canvas.height);\n",
              "            const dataURL = canvas.toDataURL('image/jpeg');\n",
              "            google.colab.kernel.invokeFunction('notebook.captureFrame', [dataURL], {});\n",
              "        }\n",
              "        getFrame();\n",
              "    "
            ]
          },
          "metadata": {}
        },
        {
          "output_type": "display_data",
          "data": {
            "text/plain": [
              "<IPython.core.display.Javascript object>"
            ],
            "application/javascript": [
              "\n",
              "        async function getFrame() {\n",
              "            let canvas = document.createElement('canvas');\n",
              "            let video = window.videoElement;\n",
              "            canvas.width = video.videoWidth;\n",
              "            canvas.height = video.videoHeight;\n",
              "            let context = canvas.getContext('2d');\n",
              "            context.drawImage(video, 0, 0, canvas.width, canvas.height);\n",
              "            const dataURL = canvas.toDataURL('image/jpeg');\n",
              "            google.colab.kernel.invokeFunction('notebook.captureFrame', [dataURL], {});\n",
              "        }\n",
              "        getFrame();\n",
              "    "
            ]
          },
          "metadata": {}
        },
        {
          "output_type": "display_data",
          "data": {
            "text/plain": [
              "<IPython.core.display.Javascript object>"
            ],
            "application/javascript": [
              "\n",
              "        async function getFrame() {\n",
              "            let canvas = document.createElement('canvas');\n",
              "            let video = window.videoElement;\n",
              "            canvas.width = video.videoWidth;\n",
              "            canvas.height = video.videoHeight;\n",
              "            let context = canvas.getContext('2d');\n",
              "            context.drawImage(video, 0, 0, canvas.width, canvas.height);\n",
              "            const dataURL = canvas.toDataURL('image/jpeg');\n",
              "            google.colab.kernel.invokeFunction('notebook.captureFrame', [dataURL], {});\n",
              "        }\n",
              "        getFrame();\n",
              "    "
            ]
          },
          "metadata": {}
        },
        {
          "output_type": "display_data",
          "data": {
            "text/plain": [
              "<IPython.core.display.Javascript object>"
            ],
            "application/javascript": [
              "\n",
              "        async function getFrame() {\n",
              "            let canvas = document.createElement('canvas');\n",
              "            let video = window.videoElement;\n",
              "            canvas.width = video.videoWidth;\n",
              "            canvas.height = video.videoHeight;\n",
              "            let context = canvas.getContext('2d');\n",
              "            context.drawImage(video, 0, 0, canvas.width, canvas.height);\n",
              "            const dataURL = canvas.toDataURL('image/jpeg');\n",
              "            google.colab.kernel.invokeFunction('notebook.captureFrame', [dataURL], {});\n",
              "        }\n",
              "        getFrame();\n",
              "    "
            ]
          },
          "metadata": {}
        },
        {
          "output_type": "display_data",
          "data": {
            "text/plain": [
              "<IPython.core.display.Javascript object>"
            ],
            "application/javascript": [
              "\n",
              "        async function getFrame() {\n",
              "            let canvas = document.createElement('canvas');\n",
              "            let video = window.videoElement;\n",
              "            canvas.width = video.videoWidth;\n",
              "            canvas.height = video.videoHeight;\n",
              "            let context = canvas.getContext('2d');\n",
              "            context.drawImage(video, 0, 0, canvas.width, canvas.height);\n",
              "            const dataURL = canvas.toDataURL('image/jpeg');\n",
              "            google.colab.kernel.invokeFunction('notebook.captureFrame', [dataURL], {});\n",
              "        }\n",
              "        getFrame();\n",
              "    "
            ]
          },
          "metadata": {}
        },
        {
          "output_type": "display_data",
          "data": {
            "text/plain": [
              "<IPython.core.display.Javascript object>"
            ],
            "application/javascript": [
              "\n",
              "        async function getFrame() {\n",
              "            let canvas = document.createElement('canvas');\n",
              "            let video = window.videoElement;\n",
              "            canvas.width = video.videoWidth;\n",
              "            canvas.height = video.videoHeight;\n",
              "            let context = canvas.getContext('2d');\n",
              "            context.drawImage(video, 0, 0, canvas.width, canvas.height);\n",
              "            const dataURL = canvas.toDataURL('image/jpeg');\n",
              "            google.colab.kernel.invokeFunction('notebook.captureFrame', [dataURL], {});\n",
              "        }\n",
              "        getFrame();\n",
              "    "
            ]
          },
          "metadata": {}
        },
        {
          "output_type": "display_data",
          "data": {
            "text/plain": [
              "<IPython.core.display.Javascript object>"
            ],
            "application/javascript": [
              "\n",
              "        async function getFrame() {\n",
              "            let canvas = document.createElement('canvas');\n",
              "            let video = window.videoElement;\n",
              "            canvas.width = video.videoWidth;\n",
              "            canvas.height = video.videoHeight;\n",
              "            let context = canvas.getContext('2d');\n",
              "            context.drawImage(video, 0, 0, canvas.width, canvas.height);\n",
              "            const dataURL = canvas.toDataURL('image/jpeg');\n",
              "            google.colab.kernel.invokeFunction('notebook.captureFrame', [dataURL], {});\n",
              "        }\n",
              "        getFrame();\n",
              "    "
            ]
          },
          "metadata": {}
        },
        {
          "output_type": "display_data",
          "data": {
            "text/plain": [
              "<IPython.core.display.Javascript object>"
            ],
            "application/javascript": [
              "\n",
              "        async function getFrame() {\n",
              "            let canvas = document.createElement('canvas');\n",
              "            let video = window.videoElement;\n",
              "            canvas.width = video.videoWidth;\n",
              "            canvas.height = video.videoHeight;\n",
              "            let context = canvas.getContext('2d');\n",
              "            context.drawImage(video, 0, 0, canvas.width, canvas.height);\n",
              "            const dataURL = canvas.toDataURL('image/jpeg');\n",
              "            google.colab.kernel.invokeFunction('notebook.captureFrame', [dataURL], {});\n",
              "        }\n",
              "        getFrame();\n",
              "    "
            ]
          },
          "metadata": {}
        },
        {
          "output_type": "display_data",
          "data": {
            "text/plain": [
              "<IPython.core.display.Javascript object>"
            ],
            "application/javascript": [
              "\n",
              "        async function getFrame() {\n",
              "            let canvas = document.createElement('canvas');\n",
              "            let video = window.videoElement;\n",
              "            canvas.width = video.videoWidth;\n",
              "            canvas.height = video.videoHeight;\n",
              "            let context = canvas.getContext('2d');\n",
              "            context.drawImage(video, 0, 0, canvas.width, canvas.height);\n",
              "            const dataURL = canvas.toDataURL('image/jpeg');\n",
              "            google.colab.kernel.invokeFunction('notebook.captureFrame', [dataURL], {});\n",
              "        }\n",
              "        getFrame();\n",
              "    "
            ]
          },
          "metadata": {}
        },
        {
          "output_type": "display_data",
          "data": {
            "text/plain": [
              "<IPython.core.display.Javascript object>"
            ],
            "application/javascript": [
              "\n",
              "        async function getFrame() {\n",
              "            let canvas = document.createElement('canvas');\n",
              "            let video = window.videoElement;\n",
              "            canvas.width = video.videoWidth;\n",
              "            canvas.height = video.videoHeight;\n",
              "            let context = canvas.getContext('2d');\n",
              "            context.drawImage(video, 0, 0, canvas.width, canvas.height);\n",
              "            const dataURL = canvas.toDataURL('image/jpeg');\n",
              "            google.colab.kernel.invokeFunction('notebook.captureFrame', [dataURL], {});\n",
              "        }\n",
              "        getFrame();\n",
              "    "
            ]
          },
          "metadata": {}
        },
        {
          "output_type": "display_data",
          "data": {
            "text/plain": [
              "<IPython.core.display.Javascript object>"
            ],
            "application/javascript": [
              "\n",
              "        async function getFrame() {\n",
              "            let canvas = document.createElement('canvas');\n",
              "            let video = window.videoElement;\n",
              "            canvas.width = video.videoWidth;\n",
              "            canvas.height = video.videoHeight;\n",
              "            let context = canvas.getContext('2d');\n",
              "            context.drawImage(video, 0, 0, canvas.width, canvas.height);\n",
              "            const dataURL = canvas.toDataURL('image/jpeg');\n",
              "            google.colab.kernel.invokeFunction('notebook.captureFrame', [dataURL], {});\n",
              "        }\n",
              "        getFrame();\n",
              "    "
            ]
          },
          "metadata": {}
        },
        {
          "output_type": "display_data",
          "data": {
            "text/plain": [
              "<IPython.core.display.Javascript object>"
            ],
            "application/javascript": [
              "\n",
              "        async function getFrame() {\n",
              "            let canvas = document.createElement('canvas');\n",
              "            let video = window.videoElement;\n",
              "            canvas.width = video.videoWidth;\n",
              "            canvas.height = video.videoHeight;\n",
              "            let context = canvas.getContext('2d');\n",
              "            context.drawImage(video, 0, 0, canvas.width, canvas.height);\n",
              "            const dataURL = canvas.toDataURL('image/jpeg');\n",
              "            google.colab.kernel.invokeFunction('notebook.captureFrame', [dataURL], {});\n",
              "        }\n",
              "        getFrame();\n",
              "    "
            ]
          },
          "metadata": {}
        },
        {
          "output_type": "display_data",
          "data": {
            "text/plain": [
              "<IPython.core.display.Javascript object>"
            ],
            "application/javascript": [
              "\n",
              "        async function getFrame() {\n",
              "            let canvas = document.createElement('canvas');\n",
              "            let video = window.videoElement;\n",
              "            canvas.width = video.videoWidth;\n",
              "            canvas.height = video.videoHeight;\n",
              "            let context = canvas.getContext('2d');\n",
              "            context.drawImage(video, 0, 0, canvas.width, canvas.height);\n",
              "            const dataURL = canvas.toDataURL('image/jpeg');\n",
              "            google.colab.kernel.invokeFunction('notebook.captureFrame', [dataURL], {});\n",
              "        }\n",
              "        getFrame();\n",
              "    "
            ]
          },
          "metadata": {}
        },
        {
          "output_type": "display_data",
          "data": {
            "text/plain": [
              "<IPython.core.display.Javascript object>"
            ],
            "application/javascript": [
              "\n",
              "        async function getFrame() {\n",
              "            let canvas = document.createElement('canvas');\n",
              "            let video = window.videoElement;\n",
              "            canvas.width = video.videoWidth;\n",
              "            canvas.height = video.videoHeight;\n",
              "            let context = canvas.getContext('2d');\n",
              "            context.drawImage(video, 0, 0, canvas.width, canvas.height);\n",
              "            const dataURL = canvas.toDataURL('image/jpeg');\n",
              "            google.colab.kernel.invokeFunction('notebook.captureFrame', [dataURL], {});\n",
              "        }\n",
              "        getFrame();\n",
              "    "
            ]
          },
          "metadata": {}
        },
        {
          "output_type": "display_data",
          "data": {
            "text/plain": [
              "<IPython.core.display.Javascript object>"
            ],
            "application/javascript": [
              "\n",
              "        async function getFrame() {\n",
              "            let canvas = document.createElement('canvas');\n",
              "            let video = window.videoElement;\n",
              "            canvas.width = video.videoWidth;\n",
              "            canvas.height = video.videoHeight;\n",
              "            let context = canvas.getContext('2d');\n",
              "            context.drawImage(video, 0, 0, canvas.width, canvas.height);\n",
              "            const dataURL = canvas.toDataURL('image/jpeg');\n",
              "            google.colab.kernel.invokeFunction('notebook.captureFrame', [dataURL], {});\n",
              "        }\n",
              "        getFrame();\n",
              "    "
            ]
          },
          "metadata": {}
        },
        {
          "output_type": "display_data",
          "data": {
            "text/plain": [
              "<IPython.core.display.Javascript object>"
            ],
            "application/javascript": [
              "\n",
              "        async function getFrame() {\n",
              "            let canvas = document.createElement('canvas');\n",
              "            let video = window.videoElement;\n",
              "            canvas.width = video.videoWidth;\n",
              "            canvas.height = video.videoHeight;\n",
              "            let context = canvas.getContext('2d');\n",
              "            context.drawImage(video, 0, 0, canvas.width, canvas.height);\n",
              "            const dataURL = canvas.toDataURL('image/jpeg');\n",
              "            google.colab.kernel.invokeFunction('notebook.captureFrame', [dataURL], {});\n",
              "        }\n",
              "        getFrame();\n",
              "    "
            ]
          },
          "metadata": {}
        },
        {
          "output_type": "display_data",
          "data": {
            "text/plain": [
              "<IPython.core.display.Javascript object>"
            ],
            "application/javascript": [
              "\n",
              "        async function getFrame() {\n",
              "            let canvas = document.createElement('canvas');\n",
              "            let video = window.videoElement;\n",
              "            canvas.width = video.videoWidth;\n",
              "            canvas.height = video.videoHeight;\n",
              "            let context = canvas.getContext('2d');\n",
              "            context.drawImage(video, 0, 0, canvas.width, canvas.height);\n",
              "            const dataURL = canvas.toDataURL('image/jpeg');\n",
              "            google.colab.kernel.invokeFunction('notebook.captureFrame', [dataURL], {});\n",
              "        }\n",
              "        getFrame();\n",
              "    "
            ]
          },
          "metadata": {}
        },
        {
          "output_type": "display_data",
          "data": {
            "text/plain": [
              "<IPython.core.display.Javascript object>"
            ],
            "application/javascript": [
              "\n",
              "        async function getFrame() {\n",
              "            let canvas = document.createElement('canvas');\n",
              "            let video = window.videoElement;\n",
              "            canvas.width = video.videoWidth;\n",
              "            canvas.height = video.videoHeight;\n",
              "            let context = canvas.getContext('2d');\n",
              "            context.drawImage(video, 0, 0, canvas.width, canvas.height);\n",
              "            const dataURL = canvas.toDataURL('image/jpeg');\n",
              "            google.colab.kernel.invokeFunction('notebook.captureFrame', [dataURL], {});\n",
              "        }\n",
              "        getFrame();\n",
              "    "
            ]
          },
          "metadata": {}
        },
        {
          "output_type": "display_data",
          "data": {
            "text/plain": [
              "<IPython.core.display.Javascript object>"
            ],
            "application/javascript": [
              "\n",
              "        async function getFrame() {\n",
              "            let canvas = document.createElement('canvas');\n",
              "            let video = window.videoElement;\n",
              "            canvas.width = video.videoWidth;\n",
              "            canvas.height = video.videoHeight;\n",
              "            let context = canvas.getContext('2d');\n",
              "            context.drawImage(video, 0, 0, canvas.width, canvas.height);\n",
              "            const dataURL = canvas.toDataURL('image/jpeg');\n",
              "            google.colab.kernel.invokeFunction('notebook.captureFrame', [dataURL], {});\n",
              "        }\n",
              "        getFrame();\n",
              "    "
            ]
          },
          "metadata": {}
        },
        {
          "output_type": "display_data",
          "data": {
            "text/plain": [
              "<IPython.core.display.Javascript object>"
            ],
            "application/javascript": [
              "\n",
              "        async function getFrame() {\n",
              "            let canvas = document.createElement('canvas');\n",
              "            let video = window.videoElement;\n",
              "            canvas.width = video.videoWidth;\n",
              "            canvas.height = video.videoHeight;\n",
              "            let context = canvas.getContext('2d');\n",
              "            context.drawImage(video, 0, 0, canvas.width, canvas.height);\n",
              "            const dataURL = canvas.toDataURL('image/jpeg');\n",
              "            google.colab.kernel.invokeFunction('notebook.captureFrame', [dataURL], {});\n",
              "        }\n",
              "        getFrame();\n",
              "    "
            ]
          },
          "metadata": {}
        },
        {
          "output_type": "display_data",
          "data": {
            "text/plain": [
              "<IPython.core.display.Javascript object>"
            ],
            "application/javascript": [
              "\n",
              "        async function getFrame() {\n",
              "            let canvas = document.createElement('canvas');\n",
              "            let video = window.videoElement;\n",
              "            canvas.width = video.videoWidth;\n",
              "            canvas.height = video.videoHeight;\n",
              "            let context = canvas.getContext('2d');\n",
              "            context.drawImage(video, 0, 0, canvas.width, canvas.height);\n",
              "            const dataURL = canvas.toDataURL('image/jpeg');\n",
              "            google.colab.kernel.invokeFunction('notebook.captureFrame', [dataURL], {});\n",
              "        }\n",
              "        getFrame();\n",
              "    "
            ]
          },
          "metadata": {}
        },
        {
          "output_type": "display_data",
          "data": {
            "text/plain": [
              "<IPython.core.display.Javascript object>"
            ],
            "application/javascript": [
              "\n",
              "        async function getFrame() {\n",
              "            let canvas = document.createElement('canvas');\n",
              "            let video = window.videoElement;\n",
              "            canvas.width = video.videoWidth;\n",
              "            canvas.height = video.videoHeight;\n",
              "            let context = canvas.getContext('2d');\n",
              "            context.drawImage(video, 0, 0, canvas.width, canvas.height);\n",
              "            const dataURL = canvas.toDataURL('image/jpeg');\n",
              "            google.colab.kernel.invokeFunction('notebook.captureFrame', [dataURL], {});\n",
              "        }\n",
              "        getFrame();\n",
              "    "
            ]
          },
          "metadata": {}
        },
        {
          "output_type": "display_data",
          "data": {
            "text/plain": [
              "<IPython.core.display.Javascript object>"
            ],
            "application/javascript": [
              "\n",
              "        async function getFrame() {\n",
              "            let canvas = document.createElement('canvas');\n",
              "            let video = window.videoElement;\n",
              "            canvas.width = video.videoWidth;\n",
              "            canvas.height = video.videoHeight;\n",
              "            let context = canvas.getContext('2d');\n",
              "            context.drawImage(video, 0, 0, canvas.width, canvas.height);\n",
              "            const dataURL = canvas.toDataURL('image/jpeg');\n",
              "            google.colab.kernel.invokeFunction('notebook.captureFrame', [dataURL], {});\n",
              "        }\n",
              "        getFrame();\n",
              "    "
            ]
          },
          "metadata": {}
        },
        {
          "output_type": "display_data",
          "data": {
            "text/plain": [
              "<IPython.core.display.Javascript object>"
            ],
            "application/javascript": [
              "\n",
              "        async function getFrame() {\n",
              "            let canvas = document.createElement('canvas');\n",
              "            let video = window.videoElement;\n",
              "            canvas.width = video.videoWidth;\n",
              "            canvas.height = video.videoHeight;\n",
              "            let context = canvas.getContext('2d');\n",
              "            context.drawImage(video, 0, 0, canvas.width, canvas.height);\n",
              "            const dataURL = canvas.toDataURL('image/jpeg');\n",
              "            google.colab.kernel.invokeFunction('notebook.captureFrame', [dataURL], {});\n",
              "        }\n",
              "        getFrame();\n",
              "    "
            ]
          },
          "metadata": {}
        },
        {
          "output_type": "display_data",
          "data": {
            "text/plain": [
              "<IPython.core.display.Javascript object>"
            ],
            "application/javascript": [
              "\n",
              "        async function getFrame() {\n",
              "            let canvas = document.createElement('canvas');\n",
              "            let video = window.videoElement;\n",
              "            canvas.width = video.videoWidth;\n",
              "            canvas.height = video.videoHeight;\n",
              "            let context = canvas.getContext('2d');\n",
              "            context.drawImage(video, 0, 0, canvas.width, canvas.height);\n",
              "            const dataURL = canvas.toDataURL('image/jpeg');\n",
              "            google.colab.kernel.invokeFunction('notebook.captureFrame', [dataURL], {});\n",
              "        }\n",
              "        getFrame();\n",
              "    "
            ]
          },
          "metadata": {}
        },
        {
          "output_type": "display_data",
          "data": {
            "text/plain": [
              "<IPython.core.display.Javascript object>"
            ],
            "application/javascript": [
              "\n",
              "        async function getFrame() {\n",
              "            let canvas = document.createElement('canvas');\n",
              "            let video = window.videoElement;\n",
              "            canvas.width = video.videoWidth;\n",
              "            canvas.height = video.videoHeight;\n",
              "            let context = canvas.getContext('2d');\n",
              "            context.drawImage(video, 0, 0, canvas.width, canvas.height);\n",
              "            const dataURL = canvas.toDataURL('image/jpeg');\n",
              "            google.colab.kernel.invokeFunction('notebook.captureFrame', [dataURL], {});\n",
              "        }\n",
              "        getFrame();\n",
              "    "
            ]
          },
          "metadata": {}
        },
        {
          "output_type": "display_data",
          "data": {
            "text/plain": [
              "<IPython.core.display.Javascript object>"
            ],
            "application/javascript": [
              "\n",
              "        async function getFrame() {\n",
              "            let canvas = document.createElement('canvas');\n",
              "            let video = window.videoElement;\n",
              "            canvas.width = video.videoWidth;\n",
              "            canvas.height = video.videoHeight;\n",
              "            let context = canvas.getContext('2d');\n",
              "            context.drawImage(video, 0, 0, canvas.width, canvas.height);\n",
              "            const dataURL = canvas.toDataURL('image/jpeg');\n",
              "            google.colab.kernel.invokeFunction('notebook.captureFrame', [dataURL], {});\n",
              "        }\n",
              "        getFrame();\n",
              "    "
            ]
          },
          "metadata": {}
        },
        {
          "output_type": "display_data",
          "data": {
            "text/plain": [
              "<IPython.core.display.Javascript object>"
            ],
            "application/javascript": [
              "\n",
              "        async function getFrame() {\n",
              "            let canvas = document.createElement('canvas');\n",
              "            let video = window.videoElement;\n",
              "            canvas.width = video.videoWidth;\n",
              "            canvas.height = video.videoHeight;\n",
              "            let context = canvas.getContext('2d');\n",
              "            context.drawImage(video, 0, 0, canvas.width, canvas.height);\n",
              "            const dataURL = canvas.toDataURL('image/jpeg');\n",
              "            google.colab.kernel.invokeFunction('notebook.captureFrame', [dataURL], {});\n",
              "        }\n",
              "        getFrame();\n",
              "    "
            ]
          },
          "metadata": {}
        },
        {
          "output_type": "display_data",
          "data": {
            "text/plain": [
              "<IPython.core.display.Javascript object>"
            ],
            "application/javascript": [
              "\n",
              "        async function getFrame() {\n",
              "            let canvas = document.createElement('canvas');\n",
              "            let video = window.videoElement;\n",
              "            canvas.width = video.videoWidth;\n",
              "            canvas.height = video.videoHeight;\n",
              "            let context = canvas.getContext('2d');\n",
              "            context.drawImage(video, 0, 0, canvas.width, canvas.height);\n",
              "            const dataURL = canvas.toDataURL('image/jpeg');\n",
              "            google.colab.kernel.invokeFunction('notebook.captureFrame', [dataURL], {});\n",
              "        }\n",
              "        getFrame();\n",
              "    "
            ]
          },
          "metadata": {}
        },
        {
          "output_type": "display_data",
          "data": {
            "text/plain": [
              "<IPython.core.display.Javascript object>"
            ],
            "application/javascript": [
              "\n",
              "        async function getFrame() {\n",
              "            let canvas = document.createElement('canvas');\n",
              "            let video = window.videoElement;\n",
              "            canvas.width = video.videoWidth;\n",
              "            canvas.height = video.videoHeight;\n",
              "            let context = canvas.getContext('2d');\n",
              "            context.drawImage(video, 0, 0, canvas.width, canvas.height);\n",
              "            const dataURL = canvas.toDataURL('image/jpeg');\n",
              "            google.colab.kernel.invokeFunction('notebook.captureFrame', [dataURL], {});\n",
              "        }\n",
              "        getFrame();\n",
              "    "
            ]
          },
          "metadata": {}
        },
        {
          "output_type": "display_data",
          "data": {
            "text/plain": [
              "<IPython.core.display.Javascript object>"
            ],
            "application/javascript": [
              "\n",
              "        async function getFrame() {\n",
              "            let canvas = document.createElement('canvas');\n",
              "            let video = window.videoElement;\n",
              "            canvas.width = video.videoWidth;\n",
              "            canvas.height = video.videoHeight;\n",
              "            let context = canvas.getContext('2d');\n",
              "            context.drawImage(video, 0, 0, canvas.width, canvas.height);\n",
              "            const dataURL = canvas.toDataURL('image/jpeg');\n",
              "            google.colab.kernel.invokeFunction('notebook.captureFrame', [dataURL], {});\n",
              "        }\n",
              "        getFrame();\n",
              "    "
            ]
          },
          "metadata": {}
        },
        {
          "output_type": "display_data",
          "data": {
            "text/plain": [
              "<IPython.core.display.Javascript object>"
            ],
            "application/javascript": [
              "\n",
              "        async function getFrame() {\n",
              "            let canvas = document.createElement('canvas');\n",
              "            let video = window.videoElement;\n",
              "            canvas.width = video.videoWidth;\n",
              "            canvas.height = video.videoHeight;\n",
              "            let context = canvas.getContext('2d');\n",
              "            context.drawImage(video, 0, 0, canvas.width, canvas.height);\n",
              "            const dataURL = canvas.toDataURL('image/jpeg');\n",
              "            google.colab.kernel.invokeFunction('notebook.captureFrame', [dataURL], {});\n",
              "        }\n",
              "        getFrame();\n",
              "    "
            ]
          },
          "metadata": {}
        },
        {
          "output_type": "display_data",
          "data": {
            "text/plain": [
              "<IPython.core.display.Javascript object>"
            ],
            "application/javascript": [
              "\n",
              "        async function getFrame() {\n",
              "            let canvas = document.createElement('canvas');\n",
              "            let video = window.videoElement;\n",
              "            canvas.width = video.videoWidth;\n",
              "            canvas.height = video.videoHeight;\n",
              "            let context = canvas.getContext('2d');\n",
              "            context.drawImage(video, 0, 0, canvas.width, canvas.height);\n",
              "            const dataURL = canvas.toDataURL('image/jpeg');\n",
              "            google.colab.kernel.invokeFunction('notebook.captureFrame', [dataURL], {});\n",
              "        }\n",
              "        getFrame();\n",
              "    "
            ]
          },
          "metadata": {}
        },
        {
          "output_type": "display_data",
          "data": {
            "text/plain": [
              "<IPython.core.display.Javascript object>"
            ],
            "application/javascript": [
              "\n",
              "        async function getFrame() {\n",
              "            let canvas = document.createElement('canvas');\n",
              "            let video = window.videoElement;\n",
              "            canvas.width = video.videoWidth;\n",
              "            canvas.height = video.videoHeight;\n",
              "            let context = canvas.getContext('2d');\n",
              "            context.drawImage(video, 0, 0, canvas.width, canvas.height);\n",
              "            const dataURL = canvas.toDataURL('image/jpeg');\n",
              "            google.colab.kernel.invokeFunction('notebook.captureFrame', [dataURL], {});\n",
              "        }\n",
              "        getFrame();\n",
              "    "
            ]
          },
          "metadata": {}
        },
        {
          "output_type": "display_data",
          "data": {
            "text/plain": [
              "<IPython.core.display.Javascript object>"
            ],
            "application/javascript": [
              "\n",
              "        async function getFrame() {\n",
              "            let canvas = document.createElement('canvas');\n",
              "            let video = window.videoElement;\n",
              "            canvas.width = video.videoWidth;\n",
              "            canvas.height = video.videoHeight;\n",
              "            let context = canvas.getContext('2d');\n",
              "            context.drawImage(video, 0, 0, canvas.width, canvas.height);\n",
              "            const dataURL = canvas.toDataURL('image/jpeg');\n",
              "            google.colab.kernel.invokeFunction('notebook.captureFrame', [dataURL], {});\n",
              "        }\n",
              "        getFrame();\n",
              "    "
            ]
          },
          "metadata": {}
        },
        {
          "output_type": "display_data",
          "data": {
            "text/plain": [
              "<IPython.core.display.Javascript object>"
            ],
            "application/javascript": [
              "\n",
              "        async function getFrame() {\n",
              "            let canvas = document.createElement('canvas');\n",
              "            let video = window.videoElement;\n",
              "            canvas.width = video.videoWidth;\n",
              "            canvas.height = video.videoHeight;\n",
              "            let context = canvas.getContext('2d');\n",
              "            context.drawImage(video, 0, 0, canvas.width, canvas.height);\n",
              "            const dataURL = canvas.toDataURL('image/jpeg');\n",
              "            google.colab.kernel.invokeFunction('notebook.captureFrame', [dataURL], {});\n",
              "        }\n",
              "        getFrame();\n",
              "    "
            ]
          },
          "metadata": {}
        },
        {
          "output_type": "display_data",
          "data": {
            "text/plain": [
              "<IPython.core.display.Javascript object>"
            ],
            "application/javascript": [
              "\n",
              "        async function getFrame() {\n",
              "            let canvas = document.createElement('canvas');\n",
              "            let video = window.videoElement;\n",
              "            canvas.width = video.videoWidth;\n",
              "            canvas.height = video.videoHeight;\n",
              "            let context = canvas.getContext('2d');\n",
              "            context.drawImage(video, 0, 0, canvas.width, canvas.height);\n",
              "            const dataURL = canvas.toDataURL('image/jpeg');\n",
              "            google.colab.kernel.invokeFunction('notebook.captureFrame', [dataURL], {});\n",
              "        }\n",
              "        getFrame();\n",
              "    "
            ]
          },
          "metadata": {}
        },
        {
          "output_type": "display_data",
          "data": {
            "text/plain": [
              "<IPython.core.display.Javascript object>"
            ],
            "application/javascript": [
              "\n",
              "        async function getFrame() {\n",
              "            let canvas = document.createElement('canvas');\n",
              "            let video = window.videoElement;\n",
              "            canvas.width = video.videoWidth;\n",
              "            canvas.height = video.videoHeight;\n",
              "            let context = canvas.getContext('2d');\n",
              "            context.drawImage(video, 0, 0, canvas.width, canvas.height);\n",
              "            const dataURL = canvas.toDataURL('image/jpeg');\n",
              "            google.colab.kernel.invokeFunction('notebook.captureFrame', [dataURL], {});\n",
              "        }\n",
              "        getFrame();\n",
              "    "
            ]
          },
          "metadata": {}
        },
        {
          "output_type": "display_data",
          "data": {
            "text/plain": [
              "<IPython.core.display.Javascript object>"
            ],
            "application/javascript": [
              "\n",
              "        async function getFrame() {\n",
              "            let canvas = document.createElement('canvas');\n",
              "            let video = window.videoElement;\n",
              "            canvas.width = video.videoWidth;\n",
              "            canvas.height = video.videoHeight;\n",
              "            let context = canvas.getContext('2d');\n",
              "            context.drawImage(video, 0, 0, canvas.width, canvas.height);\n",
              "            const dataURL = canvas.toDataURL('image/jpeg');\n",
              "            google.colab.kernel.invokeFunction('notebook.captureFrame', [dataURL], {});\n",
              "        }\n",
              "        getFrame();\n",
              "    "
            ]
          },
          "metadata": {}
        },
        {
          "output_type": "display_data",
          "data": {
            "text/plain": [
              "<IPython.core.display.Javascript object>"
            ],
            "application/javascript": [
              "\n",
              "        async function getFrame() {\n",
              "            let canvas = document.createElement('canvas');\n",
              "            let video = window.videoElement;\n",
              "            canvas.width = video.videoWidth;\n",
              "            canvas.height = video.videoHeight;\n",
              "            let context = canvas.getContext('2d');\n",
              "            context.drawImage(video, 0, 0, canvas.width, canvas.height);\n",
              "            const dataURL = canvas.toDataURL('image/jpeg');\n",
              "            google.colab.kernel.invokeFunction('notebook.captureFrame', [dataURL], {});\n",
              "        }\n",
              "        getFrame();\n",
              "    "
            ]
          },
          "metadata": {}
        },
        {
          "output_type": "display_data",
          "data": {
            "text/plain": [
              "<IPython.core.display.Javascript object>"
            ],
            "application/javascript": [
              "\n",
              "        async function getFrame() {\n",
              "            let canvas = document.createElement('canvas');\n",
              "            let video = window.videoElement;\n",
              "            canvas.width = video.videoWidth;\n",
              "            canvas.height = video.videoHeight;\n",
              "            let context = canvas.getContext('2d');\n",
              "            context.drawImage(video, 0, 0, canvas.width, canvas.height);\n",
              "            const dataURL = canvas.toDataURL('image/jpeg');\n",
              "            google.colab.kernel.invokeFunction('notebook.captureFrame', [dataURL], {});\n",
              "        }\n",
              "        getFrame();\n",
              "    "
            ]
          },
          "metadata": {}
        },
        {
          "output_type": "display_data",
          "data": {
            "text/plain": [
              "<IPython.core.display.Javascript object>"
            ],
            "application/javascript": [
              "\n",
              "        async function getFrame() {\n",
              "            let canvas = document.createElement('canvas');\n",
              "            let video = window.videoElement;\n",
              "            canvas.width = video.videoWidth;\n",
              "            canvas.height = video.videoHeight;\n",
              "            let context = canvas.getContext('2d');\n",
              "            context.drawImage(video, 0, 0, canvas.width, canvas.height);\n",
              "            const dataURL = canvas.toDataURL('image/jpeg');\n",
              "            google.colab.kernel.invokeFunction('notebook.captureFrame', [dataURL], {});\n",
              "        }\n",
              "        getFrame();\n",
              "    "
            ]
          },
          "metadata": {}
        },
        {
          "output_type": "display_data",
          "data": {
            "text/plain": [
              "<IPython.core.display.Javascript object>"
            ],
            "application/javascript": [
              "\n",
              "        async function getFrame() {\n",
              "            let canvas = document.createElement('canvas');\n",
              "            let video = window.videoElement;\n",
              "            canvas.width = video.videoWidth;\n",
              "            canvas.height = video.videoHeight;\n",
              "            let context = canvas.getContext('2d');\n",
              "            context.drawImage(video, 0, 0, canvas.width, canvas.height);\n",
              "            const dataURL = canvas.toDataURL('image/jpeg');\n",
              "            google.colab.kernel.invokeFunction('notebook.captureFrame', [dataURL], {});\n",
              "        }\n",
              "        getFrame();\n",
              "    "
            ]
          },
          "metadata": {}
        },
        {
          "output_type": "display_data",
          "data": {
            "text/plain": [
              "<IPython.core.display.Javascript object>"
            ],
            "application/javascript": [
              "\n",
              "        async function getFrame() {\n",
              "            let canvas = document.createElement('canvas');\n",
              "            let video = window.videoElement;\n",
              "            canvas.width = video.videoWidth;\n",
              "            canvas.height = video.videoHeight;\n",
              "            let context = canvas.getContext('2d');\n",
              "            context.drawImage(video, 0, 0, canvas.width, canvas.height);\n",
              "            const dataURL = canvas.toDataURL('image/jpeg');\n",
              "            google.colab.kernel.invokeFunction('notebook.captureFrame', [dataURL], {});\n",
              "        }\n",
              "        getFrame();\n",
              "    "
            ]
          },
          "metadata": {}
        },
        {
          "output_type": "display_data",
          "data": {
            "text/plain": [
              "<IPython.core.display.Javascript object>"
            ],
            "application/javascript": [
              "\n",
              "        async function getFrame() {\n",
              "            let canvas = document.createElement('canvas');\n",
              "            let video = window.videoElement;\n",
              "            canvas.width = video.videoWidth;\n",
              "            canvas.height = video.videoHeight;\n",
              "            let context = canvas.getContext('2d');\n",
              "            context.drawImage(video, 0, 0, canvas.width, canvas.height);\n",
              "            const dataURL = canvas.toDataURL('image/jpeg');\n",
              "            google.colab.kernel.invokeFunction('notebook.captureFrame', [dataURL], {});\n",
              "        }\n",
              "        getFrame();\n",
              "    "
            ]
          },
          "metadata": {}
        },
        {
          "output_type": "display_data",
          "data": {
            "text/plain": [
              "<IPython.core.display.Javascript object>"
            ],
            "application/javascript": [
              "\n",
              "        async function getFrame() {\n",
              "            let canvas = document.createElement('canvas');\n",
              "            let video = window.videoElement;\n",
              "            canvas.width = video.videoWidth;\n",
              "            canvas.height = video.videoHeight;\n",
              "            let context = canvas.getContext('2d');\n",
              "            context.drawImage(video, 0, 0, canvas.width, canvas.height);\n",
              "            const dataURL = canvas.toDataURL('image/jpeg');\n",
              "            google.colab.kernel.invokeFunction('notebook.captureFrame', [dataURL], {});\n",
              "        }\n",
              "        getFrame();\n",
              "    "
            ]
          },
          "metadata": {}
        },
        {
          "output_type": "display_data",
          "data": {
            "text/plain": [
              "<IPython.core.display.Javascript object>"
            ],
            "application/javascript": [
              "\n",
              "        async function getFrame() {\n",
              "            let canvas = document.createElement('canvas');\n",
              "            let video = window.videoElement;\n",
              "            canvas.width = video.videoWidth;\n",
              "            canvas.height = video.videoHeight;\n",
              "            let context = canvas.getContext('2d');\n",
              "            context.drawImage(video, 0, 0, canvas.width, canvas.height);\n",
              "            const dataURL = canvas.toDataURL('image/jpeg');\n",
              "            google.colab.kernel.invokeFunction('notebook.captureFrame', [dataURL], {});\n",
              "        }\n",
              "        getFrame();\n",
              "    "
            ]
          },
          "metadata": {}
        },
        {
          "output_type": "display_data",
          "data": {
            "text/plain": [
              "<IPython.core.display.Javascript object>"
            ],
            "application/javascript": [
              "\n",
              "        async function getFrame() {\n",
              "            let canvas = document.createElement('canvas');\n",
              "            let video = window.videoElement;\n",
              "            canvas.width = video.videoWidth;\n",
              "            canvas.height = video.videoHeight;\n",
              "            let context = canvas.getContext('2d');\n",
              "            context.drawImage(video, 0, 0, canvas.width, canvas.height);\n",
              "            const dataURL = canvas.toDataURL('image/jpeg');\n",
              "            google.colab.kernel.invokeFunction('notebook.captureFrame', [dataURL], {});\n",
              "        }\n",
              "        getFrame();\n",
              "    "
            ]
          },
          "metadata": {}
        },
        {
          "output_type": "display_data",
          "data": {
            "text/plain": [
              "<IPython.core.display.Javascript object>"
            ],
            "application/javascript": [
              "\n",
              "        async function getFrame() {\n",
              "            let canvas = document.createElement('canvas');\n",
              "            let video = window.videoElement;\n",
              "            canvas.width = video.videoWidth;\n",
              "            canvas.height = video.videoHeight;\n",
              "            let context = canvas.getContext('2d');\n",
              "            context.drawImage(video, 0, 0, canvas.width, canvas.height);\n",
              "            const dataURL = canvas.toDataURL('image/jpeg');\n",
              "            google.colab.kernel.invokeFunction('notebook.captureFrame', [dataURL], {});\n",
              "        }\n",
              "        getFrame();\n",
              "    "
            ]
          },
          "metadata": {}
        },
        {
          "output_type": "display_data",
          "data": {
            "text/plain": [
              "<IPython.core.display.Javascript object>"
            ],
            "application/javascript": [
              "\n",
              "        async function getFrame() {\n",
              "            let canvas = document.createElement('canvas');\n",
              "            let video = window.videoElement;\n",
              "            canvas.width = video.videoWidth;\n",
              "            canvas.height = video.videoHeight;\n",
              "            let context = canvas.getContext('2d');\n",
              "            context.drawImage(video, 0, 0, canvas.width, canvas.height);\n",
              "            const dataURL = canvas.toDataURL('image/jpeg');\n",
              "            google.colab.kernel.invokeFunction('notebook.captureFrame', [dataURL], {});\n",
              "        }\n",
              "        getFrame();\n",
              "    "
            ]
          },
          "metadata": {}
        },
        {
          "output_type": "display_data",
          "data": {
            "text/plain": [
              "<IPython.core.display.Javascript object>"
            ],
            "application/javascript": [
              "\n",
              "        async function getFrame() {\n",
              "            let canvas = document.createElement('canvas');\n",
              "            let video = window.videoElement;\n",
              "            canvas.width = video.videoWidth;\n",
              "            canvas.height = video.videoHeight;\n",
              "            let context = canvas.getContext('2d');\n",
              "            context.drawImage(video, 0, 0, canvas.width, canvas.height);\n",
              "            const dataURL = canvas.toDataURL('image/jpeg');\n",
              "            google.colab.kernel.invokeFunction('notebook.captureFrame', [dataURL], {});\n",
              "        }\n",
              "        getFrame();\n",
              "    "
            ]
          },
          "metadata": {}
        },
        {
          "output_type": "display_data",
          "data": {
            "text/plain": [
              "<IPython.core.display.Javascript object>"
            ],
            "application/javascript": [
              "\n",
              "        async function getFrame() {\n",
              "            let canvas = document.createElement('canvas');\n",
              "            let video = window.videoElement;\n",
              "            canvas.width = video.videoWidth;\n",
              "            canvas.height = video.videoHeight;\n",
              "            let context = canvas.getContext('2d');\n",
              "            context.drawImage(video, 0, 0, canvas.width, canvas.height);\n",
              "            const dataURL = canvas.toDataURL('image/jpeg');\n",
              "            google.colab.kernel.invokeFunction('notebook.captureFrame', [dataURL], {});\n",
              "        }\n",
              "        getFrame();\n",
              "    "
            ]
          },
          "metadata": {}
        },
        {
          "output_type": "display_data",
          "data": {
            "text/plain": [
              "<IPython.core.display.Javascript object>"
            ],
            "application/javascript": [
              "\n",
              "        async function getFrame() {\n",
              "            let canvas = document.createElement('canvas');\n",
              "            let video = window.videoElement;\n",
              "            canvas.width = video.videoWidth;\n",
              "            canvas.height = video.videoHeight;\n",
              "            let context = canvas.getContext('2d');\n",
              "            context.drawImage(video, 0, 0, canvas.width, canvas.height);\n",
              "            const dataURL = canvas.toDataURL('image/jpeg');\n",
              "            google.colab.kernel.invokeFunction('notebook.captureFrame', [dataURL], {});\n",
              "        }\n",
              "        getFrame();\n",
              "    "
            ]
          },
          "metadata": {}
        },
        {
          "output_type": "display_data",
          "data": {
            "text/plain": [
              "<IPython.core.display.Javascript object>"
            ],
            "application/javascript": [
              "\n",
              "        async function getFrame() {\n",
              "            let canvas = document.createElement('canvas');\n",
              "            let video = window.videoElement;\n",
              "            canvas.width = video.videoWidth;\n",
              "            canvas.height = video.videoHeight;\n",
              "            let context = canvas.getContext('2d');\n",
              "            context.drawImage(video, 0, 0, canvas.width, canvas.height);\n",
              "            const dataURL = canvas.toDataURL('image/jpeg');\n",
              "            google.colab.kernel.invokeFunction('notebook.captureFrame', [dataURL], {});\n",
              "        }\n",
              "        getFrame();\n",
              "    "
            ]
          },
          "metadata": {}
        },
        {
          "output_type": "display_data",
          "data": {
            "text/plain": [
              "<IPython.core.display.Javascript object>"
            ],
            "application/javascript": [
              "\n",
              "        async function getFrame() {\n",
              "            let canvas = document.createElement('canvas');\n",
              "            let video = window.videoElement;\n",
              "            canvas.width = video.videoWidth;\n",
              "            canvas.height = video.videoHeight;\n",
              "            let context = canvas.getContext('2d');\n",
              "            context.drawImage(video, 0, 0, canvas.width, canvas.height);\n",
              "            const dataURL = canvas.toDataURL('image/jpeg');\n",
              "            google.colab.kernel.invokeFunction('notebook.captureFrame', [dataURL], {});\n",
              "        }\n",
              "        getFrame();\n",
              "    "
            ]
          },
          "metadata": {}
        },
        {
          "output_type": "display_data",
          "data": {
            "text/plain": [
              "<IPython.core.display.Javascript object>"
            ],
            "application/javascript": [
              "\n",
              "        async function getFrame() {\n",
              "            let canvas = document.createElement('canvas');\n",
              "            let video = window.videoElement;\n",
              "            canvas.width = video.videoWidth;\n",
              "            canvas.height = video.videoHeight;\n",
              "            let context = canvas.getContext('2d');\n",
              "            context.drawImage(video, 0, 0, canvas.width, canvas.height);\n",
              "            const dataURL = canvas.toDataURL('image/jpeg');\n",
              "            google.colab.kernel.invokeFunction('notebook.captureFrame', [dataURL], {});\n",
              "        }\n",
              "        getFrame();\n",
              "    "
            ]
          },
          "metadata": {}
        },
        {
          "output_type": "display_data",
          "data": {
            "text/plain": [
              "<IPython.core.display.Javascript object>"
            ],
            "application/javascript": [
              "\n",
              "        async function getFrame() {\n",
              "            let canvas = document.createElement('canvas');\n",
              "            let video = window.videoElement;\n",
              "            canvas.width = video.videoWidth;\n",
              "            canvas.height = video.videoHeight;\n",
              "            let context = canvas.getContext('2d');\n",
              "            context.drawImage(video, 0, 0, canvas.width, canvas.height);\n",
              "            const dataURL = canvas.toDataURL('image/jpeg');\n",
              "            google.colab.kernel.invokeFunction('notebook.captureFrame', [dataURL], {});\n",
              "        }\n",
              "        getFrame();\n",
              "    "
            ]
          },
          "metadata": {}
        },
        {
          "output_type": "display_data",
          "data": {
            "text/plain": [
              "<IPython.core.display.Javascript object>"
            ],
            "application/javascript": [
              "\n",
              "        async function getFrame() {\n",
              "            let canvas = document.createElement('canvas');\n",
              "            let video = window.videoElement;\n",
              "            canvas.width = video.videoWidth;\n",
              "            canvas.height = video.videoHeight;\n",
              "            let context = canvas.getContext('2d');\n",
              "            context.drawImage(video, 0, 0, canvas.width, canvas.height);\n",
              "            const dataURL = canvas.toDataURL('image/jpeg');\n",
              "            google.colab.kernel.invokeFunction('notebook.captureFrame', [dataURL], {});\n",
              "        }\n",
              "        getFrame();\n",
              "    "
            ]
          },
          "metadata": {}
        },
        {
          "output_type": "display_data",
          "data": {
            "text/plain": [
              "<IPython.core.display.Javascript object>"
            ],
            "application/javascript": [
              "\n",
              "        async function getFrame() {\n",
              "            let canvas = document.createElement('canvas');\n",
              "            let video = window.videoElement;\n",
              "            canvas.width = video.videoWidth;\n",
              "            canvas.height = video.videoHeight;\n",
              "            let context = canvas.getContext('2d');\n",
              "            context.drawImage(video, 0, 0, canvas.width, canvas.height);\n",
              "            const dataURL = canvas.toDataURL('image/jpeg');\n",
              "            google.colab.kernel.invokeFunction('notebook.captureFrame', [dataURL], {});\n",
              "        }\n",
              "        getFrame();\n",
              "    "
            ]
          },
          "metadata": {}
        },
        {
          "output_type": "display_data",
          "data": {
            "text/plain": [
              "<IPython.core.display.Javascript object>"
            ],
            "application/javascript": [
              "\n",
              "        async function getFrame() {\n",
              "            let canvas = document.createElement('canvas');\n",
              "            let video = window.videoElement;\n",
              "            canvas.width = video.videoWidth;\n",
              "            canvas.height = video.videoHeight;\n",
              "            let context = canvas.getContext('2d');\n",
              "            context.drawImage(video, 0, 0, canvas.width, canvas.height);\n",
              "            const dataURL = canvas.toDataURL('image/jpeg');\n",
              "            google.colab.kernel.invokeFunction('notebook.captureFrame', [dataURL], {});\n",
              "        }\n",
              "        getFrame();\n",
              "    "
            ]
          },
          "metadata": {}
        },
        {
          "output_type": "display_data",
          "data": {
            "text/plain": [
              "<IPython.core.display.Javascript object>"
            ],
            "application/javascript": [
              "\n",
              "        async function getFrame() {\n",
              "            let canvas = document.createElement('canvas');\n",
              "            let video = window.videoElement;\n",
              "            canvas.width = video.videoWidth;\n",
              "            canvas.height = video.videoHeight;\n",
              "            let context = canvas.getContext('2d');\n",
              "            context.drawImage(video, 0, 0, canvas.width, canvas.height);\n",
              "            const dataURL = canvas.toDataURL('image/jpeg');\n",
              "            google.colab.kernel.invokeFunction('notebook.captureFrame', [dataURL], {});\n",
              "        }\n",
              "        getFrame();\n",
              "    "
            ]
          },
          "metadata": {}
        },
        {
          "output_type": "display_data",
          "data": {
            "text/plain": [
              "<IPython.core.display.Javascript object>"
            ],
            "application/javascript": [
              "\n",
              "        async function getFrame() {\n",
              "            let canvas = document.createElement('canvas');\n",
              "            let video = window.videoElement;\n",
              "            canvas.width = video.videoWidth;\n",
              "            canvas.height = video.videoHeight;\n",
              "            let context = canvas.getContext('2d');\n",
              "            context.drawImage(video, 0, 0, canvas.width, canvas.height);\n",
              "            const dataURL = canvas.toDataURL('image/jpeg');\n",
              "            google.colab.kernel.invokeFunction('notebook.captureFrame', [dataURL], {});\n",
              "        }\n",
              "        getFrame();\n",
              "    "
            ]
          },
          "metadata": {}
        },
        {
          "output_type": "display_data",
          "data": {
            "text/plain": [
              "<IPython.core.display.Javascript object>"
            ],
            "application/javascript": [
              "\n",
              "        async function getFrame() {\n",
              "            let canvas = document.createElement('canvas');\n",
              "            let video = window.videoElement;\n",
              "            canvas.width = video.videoWidth;\n",
              "            canvas.height = video.videoHeight;\n",
              "            let context = canvas.getContext('2d');\n",
              "            context.drawImage(video, 0, 0, canvas.width, canvas.height);\n",
              "            const dataURL = canvas.toDataURL('image/jpeg');\n",
              "            google.colab.kernel.invokeFunction('notebook.captureFrame', [dataURL], {});\n",
              "        }\n",
              "        getFrame();\n",
              "    "
            ]
          },
          "metadata": {}
        },
        {
          "output_type": "display_data",
          "data": {
            "text/plain": [
              "<IPython.core.display.Javascript object>"
            ],
            "application/javascript": [
              "\n",
              "        async function getFrame() {\n",
              "            let canvas = document.createElement('canvas');\n",
              "            let video = window.videoElement;\n",
              "            canvas.width = video.videoWidth;\n",
              "            canvas.height = video.videoHeight;\n",
              "            let context = canvas.getContext('2d');\n",
              "            context.drawImage(video, 0, 0, canvas.width, canvas.height);\n",
              "            const dataURL = canvas.toDataURL('image/jpeg');\n",
              "            google.colab.kernel.invokeFunction('notebook.captureFrame', [dataURL], {});\n",
              "        }\n",
              "        getFrame();\n",
              "    "
            ]
          },
          "metadata": {}
        },
        {
          "output_type": "display_data",
          "data": {
            "text/plain": [
              "<IPython.core.display.Javascript object>"
            ],
            "application/javascript": [
              "\n",
              "        async function getFrame() {\n",
              "            let canvas = document.createElement('canvas');\n",
              "            let video = window.videoElement;\n",
              "            canvas.width = video.videoWidth;\n",
              "            canvas.height = video.videoHeight;\n",
              "            let context = canvas.getContext('2d');\n",
              "            context.drawImage(video, 0, 0, canvas.width, canvas.height);\n",
              "            const dataURL = canvas.toDataURL('image/jpeg');\n",
              "            google.colab.kernel.invokeFunction('notebook.captureFrame', [dataURL], {});\n",
              "        }\n",
              "        getFrame();\n",
              "    "
            ]
          },
          "metadata": {}
        },
        {
          "output_type": "display_data",
          "data": {
            "text/plain": [
              "<IPython.core.display.Javascript object>"
            ],
            "application/javascript": [
              "\n",
              "        async function getFrame() {\n",
              "            let canvas = document.createElement('canvas');\n",
              "            let video = window.videoElement;\n",
              "            canvas.width = video.videoWidth;\n",
              "            canvas.height = video.videoHeight;\n",
              "            let context = canvas.getContext('2d');\n",
              "            context.drawImage(video, 0, 0, canvas.width, canvas.height);\n",
              "            const dataURL = canvas.toDataURL('image/jpeg');\n",
              "            google.colab.kernel.invokeFunction('notebook.captureFrame', [dataURL], {});\n",
              "        }\n",
              "        getFrame();\n",
              "    "
            ]
          },
          "metadata": {}
        },
        {
          "output_type": "display_data",
          "data": {
            "text/plain": [
              "<IPython.core.display.Javascript object>"
            ],
            "application/javascript": [
              "\n",
              "        async function getFrame() {\n",
              "            let canvas = document.createElement('canvas');\n",
              "            let video = window.videoElement;\n",
              "            canvas.width = video.videoWidth;\n",
              "            canvas.height = video.videoHeight;\n",
              "            let context = canvas.getContext('2d');\n",
              "            context.drawImage(video, 0, 0, canvas.width, canvas.height);\n",
              "            const dataURL = canvas.toDataURL('image/jpeg');\n",
              "            google.colab.kernel.invokeFunction('notebook.captureFrame', [dataURL], {});\n",
              "        }\n",
              "        getFrame();\n",
              "    "
            ]
          },
          "metadata": {}
        },
        {
          "output_type": "display_data",
          "data": {
            "text/plain": [
              "<IPython.core.display.Javascript object>"
            ],
            "application/javascript": [
              "\n",
              "        async function getFrame() {\n",
              "            let canvas = document.createElement('canvas');\n",
              "            let video = window.videoElement;\n",
              "            canvas.width = video.videoWidth;\n",
              "            canvas.height = video.videoHeight;\n",
              "            let context = canvas.getContext('2d');\n",
              "            context.drawImage(video, 0, 0, canvas.width, canvas.height);\n",
              "            const dataURL = canvas.toDataURL('image/jpeg');\n",
              "            google.colab.kernel.invokeFunction('notebook.captureFrame', [dataURL], {});\n",
              "        }\n",
              "        getFrame();\n",
              "    "
            ]
          },
          "metadata": {}
        },
        {
          "output_type": "display_data",
          "data": {
            "text/plain": [
              "<IPython.core.display.Javascript object>"
            ],
            "application/javascript": [
              "\n",
              "        async function getFrame() {\n",
              "            let canvas = document.createElement('canvas');\n",
              "            let video = window.videoElement;\n",
              "            canvas.width = video.videoWidth;\n",
              "            canvas.height = video.videoHeight;\n",
              "            let context = canvas.getContext('2d');\n",
              "            context.drawImage(video, 0, 0, canvas.width, canvas.height);\n",
              "            const dataURL = canvas.toDataURL('image/jpeg');\n",
              "            google.colab.kernel.invokeFunction('notebook.captureFrame', [dataURL], {});\n",
              "        }\n",
              "        getFrame();\n",
              "    "
            ]
          },
          "metadata": {}
        },
        {
          "output_type": "display_data",
          "data": {
            "text/plain": [
              "<IPython.core.display.Javascript object>"
            ],
            "application/javascript": [
              "\n",
              "        async function getFrame() {\n",
              "            let canvas = document.createElement('canvas');\n",
              "            let video = window.videoElement;\n",
              "            canvas.width = video.videoWidth;\n",
              "            canvas.height = video.videoHeight;\n",
              "            let context = canvas.getContext('2d');\n",
              "            context.drawImage(video, 0, 0, canvas.width, canvas.height);\n",
              "            const dataURL = canvas.toDataURL('image/jpeg');\n",
              "            google.colab.kernel.invokeFunction('notebook.captureFrame', [dataURL], {});\n",
              "        }\n",
              "        getFrame();\n",
              "    "
            ]
          },
          "metadata": {}
        },
        {
          "output_type": "display_data",
          "data": {
            "text/plain": [
              "<IPython.core.display.Javascript object>"
            ],
            "application/javascript": [
              "\n",
              "        async function getFrame() {\n",
              "            let canvas = document.createElement('canvas');\n",
              "            let video = window.videoElement;\n",
              "            canvas.width = video.videoWidth;\n",
              "            canvas.height = video.videoHeight;\n",
              "            let context = canvas.getContext('2d');\n",
              "            context.drawImage(video, 0, 0, canvas.width, canvas.height);\n",
              "            const dataURL = canvas.toDataURL('image/jpeg');\n",
              "            google.colab.kernel.invokeFunction('notebook.captureFrame', [dataURL], {});\n",
              "        }\n",
              "        getFrame();\n",
              "    "
            ]
          },
          "metadata": {}
        },
        {
          "output_type": "display_data",
          "data": {
            "text/plain": [
              "<IPython.core.display.Javascript object>"
            ],
            "application/javascript": [
              "\n",
              "        async function getFrame() {\n",
              "            let canvas = document.createElement('canvas');\n",
              "            let video = window.videoElement;\n",
              "            canvas.width = video.videoWidth;\n",
              "            canvas.height = video.videoHeight;\n",
              "            let context = canvas.getContext('2d');\n",
              "            context.drawImage(video, 0, 0, canvas.width, canvas.height);\n",
              "            const dataURL = canvas.toDataURL('image/jpeg');\n",
              "            google.colab.kernel.invokeFunction('notebook.captureFrame', [dataURL], {});\n",
              "        }\n",
              "        getFrame();\n",
              "    "
            ]
          },
          "metadata": {}
        },
        {
          "output_type": "display_data",
          "data": {
            "text/plain": [
              "<IPython.core.display.Javascript object>"
            ],
            "application/javascript": [
              "\n",
              "        async function getFrame() {\n",
              "            let canvas = document.createElement('canvas');\n",
              "            let video = window.videoElement;\n",
              "            canvas.width = video.videoWidth;\n",
              "            canvas.height = video.videoHeight;\n",
              "            let context = canvas.getContext('2d');\n",
              "            context.drawImage(video, 0, 0, canvas.width, canvas.height);\n",
              "            const dataURL = canvas.toDataURL('image/jpeg');\n",
              "            google.colab.kernel.invokeFunction('notebook.captureFrame', [dataURL], {});\n",
              "        }\n",
              "        getFrame();\n",
              "    "
            ]
          },
          "metadata": {}
        },
        {
          "output_type": "display_data",
          "data": {
            "text/plain": [
              "<IPython.core.display.Javascript object>"
            ],
            "application/javascript": [
              "\n",
              "        async function getFrame() {\n",
              "            let canvas = document.createElement('canvas');\n",
              "            let video = window.videoElement;\n",
              "            canvas.width = video.videoWidth;\n",
              "            canvas.height = video.videoHeight;\n",
              "            let context = canvas.getContext('2d');\n",
              "            context.drawImage(video, 0, 0, canvas.width, canvas.height);\n",
              "            const dataURL = canvas.toDataURL('image/jpeg');\n",
              "            google.colab.kernel.invokeFunction('notebook.captureFrame', [dataURL], {});\n",
              "        }\n",
              "        getFrame();\n",
              "    "
            ]
          },
          "metadata": {}
        },
        {
          "output_type": "display_data",
          "data": {
            "text/plain": [
              "<IPython.core.display.Javascript object>"
            ],
            "application/javascript": [
              "\n",
              "        async function getFrame() {\n",
              "            let canvas = document.createElement('canvas');\n",
              "            let video = window.videoElement;\n",
              "            canvas.width = video.videoWidth;\n",
              "            canvas.height = video.videoHeight;\n",
              "            let context = canvas.getContext('2d');\n",
              "            context.drawImage(video, 0, 0, canvas.width, canvas.height);\n",
              "            const dataURL = canvas.toDataURL('image/jpeg');\n",
              "            google.colab.kernel.invokeFunction('notebook.captureFrame', [dataURL], {});\n",
              "        }\n",
              "        getFrame();\n",
              "    "
            ]
          },
          "metadata": {}
        },
        {
          "output_type": "display_data",
          "data": {
            "text/plain": [
              "<IPython.core.display.Javascript object>"
            ],
            "application/javascript": [
              "\n",
              "        async function getFrame() {\n",
              "            let canvas = document.createElement('canvas');\n",
              "            let video = window.videoElement;\n",
              "            canvas.width = video.videoWidth;\n",
              "            canvas.height = video.videoHeight;\n",
              "            let context = canvas.getContext('2d');\n",
              "            context.drawImage(video, 0, 0, canvas.width, canvas.height);\n",
              "            const dataURL = canvas.toDataURL('image/jpeg');\n",
              "            google.colab.kernel.invokeFunction('notebook.captureFrame', [dataURL], {});\n",
              "        }\n",
              "        getFrame();\n",
              "    "
            ]
          },
          "metadata": {}
        },
        {
          "output_type": "display_data",
          "data": {
            "text/plain": [
              "<IPython.core.display.Javascript object>"
            ],
            "application/javascript": [
              "\n",
              "        async function getFrame() {\n",
              "            let canvas = document.createElement('canvas');\n",
              "            let video = window.videoElement;\n",
              "            canvas.width = video.videoWidth;\n",
              "            canvas.height = video.videoHeight;\n",
              "            let context = canvas.getContext('2d');\n",
              "            context.drawImage(video, 0, 0, canvas.width, canvas.height);\n",
              "            const dataURL = canvas.toDataURL('image/jpeg');\n",
              "            google.colab.kernel.invokeFunction('notebook.captureFrame', [dataURL], {});\n",
              "        }\n",
              "        getFrame();\n",
              "    "
            ]
          },
          "metadata": {}
        },
        {
          "output_type": "display_data",
          "data": {
            "text/plain": [
              "<IPython.core.display.Javascript object>"
            ],
            "application/javascript": [
              "\n",
              "        async function getFrame() {\n",
              "            let canvas = document.createElement('canvas');\n",
              "            let video = window.videoElement;\n",
              "            canvas.width = video.videoWidth;\n",
              "            canvas.height = video.videoHeight;\n",
              "            let context = canvas.getContext('2d');\n",
              "            context.drawImage(video, 0, 0, canvas.width, canvas.height);\n",
              "            const dataURL = canvas.toDataURL('image/jpeg');\n",
              "            google.colab.kernel.invokeFunction('notebook.captureFrame', [dataURL], {});\n",
              "        }\n",
              "        getFrame();\n",
              "    "
            ]
          },
          "metadata": {}
        },
        {
          "output_type": "display_data",
          "data": {
            "text/plain": [
              "<IPython.core.display.Javascript object>"
            ],
            "application/javascript": [
              "\n",
              "        async function getFrame() {\n",
              "            let canvas = document.createElement('canvas');\n",
              "            let video = window.videoElement;\n",
              "            canvas.width = video.videoWidth;\n",
              "            canvas.height = video.videoHeight;\n",
              "            let context = canvas.getContext('2d');\n",
              "            context.drawImage(video, 0, 0, canvas.width, canvas.height);\n",
              "            const dataURL = canvas.toDataURL('image/jpeg');\n",
              "            google.colab.kernel.invokeFunction('notebook.captureFrame', [dataURL], {});\n",
              "        }\n",
              "        getFrame();\n",
              "    "
            ]
          },
          "metadata": {}
        },
        {
          "output_type": "display_data",
          "data": {
            "text/plain": [
              "<IPython.core.display.Javascript object>"
            ],
            "application/javascript": [
              "\n",
              "        async function getFrame() {\n",
              "            let canvas = document.createElement('canvas');\n",
              "            let video = window.videoElement;\n",
              "            canvas.width = video.videoWidth;\n",
              "            canvas.height = video.videoHeight;\n",
              "            let context = canvas.getContext('2d');\n",
              "            context.drawImage(video, 0, 0, canvas.width, canvas.height);\n",
              "            const dataURL = canvas.toDataURL('image/jpeg');\n",
              "            google.colab.kernel.invokeFunction('notebook.captureFrame', [dataURL], {});\n",
              "        }\n",
              "        getFrame();\n",
              "    "
            ]
          },
          "metadata": {}
        },
        {
          "output_type": "display_data",
          "data": {
            "text/plain": [
              "<IPython.core.display.Javascript object>"
            ],
            "application/javascript": [
              "\n",
              "        async function getFrame() {\n",
              "            let canvas = document.createElement('canvas');\n",
              "            let video = window.videoElement;\n",
              "            canvas.width = video.videoWidth;\n",
              "            canvas.height = video.videoHeight;\n",
              "            let context = canvas.getContext('2d');\n",
              "            context.drawImage(video, 0, 0, canvas.width, canvas.height);\n",
              "            const dataURL = canvas.toDataURL('image/jpeg');\n",
              "            google.colab.kernel.invokeFunction('notebook.captureFrame', [dataURL], {});\n",
              "        }\n",
              "        getFrame();\n",
              "    "
            ]
          },
          "metadata": {}
        },
        {
          "output_type": "display_data",
          "data": {
            "text/plain": [
              "<IPython.core.display.Javascript object>"
            ],
            "application/javascript": [
              "\n",
              "        async function getFrame() {\n",
              "            let canvas = document.createElement('canvas');\n",
              "            let video = window.videoElement;\n",
              "            canvas.width = video.videoWidth;\n",
              "            canvas.height = video.videoHeight;\n",
              "            let context = canvas.getContext('2d');\n",
              "            context.drawImage(video, 0, 0, canvas.width, canvas.height);\n",
              "            const dataURL = canvas.toDataURL('image/jpeg');\n",
              "            google.colab.kernel.invokeFunction('notebook.captureFrame', [dataURL], {});\n",
              "        }\n",
              "        getFrame();\n",
              "    "
            ]
          },
          "metadata": {}
        },
        {
          "output_type": "display_data",
          "data": {
            "text/plain": [
              "<IPython.core.display.Javascript object>"
            ],
            "application/javascript": [
              "\n",
              "        async function getFrame() {\n",
              "            let canvas = document.createElement('canvas');\n",
              "            let video = window.videoElement;\n",
              "            canvas.width = video.videoWidth;\n",
              "            canvas.height = video.videoHeight;\n",
              "            let context = canvas.getContext('2d');\n",
              "            context.drawImage(video, 0, 0, canvas.width, canvas.height);\n",
              "            const dataURL = canvas.toDataURL('image/jpeg');\n",
              "            google.colab.kernel.invokeFunction('notebook.captureFrame', [dataURL], {});\n",
              "        }\n",
              "        getFrame();\n",
              "    "
            ]
          },
          "metadata": {}
        },
        {
          "output_type": "display_data",
          "data": {
            "text/plain": [
              "<IPython.core.display.Javascript object>"
            ],
            "application/javascript": [
              "\n",
              "        async function getFrame() {\n",
              "            let canvas = document.createElement('canvas');\n",
              "            let video = window.videoElement;\n",
              "            canvas.width = video.videoWidth;\n",
              "            canvas.height = video.videoHeight;\n",
              "            let context = canvas.getContext('2d');\n",
              "            context.drawImage(video, 0, 0, canvas.width, canvas.height);\n",
              "            const dataURL = canvas.toDataURL('image/jpeg');\n",
              "            google.colab.kernel.invokeFunction('notebook.captureFrame', [dataURL], {});\n",
              "        }\n",
              "        getFrame();\n",
              "    "
            ]
          },
          "metadata": {}
        },
        {
          "output_type": "display_data",
          "data": {
            "text/plain": [
              "<IPython.core.display.Javascript object>"
            ],
            "application/javascript": [
              "\n",
              "        async function getFrame() {\n",
              "            let canvas = document.createElement('canvas');\n",
              "            let video = window.videoElement;\n",
              "            canvas.width = video.videoWidth;\n",
              "            canvas.height = video.videoHeight;\n",
              "            let context = canvas.getContext('2d');\n",
              "            context.drawImage(video, 0, 0, canvas.width, canvas.height);\n",
              "            const dataURL = canvas.toDataURL('image/jpeg');\n",
              "            google.colab.kernel.invokeFunction('notebook.captureFrame', [dataURL], {});\n",
              "        }\n",
              "        getFrame();\n",
              "    "
            ]
          },
          "metadata": {}
        },
        {
          "output_type": "display_data",
          "data": {
            "text/plain": [
              "<IPython.core.display.Javascript object>"
            ],
            "application/javascript": [
              "\n",
              "        async function getFrame() {\n",
              "            let canvas = document.createElement('canvas');\n",
              "            let video = window.videoElement;\n",
              "            canvas.width = video.videoWidth;\n",
              "            canvas.height = video.videoHeight;\n",
              "            let context = canvas.getContext('2d');\n",
              "            context.drawImage(video, 0, 0, canvas.width, canvas.height);\n",
              "            const dataURL = canvas.toDataURL('image/jpeg');\n",
              "            google.colab.kernel.invokeFunction('notebook.captureFrame', [dataURL], {});\n",
              "        }\n",
              "        getFrame();\n",
              "    "
            ]
          },
          "metadata": {}
        },
        {
          "output_type": "display_data",
          "data": {
            "text/plain": [
              "<IPython.core.display.Javascript object>"
            ],
            "application/javascript": [
              "\n",
              "        async function getFrame() {\n",
              "            let canvas = document.createElement('canvas');\n",
              "            let video = window.videoElement;\n",
              "            canvas.width = video.videoWidth;\n",
              "            canvas.height = video.videoHeight;\n",
              "            let context = canvas.getContext('2d');\n",
              "            context.drawImage(video, 0, 0, canvas.width, canvas.height);\n",
              "            const dataURL = canvas.toDataURL('image/jpeg');\n",
              "            google.colab.kernel.invokeFunction('notebook.captureFrame', [dataURL], {});\n",
              "        }\n",
              "        getFrame();\n",
              "    "
            ]
          },
          "metadata": {}
        },
        {
          "output_type": "display_data",
          "data": {
            "text/plain": [
              "<IPython.core.display.Javascript object>"
            ],
            "application/javascript": [
              "\n",
              "        async function getFrame() {\n",
              "            let canvas = document.createElement('canvas');\n",
              "            let video = window.videoElement;\n",
              "            canvas.width = video.videoWidth;\n",
              "            canvas.height = video.videoHeight;\n",
              "            let context = canvas.getContext('2d');\n",
              "            context.drawImage(video, 0, 0, canvas.width, canvas.height);\n",
              "            const dataURL = canvas.toDataURL('image/jpeg');\n",
              "            google.colab.kernel.invokeFunction('notebook.captureFrame', [dataURL], {});\n",
              "        }\n",
              "        getFrame();\n",
              "    "
            ]
          },
          "metadata": {}
        },
        {
          "output_type": "display_data",
          "data": {
            "text/plain": [
              "<IPython.core.display.Javascript object>"
            ],
            "application/javascript": [
              "\n",
              "        async function getFrame() {\n",
              "            let canvas = document.createElement('canvas');\n",
              "            let video = window.videoElement;\n",
              "            canvas.width = video.videoWidth;\n",
              "            canvas.height = video.videoHeight;\n",
              "            let context = canvas.getContext('2d');\n",
              "            context.drawImage(video, 0, 0, canvas.width, canvas.height);\n",
              "            const dataURL = canvas.toDataURL('image/jpeg');\n",
              "            google.colab.kernel.invokeFunction('notebook.captureFrame', [dataURL], {});\n",
              "        }\n",
              "        getFrame();\n",
              "    "
            ]
          },
          "metadata": {}
        },
        {
          "output_type": "display_data",
          "data": {
            "text/plain": [
              "<IPython.core.display.Javascript object>"
            ],
            "application/javascript": [
              "\n",
              "        async function getFrame() {\n",
              "            let canvas = document.createElement('canvas');\n",
              "            let video = window.videoElement;\n",
              "            canvas.width = video.videoWidth;\n",
              "            canvas.height = video.videoHeight;\n",
              "            let context = canvas.getContext('2d');\n",
              "            context.drawImage(video, 0, 0, canvas.width, canvas.height);\n",
              "            const dataURL = canvas.toDataURL('image/jpeg');\n",
              "            google.colab.kernel.invokeFunction('notebook.captureFrame', [dataURL], {});\n",
              "        }\n",
              "        getFrame();\n",
              "    "
            ]
          },
          "metadata": {}
        },
        {
          "output_type": "display_data",
          "data": {
            "text/plain": [
              "<IPython.core.display.Javascript object>"
            ],
            "application/javascript": [
              "\n",
              "        async function getFrame() {\n",
              "            let canvas = document.createElement('canvas');\n",
              "            let video = window.videoElement;\n",
              "            canvas.width = video.videoWidth;\n",
              "            canvas.height = video.videoHeight;\n",
              "            let context = canvas.getContext('2d');\n",
              "            context.drawImage(video, 0, 0, canvas.width, canvas.height);\n",
              "            const dataURL = canvas.toDataURL('image/jpeg');\n",
              "            google.colab.kernel.invokeFunction('notebook.captureFrame', [dataURL], {});\n",
              "        }\n",
              "        getFrame();\n",
              "    "
            ]
          },
          "metadata": {}
        },
        {
          "output_type": "display_data",
          "data": {
            "text/plain": [
              "<IPython.core.display.Javascript object>"
            ],
            "application/javascript": [
              "\n",
              "        async function getFrame() {\n",
              "            let canvas = document.createElement('canvas');\n",
              "            let video = window.videoElement;\n",
              "            canvas.width = video.videoWidth;\n",
              "            canvas.height = video.videoHeight;\n",
              "            let context = canvas.getContext('2d');\n",
              "            context.drawImage(video, 0, 0, canvas.width, canvas.height);\n",
              "            const dataURL = canvas.toDataURL('image/jpeg');\n",
              "            google.colab.kernel.invokeFunction('notebook.captureFrame', [dataURL], {});\n",
              "        }\n",
              "        getFrame();\n",
              "    "
            ]
          },
          "metadata": {}
        },
        {
          "output_type": "display_data",
          "data": {
            "text/plain": [
              "<IPython.core.display.Javascript object>"
            ],
            "application/javascript": [
              "\n",
              "        async function getFrame() {\n",
              "            let canvas = document.createElement('canvas');\n",
              "            let video = window.videoElement;\n",
              "            canvas.width = video.videoWidth;\n",
              "            canvas.height = video.videoHeight;\n",
              "            let context = canvas.getContext('2d');\n",
              "            context.drawImage(video, 0, 0, canvas.width, canvas.height);\n",
              "            const dataURL = canvas.toDataURL('image/jpeg');\n",
              "            google.colab.kernel.invokeFunction('notebook.captureFrame', [dataURL], {});\n",
              "        }\n",
              "        getFrame();\n",
              "    "
            ]
          },
          "metadata": {}
        },
        {
          "output_type": "display_data",
          "data": {
            "text/plain": [
              "<IPython.core.display.Javascript object>"
            ],
            "application/javascript": [
              "\n",
              "        async function getFrame() {\n",
              "            let canvas = document.createElement('canvas');\n",
              "            let video = window.videoElement;\n",
              "            canvas.width = video.videoWidth;\n",
              "            canvas.height = video.videoHeight;\n",
              "            let context = canvas.getContext('2d');\n",
              "            context.drawImage(video, 0, 0, canvas.width, canvas.height);\n",
              "            const dataURL = canvas.toDataURL('image/jpeg');\n",
              "            google.colab.kernel.invokeFunction('notebook.captureFrame', [dataURL], {});\n",
              "        }\n",
              "        getFrame();\n",
              "    "
            ]
          },
          "metadata": {}
        },
        {
          "output_type": "display_data",
          "data": {
            "text/plain": [
              "<IPython.core.display.Javascript object>"
            ],
            "application/javascript": [
              "\n",
              "        async function getFrame() {\n",
              "            let canvas = document.createElement('canvas');\n",
              "            let video = window.videoElement;\n",
              "            canvas.width = video.videoWidth;\n",
              "            canvas.height = video.videoHeight;\n",
              "            let context = canvas.getContext('2d');\n",
              "            context.drawImage(video, 0, 0, canvas.width, canvas.height);\n",
              "            const dataURL = canvas.toDataURL('image/jpeg');\n",
              "            google.colab.kernel.invokeFunction('notebook.captureFrame', [dataURL], {});\n",
              "        }\n",
              "        getFrame();\n",
              "    "
            ]
          },
          "metadata": {}
        },
        {
          "output_type": "display_data",
          "data": {
            "text/plain": [
              "<IPython.core.display.Javascript object>"
            ],
            "application/javascript": [
              "\n",
              "        async function getFrame() {\n",
              "            let canvas = document.createElement('canvas');\n",
              "            let video = window.videoElement;\n",
              "            canvas.width = video.videoWidth;\n",
              "            canvas.height = video.videoHeight;\n",
              "            let context = canvas.getContext('2d');\n",
              "            context.drawImage(video, 0, 0, canvas.width, canvas.height);\n",
              "            const dataURL = canvas.toDataURL('image/jpeg');\n",
              "            google.colab.kernel.invokeFunction('notebook.captureFrame', [dataURL], {});\n",
              "        }\n",
              "        getFrame();\n",
              "    "
            ]
          },
          "metadata": {}
        },
        {
          "output_type": "display_data",
          "data": {
            "text/plain": [
              "<IPython.core.display.Javascript object>"
            ],
            "application/javascript": [
              "\n",
              "        async function getFrame() {\n",
              "            let canvas = document.createElement('canvas');\n",
              "            let video = window.videoElement;\n",
              "            canvas.width = video.videoWidth;\n",
              "            canvas.height = video.videoHeight;\n",
              "            let context = canvas.getContext('2d');\n",
              "            context.drawImage(video, 0, 0, canvas.width, canvas.height);\n",
              "            const dataURL = canvas.toDataURL('image/jpeg');\n",
              "            google.colab.kernel.invokeFunction('notebook.captureFrame', [dataURL], {});\n",
              "        }\n",
              "        getFrame();\n",
              "    "
            ]
          },
          "metadata": {}
        },
        {
          "output_type": "display_data",
          "data": {
            "text/plain": [
              "<IPython.core.display.Javascript object>"
            ],
            "application/javascript": [
              "\n",
              "        async function getFrame() {\n",
              "            let canvas = document.createElement('canvas');\n",
              "            let video = window.videoElement;\n",
              "            canvas.width = video.videoWidth;\n",
              "            canvas.height = video.videoHeight;\n",
              "            let context = canvas.getContext('2d');\n",
              "            context.drawImage(video, 0, 0, canvas.width, canvas.height);\n",
              "            const dataURL = canvas.toDataURL('image/jpeg');\n",
              "            google.colab.kernel.invokeFunction('notebook.captureFrame', [dataURL], {});\n",
              "        }\n",
              "        getFrame();\n",
              "    "
            ]
          },
          "metadata": {}
        },
        {
          "output_type": "display_data",
          "data": {
            "text/plain": [
              "<IPython.core.display.Javascript object>"
            ],
            "application/javascript": [
              "\n",
              "        async function getFrame() {\n",
              "            let canvas = document.createElement('canvas');\n",
              "            let video = window.videoElement;\n",
              "            canvas.width = video.videoWidth;\n",
              "            canvas.height = video.videoHeight;\n",
              "            let context = canvas.getContext('2d');\n",
              "            context.drawImage(video, 0, 0, canvas.width, canvas.height);\n",
              "            const dataURL = canvas.toDataURL('image/jpeg');\n",
              "            google.colab.kernel.invokeFunction('notebook.captureFrame', [dataURL], {});\n",
              "        }\n",
              "        getFrame();\n",
              "    "
            ]
          },
          "metadata": {}
        },
        {
          "output_type": "display_data",
          "data": {
            "text/plain": [
              "<IPython.core.display.Javascript object>"
            ],
            "application/javascript": [
              "\n",
              "        async function getFrame() {\n",
              "            let canvas = document.createElement('canvas');\n",
              "            let video = window.videoElement;\n",
              "            canvas.width = video.videoWidth;\n",
              "            canvas.height = video.videoHeight;\n",
              "            let context = canvas.getContext('2d');\n",
              "            context.drawImage(video, 0, 0, canvas.width, canvas.height);\n",
              "            const dataURL = canvas.toDataURL('image/jpeg');\n",
              "            google.colab.kernel.invokeFunction('notebook.captureFrame', [dataURL], {});\n",
              "        }\n",
              "        getFrame();\n",
              "    "
            ]
          },
          "metadata": {}
        },
        {
          "output_type": "display_data",
          "data": {
            "text/plain": [
              "<IPython.core.display.Javascript object>"
            ],
            "application/javascript": [
              "\n",
              "        async function getFrame() {\n",
              "            let canvas = document.createElement('canvas');\n",
              "            let video = window.videoElement;\n",
              "            canvas.width = video.videoWidth;\n",
              "            canvas.height = video.videoHeight;\n",
              "            let context = canvas.getContext('2d');\n",
              "            context.drawImage(video, 0, 0, canvas.width, canvas.height);\n",
              "            const dataURL = canvas.toDataURL('image/jpeg');\n",
              "            google.colab.kernel.invokeFunction('notebook.captureFrame', [dataURL], {});\n",
              "        }\n",
              "        getFrame();\n",
              "    "
            ]
          },
          "metadata": {}
        },
        {
          "output_type": "display_data",
          "data": {
            "text/plain": [
              "<IPython.core.display.Javascript object>"
            ],
            "application/javascript": [
              "\n",
              "        async function getFrame() {\n",
              "            let canvas = document.createElement('canvas');\n",
              "            let video = window.videoElement;\n",
              "            canvas.width = video.videoWidth;\n",
              "            canvas.height = video.videoHeight;\n",
              "            let context = canvas.getContext('2d');\n",
              "            context.drawImage(video, 0, 0, canvas.width, canvas.height);\n",
              "            const dataURL = canvas.toDataURL('image/jpeg');\n",
              "            google.colab.kernel.invokeFunction('notebook.captureFrame', [dataURL], {});\n",
              "        }\n",
              "        getFrame();\n",
              "    "
            ]
          },
          "metadata": {}
        },
        {
          "output_type": "display_data",
          "data": {
            "text/plain": [
              "<IPython.core.display.Javascript object>"
            ],
            "application/javascript": [
              "\n",
              "        async function getFrame() {\n",
              "            let canvas = document.createElement('canvas');\n",
              "            let video = window.videoElement;\n",
              "            canvas.width = video.videoWidth;\n",
              "            canvas.height = video.videoHeight;\n",
              "            let context = canvas.getContext('2d');\n",
              "            context.drawImage(video, 0, 0, canvas.width, canvas.height);\n",
              "            const dataURL = canvas.toDataURL('image/jpeg');\n",
              "            google.colab.kernel.invokeFunction('notebook.captureFrame', [dataURL], {});\n",
              "        }\n",
              "        getFrame();\n",
              "    "
            ]
          },
          "metadata": {}
        },
        {
          "output_type": "display_data",
          "data": {
            "text/plain": [
              "<IPython.core.display.Javascript object>"
            ],
            "application/javascript": [
              "\n",
              "        async function getFrame() {\n",
              "            let canvas = document.createElement('canvas');\n",
              "            let video = window.videoElement;\n",
              "            canvas.width = video.videoWidth;\n",
              "            canvas.height = video.videoHeight;\n",
              "            let context = canvas.getContext('2d');\n",
              "            context.drawImage(video, 0, 0, canvas.width, canvas.height);\n",
              "            const dataURL = canvas.toDataURL('image/jpeg');\n",
              "            google.colab.kernel.invokeFunction('notebook.captureFrame', [dataURL], {});\n",
              "        }\n",
              "        getFrame();\n",
              "    "
            ]
          },
          "metadata": {}
        },
        {
          "output_type": "display_data",
          "data": {
            "text/plain": [
              "<IPython.core.display.Javascript object>"
            ],
            "application/javascript": [
              "\n",
              "        async function getFrame() {\n",
              "            let canvas = document.createElement('canvas');\n",
              "            let video = window.videoElement;\n",
              "            canvas.width = video.videoWidth;\n",
              "            canvas.height = video.videoHeight;\n",
              "            let context = canvas.getContext('2d');\n",
              "            context.drawImage(video, 0, 0, canvas.width, canvas.height);\n",
              "            const dataURL = canvas.toDataURL('image/jpeg');\n",
              "            google.colab.kernel.invokeFunction('notebook.captureFrame', [dataURL], {});\n",
              "        }\n",
              "        getFrame();\n",
              "    "
            ]
          },
          "metadata": {}
        },
        {
          "output_type": "display_data",
          "data": {
            "text/plain": [
              "<IPython.core.display.Javascript object>"
            ],
            "application/javascript": [
              "\n",
              "        async function getFrame() {\n",
              "            let canvas = document.createElement('canvas');\n",
              "            let video = window.videoElement;\n",
              "            canvas.width = video.videoWidth;\n",
              "            canvas.height = video.videoHeight;\n",
              "            let context = canvas.getContext('2d');\n",
              "            context.drawImage(video, 0, 0, canvas.width, canvas.height);\n",
              "            const dataURL = canvas.toDataURL('image/jpeg');\n",
              "            google.colab.kernel.invokeFunction('notebook.captureFrame', [dataURL], {});\n",
              "        }\n",
              "        getFrame();\n",
              "    "
            ]
          },
          "metadata": {}
        },
        {
          "output_type": "display_data",
          "data": {
            "text/plain": [
              "<IPython.core.display.Javascript object>"
            ],
            "application/javascript": [
              "\n",
              "        async function getFrame() {\n",
              "            let canvas = document.createElement('canvas');\n",
              "            let video = window.videoElement;\n",
              "            canvas.width = video.videoWidth;\n",
              "            canvas.height = video.videoHeight;\n",
              "            let context = canvas.getContext('2d');\n",
              "            context.drawImage(video, 0, 0, canvas.width, canvas.height);\n",
              "            const dataURL = canvas.toDataURL('image/jpeg');\n",
              "            google.colab.kernel.invokeFunction('notebook.captureFrame', [dataURL], {});\n",
              "        }\n",
              "        getFrame();\n",
              "    "
            ]
          },
          "metadata": {}
        },
        {
          "output_type": "display_data",
          "data": {
            "text/plain": [
              "<IPython.core.display.Javascript object>"
            ],
            "application/javascript": [
              "\n",
              "        async function getFrame() {\n",
              "            let canvas = document.createElement('canvas');\n",
              "            let video = window.videoElement;\n",
              "            canvas.width = video.videoWidth;\n",
              "            canvas.height = video.videoHeight;\n",
              "            let context = canvas.getContext('2d');\n",
              "            context.drawImage(video, 0, 0, canvas.width, canvas.height);\n",
              "            const dataURL = canvas.toDataURL('image/jpeg');\n",
              "            google.colab.kernel.invokeFunction('notebook.captureFrame', [dataURL], {});\n",
              "        }\n",
              "        getFrame();\n",
              "    "
            ]
          },
          "metadata": {}
        },
        {
          "output_type": "display_data",
          "data": {
            "text/plain": [
              "<IPython.core.display.Javascript object>"
            ],
            "application/javascript": [
              "\n",
              "        async function getFrame() {\n",
              "            let canvas = document.createElement('canvas');\n",
              "            let video = window.videoElement;\n",
              "            canvas.width = video.videoWidth;\n",
              "            canvas.height = video.videoHeight;\n",
              "            let context = canvas.getContext('2d');\n",
              "            context.drawImage(video, 0, 0, canvas.width, canvas.height);\n",
              "            const dataURL = canvas.toDataURL('image/jpeg');\n",
              "            google.colab.kernel.invokeFunction('notebook.captureFrame', [dataURL], {});\n",
              "        }\n",
              "        getFrame();\n",
              "    "
            ]
          },
          "metadata": {}
        },
        {
          "output_type": "display_data",
          "data": {
            "text/plain": [
              "<IPython.core.display.Javascript object>"
            ],
            "application/javascript": [
              "\n",
              "        async function getFrame() {\n",
              "            let canvas = document.createElement('canvas');\n",
              "            let video = window.videoElement;\n",
              "            canvas.width = video.videoWidth;\n",
              "            canvas.height = video.videoHeight;\n",
              "            let context = canvas.getContext('2d');\n",
              "            context.drawImage(video, 0, 0, canvas.width, canvas.height);\n",
              "            const dataURL = canvas.toDataURL('image/jpeg');\n",
              "            google.colab.kernel.invokeFunction('notebook.captureFrame', [dataURL], {});\n",
              "        }\n",
              "        getFrame();\n",
              "    "
            ]
          },
          "metadata": {}
        },
        {
          "output_type": "display_data",
          "data": {
            "text/plain": [
              "<IPython.core.display.Javascript object>"
            ],
            "application/javascript": [
              "\n",
              "        async function getFrame() {\n",
              "            let canvas = document.createElement('canvas');\n",
              "            let video = window.videoElement;\n",
              "            canvas.width = video.videoWidth;\n",
              "            canvas.height = video.videoHeight;\n",
              "            let context = canvas.getContext('2d');\n",
              "            context.drawImage(video, 0, 0, canvas.width, canvas.height);\n",
              "            const dataURL = canvas.toDataURL('image/jpeg');\n",
              "            google.colab.kernel.invokeFunction('notebook.captureFrame', [dataURL], {});\n",
              "        }\n",
              "        getFrame();\n",
              "    "
            ]
          },
          "metadata": {}
        },
        {
          "output_type": "display_data",
          "data": {
            "text/plain": [
              "<IPython.core.display.Javascript object>"
            ],
            "application/javascript": [
              "\n",
              "        async function getFrame() {\n",
              "            let canvas = document.createElement('canvas');\n",
              "            let video = window.videoElement;\n",
              "            canvas.width = video.videoWidth;\n",
              "            canvas.height = video.videoHeight;\n",
              "            let context = canvas.getContext('2d');\n",
              "            context.drawImage(video, 0, 0, canvas.width, canvas.height);\n",
              "            const dataURL = canvas.toDataURL('image/jpeg');\n",
              "            google.colab.kernel.invokeFunction('notebook.captureFrame', [dataURL], {});\n",
              "        }\n",
              "        getFrame();\n",
              "    "
            ]
          },
          "metadata": {}
        },
        {
          "output_type": "display_data",
          "data": {
            "text/plain": [
              "<IPython.core.display.Javascript object>"
            ],
            "application/javascript": [
              "\n",
              "        async function getFrame() {\n",
              "            let canvas = document.createElement('canvas');\n",
              "            let video = window.videoElement;\n",
              "            canvas.width = video.videoWidth;\n",
              "            canvas.height = video.videoHeight;\n",
              "            let context = canvas.getContext('2d');\n",
              "            context.drawImage(video, 0, 0, canvas.width, canvas.height);\n",
              "            const dataURL = canvas.toDataURL('image/jpeg');\n",
              "            google.colab.kernel.invokeFunction('notebook.captureFrame', [dataURL], {});\n",
              "        }\n",
              "        getFrame();\n",
              "    "
            ]
          },
          "metadata": {}
        },
        {
          "output_type": "display_data",
          "data": {
            "text/plain": [
              "<IPython.core.display.Javascript object>"
            ],
            "application/javascript": [
              "\n",
              "        async function getFrame() {\n",
              "            let canvas = document.createElement('canvas');\n",
              "            let video = window.videoElement;\n",
              "            canvas.width = video.videoWidth;\n",
              "            canvas.height = video.videoHeight;\n",
              "            let context = canvas.getContext('2d');\n",
              "            context.drawImage(video, 0, 0, canvas.width, canvas.height);\n",
              "            const dataURL = canvas.toDataURL('image/jpeg');\n",
              "            google.colab.kernel.invokeFunction('notebook.captureFrame', [dataURL], {});\n",
              "        }\n",
              "        getFrame();\n",
              "    "
            ]
          },
          "metadata": {}
        },
        {
          "output_type": "display_data",
          "data": {
            "text/plain": [
              "<IPython.core.display.Javascript object>"
            ],
            "application/javascript": [
              "\n",
              "        async function getFrame() {\n",
              "            let canvas = document.createElement('canvas');\n",
              "            let video = window.videoElement;\n",
              "            canvas.width = video.videoWidth;\n",
              "            canvas.height = video.videoHeight;\n",
              "            let context = canvas.getContext('2d');\n",
              "            context.drawImage(video, 0, 0, canvas.width, canvas.height);\n",
              "            const dataURL = canvas.toDataURL('image/jpeg');\n",
              "            google.colab.kernel.invokeFunction('notebook.captureFrame', [dataURL], {});\n",
              "        }\n",
              "        getFrame();\n",
              "    "
            ]
          },
          "metadata": {}
        },
        {
          "output_type": "display_data",
          "data": {
            "text/plain": [
              "<IPython.core.display.Javascript object>"
            ],
            "application/javascript": [
              "\n",
              "        async function getFrame() {\n",
              "            let canvas = document.createElement('canvas');\n",
              "            let video = window.videoElement;\n",
              "            canvas.width = video.videoWidth;\n",
              "            canvas.height = video.videoHeight;\n",
              "            let context = canvas.getContext('2d');\n",
              "            context.drawImage(video, 0, 0, canvas.width, canvas.height);\n",
              "            const dataURL = canvas.toDataURL('image/jpeg');\n",
              "            google.colab.kernel.invokeFunction('notebook.captureFrame', [dataURL], {});\n",
              "        }\n",
              "        getFrame();\n",
              "    "
            ]
          },
          "metadata": {}
        },
        {
          "output_type": "display_data",
          "data": {
            "text/plain": [
              "<IPython.core.display.Javascript object>"
            ],
            "application/javascript": [
              "\n",
              "        async function getFrame() {\n",
              "            let canvas = document.createElement('canvas');\n",
              "            let video = window.videoElement;\n",
              "            canvas.width = video.videoWidth;\n",
              "            canvas.height = video.videoHeight;\n",
              "            let context = canvas.getContext('2d');\n",
              "            context.drawImage(video, 0, 0, canvas.width, canvas.height);\n",
              "            const dataURL = canvas.toDataURL('image/jpeg');\n",
              "            google.colab.kernel.invokeFunction('notebook.captureFrame', [dataURL], {});\n",
              "        }\n",
              "        getFrame();\n",
              "    "
            ]
          },
          "metadata": {}
        },
        {
          "output_type": "display_data",
          "data": {
            "text/plain": [
              "<IPython.core.display.Javascript object>"
            ],
            "application/javascript": [
              "\n",
              "        async function getFrame() {\n",
              "            let canvas = document.createElement('canvas');\n",
              "            let video = window.videoElement;\n",
              "            canvas.width = video.videoWidth;\n",
              "            canvas.height = video.videoHeight;\n",
              "            let context = canvas.getContext('2d');\n",
              "            context.drawImage(video, 0, 0, canvas.width, canvas.height);\n",
              "            const dataURL = canvas.toDataURL('image/jpeg');\n",
              "            google.colab.kernel.invokeFunction('notebook.captureFrame', [dataURL], {});\n",
              "        }\n",
              "        getFrame();\n",
              "    "
            ]
          },
          "metadata": {}
        },
        {
          "output_type": "display_data",
          "data": {
            "text/plain": [
              "<IPython.core.display.Javascript object>"
            ],
            "application/javascript": [
              "\n",
              "        async function getFrame() {\n",
              "            let canvas = document.createElement('canvas');\n",
              "            let video = window.videoElement;\n",
              "            canvas.width = video.videoWidth;\n",
              "            canvas.height = video.videoHeight;\n",
              "            let context = canvas.getContext('2d');\n",
              "            context.drawImage(video, 0, 0, canvas.width, canvas.height);\n",
              "            const dataURL = canvas.toDataURL('image/jpeg');\n",
              "            google.colab.kernel.invokeFunction('notebook.captureFrame', [dataURL], {});\n",
              "        }\n",
              "        getFrame();\n",
              "    "
            ]
          },
          "metadata": {}
        },
        {
          "output_type": "display_data",
          "data": {
            "text/plain": [
              "<IPython.core.display.Javascript object>"
            ],
            "application/javascript": [
              "\n",
              "        async function getFrame() {\n",
              "            let canvas = document.createElement('canvas');\n",
              "            let video = window.videoElement;\n",
              "            canvas.width = video.videoWidth;\n",
              "            canvas.height = video.videoHeight;\n",
              "            let context = canvas.getContext('2d');\n",
              "            context.drawImage(video, 0, 0, canvas.width, canvas.height);\n",
              "            const dataURL = canvas.toDataURL('image/jpeg');\n",
              "            google.colab.kernel.invokeFunction('notebook.captureFrame', [dataURL], {});\n",
              "        }\n",
              "        getFrame();\n",
              "    "
            ]
          },
          "metadata": {}
        },
        {
          "output_type": "display_data",
          "data": {
            "text/plain": [
              "<IPython.core.display.Javascript object>"
            ],
            "application/javascript": [
              "\n",
              "        async function getFrame() {\n",
              "            let canvas = document.createElement('canvas');\n",
              "            let video = window.videoElement;\n",
              "            canvas.width = video.videoWidth;\n",
              "            canvas.height = video.videoHeight;\n",
              "            let context = canvas.getContext('2d');\n",
              "            context.drawImage(video, 0, 0, canvas.width, canvas.height);\n",
              "            const dataURL = canvas.toDataURL('image/jpeg');\n",
              "            google.colab.kernel.invokeFunction('notebook.captureFrame', [dataURL], {});\n",
              "        }\n",
              "        getFrame();\n",
              "    "
            ]
          },
          "metadata": {}
        },
        {
          "output_type": "display_data",
          "data": {
            "text/plain": [
              "<IPython.core.display.Javascript object>"
            ],
            "application/javascript": [
              "\n",
              "        async function getFrame() {\n",
              "            let canvas = document.createElement('canvas');\n",
              "            let video = window.videoElement;\n",
              "            canvas.width = video.videoWidth;\n",
              "            canvas.height = video.videoHeight;\n",
              "            let context = canvas.getContext('2d');\n",
              "            context.drawImage(video, 0, 0, canvas.width, canvas.height);\n",
              "            const dataURL = canvas.toDataURL('image/jpeg');\n",
              "            google.colab.kernel.invokeFunction('notebook.captureFrame', [dataURL], {});\n",
              "        }\n",
              "        getFrame();\n",
              "    "
            ]
          },
          "metadata": {}
        },
        {
          "output_type": "display_data",
          "data": {
            "text/plain": [
              "<IPython.core.display.Javascript object>"
            ],
            "application/javascript": [
              "\n",
              "        async function getFrame() {\n",
              "            let canvas = document.createElement('canvas');\n",
              "            let video = window.videoElement;\n",
              "            canvas.width = video.videoWidth;\n",
              "            canvas.height = video.videoHeight;\n",
              "            let context = canvas.getContext('2d');\n",
              "            context.drawImage(video, 0, 0, canvas.width, canvas.height);\n",
              "            const dataURL = canvas.toDataURL('image/jpeg');\n",
              "            google.colab.kernel.invokeFunction('notebook.captureFrame', [dataURL], {});\n",
              "        }\n",
              "        getFrame();\n",
              "    "
            ]
          },
          "metadata": {}
        },
        {
          "output_type": "display_data",
          "data": {
            "text/plain": [
              "<IPython.core.display.Javascript object>"
            ],
            "application/javascript": [
              "\n",
              "        async function getFrame() {\n",
              "            let canvas = document.createElement('canvas');\n",
              "            let video = window.videoElement;\n",
              "            canvas.width = video.videoWidth;\n",
              "            canvas.height = video.videoHeight;\n",
              "            let context = canvas.getContext('2d');\n",
              "            context.drawImage(video, 0, 0, canvas.width, canvas.height);\n",
              "            const dataURL = canvas.toDataURL('image/jpeg');\n",
              "            google.colab.kernel.invokeFunction('notebook.captureFrame', [dataURL], {});\n",
              "        }\n",
              "        getFrame();\n",
              "    "
            ]
          },
          "metadata": {}
        },
        {
          "output_type": "display_data",
          "data": {
            "text/plain": [
              "<IPython.core.display.Javascript object>"
            ],
            "application/javascript": [
              "\n",
              "        async function getFrame() {\n",
              "            let canvas = document.createElement('canvas');\n",
              "            let video = window.videoElement;\n",
              "            canvas.width = video.videoWidth;\n",
              "            canvas.height = video.videoHeight;\n",
              "            let context = canvas.getContext('2d');\n",
              "            context.drawImage(video, 0, 0, canvas.width, canvas.height);\n",
              "            const dataURL = canvas.toDataURL('image/jpeg');\n",
              "            google.colab.kernel.invokeFunction('notebook.captureFrame', [dataURL], {});\n",
              "        }\n",
              "        getFrame();\n",
              "    "
            ]
          },
          "metadata": {}
        },
        {
          "output_type": "display_data",
          "data": {
            "text/plain": [
              "<IPython.core.display.Javascript object>"
            ],
            "application/javascript": [
              "\n",
              "        async function getFrame() {\n",
              "            let canvas = document.createElement('canvas');\n",
              "            let video = window.videoElement;\n",
              "            canvas.width = video.videoWidth;\n",
              "            canvas.height = video.videoHeight;\n",
              "            let context = canvas.getContext('2d');\n",
              "            context.drawImage(video, 0, 0, canvas.width, canvas.height);\n",
              "            const dataURL = canvas.toDataURL('image/jpeg');\n",
              "            google.colab.kernel.invokeFunction('notebook.captureFrame', [dataURL], {});\n",
              "        }\n",
              "        getFrame();\n",
              "    "
            ]
          },
          "metadata": {}
        },
        {
          "output_type": "display_data",
          "data": {
            "text/plain": [
              "<IPython.core.display.Javascript object>"
            ],
            "application/javascript": [
              "\n",
              "        async function getFrame() {\n",
              "            let canvas = document.createElement('canvas');\n",
              "            let video = window.videoElement;\n",
              "            canvas.width = video.videoWidth;\n",
              "            canvas.height = video.videoHeight;\n",
              "            let context = canvas.getContext('2d');\n",
              "            context.drawImage(video, 0, 0, canvas.width, canvas.height);\n",
              "            const dataURL = canvas.toDataURL('image/jpeg');\n",
              "            google.colab.kernel.invokeFunction('notebook.captureFrame', [dataURL], {});\n",
              "        }\n",
              "        getFrame();\n",
              "    "
            ]
          },
          "metadata": {}
        },
        {
          "output_type": "display_data",
          "data": {
            "text/plain": [
              "<IPython.core.display.Javascript object>"
            ],
            "application/javascript": [
              "\n",
              "        async function getFrame() {\n",
              "            let canvas = document.createElement('canvas');\n",
              "            let video = window.videoElement;\n",
              "            canvas.width = video.videoWidth;\n",
              "            canvas.height = video.videoHeight;\n",
              "            let context = canvas.getContext('2d');\n",
              "            context.drawImage(video, 0, 0, canvas.width, canvas.height);\n",
              "            const dataURL = canvas.toDataURL('image/jpeg');\n",
              "            google.colab.kernel.invokeFunction('notebook.captureFrame', [dataURL], {});\n",
              "        }\n",
              "        getFrame();\n",
              "    "
            ]
          },
          "metadata": {}
        },
        {
          "output_type": "display_data",
          "data": {
            "text/plain": [
              "<IPython.core.display.Javascript object>"
            ],
            "application/javascript": [
              "\n",
              "        async function getFrame() {\n",
              "            let canvas = document.createElement('canvas');\n",
              "            let video = window.videoElement;\n",
              "            canvas.width = video.videoWidth;\n",
              "            canvas.height = video.videoHeight;\n",
              "            let context = canvas.getContext('2d');\n",
              "            context.drawImage(video, 0, 0, canvas.width, canvas.height);\n",
              "            const dataURL = canvas.toDataURL('image/jpeg');\n",
              "            google.colab.kernel.invokeFunction('notebook.captureFrame', [dataURL], {});\n",
              "        }\n",
              "        getFrame();\n",
              "    "
            ]
          },
          "metadata": {}
        },
        {
          "output_type": "display_data",
          "data": {
            "text/plain": [
              "<IPython.core.display.Javascript object>"
            ],
            "application/javascript": [
              "\n",
              "        async function getFrame() {\n",
              "            let canvas = document.createElement('canvas');\n",
              "            let video = window.videoElement;\n",
              "            canvas.width = video.videoWidth;\n",
              "            canvas.height = video.videoHeight;\n",
              "            let context = canvas.getContext('2d');\n",
              "            context.drawImage(video, 0, 0, canvas.width, canvas.height);\n",
              "            const dataURL = canvas.toDataURL('image/jpeg');\n",
              "            google.colab.kernel.invokeFunction('notebook.captureFrame', [dataURL], {});\n",
              "        }\n",
              "        getFrame();\n",
              "    "
            ]
          },
          "metadata": {}
        },
        {
          "output_type": "display_data",
          "data": {
            "text/plain": [
              "<IPython.core.display.Javascript object>"
            ],
            "application/javascript": [
              "\n",
              "        async function getFrame() {\n",
              "            let canvas = document.createElement('canvas');\n",
              "            let video = window.videoElement;\n",
              "            canvas.width = video.videoWidth;\n",
              "            canvas.height = video.videoHeight;\n",
              "            let context = canvas.getContext('2d');\n",
              "            context.drawImage(video, 0, 0, canvas.width, canvas.height);\n",
              "            const dataURL = canvas.toDataURL('image/jpeg');\n",
              "            google.colab.kernel.invokeFunction('notebook.captureFrame', [dataURL], {});\n",
              "        }\n",
              "        getFrame();\n",
              "    "
            ]
          },
          "metadata": {}
        },
        {
          "output_type": "display_data",
          "data": {
            "text/plain": [
              "<IPython.core.display.Javascript object>"
            ],
            "application/javascript": [
              "\n",
              "        async function getFrame() {\n",
              "            let canvas = document.createElement('canvas');\n",
              "            let video = window.videoElement;\n",
              "            canvas.width = video.videoWidth;\n",
              "            canvas.height = video.videoHeight;\n",
              "            let context = canvas.getContext('2d');\n",
              "            context.drawImage(video, 0, 0, canvas.width, canvas.height);\n",
              "            const dataURL = canvas.toDataURL('image/jpeg');\n",
              "            google.colab.kernel.invokeFunction('notebook.captureFrame', [dataURL], {});\n",
              "        }\n",
              "        getFrame();\n",
              "    "
            ]
          },
          "metadata": {}
        },
        {
          "output_type": "display_data",
          "data": {
            "text/plain": [
              "<IPython.core.display.Javascript object>"
            ],
            "application/javascript": [
              "\n",
              "        async function getFrame() {\n",
              "            let canvas = document.createElement('canvas');\n",
              "            let video = window.videoElement;\n",
              "            canvas.width = video.videoWidth;\n",
              "            canvas.height = video.videoHeight;\n",
              "            let context = canvas.getContext('2d');\n",
              "            context.drawImage(video, 0, 0, canvas.width, canvas.height);\n",
              "            const dataURL = canvas.toDataURL('image/jpeg');\n",
              "            google.colab.kernel.invokeFunction('notebook.captureFrame', [dataURL], {});\n",
              "        }\n",
              "        getFrame();\n",
              "    "
            ]
          },
          "metadata": {}
        },
        {
          "output_type": "display_data",
          "data": {
            "text/plain": [
              "<IPython.core.display.Javascript object>"
            ],
            "application/javascript": [
              "\n",
              "        async function getFrame() {\n",
              "            let canvas = document.createElement('canvas');\n",
              "            let video = window.videoElement;\n",
              "            canvas.width = video.videoWidth;\n",
              "            canvas.height = video.videoHeight;\n",
              "            let context = canvas.getContext('2d');\n",
              "            context.drawImage(video, 0, 0, canvas.width, canvas.height);\n",
              "            const dataURL = canvas.toDataURL('image/jpeg');\n",
              "            google.colab.kernel.invokeFunction('notebook.captureFrame', [dataURL], {});\n",
              "        }\n",
              "        getFrame();\n",
              "    "
            ]
          },
          "metadata": {}
        },
        {
          "output_type": "display_data",
          "data": {
            "text/plain": [
              "<IPython.core.display.Javascript object>"
            ],
            "application/javascript": [
              "\n",
              "        async function getFrame() {\n",
              "            let canvas = document.createElement('canvas');\n",
              "            let video = window.videoElement;\n",
              "            canvas.width = video.videoWidth;\n",
              "            canvas.height = video.videoHeight;\n",
              "            let context = canvas.getContext('2d');\n",
              "            context.drawImage(video, 0, 0, canvas.width, canvas.height);\n",
              "            const dataURL = canvas.toDataURL('image/jpeg');\n",
              "            google.colab.kernel.invokeFunction('notebook.captureFrame', [dataURL], {});\n",
              "        }\n",
              "        getFrame();\n",
              "    "
            ]
          },
          "metadata": {}
        },
        {
          "output_type": "display_data",
          "data": {
            "text/plain": [
              "<IPython.core.display.Javascript object>"
            ],
            "application/javascript": [
              "\n",
              "        async function getFrame() {\n",
              "            let canvas = document.createElement('canvas');\n",
              "            let video = window.videoElement;\n",
              "            canvas.width = video.videoWidth;\n",
              "            canvas.height = video.videoHeight;\n",
              "            let context = canvas.getContext('2d');\n",
              "            context.drawImage(video, 0, 0, canvas.width, canvas.height);\n",
              "            const dataURL = canvas.toDataURL('image/jpeg');\n",
              "            google.colab.kernel.invokeFunction('notebook.captureFrame', [dataURL], {});\n",
              "        }\n",
              "        getFrame();\n",
              "    "
            ]
          },
          "metadata": {}
        },
        {
          "output_type": "display_data",
          "data": {
            "text/plain": [
              "<IPython.core.display.Javascript object>"
            ],
            "application/javascript": [
              "\n",
              "        async function getFrame() {\n",
              "            let canvas = document.createElement('canvas');\n",
              "            let video = window.videoElement;\n",
              "            canvas.width = video.videoWidth;\n",
              "            canvas.height = video.videoHeight;\n",
              "            let context = canvas.getContext('2d');\n",
              "            context.drawImage(video, 0, 0, canvas.width, canvas.height);\n",
              "            const dataURL = canvas.toDataURL('image/jpeg');\n",
              "            google.colab.kernel.invokeFunction('notebook.captureFrame', [dataURL], {});\n",
              "        }\n",
              "        getFrame();\n",
              "    "
            ]
          },
          "metadata": {}
        },
        {
          "output_type": "display_data",
          "data": {
            "text/plain": [
              "<IPython.core.display.Javascript object>"
            ],
            "application/javascript": [
              "\n",
              "        async function getFrame() {\n",
              "            let canvas = document.createElement('canvas');\n",
              "            let video = window.videoElement;\n",
              "            canvas.width = video.videoWidth;\n",
              "            canvas.height = video.videoHeight;\n",
              "            let context = canvas.getContext('2d');\n",
              "            context.drawImage(video, 0, 0, canvas.width, canvas.height);\n",
              "            const dataURL = canvas.toDataURL('image/jpeg');\n",
              "            google.colab.kernel.invokeFunction('notebook.captureFrame', [dataURL], {});\n",
              "        }\n",
              "        getFrame();\n",
              "    "
            ]
          },
          "metadata": {}
        },
        {
          "output_type": "display_data",
          "data": {
            "text/plain": [
              "<IPython.core.display.Javascript object>"
            ],
            "application/javascript": [
              "\n",
              "        async function getFrame() {\n",
              "            let canvas = document.createElement('canvas');\n",
              "            let video = window.videoElement;\n",
              "            canvas.width = video.videoWidth;\n",
              "            canvas.height = video.videoHeight;\n",
              "            let context = canvas.getContext('2d');\n",
              "            context.drawImage(video, 0, 0, canvas.width, canvas.height);\n",
              "            const dataURL = canvas.toDataURL('image/jpeg');\n",
              "            google.colab.kernel.invokeFunction('notebook.captureFrame', [dataURL], {});\n",
              "        }\n",
              "        getFrame();\n",
              "    "
            ]
          },
          "metadata": {}
        },
        {
          "output_type": "display_data",
          "data": {
            "text/plain": [
              "<IPython.core.display.Javascript object>"
            ],
            "application/javascript": [
              "\n",
              "        async function getFrame() {\n",
              "            let canvas = document.createElement('canvas');\n",
              "            let video = window.videoElement;\n",
              "            canvas.width = video.videoWidth;\n",
              "            canvas.height = video.videoHeight;\n",
              "            let context = canvas.getContext('2d');\n",
              "            context.drawImage(video, 0, 0, canvas.width, canvas.height);\n",
              "            const dataURL = canvas.toDataURL('image/jpeg');\n",
              "            google.colab.kernel.invokeFunction('notebook.captureFrame', [dataURL], {});\n",
              "        }\n",
              "        getFrame();\n",
              "    "
            ]
          },
          "metadata": {}
        },
        {
          "output_type": "display_data",
          "data": {
            "text/plain": [
              "<IPython.core.display.Javascript object>"
            ],
            "application/javascript": [
              "\n",
              "        async function getFrame() {\n",
              "            let canvas = document.createElement('canvas');\n",
              "            let video = window.videoElement;\n",
              "            canvas.width = video.videoWidth;\n",
              "            canvas.height = video.videoHeight;\n",
              "            let context = canvas.getContext('2d');\n",
              "            context.drawImage(video, 0, 0, canvas.width, canvas.height);\n",
              "            const dataURL = canvas.toDataURL('image/jpeg');\n",
              "            google.colab.kernel.invokeFunction('notebook.captureFrame', [dataURL], {});\n",
              "        }\n",
              "        getFrame();\n",
              "    "
            ]
          },
          "metadata": {}
        },
        {
          "output_type": "display_data",
          "data": {
            "text/plain": [
              "<IPython.core.display.Javascript object>"
            ],
            "application/javascript": [
              "\n",
              "        async function getFrame() {\n",
              "            let canvas = document.createElement('canvas');\n",
              "            let video = window.videoElement;\n",
              "            canvas.width = video.videoWidth;\n",
              "            canvas.height = video.videoHeight;\n",
              "            let context = canvas.getContext('2d');\n",
              "            context.drawImage(video, 0, 0, canvas.width, canvas.height);\n",
              "            const dataURL = canvas.toDataURL('image/jpeg');\n",
              "            google.colab.kernel.invokeFunction('notebook.captureFrame', [dataURL], {});\n",
              "        }\n",
              "        getFrame();\n",
              "    "
            ]
          },
          "metadata": {}
        },
        {
          "output_type": "display_data",
          "data": {
            "text/plain": [
              "<IPython.core.display.Javascript object>"
            ],
            "application/javascript": [
              "\n",
              "        async function getFrame() {\n",
              "            let canvas = document.createElement('canvas');\n",
              "            let video = window.videoElement;\n",
              "            canvas.width = video.videoWidth;\n",
              "            canvas.height = video.videoHeight;\n",
              "            let context = canvas.getContext('2d');\n",
              "            context.drawImage(video, 0, 0, canvas.width, canvas.height);\n",
              "            const dataURL = canvas.toDataURL('image/jpeg');\n",
              "            google.colab.kernel.invokeFunction('notebook.captureFrame', [dataURL], {});\n",
              "        }\n",
              "        getFrame();\n",
              "    "
            ]
          },
          "metadata": {}
        },
        {
          "output_type": "display_data",
          "data": {
            "text/plain": [
              "<IPython.core.display.Javascript object>"
            ],
            "application/javascript": [
              "\n",
              "        async function getFrame() {\n",
              "            let canvas = document.createElement('canvas');\n",
              "            let video = window.videoElement;\n",
              "            canvas.width = video.videoWidth;\n",
              "            canvas.height = video.videoHeight;\n",
              "            let context = canvas.getContext('2d');\n",
              "            context.drawImage(video, 0, 0, canvas.width, canvas.height);\n",
              "            const dataURL = canvas.toDataURL('image/jpeg');\n",
              "            google.colab.kernel.invokeFunction('notebook.captureFrame', [dataURL], {});\n",
              "        }\n",
              "        getFrame();\n",
              "    "
            ]
          },
          "metadata": {}
        },
        {
          "output_type": "display_data",
          "data": {
            "text/plain": [
              "<IPython.core.display.Javascript object>"
            ],
            "application/javascript": [
              "\n",
              "        async function getFrame() {\n",
              "            let canvas = document.createElement('canvas');\n",
              "            let video = window.videoElement;\n",
              "            canvas.width = video.videoWidth;\n",
              "            canvas.height = video.videoHeight;\n",
              "            let context = canvas.getContext('2d');\n",
              "            context.drawImage(video, 0, 0, canvas.width, canvas.height);\n",
              "            const dataURL = canvas.toDataURL('image/jpeg');\n",
              "            google.colab.kernel.invokeFunction('notebook.captureFrame', [dataURL], {});\n",
              "        }\n",
              "        getFrame();\n",
              "    "
            ]
          },
          "metadata": {}
        },
        {
          "output_type": "display_data",
          "data": {
            "text/plain": [
              "<IPython.core.display.Javascript object>"
            ],
            "application/javascript": [
              "\n",
              "        async function getFrame() {\n",
              "            let canvas = document.createElement('canvas');\n",
              "            let video = window.videoElement;\n",
              "            canvas.width = video.videoWidth;\n",
              "            canvas.height = video.videoHeight;\n",
              "            let context = canvas.getContext('2d');\n",
              "            context.drawImage(video, 0, 0, canvas.width, canvas.height);\n",
              "            const dataURL = canvas.toDataURL('image/jpeg');\n",
              "            google.colab.kernel.invokeFunction('notebook.captureFrame', [dataURL], {});\n",
              "        }\n",
              "        getFrame();\n",
              "    "
            ]
          },
          "metadata": {}
        },
        {
          "output_type": "display_data",
          "data": {
            "text/plain": [
              "<IPython.core.display.Javascript object>"
            ],
            "application/javascript": [
              "\n",
              "        async function getFrame() {\n",
              "            let canvas = document.createElement('canvas');\n",
              "            let video = window.videoElement;\n",
              "            canvas.width = video.videoWidth;\n",
              "            canvas.height = video.videoHeight;\n",
              "            let context = canvas.getContext('2d');\n",
              "            context.drawImage(video, 0, 0, canvas.width, canvas.height);\n",
              "            const dataURL = canvas.toDataURL('image/jpeg');\n",
              "            google.colab.kernel.invokeFunction('notebook.captureFrame', [dataURL], {});\n",
              "        }\n",
              "        getFrame();\n",
              "    "
            ]
          },
          "metadata": {}
        },
        {
          "output_type": "display_data",
          "data": {
            "text/plain": [
              "<IPython.core.display.Javascript object>"
            ],
            "application/javascript": [
              "\n",
              "        async function getFrame() {\n",
              "            let canvas = document.createElement('canvas');\n",
              "            let video = window.videoElement;\n",
              "            canvas.width = video.videoWidth;\n",
              "            canvas.height = video.videoHeight;\n",
              "            let context = canvas.getContext('2d');\n",
              "            context.drawImage(video, 0, 0, canvas.width, canvas.height);\n",
              "            const dataURL = canvas.toDataURL('image/jpeg');\n",
              "            google.colab.kernel.invokeFunction('notebook.captureFrame', [dataURL], {});\n",
              "        }\n",
              "        getFrame();\n",
              "    "
            ]
          },
          "metadata": {}
        },
        {
          "output_type": "display_data",
          "data": {
            "text/plain": [
              "<IPython.core.display.Javascript object>"
            ],
            "application/javascript": [
              "\n",
              "        async function getFrame() {\n",
              "            let canvas = document.createElement('canvas');\n",
              "            let video = window.videoElement;\n",
              "            canvas.width = video.videoWidth;\n",
              "            canvas.height = video.videoHeight;\n",
              "            let context = canvas.getContext('2d');\n",
              "            context.drawImage(video, 0, 0, canvas.width, canvas.height);\n",
              "            const dataURL = canvas.toDataURL('image/jpeg');\n",
              "            google.colab.kernel.invokeFunction('notebook.captureFrame', [dataURL], {});\n",
              "        }\n",
              "        getFrame();\n",
              "    "
            ]
          },
          "metadata": {}
        },
        {
          "output_type": "display_data",
          "data": {
            "text/plain": [
              "<IPython.core.display.Javascript object>"
            ],
            "application/javascript": [
              "\n",
              "        async function getFrame() {\n",
              "            let canvas = document.createElement('canvas');\n",
              "            let video = window.videoElement;\n",
              "            canvas.width = video.videoWidth;\n",
              "            canvas.height = video.videoHeight;\n",
              "            let context = canvas.getContext('2d');\n",
              "            context.drawImage(video, 0, 0, canvas.width, canvas.height);\n",
              "            const dataURL = canvas.toDataURL('image/jpeg');\n",
              "            google.colab.kernel.invokeFunction('notebook.captureFrame', [dataURL], {});\n",
              "        }\n",
              "        getFrame();\n",
              "    "
            ]
          },
          "metadata": {}
        },
        {
          "output_type": "display_data",
          "data": {
            "text/plain": [
              "<IPython.core.display.Javascript object>"
            ],
            "application/javascript": [
              "\n",
              "        async function getFrame() {\n",
              "            let canvas = document.createElement('canvas');\n",
              "            let video = window.videoElement;\n",
              "            canvas.width = video.videoWidth;\n",
              "            canvas.height = video.videoHeight;\n",
              "            let context = canvas.getContext('2d');\n",
              "            context.drawImage(video, 0, 0, canvas.width, canvas.height);\n",
              "            const dataURL = canvas.toDataURL('image/jpeg');\n",
              "            google.colab.kernel.invokeFunction('notebook.captureFrame', [dataURL], {});\n",
              "        }\n",
              "        getFrame();\n",
              "    "
            ]
          },
          "metadata": {}
        },
        {
          "output_type": "display_data",
          "data": {
            "text/plain": [
              "<IPython.core.display.Javascript object>"
            ],
            "application/javascript": [
              "\n",
              "        async function getFrame() {\n",
              "            let canvas = document.createElement('canvas');\n",
              "            let video = window.videoElement;\n",
              "            canvas.width = video.videoWidth;\n",
              "            canvas.height = video.videoHeight;\n",
              "            let context = canvas.getContext('2d');\n",
              "            context.drawImage(video, 0, 0, canvas.width, canvas.height);\n",
              "            const dataURL = canvas.toDataURL('image/jpeg');\n",
              "            google.colab.kernel.invokeFunction('notebook.captureFrame', [dataURL], {});\n",
              "        }\n",
              "        getFrame();\n",
              "    "
            ]
          },
          "metadata": {}
        },
        {
          "output_type": "display_data",
          "data": {
            "text/plain": [
              "<IPython.core.display.Javascript object>"
            ],
            "application/javascript": [
              "\n",
              "        async function getFrame() {\n",
              "            let canvas = document.createElement('canvas');\n",
              "            let video = window.videoElement;\n",
              "            canvas.width = video.videoWidth;\n",
              "            canvas.height = video.videoHeight;\n",
              "            let context = canvas.getContext('2d');\n",
              "            context.drawImage(video, 0, 0, canvas.width, canvas.height);\n",
              "            const dataURL = canvas.toDataURL('image/jpeg');\n",
              "            google.colab.kernel.invokeFunction('notebook.captureFrame', [dataURL], {});\n",
              "        }\n",
              "        getFrame();\n",
              "    "
            ]
          },
          "metadata": {}
        },
        {
          "output_type": "display_data",
          "data": {
            "text/plain": [
              "<IPython.core.display.Javascript object>"
            ],
            "application/javascript": [
              "\n",
              "        async function getFrame() {\n",
              "            let canvas = document.createElement('canvas');\n",
              "            let video = window.videoElement;\n",
              "            canvas.width = video.videoWidth;\n",
              "            canvas.height = video.videoHeight;\n",
              "            let context = canvas.getContext('2d');\n",
              "            context.drawImage(video, 0, 0, canvas.width, canvas.height);\n",
              "            const dataURL = canvas.toDataURL('image/jpeg');\n",
              "            google.colab.kernel.invokeFunction('notebook.captureFrame', [dataURL], {});\n",
              "        }\n",
              "        getFrame();\n",
              "    "
            ]
          },
          "metadata": {}
        },
        {
          "output_type": "display_data",
          "data": {
            "text/plain": [
              "<IPython.core.display.Javascript object>"
            ],
            "application/javascript": [
              "\n",
              "        async function getFrame() {\n",
              "            let canvas = document.createElement('canvas');\n",
              "            let video = window.videoElement;\n",
              "            canvas.width = video.videoWidth;\n",
              "            canvas.height = video.videoHeight;\n",
              "            let context = canvas.getContext('2d');\n",
              "            context.drawImage(video, 0, 0, canvas.width, canvas.height);\n",
              "            const dataURL = canvas.toDataURL('image/jpeg');\n",
              "            google.colab.kernel.invokeFunction('notebook.captureFrame', [dataURL], {});\n",
              "        }\n",
              "        getFrame();\n",
              "    "
            ]
          },
          "metadata": {}
        },
        {
          "output_type": "display_data",
          "data": {
            "text/plain": [
              "<IPython.core.display.Javascript object>"
            ],
            "application/javascript": [
              "\n",
              "        async function getFrame() {\n",
              "            let canvas = document.createElement('canvas');\n",
              "            let video = window.videoElement;\n",
              "            canvas.width = video.videoWidth;\n",
              "            canvas.height = video.videoHeight;\n",
              "            let context = canvas.getContext('2d');\n",
              "            context.drawImage(video, 0, 0, canvas.width, canvas.height);\n",
              "            const dataURL = canvas.toDataURL('image/jpeg');\n",
              "            google.colab.kernel.invokeFunction('notebook.captureFrame', [dataURL], {});\n",
              "        }\n",
              "        getFrame();\n",
              "    "
            ]
          },
          "metadata": {}
        },
        {
          "output_type": "display_data",
          "data": {
            "text/plain": [
              "<IPython.core.display.Javascript object>"
            ],
            "application/javascript": [
              "\n",
              "        async function getFrame() {\n",
              "            let canvas = document.createElement('canvas');\n",
              "            let video = window.videoElement;\n",
              "            canvas.width = video.videoWidth;\n",
              "            canvas.height = video.videoHeight;\n",
              "            let context = canvas.getContext('2d');\n",
              "            context.drawImage(video, 0, 0, canvas.width, canvas.height);\n",
              "            const dataURL = canvas.toDataURL('image/jpeg');\n",
              "            google.colab.kernel.invokeFunction('notebook.captureFrame', [dataURL], {});\n",
              "        }\n",
              "        getFrame();\n",
              "    "
            ]
          },
          "metadata": {}
        },
        {
          "output_type": "display_data",
          "data": {
            "text/plain": [
              "<IPython.core.display.Javascript object>"
            ],
            "application/javascript": [
              "\n",
              "        async function getFrame() {\n",
              "            let canvas = document.createElement('canvas');\n",
              "            let video = window.videoElement;\n",
              "            canvas.width = video.videoWidth;\n",
              "            canvas.height = video.videoHeight;\n",
              "            let context = canvas.getContext('2d');\n",
              "            context.drawImage(video, 0, 0, canvas.width, canvas.height);\n",
              "            const dataURL = canvas.toDataURL('image/jpeg');\n",
              "            google.colab.kernel.invokeFunction('notebook.captureFrame', [dataURL], {});\n",
              "        }\n",
              "        getFrame();\n",
              "    "
            ]
          },
          "metadata": {}
        },
        {
          "output_type": "display_data",
          "data": {
            "text/plain": [
              "<IPython.core.display.Javascript object>"
            ],
            "application/javascript": [
              "\n",
              "        async function getFrame() {\n",
              "            let canvas = document.createElement('canvas');\n",
              "            let video = window.videoElement;\n",
              "            canvas.width = video.videoWidth;\n",
              "            canvas.height = video.videoHeight;\n",
              "            let context = canvas.getContext('2d');\n",
              "            context.drawImage(video, 0, 0, canvas.width, canvas.height);\n",
              "            const dataURL = canvas.toDataURL('image/jpeg');\n",
              "            google.colab.kernel.invokeFunction('notebook.captureFrame', [dataURL], {});\n",
              "        }\n",
              "        getFrame();\n",
              "    "
            ]
          },
          "metadata": {}
        },
        {
          "output_type": "display_data",
          "data": {
            "text/plain": [
              "<IPython.core.display.Javascript object>"
            ],
            "application/javascript": [
              "\n",
              "        async function getFrame() {\n",
              "            let canvas = document.createElement('canvas');\n",
              "            let video = window.videoElement;\n",
              "            canvas.width = video.videoWidth;\n",
              "            canvas.height = video.videoHeight;\n",
              "            let context = canvas.getContext('2d');\n",
              "            context.drawImage(video, 0, 0, canvas.width, canvas.height);\n",
              "            const dataURL = canvas.toDataURL('image/jpeg');\n",
              "            google.colab.kernel.invokeFunction('notebook.captureFrame', [dataURL], {});\n",
              "        }\n",
              "        getFrame();\n",
              "    "
            ]
          },
          "metadata": {}
        },
        {
          "output_type": "display_data",
          "data": {
            "text/plain": [
              "<IPython.core.display.Javascript object>"
            ],
            "application/javascript": [
              "\n",
              "        async function getFrame() {\n",
              "            let canvas = document.createElement('canvas');\n",
              "            let video = window.videoElement;\n",
              "            canvas.width = video.videoWidth;\n",
              "            canvas.height = video.videoHeight;\n",
              "            let context = canvas.getContext('2d');\n",
              "            context.drawImage(video, 0, 0, canvas.width, canvas.height);\n",
              "            const dataURL = canvas.toDataURL('image/jpeg');\n",
              "            google.colab.kernel.invokeFunction('notebook.captureFrame', [dataURL], {});\n",
              "        }\n",
              "        getFrame();\n",
              "    "
            ]
          },
          "metadata": {}
        },
        {
          "output_type": "display_data",
          "data": {
            "text/plain": [
              "<IPython.core.display.Javascript object>"
            ],
            "application/javascript": [
              "\n",
              "        async function getFrame() {\n",
              "            let canvas = document.createElement('canvas');\n",
              "            let video = window.videoElement;\n",
              "            canvas.width = video.videoWidth;\n",
              "            canvas.height = video.videoHeight;\n",
              "            let context = canvas.getContext('2d');\n",
              "            context.drawImage(video, 0, 0, canvas.width, canvas.height);\n",
              "            const dataURL = canvas.toDataURL('image/jpeg');\n",
              "            google.colab.kernel.invokeFunction('notebook.captureFrame', [dataURL], {});\n",
              "        }\n",
              "        getFrame();\n",
              "    "
            ]
          },
          "metadata": {}
        },
        {
          "output_type": "display_data",
          "data": {
            "text/plain": [
              "<IPython.core.display.Javascript object>"
            ],
            "application/javascript": [
              "\n",
              "        async function getFrame() {\n",
              "            let canvas = document.createElement('canvas');\n",
              "            let video = window.videoElement;\n",
              "            canvas.width = video.videoWidth;\n",
              "            canvas.height = video.videoHeight;\n",
              "            let context = canvas.getContext('2d');\n",
              "            context.drawImage(video, 0, 0, canvas.width, canvas.height);\n",
              "            const dataURL = canvas.toDataURL('image/jpeg');\n",
              "            google.colab.kernel.invokeFunction('notebook.captureFrame', [dataURL], {});\n",
              "        }\n",
              "        getFrame();\n",
              "    "
            ]
          },
          "metadata": {}
        },
        {
          "output_type": "display_data",
          "data": {
            "text/plain": [
              "<IPython.core.display.Javascript object>"
            ],
            "application/javascript": [
              "\n",
              "        async function getFrame() {\n",
              "            let canvas = document.createElement('canvas');\n",
              "            let video = window.videoElement;\n",
              "            canvas.width = video.videoWidth;\n",
              "            canvas.height = video.videoHeight;\n",
              "            let context = canvas.getContext('2d');\n",
              "            context.drawImage(video, 0, 0, canvas.width, canvas.height);\n",
              "            const dataURL = canvas.toDataURL('image/jpeg');\n",
              "            google.colab.kernel.invokeFunction('notebook.captureFrame', [dataURL], {});\n",
              "        }\n",
              "        getFrame();\n",
              "    "
            ]
          },
          "metadata": {}
        },
        {
          "output_type": "display_data",
          "data": {
            "text/plain": [
              "<IPython.core.display.Javascript object>"
            ],
            "application/javascript": [
              "\n",
              "        async function getFrame() {\n",
              "            let canvas = document.createElement('canvas');\n",
              "            let video = window.videoElement;\n",
              "            canvas.width = video.videoWidth;\n",
              "            canvas.height = video.videoHeight;\n",
              "            let context = canvas.getContext('2d');\n",
              "            context.drawImage(video, 0, 0, canvas.width, canvas.height);\n",
              "            const dataURL = canvas.toDataURL('image/jpeg');\n",
              "            google.colab.kernel.invokeFunction('notebook.captureFrame', [dataURL], {});\n",
              "        }\n",
              "        getFrame();\n",
              "    "
            ]
          },
          "metadata": {}
        },
        {
          "output_type": "display_data",
          "data": {
            "text/plain": [
              "<IPython.core.display.Javascript object>"
            ],
            "application/javascript": [
              "\n",
              "        async function getFrame() {\n",
              "            let canvas = document.createElement('canvas');\n",
              "            let video = window.videoElement;\n",
              "            canvas.width = video.videoWidth;\n",
              "            canvas.height = video.videoHeight;\n",
              "            let context = canvas.getContext('2d');\n",
              "            context.drawImage(video, 0, 0, canvas.width, canvas.height);\n",
              "            const dataURL = canvas.toDataURL('image/jpeg');\n",
              "            google.colab.kernel.invokeFunction('notebook.captureFrame', [dataURL], {});\n",
              "        }\n",
              "        getFrame();\n",
              "    "
            ]
          },
          "metadata": {}
        },
        {
          "output_type": "display_data",
          "data": {
            "text/plain": [
              "<IPython.core.display.Javascript object>"
            ],
            "application/javascript": [
              "\n",
              "        async function getFrame() {\n",
              "            let canvas = document.createElement('canvas');\n",
              "            let video = window.videoElement;\n",
              "            canvas.width = video.videoWidth;\n",
              "            canvas.height = video.videoHeight;\n",
              "            let context = canvas.getContext('2d');\n",
              "            context.drawImage(video, 0, 0, canvas.width, canvas.height);\n",
              "            const dataURL = canvas.toDataURL('image/jpeg');\n",
              "            google.colab.kernel.invokeFunction('notebook.captureFrame', [dataURL], {});\n",
              "        }\n",
              "        getFrame();\n",
              "    "
            ]
          },
          "metadata": {}
        },
        {
          "output_type": "display_data",
          "data": {
            "text/plain": [
              "<IPython.core.display.Javascript object>"
            ],
            "application/javascript": [
              "\n",
              "        async function getFrame() {\n",
              "            let canvas = document.createElement('canvas');\n",
              "            let video = window.videoElement;\n",
              "            canvas.width = video.videoWidth;\n",
              "            canvas.height = video.videoHeight;\n",
              "            let context = canvas.getContext('2d');\n",
              "            context.drawImage(video, 0, 0, canvas.width, canvas.height);\n",
              "            const dataURL = canvas.toDataURL('image/jpeg');\n",
              "            google.colab.kernel.invokeFunction('notebook.captureFrame', [dataURL], {});\n",
              "        }\n",
              "        getFrame();\n",
              "    "
            ]
          },
          "metadata": {}
        },
        {
          "output_type": "display_data",
          "data": {
            "text/plain": [
              "<IPython.core.display.Javascript object>"
            ],
            "application/javascript": [
              "\n",
              "        async function getFrame() {\n",
              "            let canvas = document.createElement('canvas');\n",
              "            let video = window.videoElement;\n",
              "            canvas.width = video.videoWidth;\n",
              "            canvas.height = video.videoHeight;\n",
              "            let context = canvas.getContext('2d');\n",
              "            context.drawImage(video, 0, 0, canvas.width, canvas.height);\n",
              "            const dataURL = canvas.toDataURL('image/jpeg');\n",
              "            google.colab.kernel.invokeFunction('notebook.captureFrame', [dataURL], {});\n",
              "        }\n",
              "        getFrame();\n",
              "    "
            ]
          },
          "metadata": {}
        },
        {
          "output_type": "display_data",
          "data": {
            "text/plain": [
              "<IPython.core.display.Javascript object>"
            ],
            "application/javascript": [
              "\n",
              "        async function getFrame() {\n",
              "            let canvas = document.createElement('canvas');\n",
              "            let video = window.videoElement;\n",
              "            canvas.width = video.videoWidth;\n",
              "            canvas.height = video.videoHeight;\n",
              "            let context = canvas.getContext('2d');\n",
              "            context.drawImage(video, 0, 0, canvas.width, canvas.height);\n",
              "            const dataURL = canvas.toDataURL('image/jpeg');\n",
              "            google.colab.kernel.invokeFunction('notebook.captureFrame', [dataURL], {});\n",
              "        }\n",
              "        getFrame();\n",
              "    "
            ]
          },
          "metadata": {}
        },
        {
          "output_type": "display_data",
          "data": {
            "text/plain": [
              "<IPython.core.display.Javascript object>"
            ],
            "application/javascript": [
              "\n",
              "        async function getFrame() {\n",
              "            let canvas = document.createElement('canvas');\n",
              "            let video = window.videoElement;\n",
              "            canvas.width = video.videoWidth;\n",
              "            canvas.height = video.videoHeight;\n",
              "            let context = canvas.getContext('2d');\n",
              "            context.drawImage(video, 0, 0, canvas.width, canvas.height);\n",
              "            const dataURL = canvas.toDataURL('image/jpeg');\n",
              "            google.colab.kernel.invokeFunction('notebook.captureFrame', [dataURL], {});\n",
              "        }\n",
              "        getFrame();\n",
              "    "
            ]
          },
          "metadata": {}
        },
        {
          "output_type": "display_data",
          "data": {
            "text/plain": [
              "<IPython.core.display.Javascript object>"
            ],
            "application/javascript": [
              "\n",
              "        async function getFrame() {\n",
              "            let canvas = document.createElement('canvas');\n",
              "            let video = window.videoElement;\n",
              "            canvas.width = video.videoWidth;\n",
              "            canvas.height = video.videoHeight;\n",
              "            let context = canvas.getContext('2d');\n",
              "            context.drawImage(video, 0, 0, canvas.width, canvas.height);\n",
              "            const dataURL = canvas.toDataURL('image/jpeg');\n",
              "            google.colab.kernel.invokeFunction('notebook.captureFrame', [dataURL], {});\n",
              "        }\n",
              "        getFrame();\n",
              "    "
            ]
          },
          "metadata": {}
        },
        {
          "output_type": "display_data",
          "data": {
            "text/plain": [
              "<IPython.core.display.Javascript object>"
            ],
            "application/javascript": [
              "\n",
              "        async function getFrame() {\n",
              "            let canvas = document.createElement('canvas');\n",
              "            let video = window.videoElement;\n",
              "            canvas.width = video.videoWidth;\n",
              "            canvas.height = video.videoHeight;\n",
              "            let context = canvas.getContext('2d');\n",
              "            context.drawImage(video, 0, 0, canvas.width, canvas.height);\n",
              "            const dataURL = canvas.toDataURL('image/jpeg');\n",
              "            google.colab.kernel.invokeFunction('notebook.captureFrame', [dataURL], {});\n",
              "        }\n",
              "        getFrame();\n",
              "    "
            ]
          },
          "metadata": {}
        },
        {
          "output_type": "display_data",
          "data": {
            "text/plain": [
              "<IPython.core.display.Javascript object>"
            ],
            "application/javascript": [
              "\n",
              "        async function getFrame() {\n",
              "            let canvas = document.createElement('canvas');\n",
              "            let video = window.videoElement;\n",
              "            canvas.width = video.videoWidth;\n",
              "            canvas.height = video.videoHeight;\n",
              "            let context = canvas.getContext('2d');\n",
              "            context.drawImage(video, 0, 0, canvas.width, canvas.height);\n",
              "            const dataURL = canvas.toDataURL('image/jpeg');\n",
              "            google.colab.kernel.invokeFunction('notebook.captureFrame', [dataURL], {});\n",
              "        }\n",
              "        getFrame();\n",
              "    "
            ]
          },
          "metadata": {}
        },
        {
          "output_type": "display_data",
          "data": {
            "text/plain": [
              "<IPython.core.display.Javascript object>"
            ],
            "application/javascript": [
              "\n",
              "        async function getFrame() {\n",
              "            let canvas = document.createElement('canvas');\n",
              "            let video = window.videoElement;\n",
              "            canvas.width = video.videoWidth;\n",
              "            canvas.height = video.videoHeight;\n",
              "            let context = canvas.getContext('2d');\n",
              "            context.drawImage(video, 0, 0, canvas.width, canvas.height);\n",
              "            const dataURL = canvas.toDataURL('image/jpeg');\n",
              "            google.colab.kernel.invokeFunction('notebook.captureFrame', [dataURL], {});\n",
              "        }\n",
              "        getFrame();\n",
              "    "
            ]
          },
          "metadata": {}
        },
        {
          "output_type": "display_data",
          "data": {
            "text/plain": [
              "<IPython.core.display.Javascript object>"
            ],
            "application/javascript": [
              "\n",
              "        async function getFrame() {\n",
              "            let canvas = document.createElement('canvas');\n",
              "            let video = window.videoElement;\n",
              "            canvas.width = video.videoWidth;\n",
              "            canvas.height = video.videoHeight;\n",
              "            let context = canvas.getContext('2d');\n",
              "            context.drawImage(video, 0, 0, canvas.width, canvas.height);\n",
              "            const dataURL = canvas.toDataURL('image/jpeg');\n",
              "            google.colab.kernel.invokeFunction('notebook.captureFrame', [dataURL], {});\n",
              "        }\n",
              "        getFrame();\n",
              "    "
            ]
          },
          "metadata": {}
        },
        {
          "output_type": "display_data",
          "data": {
            "text/plain": [
              "<IPython.core.display.Javascript object>"
            ],
            "application/javascript": [
              "\n",
              "        async function getFrame() {\n",
              "            let canvas = document.createElement('canvas');\n",
              "            let video = window.videoElement;\n",
              "            canvas.width = video.videoWidth;\n",
              "            canvas.height = video.videoHeight;\n",
              "            let context = canvas.getContext('2d');\n",
              "            context.drawImage(video, 0, 0, canvas.width, canvas.height);\n",
              "            const dataURL = canvas.toDataURL('image/jpeg');\n",
              "            google.colab.kernel.invokeFunction('notebook.captureFrame', [dataURL], {});\n",
              "        }\n",
              "        getFrame();\n",
              "    "
            ]
          },
          "metadata": {}
        },
        {
          "output_type": "display_data",
          "data": {
            "text/plain": [
              "<IPython.core.display.Javascript object>"
            ],
            "application/javascript": [
              "\n",
              "        async function getFrame() {\n",
              "            let canvas = document.createElement('canvas');\n",
              "            let video = window.videoElement;\n",
              "            canvas.width = video.videoWidth;\n",
              "            canvas.height = video.videoHeight;\n",
              "            let context = canvas.getContext('2d');\n",
              "            context.drawImage(video, 0, 0, canvas.width, canvas.height);\n",
              "            const dataURL = canvas.toDataURL('image/jpeg');\n",
              "            google.colab.kernel.invokeFunction('notebook.captureFrame', [dataURL], {});\n",
              "        }\n",
              "        getFrame();\n",
              "    "
            ]
          },
          "metadata": {}
        },
        {
          "output_type": "display_data",
          "data": {
            "text/plain": [
              "<IPython.core.display.Javascript object>"
            ],
            "application/javascript": [
              "\n",
              "        async function getFrame() {\n",
              "            let canvas = document.createElement('canvas');\n",
              "            let video = window.videoElement;\n",
              "            canvas.width = video.videoWidth;\n",
              "            canvas.height = video.videoHeight;\n",
              "            let context = canvas.getContext('2d');\n",
              "            context.drawImage(video, 0, 0, canvas.width, canvas.height);\n",
              "            const dataURL = canvas.toDataURL('image/jpeg');\n",
              "            google.colab.kernel.invokeFunction('notebook.captureFrame', [dataURL], {});\n",
              "        }\n",
              "        getFrame();\n",
              "    "
            ]
          },
          "metadata": {}
        },
        {
          "output_type": "display_data",
          "data": {
            "text/plain": [
              "<IPython.core.display.Javascript object>"
            ],
            "application/javascript": [
              "\n",
              "        async function getFrame() {\n",
              "            let canvas = document.createElement('canvas');\n",
              "            let video = window.videoElement;\n",
              "            canvas.width = video.videoWidth;\n",
              "            canvas.height = video.videoHeight;\n",
              "            let context = canvas.getContext('2d');\n",
              "            context.drawImage(video, 0, 0, canvas.width, canvas.height);\n",
              "            const dataURL = canvas.toDataURL('image/jpeg');\n",
              "            google.colab.kernel.invokeFunction('notebook.captureFrame', [dataURL], {});\n",
              "        }\n",
              "        getFrame();\n",
              "    "
            ]
          },
          "metadata": {}
        },
        {
          "output_type": "display_data",
          "data": {
            "text/plain": [
              "<IPython.core.display.Javascript object>"
            ],
            "application/javascript": [
              "\n",
              "        async function getFrame() {\n",
              "            let canvas = document.createElement('canvas');\n",
              "            let video = window.videoElement;\n",
              "            canvas.width = video.videoWidth;\n",
              "            canvas.height = video.videoHeight;\n",
              "            let context = canvas.getContext('2d');\n",
              "            context.drawImage(video, 0, 0, canvas.width, canvas.height);\n",
              "            const dataURL = canvas.toDataURL('image/jpeg');\n",
              "            google.colab.kernel.invokeFunction('notebook.captureFrame', [dataURL], {});\n",
              "        }\n",
              "        getFrame();\n",
              "    "
            ]
          },
          "metadata": {}
        },
        {
          "output_type": "display_data",
          "data": {
            "text/plain": [
              "<IPython.core.display.Javascript object>"
            ],
            "application/javascript": [
              "\n",
              "        async function getFrame() {\n",
              "            let canvas = document.createElement('canvas');\n",
              "            let video = window.videoElement;\n",
              "            canvas.width = video.videoWidth;\n",
              "            canvas.height = video.videoHeight;\n",
              "            let context = canvas.getContext('2d');\n",
              "            context.drawImage(video, 0, 0, canvas.width, canvas.height);\n",
              "            const dataURL = canvas.toDataURL('image/jpeg');\n",
              "            google.colab.kernel.invokeFunction('notebook.captureFrame', [dataURL], {});\n",
              "        }\n",
              "        getFrame();\n",
              "    "
            ]
          },
          "metadata": {}
        },
        {
          "output_type": "display_data",
          "data": {
            "text/plain": [
              "<IPython.core.display.Javascript object>"
            ],
            "application/javascript": [
              "\n",
              "        async function getFrame() {\n",
              "            let canvas = document.createElement('canvas');\n",
              "            let video = window.videoElement;\n",
              "            canvas.width = video.videoWidth;\n",
              "            canvas.height = video.videoHeight;\n",
              "            let context = canvas.getContext('2d');\n",
              "            context.drawImage(video, 0, 0, canvas.width, canvas.height);\n",
              "            const dataURL = canvas.toDataURL('image/jpeg');\n",
              "            google.colab.kernel.invokeFunction('notebook.captureFrame', [dataURL], {});\n",
              "        }\n",
              "        getFrame();\n",
              "    "
            ]
          },
          "metadata": {}
        },
        {
          "output_type": "display_data",
          "data": {
            "text/plain": [
              "<IPython.core.display.Javascript object>"
            ],
            "application/javascript": [
              "\n",
              "        async function getFrame() {\n",
              "            let canvas = document.createElement('canvas');\n",
              "            let video = window.videoElement;\n",
              "            canvas.width = video.videoWidth;\n",
              "            canvas.height = video.videoHeight;\n",
              "            let context = canvas.getContext('2d');\n",
              "            context.drawImage(video, 0, 0, canvas.width, canvas.height);\n",
              "            const dataURL = canvas.toDataURL('image/jpeg');\n",
              "            google.colab.kernel.invokeFunction('notebook.captureFrame', [dataURL], {});\n",
              "        }\n",
              "        getFrame();\n",
              "    "
            ]
          },
          "metadata": {}
        },
        {
          "output_type": "display_data",
          "data": {
            "text/plain": [
              "<IPython.core.display.Javascript object>"
            ],
            "application/javascript": [
              "\n",
              "        async function getFrame() {\n",
              "            let canvas = document.createElement('canvas');\n",
              "            let video = window.videoElement;\n",
              "            canvas.width = video.videoWidth;\n",
              "            canvas.height = video.videoHeight;\n",
              "            let context = canvas.getContext('2d');\n",
              "            context.drawImage(video, 0, 0, canvas.width, canvas.height);\n",
              "            const dataURL = canvas.toDataURL('image/jpeg');\n",
              "            google.colab.kernel.invokeFunction('notebook.captureFrame', [dataURL], {});\n",
              "        }\n",
              "        getFrame();\n",
              "    "
            ]
          },
          "metadata": {}
        },
        {
          "output_type": "display_data",
          "data": {
            "text/plain": [
              "<IPython.core.display.Javascript object>"
            ],
            "application/javascript": [
              "\n",
              "        async function getFrame() {\n",
              "            let canvas = document.createElement('canvas');\n",
              "            let video = window.videoElement;\n",
              "            canvas.width = video.videoWidth;\n",
              "            canvas.height = video.videoHeight;\n",
              "            let context = canvas.getContext('2d');\n",
              "            context.drawImage(video, 0, 0, canvas.width, canvas.height);\n",
              "            const dataURL = canvas.toDataURL('image/jpeg');\n",
              "            google.colab.kernel.invokeFunction('notebook.captureFrame', [dataURL], {});\n",
              "        }\n",
              "        getFrame();\n",
              "    "
            ]
          },
          "metadata": {}
        },
        {
          "output_type": "display_data",
          "data": {
            "text/plain": [
              "<IPython.core.display.Javascript object>"
            ],
            "application/javascript": [
              "\n",
              "        async function getFrame() {\n",
              "            let canvas = document.createElement('canvas');\n",
              "            let video = window.videoElement;\n",
              "            canvas.width = video.videoWidth;\n",
              "            canvas.height = video.videoHeight;\n",
              "            let context = canvas.getContext('2d');\n",
              "            context.drawImage(video, 0, 0, canvas.width, canvas.height);\n",
              "            const dataURL = canvas.toDataURL('image/jpeg');\n",
              "            google.colab.kernel.invokeFunction('notebook.captureFrame', [dataURL], {});\n",
              "        }\n",
              "        getFrame();\n",
              "    "
            ]
          },
          "metadata": {}
        },
        {
          "output_type": "display_data",
          "data": {
            "text/plain": [
              "<IPython.core.display.Javascript object>"
            ],
            "application/javascript": [
              "\n",
              "        async function getFrame() {\n",
              "            let canvas = document.createElement('canvas');\n",
              "            let video = window.videoElement;\n",
              "            canvas.width = video.videoWidth;\n",
              "            canvas.height = video.videoHeight;\n",
              "            let context = canvas.getContext('2d');\n",
              "            context.drawImage(video, 0, 0, canvas.width, canvas.height);\n",
              "            const dataURL = canvas.toDataURL('image/jpeg');\n",
              "            google.colab.kernel.invokeFunction('notebook.captureFrame', [dataURL], {});\n",
              "        }\n",
              "        getFrame();\n",
              "    "
            ]
          },
          "metadata": {}
        },
        {
          "output_type": "display_data",
          "data": {
            "text/plain": [
              "<IPython.core.display.Javascript object>"
            ],
            "application/javascript": [
              "\n",
              "        async function getFrame() {\n",
              "            let canvas = document.createElement('canvas');\n",
              "            let video = window.videoElement;\n",
              "            canvas.width = video.videoWidth;\n",
              "            canvas.height = video.videoHeight;\n",
              "            let context = canvas.getContext('2d');\n",
              "            context.drawImage(video, 0, 0, canvas.width, canvas.height);\n",
              "            const dataURL = canvas.toDataURL('image/jpeg');\n",
              "            google.colab.kernel.invokeFunction('notebook.captureFrame', [dataURL], {});\n",
              "        }\n",
              "        getFrame();\n",
              "    "
            ]
          },
          "metadata": {}
        },
        {
          "output_type": "display_data",
          "data": {
            "text/plain": [
              "<IPython.core.display.Javascript object>"
            ],
            "application/javascript": [
              "\n",
              "        async function getFrame() {\n",
              "            let canvas = document.createElement('canvas');\n",
              "            let video = window.videoElement;\n",
              "            canvas.width = video.videoWidth;\n",
              "            canvas.height = video.videoHeight;\n",
              "            let context = canvas.getContext('2d');\n",
              "            context.drawImage(video, 0, 0, canvas.width, canvas.height);\n",
              "            const dataURL = canvas.toDataURL('image/jpeg');\n",
              "            google.colab.kernel.invokeFunction('notebook.captureFrame', [dataURL], {});\n",
              "        }\n",
              "        getFrame();\n",
              "    "
            ]
          },
          "metadata": {}
        },
        {
          "output_type": "display_data",
          "data": {
            "text/plain": [
              "<IPython.core.display.Javascript object>"
            ],
            "application/javascript": [
              "\n",
              "        async function getFrame() {\n",
              "            let canvas = document.createElement('canvas');\n",
              "            let video = window.videoElement;\n",
              "            canvas.width = video.videoWidth;\n",
              "            canvas.height = video.videoHeight;\n",
              "            let context = canvas.getContext('2d');\n",
              "            context.drawImage(video, 0, 0, canvas.width, canvas.height);\n",
              "            const dataURL = canvas.toDataURL('image/jpeg');\n",
              "            google.colab.kernel.invokeFunction('notebook.captureFrame', [dataURL], {});\n",
              "        }\n",
              "        getFrame();\n",
              "    "
            ]
          },
          "metadata": {}
        },
        {
          "output_type": "display_data",
          "data": {
            "text/plain": [
              "<IPython.core.display.Javascript object>"
            ],
            "application/javascript": [
              "\n",
              "        async function getFrame() {\n",
              "            let canvas = document.createElement('canvas');\n",
              "            let video = window.videoElement;\n",
              "            canvas.width = video.videoWidth;\n",
              "            canvas.height = video.videoHeight;\n",
              "            let context = canvas.getContext('2d');\n",
              "            context.drawImage(video, 0, 0, canvas.width, canvas.height);\n",
              "            const dataURL = canvas.toDataURL('image/jpeg');\n",
              "            google.colab.kernel.invokeFunction('notebook.captureFrame', [dataURL], {});\n",
              "        }\n",
              "        getFrame();\n",
              "    "
            ]
          },
          "metadata": {}
        },
        {
          "output_type": "display_data",
          "data": {
            "text/plain": [
              "<IPython.core.display.Javascript object>"
            ],
            "application/javascript": [
              "\n",
              "        async function getFrame() {\n",
              "            let canvas = document.createElement('canvas');\n",
              "            let video = window.videoElement;\n",
              "            canvas.width = video.videoWidth;\n",
              "            canvas.height = video.videoHeight;\n",
              "            let context = canvas.getContext('2d');\n",
              "            context.drawImage(video, 0, 0, canvas.width, canvas.height);\n",
              "            const dataURL = canvas.toDataURL('image/jpeg');\n",
              "            google.colab.kernel.invokeFunction('notebook.captureFrame', [dataURL], {});\n",
              "        }\n",
              "        getFrame();\n",
              "    "
            ]
          },
          "metadata": {}
        },
        {
          "output_type": "display_data",
          "data": {
            "text/plain": [
              "<IPython.core.display.Javascript object>"
            ],
            "application/javascript": [
              "\n",
              "        async function getFrame() {\n",
              "            let canvas = document.createElement('canvas');\n",
              "            let video = window.videoElement;\n",
              "            canvas.width = video.videoWidth;\n",
              "            canvas.height = video.videoHeight;\n",
              "            let context = canvas.getContext('2d');\n",
              "            context.drawImage(video, 0, 0, canvas.width, canvas.height);\n",
              "            const dataURL = canvas.toDataURL('image/jpeg');\n",
              "            google.colab.kernel.invokeFunction('notebook.captureFrame', [dataURL], {});\n",
              "        }\n",
              "        getFrame();\n",
              "    "
            ]
          },
          "metadata": {}
        },
        {
          "output_type": "display_data",
          "data": {
            "text/plain": [
              "<IPython.core.display.Javascript object>"
            ],
            "application/javascript": [
              "\n",
              "        async function getFrame() {\n",
              "            let canvas = document.createElement('canvas');\n",
              "            let video = window.videoElement;\n",
              "            canvas.width = video.videoWidth;\n",
              "            canvas.height = video.videoHeight;\n",
              "            let context = canvas.getContext('2d');\n",
              "            context.drawImage(video, 0, 0, canvas.width, canvas.height);\n",
              "            const dataURL = canvas.toDataURL('image/jpeg');\n",
              "            google.colab.kernel.invokeFunction('notebook.captureFrame', [dataURL], {});\n",
              "        }\n",
              "        getFrame();\n",
              "    "
            ]
          },
          "metadata": {}
        },
        {
          "output_type": "display_data",
          "data": {
            "text/plain": [
              "<IPython.core.display.Javascript object>"
            ],
            "application/javascript": [
              "\n",
              "        async function getFrame() {\n",
              "            let canvas = document.createElement('canvas');\n",
              "            let video = window.videoElement;\n",
              "            canvas.width = video.videoWidth;\n",
              "            canvas.height = video.videoHeight;\n",
              "            let context = canvas.getContext('2d');\n",
              "            context.drawImage(video, 0, 0, canvas.width, canvas.height);\n",
              "            const dataURL = canvas.toDataURL('image/jpeg');\n",
              "            google.colab.kernel.invokeFunction('notebook.captureFrame', [dataURL], {});\n",
              "        }\n",
              "        getFrame();\n",
              "    "
            ]
          },
          "metadata": {}
        },
        {
          "output_type": "display_data",
          "data": {
            "text/plain": [
              "<IPython.core.display.Javascript object>"
            ],
            "application/javascript": [
              "\n",
              "        async function getFrame() {\n",
              "            let canvas = document.createElement('canvas');\n",
              "            let video = window.videoElement;\n",
              "            canvas.width = video.videoWidth;\n",
              "            canvas.height = video.videoHeight;\n",
              "            let context = canvas.getContext('2d');\n",
              "            context.drawImage(video, 0, 0, canvas.width, canvas.height);\n",
              "            const dataURL = canvas.toDataURL('image/jpeg');\n",
              "            google.colab.kernel.invokeFunction('notebook.captureFrame', [dataURL], {});\n",
              "        }\n",
              "        getFrame();\n",
              "    "
            ]
          },
          "metadata": {}
        },
        {
          "output_type": "display_data",
          "data": {
            "text/plain": [
              "<IPython.core.display.Javascript object>"
            ],
            "application/javascript": [
              "\n",
              "        async function getFrame() {\n",
              "            let canvas = document.createElement('canvas');\n",
              "            let video = window.videoElement;\n",
              "            canvas.width = video.videoWidth;\n",
              "            canvas.height = video.videoHeight;\n",
              "            let context = canvas.getContext('2d');\n",
              "            context.drawImage(video, 0, 0, canvas.width, canvas.height);\n",
              "            const dataURL = canvas.toDataURL('image/jpeg');\n",
              "            google.colab.kernel.invokeFunction('notebook.captureFrame', [dataURL], {});\n",
              "        }\n",
              "        getFrame();\n",
              "    "
            ]
          },
          "metadata": {}
        },
        {
          "output_type": "display_data",
          "data": {
            "text/plain": [
              "<IPython.core.display.Javascript object>"
            ],
            "application/javascript": [
              "\n",
              "        async function getFrame() {\n",
              "            let canvas = document.createElement('canvas');\n",
              "            let video = window.videoElement;\n",
              "            canvas.width = video.videoWidth;\n",
              "            canvas.height = video.videoHeight;\n",
              "            let context = canvas.getContext('2d');\n",
              "            context.drawImage(video, 0, 0, canvas.width, canvas.height);\n",
              "            const dataURL = canvas.toDataURL('image/jpeg');\n",
              "            google.colab.kernel.invokeFunction('notebook.captureFrame', [dataURL], {});\n",
              "        }\n",
              "        getFrame();\n",
              "    "
            ]
          },
          "metadata": {}
        },
        {
          "output_type": "display_data",
          "data": {
            "text/plain": [
              "<IPython.core.display.Javascript object>"
            ],
            "application/javascript": [
              "\n",
              "        async function getFrame() {\n",
              "            let canvas = document.createElement('canvas');\n",
              "            let video = window.videoElement;\n",
              "            canvas.width = video.videoWidth;\n",
              "            canvas.height = video.videoHeight;\n",
              "            let context = canvas.getContext('2d');\n",
              "            context.drawImage(video, 0, 0, canvas.width, canvas.height);\n",
              "            const dataURL = canvas.toDataURL('image/jpeg');\n",
              "            google.colab.kernel.invokeFunction('notebook.captureFrame', [dataURL], {});\n",
              "        }\n",
              "        getFrame();\n",
              "    "
            ]
          },
          "metadata": {}
        },
        {
          "output_type": "display_data",
          "data": {
            "text/plain": [
              "<IPython.core.display.Javascript object>"
            ],
            "application/javascript": [
              "\n",
              "        async function getFrame() {\n",
              "            let canvas = document.createElement('canvas');\n",
              "            let video = window.videoElement;\n",
              "            canvas.width = video.videoWidth;\n",
              "            canvas.height = video.videoHeight;\n",
              "            let context = canvas.getContext('2d');\n",
              "            context.drawImage(video, 0, 0, canvas.width, canvas.height);\n",
              "            const dataURL = canvas.toDataURL('image/jpeg');\n",
              "            google.colab.kernel.invokeFunction('notebook.captureFrame', [dataURL], {});\n",
              "        }\n",
              "        getFrame();\n",
              "    "
            ]
          },
          "metadata": {}
        },
        {
          "output_type": "display_data",
          "data": {
            "text/plain": [
              "<IPython.core.display.Javascript object>"
            ],
            "application/javascript": [
              "\n",
              "        async function getFrame() {\n",
              "            let canvas = document.createElement('canvas');\n",
              "            let video = window.videoElement;\n",
              "            canvas.width = video.videoWidth;\n",
              "            canvas.height = video.videoHeight;\n",
              "            let context = canvas.getContext('2d');\n",
              "            context.drawImage(video, 0, 0, canvas.width, canvas.height);\n",
              "            const dataURL = canvas.toDataURL('image/jpeg');\n",
              "            google.colab.kernel.invokeFunction('notebook.captureFrame', [dataURL], {});\n",
              "        }\n",
              "        getFrame();\n",
              "    "
            ]
          },
          "metadata": {}
        },
        {
          "output_type": "display_data",
          "data": {
            "text/plain": [
              "<IPython.core.display.Javascript object>"
            ],
            "application/javascript": [
              "\n",
              "        async function getFrame() {\n",
              "            let canvas = document.createElement('canvas');\n",
              "            let video = window.videoElement;\n",
              "            canvas.width = video.videoWidth;\n",
              "            canvas.height = video.videoHeight;\n",
              "            let context = canvas.getContext('2d');\n",
              "            context.drawImage(video, 0, 0, canvas.width, canvas.height);\n",
              "            const dataURL = canvas.toDataURL('image/jpeg');\n",
              "            google.colab.kernel.invokeFunction('notebook.captureFrame', [dataURL], {});\n",
              "        }\n",
              "        getFrame();\n",
              "    "
            ]
          },
          "metadata": {}
        },
        {
          "output_type": "display_data",
          "data": {
            "text/plain": [
              "<IPython.core.display.Javascript object>"
            ],
            "application/javascript": [
              "\n",
              "        async function getFrame() {\n",
              "            let canvas = document.createElement('canvas');\n",
              "            let video = window.videoElement;\n",
              "            canvas.width = video.videoWidth;\n",
              "            canvas.height = video.videoHeight;\n",
              "            let context = canvas.getContext('2d');\n",
              "            context.drawImage(video, 0, 0, canvas.width, canvas.height);\n",
              "            const dataURL = canvas.toDataURL('image/jpeg');\n",
              "            google.colab.kernel.invokeFunction('notebook.captureFrame', [dataURL], {});\n",
              "        }\n",
              "        getFrame();\n",
              "    "
            ]
          },
          "metadata": {}
        },
        {
          "output_type": "display_data",
          "data": {
            "text/plain": [
              "<IPython.core.display.Javascript object>"
            ],
            "application/javascript": [
              "\n",
              "        async function getFrame() {\n",
              "            let canvas = document.createElement('canvas');\n",
              "            let video = window.videoElement;\n",
              "            canvas.width = video.videoWidth;\n",
              "            canvas.height = video.videoHeight;\n",
              "            let context = canvas.getContext('2d');\n",
              "            context.drawImage(video, 0, 0, canvas.width, canvas.height);\n",
              "            const dataURL = canvas.toDataURL('image/jpeg');\n",
              "            google.colab.kernel.invokeFunction('notebook.captureFrame', [dataURL], {});\n",
              "        }\n",
              "        getFrame();\n",
              "    "
            ]
          },
          "metadata": {}
        },
        {
          "output_type": "display_data",
          "data": {
            "text/plain": [
              "<IPython.core.display.Javascript object>"
            ],
            "application/javascript": [
              "\n",
              "        async function getFrame() {\n",
              "            let canvas = document.createElement('canvas');\n",
              "            let video = window.videoElement;\n",
              "            canvas.width = video.videoWidth;\n",
              "            canvas.height = video.videoHeight;\n",
              "            let context = canvas.getContext('2d');\n",
              "            context.drawImage(video, 0, 0, canvas.width, canvas.height);\n",
              "            const dataURL = canvas.toDataURL('image/jpeg');\n",
              "            google.colab.kernel.invokeFunction('notebook.captureFrame', [dataURL], {});\n",
              "        }\n",
              "        getFrame();\n",
              "    "
            ]
          },
          "metadata": {}
        },
        {
          "output_type": "display_data",
          "data": {
            "text/plain": [
              "<IPython.core.display.Javascript object>"
            ],
            "application/javascript": [
              "\n",
              "        async function getFrame() {\n",
              "            let canvas = document.createElement('canvas');\n",
              "            let video = window.videoElement;\n",
              "            canvas.width = video.videoWidth;\n",
              "            canvas.height = video.videoHeight;\n",
              "            let context = canvas.getContext('2d');\n",
              "            context.drawImage(video, 0, 0, canvas.width, canvas.height);\n",
              "            const dataURL = canvas.toDataURL('image/jpeg');\n",
              "            google.colab.kernel.invokeFunction('notebook.captureFrame', [dataURL], {});\n",
              "        }\n",
              "        getFrame();\n",
              "    "
            ]
          },
          "metadata": {}
        },
        {
          "output_type": "display_data",
          "data": {
            "text/plain": [
              "<IPython.core.display.Javascript object>"
            ],
            "application/javascript": [
              "\n",
              "        async function getFrame() {\n",
              "            let canvas = document.createElement('canvas');\n",
              "            let video = window.videoElement;\n",
              "            canvas.width = video.videoWidth;\n",
              "            canvas.height = video.videoHeight;\n",
              "            let context = canvas.getContext('2d');\n",
              "            context.drawImage(video, 0, 0, canvas.width, canvas.height);\n",
              "            const dataURL = canvas.toDataURL('image/jpeg');\n",
              "            google.colab.kernel.invokeFunction('notebook.captureFrame', [dataURL], {});\n",
              "        }\n",
              "        getFrame();\n",
              "    "
            ]
          },
          "metadata": {}
        },
        {
          "output_type": "display_data",
          "data": {
            "text/plain": [
              "<IPython.core.display.Javascript object>"
            ],
            "application/javascript": [
              "\n",
              "        async function getFrame() {\n",
              "            let canvas = document.createElement('canvas');\n",
              "            let video = window.videoElement;\n",
              "            canvas.width = video.videoWidth;\n",
              "            canvas.height = video.videoHeight;\n",
              "            let context = canvas.getContext('2d');\n",
              "            context.drawImage(video, 0, 0, canvas.width, canvas.height);\n",
              "            const dataURL = canvas.toDataURL('image/jpeg');\n",
              "            google.colab.kernel.invokeFunction('notebook.captureFrame', [dataURL], {});\n",
              "        }\n",
              "        getFrame();\n",
              "    "
            ]
          },
          "metadata": {}
        },
        {
          "output_type": "display_data",
          "data": {
            "text/plain": [
              "<IPython.core.display.Javascript object>"
            ],
            "application/javascript": [
              "\n",
              "        async function getFrame() {\n",
              "            let canvas = document.createElement('canvas');\n",
              "            let video = window.videoElement;\n",
              "            canvas.width = video.videoWidth;\n",
              "            canvas.height = video.videoHeight;\n",
              "            let context = canvas.getContext('2d');\n",
              "            context.drawImage(video, 0, 0, canvas.width, canvas.height);\n",
              "            const dataURL = canvas.toDataURL('image/jpeg');\n",
              "            google.colab.kernel.invokeFunction('notebook.captureFrame', [dataURL], {});\n",
              "        }\n",
              "        getFrame();\n",
              "    "
            ]
          },
          "metadata": {}
        },
        {
          "output_type": "display_data",
          "data": {
            "text/plain": [
              "<IPython.core.display.Javascript object>"
            ],
            "application/javascript": [
              "\n",
              "        async function getFrame() {\n",
              "            let canvas = document.createElement('canvas');\n",
              "            let video = window.videoElement;\n",
              "            canvas.width = video.videoWidth;\n",
              "            canvas.height = video.videoHeight;\n",
              "            let context = canvas.getContext('2d');\n",
              "            context.drawImage(video, 0, 0, canvas.width, canvas.height);\n",
              "            const dataURL = canvas.toDataURL('image/jpeg');\n",
              "            google.colab.kernel.invokeFunction('notebook.captureFrame', [dataURL], {});\n",
              "        }\n",
              "        getFrame();\n",
              "    "
            ]
          },
          "metadata": {}
        },
        {
          "output_type": "display_data",
          "data": {
            "text/plain": [
              "<IPython.core.display.Javascript object>"
            ],
            "application/javascript": [
              "\n",
              "        async function getFrame() {\n",
              "            let canvas = document.createElement('canvas');\n",
              "            let video = window.videoElement;\n",
              "            canvas.width = video.videoWidth;\n",
              "            canvas.height = video.videoHeight;\n",
              "            let context = canvas.getContext('2d');\n",
              "            context.drawImage(video, 0, 0, canvas.width, canvas.height);\n",
              "            const dataURL = canvas.toDataURL('image/jpeg');\n",
              "            google.colab.kernel.invokeFunction('notebook.captureFrame', [dataURL], {});\n",
              "        }\n",
              "        getFrame();\n",
              "    "
            ]
          },
          "metadata": {}
        },
        {
          "output_type": "display_data",
          "data": {
            "text/plain": [
              "<IPython.core.display.Javascript object>"
            ],
            "application/javascript": [
              "\n",
              "        async function getFrame() {\n",
              "            let canvas = document.createElement('canvas');\n",
              "            let video = window.videoElement;\n",
              "            canvas.width = video.videoWidth;\n",
              "            canvas.height = video.videoHeight;\n",
              "            let context = canvas.getContext('2d');\n",
              "            context.drawImage(video, 0, 0, canvas.width, canvas.height);\n",
              "            const dataURL = canvas.toDataURL('image/jpeg');\n",
              "            google.colab.kernel.invokeFunction('notebook.captureFrame', [dataURL], {});\n",
              "        }\n",
              "        getFrame();\n",
              "    "
            ]
          },
          "metadata": {}
        },
        {
          "output_type": "display_data",
          "data": {
            "text/plain": [
              "<IPython.core.display.Javascript object>"
            ],
            "application/javascript": [
              "\n",
              "        async function getFrame() {\n",
              "            let canvas = document.createElement('canvas');\n",
              "            let video = window.videoElement;\n",
              "            canvas.width = video.videoWidth;\n",
              "            canvas.height = video.videoHeight;\n",
              "            let context = canvas.getContext('2d');\n",
              "            context.drawImage(video, 0, 0, canvas.width, canvas.height);\n",
              "            const dataURL = canvas.toDataURL('image/jpeg');\n",
              "            google.colab.kernel.invokeFunction('notebook.captureFrame', [dataURL], {});\n",
              "        }\n",
              "        getFrame();\n",
              "    "
            ]
          },
          "metadata": {}
        },
        {
          "output_type": "display_data",
          "data": {
            "text/plain": [
              "<IPython.core.display.Javascript object>"
            ],
            "application/javascript": [
              "\n",
              "        async function getFrame() {\n",
              "            let canvas = document.createElement('canvas');\n",
              "            let video = window.videoElement;\n",
              "            canvas.width = video.videoWidth;\n",
              "            canvas.height = video.videoHeight;\n",
              "            let context = canvas.getContext('2d');\n",
              "            context.drawImage(video, 0, 0, canvas.width, canvas.height);\n",
              "            const dataURL = canvas.toDataURL('image/jpeg');\n",
              "            google.colab.kernel.invokeFunction('notebook.captureFrame', [dataURL], {});\n",
              "        }\n",
              "        getFrame();\n",
              "    "
            ]
          },
          "metadata": {}
        },
        {
          "output_type": "display_data",
          "data": {
            "text/plain": [
              "<IPython.core.display.Javascript object>"
            ],
            "application/javascript": [
              "\n",
              "        async function getFrame() {\n",
              "            let canvas = document.createElement('canvas');\n",
              "            let video = window.videoElement;\n",
              "            canvas.width = video.videoWidth;\n",
              "            canvas.height = video.videoHeight;\n",
              "            let context = canvas.getContext('2d');\n",
              "            context.drawImage(video, 0, 0, canvas.width, canvas.height);\n",
              "            const dataURL = canvas.toDataURL('image/jpeg');\n",
              "            google.colab.kernel.invokeFunction('notebook.captureFrame', [dataURL], {});\n",
              "        }\n",
              "        getFrame();\n",
              "    "
            ]
          },
          "metadata": {}
        }
      ]
    }
  ]
}